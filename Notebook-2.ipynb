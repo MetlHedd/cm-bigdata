{
 "metadata": {
  "language_info": {
   "codemirror_mode": {
    "name": "ipython",
    "version": 3
   },
   "file_extension": ".py",
   "mimetype": "text/x-python",
   "name": "python",
   "nbconvert_exporter": "python",
   "pygments_lexer": "ipython3",
   "version": "3.7.9-final"
  },
  "orig_nbformat": 2,
  "kernelspec": {
   "name": "python3",
   "display_name": "Python 3"
  }
 },
 "nbformat": 4,
 "nbformat_minor": 2,
 "cells": [
  {
   "source": [
    "# Competição Externa - BigData\n",
    "\n",
    "texto texto texto"
   ],
   "cell_type": "markdown",
   "metadata": {}
  },
  {
   "source": [
    "## Bibliotecas que serão usadas"
   ],
   "cell_type": "markdown",
   "metadata": {}
  },
  {
   "cell_type": "code",
   "execution_count": 69,
   "metadata": {},
   "outputs": [],
   "source": [
    "import numpy as np\n",
    "import pandas as pd\n",
    "import matplotlib.pyplot as plt\n",
    "import seaborn as sns\n",
    "\n",
    "from datetime import date\n",
    "\n",
    "from matplotlib.cm import get_cmap\n",
    "\n",
    "from pandas_profiling import ProfileReport\n",
    "\n",
    "from sklearn import tree\n",
    "from sklearn import preprocessing\n",
    "from sklearn.impute import KNNImputer\n",
    "from sklearn.tree import export_graphviz\n",
    "from sklearn.ensemble import RandomForestRegressor\n",
    "from sklearn.metrics import mean_squared_error, r2_score\n",
    "\n",
    "plt.style.use(\"ggplot\")"
   ]
  },
  {
   "source": [
    "## Fazendo merge dos dados das lojas atuais com a receita por mês"
   ],
   "cell_type": "markdown",
   "metadata": {}
  },
  {
   "cell_type": "code",
   "execution_count": 2,
   "metadata": {},
   "outputs": [
    {
     "output_type": "execute_result",
     "data": {
      "text/plain": [
       "      cod_loja         cod_ap  cod_municipio           feature_01  \\\n",
       "0            1  4125506005002        4125506                  NaN   \n",
       "1            2  5300108005004        5300108                  NaN   \n",
       "2            3  3550308005052        3550308                  NaN   \n",
       "3            4  3145604003002        3145604                  NaN   \n",
       "4            5  1600303005010        1600303  FEATURE_01_VALUE_10   \n",
       "...        ...            ...            ...                  ...   \n",
       "3125      3682  5105259003002        5105259                  NaN   \n",
       "3126      3683  2604106003003        2604106  FEATURE_01_VALUE_10   \n",
       "3127      3685  4115804003002        4115804                  NaN   \n",
       "3128      3686  3509700003001        3509700                  NaN   \n",
       "3129      3687  4211702001001        4211702                  NaN   \n",
       "\n",
       "               feature_02  feature_03  feature_04           feature_05  \\\n",
       "0     FEATURE_02_VALUE_04        True       21.76  FEATURE_05_VALUE_04   \n",
       "1     FEATURE_02_VALUE_03        True       22.00  FEATURE_05_VALUE_03   \n",
       "2     FEATURE_02_VALUE_03        True       45.66  FEATURE_05_VALUE_03   \n",
       "3     FEATURE_02_VALUE_04       False       30.00  FEATURE_05_VALUE_03   \n",
       "4     FEATURE_02_VALUE_02       False       62.49  FEATURE_05_VALUE_03   \n",
       "...                   ...         ...         ...                  ...   \n",
       "3125  FEATURE_02_VALUE_04       False       30.16  FEATURE_05_VALUE_03   \n",
       "3126  FEATURE_02_VALUE_02       False       38.00  FEATURE_05_VALUE_03   \n",
       "3127  FEATURE_02_VALUE_04       False       44.04  FEATURE_05_VALUE_02   \n",
       "3128  FEATURE_02_VALUE_06       False       31.76  FEATURE_05_VALUE_03   \n",
       "3129  FEATURE_02_VALUE_04       False       26.50  FEATURE_05_VALUE_03   \n",
       "\n",
       "      feature_06  feature_07  ...   feature_09  feature_10  \\\n",
       "0             31    0.168922  ...   115.958848    2.349821   \n",
       "1             27    0.215967  ...  1562.674817    3.670883   \n",
       "2              6    0.190102  ...  5593.905463    2.815883   \n",
       "3              3    0.141988  ...    12.824022    7.218132   \n",
       "4             30    0.107619  ...   325.531120    1.972944   \n",
       "...          ...         ...  ...          ...         ...   \n",
       "3125           5    0.210289  ...    36.397933    3.491315   \n",
       "3126          13    0.146264  ...   163.567629    2.016780   \n",
       "3127           7    0.226926  ...    16.862438    4.455832   \n",
       "3128           4    0.134354  ...    20.565405    3.932982   \n",
       "3129           2    0.199854  ...     7.701540    4.454541   \n",
       "\n",
       "               feature_11           feature_12 feature_13  feature_14  \\\n",
       "0                     NaN                  NaN        NaN         NaN   \n",
       "1                     NaN                  NaN        NaN         NaN   \n",
       "2                     NaN                  NaN        NaN         NaN   \n",
       "3                     NaN                  NaN        NaN         NaN   \n",
       "4     FEATURE_11_VALUE_02  FEATURE_12_VALUE_01      100.0        88.1   \n",
       "...                   ...                  ...        ...         ...   \n",
       "3125                  NaN                  NaN      100.0        91.7   \n",
       "3126                  NaN                  NaN      100.0        85.0   \n",
       "3127                  NaN                  NaN      100.0        71.5   \n",
       "3128                  NaN                  NaN        NaN         NaN   \n",
       "3129                  NaN                  NaN        NaN         NaN   \n",
       "\n",
       "      feature_15  feature_16  feature_17  feature_18  \n",
       "0            NaN         NaN         NaN         NaN  \n",
       "1            NaN         NaN         NaN         NaN  \n",
       "2            NaN         NaN         NaN         NaN  \n",
       "3            NaN         NaN         NaN         NaN  \n",
       "4          100.0       100.0        88.5        93.8  \n",
       "...          ...         ...         ...         ...  \n",
       "3125       100.0       100.0        97.1        97.6  \n",
       "3126       100.0       100.0        50.7        72.5  \n",
       "3127       100.0       100.0        99.0        95.2  \n",
       "3128         NaN         NaN         NaN         NaN  \n",
       "3129         NaN         NaN         NaN         NaN  \n",
       "\n",
       "[3130 rows x 21 columns]"
      ],
      "text/html": "<div>\n<style scoped>\n    .dataframe tbody tr th:only-of-type {\n        vertical-align: middle;\n    }\n\n    .dataframe tbody tr th {\n        vertical-align: top;\n    }\n\n    .dataframe thead th {\n        text-align: right;\n    }\n</style>\n<table border=\"1\" class=\"dataframe\">\n  <thead>\n    <tr style=\"text-align: right;\">\n      <th></th>\n      <th>cod_loja</th>\n      <th>cod_ap</th>\n      <th>cod_municipio</th>\n      <th>feature_01</th>\n      <th>feature_02</th>\n      <th>feature_03</th>\n      <th>feature_04</th>\n      <th>feature_05</th>\n      <th>feature_06</th>\n      <th>feature_07</th>\n      <th>...</th>\n      <th>feature_09</th>\n      <th>feature_10</th>\n      <th>feature_11</th>\n      <th>feature_12</th>\n      <th>feature_13</th>\n      <th>feature_14</th>\n      <th>feature_15</th>\n      <th>feature_16</th>\n      <th>feature_17</th>\n      <th>feature_18</th>\n    </tr>\n  </thead>\n  <tbody>\n    <tr>\n      <th>0</th>\n      <td>1</td>\n      <td>4125506005002</td>\n      <td>4125506</td>\n      <td>NaN</td>\n      <td>FEATURE_02_VALUE_04</td>\n      <td>True</td>\n      <td>21.76</td>\n      <td>FEATURE_05_VALUE_04</td>\n      <td>31</td>\n      <td>0.168922</td>\n      <td>...</td>\n      <td>115.958848</td>\n      <td>2.349821</td>\n      <td>NaN</td>\n      <td>NaN</td>\n      <td>NaN</td>\n      <td>NaN</td>\n      <td>NaN</td>\n      <td>NaN</td>\n      <td>NaN</td>\n      <td>NaN</td>\n    </tr>\n    <tr>\n      <th>1</th>\n      <td>2</td>\n      <td>5300108005004</td>\n      <td>5300108</td>\n      <td>NaN</td>\n      <td>FEATURE_02_VALUE_03</td>\n      <td>True</td>\n      <td>22.00</td>\n      <td>FEATURE_05_VALUE_03</td>\n      <td>27</td>\n      <td>0.215967</td>\n      <td>...</td>\n      <td>1562.674817</td>\n      <td>3.670883</td>\n      <td>NaN</td>\n      <td>NaN</td>\n      <td>NaN</td>\n      <td>NaN</td>\n      <td>NaN</td>\n      <td>NaN</td>\n      <td>NaN</td>\n      <td>NaN</td>\n    </tr>\n    <tr>\n      <th>2</th>\n      <td>3</td>\n      <td>3550308005052</td>\n      <td>3550308</td>\n      <td>NaN</td>\n      <td>FEATURE_02_VALUE_03</td>\n      <td>True</td>\n      <td>45.66</td>\n      <td>FEATURE_05_VALUE_03</td>\n      <td>6</td>\n      <td>0.190102</td>\n      <td>...</td>\n      <td>5593.905463</td>\n      <td>2.815883</td>\n      <td>NaN</td>\n      <td>NaN</td>\n      <td>NaN</td>\n      <td>NaN</td>\n      <td>NaN</td>\n      <td>NaN</td>\n      <td>NaN</td>\n      <td>NaN</td>\n    </tr>\n    <tr>\n      <th>3</th>\n      <td>4</td>\n      <td>3145604003002</td>\n      <td>3145604</td>\n      <td>NaN</td>\n      <td>FEATURE_02_VALUE_04</td>\n      <td>False</td>\n      <td>30.00</td>\n      <td>FEATURE_05_VALUE_03</td>\n      <td>3</td>\n      <td>0.141988</td>\n      <td>...</td>\n      <td>12.824022</td>\n      <td>7.218132</td>\n      <td>NaN</td>\n      <td>NaN</td>\n      <td>NaN</td>\n      <td>NaN</td>\n      <td>NaN</td>\n      <td>NaN</td>\n      <td>NaN</td>\n      <td>NaN</td>\n    </tr>\n    <tr>\n      <th>4</th>\n      <td>5</td>\n      <td>1600303005010</td>\n      <td>1600303</td>\n      <td>FEATURE_01_VALUE_10</td>\n      <td>FEATURE_02_VALUE_02</td>\n      <td>False</td>\n      <td>62.49</td>\n      <td>FEATURE_05_VALUE_03</td>\n      <td>30</td>\n      <td>0.107619</td>\n      <td>...</td>\n      <td>325.531120</td>\n      <td>1.972944</td>\n      <td>FEATURE_11_VALUE_02</td>\n      <td>FEATURE_12_VALUE_01</td>\n      <td>100.0</td>\n      <td>88.1</td>\n      <td>100.0</td>\n      <td>100.0</td>\n      <td>88.5</td>\n      <td>93.8</td>\n    </tr>\n    <tr>\n      <th>...</th>\n      <td>...</td>\n      <td>...</td>\n      <td>...</td>\n      <td>...</td>\n      <td>...</td>\n      <td>...</td>\n      <td>...</td>\n      <td>...</td>\n      <td>...</td>\n      <td>...</td>\n      <td>...</td>\n      <td>...</td>\n      <td>...</td>\n      <td>...</td>\n      <td>...</td>\n      <td>...</td>\n      <td>...</td>\n      <td>...</td>\n      <td>...</td>\n      <td>...</td>\n      <td>...</td>\n    </tr>\n    <tr>\n      <th>3125</th>\n      <td>3682</td>\n      <td>5105259003002</td>\n      <td>5105259</td>\n      <td>NaN</td>\n      <td>FEATURE_02_VALUE_04</td>\n      <td>False</td>\n      <td>30.16</td>\n      <td>FEATURE_05_VALUE_03</td>\n      <td>5</td>\n      <td>0.210289</td>\n      <td>...</td>\n      <td>36.397933</td>\n      <td>3.491315</td>\n      <td>NaN</td>\n      <td>NaN</td>\n      <td>100.0</td>\n      <td>91.7</td>\n      <td>100.0</td>\n      <td>100.0</td>\n      <td>97.1</td>\n      <td>97.6</td>\n    </tr>\n    <tr>\n      <th>3126</th>\n      <td>3683</td>\n      <td>2604106003003</td>\n      <td>2604106</td>\n      <td>FEATURE_01_VALUE_10</td>\n      <td>FEATURE_02_VALUE_02</td>\n      <td>False</td>\n      <td>38.00</td>\n      <td>FEATURE_05_VALUE_03</td>\n      <td>13</td>\n      <td>0.146264</td>\n      <td>...</td>\n      <td>163.567629</td>\n      <td>2.016780</td>\n      <td>NaN</td>\n      <td>NaN</td>\n      <td>100.0</td>\n      <td>85.0</td>\n      <td>100.0</td>\n      <td>100.0</td>\n      <td>50.7</td>\n      <td>72.5</td>\n    </tr>\n    <tr>\n      <th>3127</th>\n      <td>3685</td>\n      <td>4115804003002</td>\n      <td>4115804</td>\n      <td>NaN</td>\n      <td>FEATURE_02_VALUE_04</td>\n      <td>False</td>\n      <td>44.04</td>\n      <td>FEATURE_05_VALUE_02</td>\n      <td>7</td>\n      <td>0.226926</td>\n      <td>...</td>\n      <td>16.862438</td>\n      <td>4.455832</td>\n      <td>NaN</td>\n      <td>NaN</td>\n      <td>100.0</td>\n      <td>71.5</td>\n      <td>100.0</td>\n      <td>100.0</td>\n      <td>99.0</td>\n      <td>95.2</td>\n    </tr>\n    <tr>\n      <th>3128</th>\n      <td>3686</td>\n      <td>3509700003001</td>\n      <td>3509700</td>\n      <td>NaN</td>\n      <td>FEATURE_02_VALUE_06</td>\n      <td>False</td>\n      <td>31.76</td>\n      <td>FEATURE_05_VALUE_03</td>\n      <td>4</td>\n      <td>0.134354</td>\n      <td>...</td>\n      <td>20.565405</td>\n      <td>3.932982</td>\n      <td>NaN</td>\n      <td>NaN</td>\n      <td>NaN</td>\n      <td>NaN</td>\n      <td>NaN</td>\n      <td>NaN</td>\n      <td>NaN</td>\n      <td>NaN</td>\n    </tr>\n    <tr>\n      <th>3129</th>\n      <td>3687</td>\n      <td>4211702001001</td>\n      <td>4211702</td>\n      <td>NaN</td>\n      <td>FEATURE_02_VALUE_04</td>\n      <td>False</td>\n      <td>26.50</td>\n      <td>FEATURE_05_VALUE_03</td>\n      <td>2</td>\n      <td>0.199854</td>\n      <td>...</td>\n      <td>7.701540</td>\n      <td>4.454541</td>\n      <td>NaN</td>\n      <td>NaN</td>\n      <td>NaN</td>\n      <td>NaN</td>\n      <td>NaN</td>\n      <td>NaN</td>\n      <td>NaN</td>\n      <td>NaN</td>\n    </tr>\n  </tbody>\n</table>\n<p>3130 rows × 21 columns</p>\n</div>"
     },
     "metadata": {},
     "execution_count": 2
    }
   ],
   "source": [
    "data_la = pd.read_csv(\"data/lojas_atuais.csv\")\n",
    "\n",
    "data_la"
   ]
  },
  {
   "cell_type": "code",
   "execution_count": 3,
   "metadata": {},
   "outputs": [
    {
     "output_type": "execute_result",
     "data": {
      "text/plain": [
       "       cod_loja  mes   ano     receita  CATEG_01_REC_UNI_SUM  \\\n",
       "0             1    1  2016   441833.37             30.448040   \n",
       "1             1   10  2016   611797.30             33.986803   \n",
       "2             1   11  2016   876921.63             30.296667   \n",
       "3             1   12  2016  1257613.00             33.188182   \n",
       "4             1    2  2016   395340.22             43.719519   \n",
       "...         ...  ...   ...         ...                   ...   \n",
       "73639      3687    5  2017    74631.46             29.506000   \n",
       "73640      3687    6  2017    63204.15             26.000000   \n",
       "73641      3687    7  2017    47865.16             16.712500   \n",
       "73642      3687    8  2017    71171.48             30.089189   \n",
       "73643      3687    9  2017    48284.66             28.532963   \n",
       "\n",
       "       CATEG_02_REC_UNI_SUM  CATEG_03_REC_UNI_SUM  CATEG_04_REC_UNI_SUM  \\\n",
       "0                 18.710146             17.681055             20.887171   \n",
       "1                 25.142785             22.226022             28.956952   \n",
       "2                 22.965600             22.187400             27.690281   \n",
       "3                 22.833700             22.379621             30.352067   \n",
       "4                 14.485492             21.231583             29.384186   \n",
       "...                     ...                   ...                   ...   \n",
       "73639             33.900000             31.543929             40.837500   \n",
       "73640             23.788889             27.902571             40.925000   \n",
       "73641             33.900000             27.392063             37.500000   \n",
       "73642              0.000000             34.258974             40.913158   \n",
       "73643             24.900000             30.431532             38.400000   \n",
       "\n",
       "       CATEG_05_REC_UNI_SUM  CATEG_06_REC_UNI_SUM  CATEG_07_REC_UNI_SUM  \\\n",
       "0                 30.919290             31.706400             12.752683   \n",
       "1                 32.771997             42.858374             17.631987   \n",
       "2                 32.802101             40.951661             18.519352   \n",
       "3                 33.086141             41.547036             19.352089   \n",
       "4                 30.219876             27.586336             16.231631   \n",
       "...                     ...                   ...                   ...   \n",
       "73639             38.821630             63.906923             22.284279   \n",
       "73640             34.527820             62.233333             25.615640   \n",
       "73641             32.751163             62.248333             22.848454   \n",
       "73642             36.561616             62.475714             22.554545   \n",
       "73643             33.418828             56.578667             22.236735   \n",
       "\n",
       "       CATEG_08_REC_UNI_SUM  CATEG_09_REC_UNI_SUM  CATEG_10_REC_UNI_SUM  \\\n",
       "0                 45.436331             31.821209             33.360000   \n",
       "1                 41.811359             37.372261             38.705058   \n",
       "2                 74.652824             37.440439             39.748432   \n",
       "3                 82.970158             41.299231             43.706934   \n",
       "4                 45.729259             27.168227             34.105365   \n",
       "...                     ...                   ...                   ...   \n",
       "73639            125.746000             36.458759             55.448387   \n",
       "73640            120.634615             34.966163             42.911236   \n",
       "73641            120.300000             27.363016             52.400000   \n",
       "73642            117.682692             40.785915             59.445455   \n",
       "73643            103.190909             32.160888             50.141379   \n",
       "\n",
       "       CATEG_11_REC_UNI_SUM  CATEG_12_REC_UNI_SUM  CATEG_13_REC_UNI_SUM  \\\n",
       "0                 62.851924             11.310872             26.077014   \n",
       "1                 82.078196             16.034466             41.617166   \n",
       "2                 82.564317             17.904426             33.312410   \n",
       "3                 87.137583             16.712837             37.271221   \n",
       "4                 72.724494             13.720239             25.093969   \n",
       "...                     ...                   ...                   ...   \n",
       "73639            104.748432             16.105217             54.150000   \n",
       "73640            105.431048             12.993281             53.900000   \n",
       "73641            106.550286             14.843529             44.400000   \n",
       "73642            105.446304             15.806667             62.900000   \n",
       "73643             95.443590             13.760513             51.150000   \n",
       "\n",
       "       CATEG_14_REC_UNI_SUM  CATEG_15_REC_UNI_SUM  CATEG_16_REC_UNI_SUM  \n",
       "0                 20.426667                   0.0                   0.0  \n",
       "1                  0.000000                   0.0                   0.0  \n",
       "2                 18.900000                   0.0                   0.0  \n",
       "3                 18.900000                   0.0                   0.0  \n",
       "4                 15.795000                   0.0                   0.0  \n",
       "...                     ...                   ...                   ...  \n",
       "73639              1.900000                   0.0                   0.0  \n",
       "73640              1.900000                   0.0                   0.0  \n",
       "73641              1.900000                   0.0                   0.0  \n",
       "73642              1.900000                   0.0                   0.0  \n",
       "73643              1.900000                   0.0                   0.0  \n",
       "\n",
       "[73644 rows x 20 columns]"
      ],
      "text/html": "<div>\n<style scoped>\n    .dataframe tbody tr th:only-of-type {\n        vertical-align: middle;\n    }\n\n    .dataframe tbody tr th {\n        vertical-align: top;\n    }\n\n    .dataframe thead th {\n        text-align: right;\n    }\n</style>\n<table border=\"1\" class=\"dataframe\">\n  <thead>\n    <tr style=\"text-align: right;\">\n      <th></th>\n      <th>cod_loja</th>\n      <th>mes</th>\n      <th>ano</th>\n      <th>receita</th>\n      <th>CATEG_01_REC_UNI_SUM</th>\n      <th>CATEG_02_REC_UNI_SUM</th>\n      <th>CATEG_03_REC_UNI_SUM</th>\n      <th>CATEG_04_REC_UNI_SUM</th>\n      <th>CATEG_05_REC_UNI_SUM</th>\n      <th>CATEG_06_REC_UNI_SUM</th>\n      <th>CATEG_07_REC_UNI_SUM</th>\n      <th>CATEG_08_REC_UNI_SUM</th>\n      <th>CATEG_09_REC_UNI_SUM</th>\n      <th>CATEG_10_REC_UNI_SUM</th>\n      <th>CATEG_11_REC_UNI_SUM</th>\n      <th>CATEG_12_REC_UNI_SUM</th>\n      <th>CATEG_13_REC_UNI_SUM</th>\n      <th>CATEG_14_REC_UNI_SUM</th>\n      <th>CATEG_15_REC_UNI_SUM</th>\n      <th>CATEG_16_REC_UNI_SUM</th>\n    </tr>\n  </thead>\n  <tbody>\n    <tr>\n      <th>0</th>\n      <td>1</td>\n      <td>1</td>\n      <td>2016</td>\n      <td>441833.37</td>\n      <td>30.448040</td>\n      <td>18.710146</td>\n      <td>17.681055</td>\n      <td>20.887171</td>\n      <td>30.919290</td>\n      <td>31.706400</td>\n      <td>12.752683</td>\n      <td>45.436331</td>\n      <td>31.821209</td>\n      <td>33.360000</td>\n      <td>62.851924</td>\n      <td>11.310872</td>\n      <td>26.077014</td>\n      <td>20.426667</td>\n      <td>0.0</td>\n      <td>0.0</td>\n    </tr>\n    <tr>\n      <th>1</th>\n      <td>1</td>\n      <td>10</td>\n      <td>2016</td>\n      <td>611797.30</td>\n      <td>33.986803</td>\n      <td>25.142785</td>\n      <td>22.226022</td>\n      <td>28.956952</td>\n      <td>32.771997</td>\n      <td>42.858374</td>\n      <td>17.631987</td>\n      <td>41.811359</td>\n      <td>37.372261</td>\n      <td>38.705058</td>\n      <td>82.078196</td>\n      <td>16.034466</td>\n      <td>41.617166</td>\n      <td>0.000000</td>\n      <td>0.0</td>\n      <td>0.0</td>\n    </tr>\n    <tr>\n      <th>2</th>\n      <td>1</td>\n      <td>11</td>\n      <td>2016</td>\n      <td>876921.63</td>\n      <td>30.296667</td>\n      <td>22.965600</td>\n      <td>22.187400</td>\n      <td>27.690281</td>\n      <td>32.802101</td>\n      <td>40.951661</td>\n      <td>18.519352</td>\n      <td>74.652824</td>\n      <td>37.440439</td>\n      <td>39.748432</td>\n      <td>82.564317</td>\n      <td>17.904426</td>\n      <td>33.312410</td>\n      <td>18.900000</td>\n      <td>0.0</td>\n      <td>0.0</td>\n    </tr>\n    <tr>\n      <th>3</th>\n      <td>1</td>\n      <td>12</td>\n      <td>2016</td>\n      <td>1257613.00</td>\n      <td>33.188182</td>\n      <td>22.833700</td>\n      <td>22.379621</td>\n      <td>30.352067</td>\n      <td>33.086141</td>\n      <td>41.547036</td>\n      <td>19.352089</td>\n      <td>82.970158</td>\n      <td>41.299231</td>\n      <td>43.706934</td>\n      <td>87.137583</td>\n      <td>16.712837</td>\n      <td>37.271221</td>\n      <td>18.900000</td>\n      <td>0.0</td>\n      <td>0.0</td>\n    </tr>\n    <tr>\n      <th>4</th>\n      <td>1</td>\n      <td>2</td>\n      <td>2016</td>\n      <td>395340.22</td>\n      <td>43.719519</td>\n      <td>14.485492</td>\n      <td>21.231583</td>\n      <td>29.384186</td>\n      <td>30.219876</td>\n      <td>27.586336</td>\n      <td>16.231631</td>\n      <td>45.729259</td>\n      <td>27.168227</td>\n      <td>34.105365</td>\n      <td>72.724494</td>\n      <td>13.720239</td>\n      <td>25.093969</td>\n      <td>15.795000</td>\n      <td>0.0</td>\n      <td>0.0</td>\n    </tr>\n    <tr>\n      <th>...</th>\n      <td>...</td>\n      <td>...</td>\n      <td>...</td>\n      <td>...</td>\n      <td>...</td>\n      <td>...</td>\n      <td>...</td>\n      <td>...</td>\n      <td>...</td>\n      <td>...</td>\n      <td>...</td>\n      <td>...</td>\n      <td>...</td>\n      <td>...</td>\n      <td>...</td>\n      <td>...</td>\n      <td>...</td>\n      <td>...</td>\n      <td>...</td>\n      <td>...</td>\n    </tr>\n    <tr>\n      <th>73639</th>\n      <td>3687</td>\n      <td>5</td>\n      <td>2017</td>\n      <td>74631.46</td>\n      <td>29.506000</td>\n      <td>33.900000</td>\n      <td>31.543929</td>\n      <td>40.837500</td>\n      <td>38.821630</td>\n      <td>63.906923</td>\n      <td>22.284279</td>\n      <td>125.746000</td>\n      <td>36.458759</td>\n      <td>55.448387</td>\n      <td>104.748432</td>\n      <td>16.105217</td>\n      <td>54.150000</td>\n      <td>1.900000</td>\n      <td>0.0</td>\n      <td>0.0</td>\n    </tr>\n    <tr>\n      <th>73640</th>\n      <td>3687</td>\n      <td>6</td>\n      <td>2017</td>\n      <td>63204.15</td>\n      <td>26.000000</td>\n      <td>23.788889</td>\n      <td>27.902571</td>\n      <td>40.925000</td>\n      <td>34.527820</td>\n      <td>62.233333</td>\n      <td>25.615640</td>\n      <td>120.634615</td>\n      <td>34.966163</td>\n      <td>42.911236</td>\n      <td>105.431048</td>\n      <td>12.993281</td>\n      <td>53.900000</td>\n      <td>1.900000</td>\n      <td>0.0</td>\n      <td>0.0</td>\n    </tr>\n    <tr>\n      <th>73641</th>\n      <td>3687</td>\n      <td>7</td>\n      <td>2017</td>\n      <td>47865.16</td>\n      <td>16.712500</td>\n      <td>33.900000</td>\n      <td>27.392063</td>\n      <td>37.500000</td>\n      <td>32.751163</td>\n      <td>62.248333</td>\n      <td>22.848454</td>\n      <td>120.300000</td>\n      <td>27.363016</td>\n      <td>52.400000</td>\n      <td>106.550286</td>\n      <td>14.843529</td>\n      <td>44.400000</td>\n      <td>1.900000</td>\n      <td>0.0</td>\n      <td>0.0</td>\n    </tr>\n    <tr>\n      <th>73642</th>\n      <td>3687</td>\n      <td>8</td>\n      <td>2017</td>\n      <td>71171.48</td>\n      <td>30.089189</td>\n      <td>0.000000</td>\n      <td>34.258974</td>\n      <td>40.913158</td>\n      <td>36.561616</td>\n      <td>62.475714</td>\n      <td>22.554545</td>\n      <td>117.682692</td>\n      <td>40.785915</td>\n      <td>59.445455</td>\n      <td>105.446304</td>\n      <td>15.806667</td>\n      <td>62.900000</td>\n      <td>1.900000</td>\n      <td>0.0</td>\n      <td>0.0</td>\n    </tr>\n    <tr>\n      <th>73643</th>\n      <td>3687</td>\n      <td>9</td>\n      <td>2017</td>\n      <td>48284.66</td>\n      <td>28.532963</td>\n      <td>24.900000</td>\n      <td>30.431532</td>\n      <td>38.400000</td>\n      <td>33.418828</td>\n      <td>56.578667</td>\n      <td>22.236735</td>\n      <td>103.190909</td>\n      <td>32.160888</td>\n      <td>50.141379</td>\n      <td>95.443590</td>\n      <td>13.760513</td>\n      <td>51.150000</td>\n      <td>1.900000</td>\n      <td>0.0</td>\n      <td>0.0</td>\n    </tr>\n  </tbody>\n</table>\n<p>73644 rows × 20 columns</p>\n</div>"
     },
     "metadata": {},
     "execution_count": 3
    }
   ],
   "source": [
    "data_ru = pd.read_csv(\"data/data-rec-uni.csv\")\n",
    "\n",
    "data_ru"
   ]
  },
  {
   "cell_type": "code",
   "execution_count": 4,
   "metadata": {},
   "outputs": [
    {
     "output_type": "execute_result",
     "data": {
      "text/plain": [
       "          receita  cod_loja   ano  mes         cod_ap  cod_municipio  \\\n",
       "0       441833.37         1  2016    1  4125506005002        4125506   \n",
       "1       611797.30         1  2016   10  4125506005002        4125506   \n",
       "2       876921.63         1  2016   11  4125506005002        4125506   \n",
       "3      1257613.00         1  2016   12  4125506005002        4125506   \n",
       "4       395340.22         1  2016    2  4125506005002        4125506   \n",
       "...           ...       ...   ...  ...            ...            ...   \n",
       "73639    74631.46      3687  2017    5  4211702001001        4211702   \n",
       "73640    63204.15      3687  2017    6  4211702001001        4211702   \n",
       "73641    47865.16      3687  2017    7  4211702001001        4211702   \n",
       "73642    71171.48      3687  2017    8  4211702001001        4211702   \n",
       "73643    48284.66      3687  2017    9  4211702001001        4211702   \n",
       "\n",
       "      feature_01           feature_02  feature_03  feature_04  ...  \\\n",
       "0            NaN  FEATURE_02_VALUE_04        True       21.76  ...   \n",
       "1            NaN  FEATURE_02_VALUE_04        True       21.76  ...   \n",
       "2            NaN  FEATURE_02_VALUE_04        True       21.76  ...   \n",
       "3            NaN  FEATURE_02_VALUE_04        True       21.76  ...   \n",
       "4            NaN  FEATURE_02_VALUE_04        True       21.76  ...   \n",
       "...          ...                  ...         ...         ...  ...   \n",
       "73639        NaN  FEATURE_02_VALUE_04       False       26.50  ...   \n",
       "73640        NaN  FEATURE_02_VALUE_04       False       26.50  ...   \n",
       "73641        NaN  FEATURE_02_VALUE_04       False       26.50  ...   \n",
       "73642        NaN  FEATURE_02_VALUE_04       False       26.50  ...   \n",
       "73643        NaN  FEATURE_02_VALUE_04       False       26.50  ...   \n",
       "\n",
       "       feature_09  feature_10  feature_11  feature_12  feature_13  feature_14  \\\n",
       "0      115.958848    2.349821         NaN         NaN         NaN         NaN   \n",
       "1      115.958848    2.349821         NaN         NaN         NaN         NaN   \n",
       "2      115.958848    2.349821         NaN         NaN         NaN         NaN   \n",
       "3      115.958848    2.349821         NaN         NaN         NaN         NaN   \n",
       "4      115.958848    2.349821         NaN         NaN         NaN         NaN   \n",
       "...           ...         ...         ...         ...         ...         ...   \n",
       "73639    7.701540    4.454541         NaN         NaN         NaN         NaN   \n",
       "73640    7.701540    4.454541         NaN         NaN         NaN         NaN   \n",
       "73641    7.701540    4.454541         NaN         NaN         NaN         NaN   \n",
       "73642    7.701540    4.454541         NaN         NaN         NaN         NaN   \n",
       "73643    7.701540    4.454541         NaN         NaN         NaN         NaN   \n",
       "\n",
       "      feature_15 feature_16  feature_17  feature_18  \n",
       "0            NaN        NaN         NaN         NaN  \n",
       "1            NaN        NaN         NaN         NaN  \n",
       "2            NaN        NaN         NaN         NaN  \n",
       "3            NaN        NaN         NaN         NaN  \n",
       "4            NaN        NaN         NaN         NaN  \n",
       "...          ...        ...         ...         ...  \n",
       "73639        NaN        NaN         NaN         NaN  \n",
       "73640        NaN        NaN         NaN         NaN  \n",
       "73641        NaN        NaN         NaN         NaN  \n",
       "73642        NaN        NaN         NaN         NaN  \n",
       "73643        NaN        NaN         NaN         NaN  \n",
       "\n",
       "[73644 rows x 24 columns]"
      ],
      "text/html": "<div>\n<style scoped>\n    .dataframe tbody tr th:only-of-type {\n        vertical-align: middle;\n    }\n\n    .dataframe tbody tr th {\n        vertical-align: top;\n    }\n\n    .dataframe thead th {\n        text-align: right;\n    }\n</style>\n<table border=\"1\" class=\"dataframe\">\n  <thead>\n    <tr style=\"text-align: right;\">\n      <th></th>\n      <th>receita</th>\n      <th>cod_loja</th>\n      <th>ano</th>\n      <th>mes</th>\n      <th>cod_ap</th>\n      <th>cod_municipio</th>\n      <th>feature_01</th>\n      <th>feature_02</th>\n      <th>feature_03</th>\n      <th>feature_04</th>\n      <th>...</th>\n      <th>feature_09</th>\n      <th>feature_10</th>\n      <th>feature_11</th>\n      <th>feature_12</th>\n      <th>feature_13</th>\n      <th>feature_14</th>\n      <th>feature_15</th>\n      <th>feature_16</th>\n      <th>feature_17</th>\n      <th>feature_18</th>\n    </tr>\n  </thead>\n  <tbody>\n    <tr>\n      <th>0</th>\n      <td>441833.37</td>\n      <td>1</td>\n      <td>2016</td>\n      <td>1</td>\n      <td>4125506005002</td>\n      <td>4125506</td>\n      <td>NaN</td>\n      <td>FEATURE_02_VALUE_04</td>\n      <td>True</td>\n      <td>21.76</td>\n      <td>...</td>\n      <td>115.958848</td>\n      <td>2.349821</td>\n      <td>NaN</td>\n      <td>NaN</td>\n      <td>NaN</td>\n      <td>NaN</td>\n      <td>NaN</td>\n      <td>NaN</td>\n      <td>NaN</td>\n      <td>NaN</td>\n    </tr>\n    <tr>\n      <th>1</th>\n      <td>611797.30</td>\n      <td>1</td>\n      <td>2016</td>\n      <td>10</td>\n      <td>4125506005002</td>\n      <td>4125506</td>\n      <td>NaN</td>\n      <td>FEATURE_02_VALUE_04</td>\n      <td>True</td>\n      <td>21.76</td>\n      <td>...</td>\n      <td>115.958848</td>\n      <td>2.349821</td>\n      <td>NaN</td>\n      <td>NaN</td>\n      <td>NaN</td>\n      <td>NaN</td>\n      <td>NaN</td>\n      <td>NaN</td>\n      <td>NaN</td>\n      <td>NaN</td>\n    </tr>\n    <tr>\n      <th>2</th>\n      <td>876921.63</td>\n      <td>1</td>\n      <td>2016</td>\n      <td>11</td>\n      <td>4125506005002</td>\n      <td>4125506</td>\n      <td>NaN</td>\n      <td>FEATURE_02_VALUE_04</td>\n      <td>True</td>\n      <td>21.76</td>\n      <td>...</td>\n      <td>115.958848</td>\n      <td>2.349821</td>\n      <td>NaN</td>\n      <td>NaN</td>\n      <td>NaN</td>\n      <td>NaN</td>\n      <td>NaN</td>\n      <td>NaN</td>\n      <td>NaN</td>\n      <td>NaN</td>\n    </tr>\n    <tr>\n      <th>3</th>\n      <td>1257613.00</td>\n      <td>1</td>\n      <td>2016</td>\n      <td>12</td>\n      <td>4125506005002</td>\n      <td>4125506</td>\n      <td>NaN</td>\n      <td>FEATURE_02_VALUE_04</td>\n      <td>True</td>\n      <td>21.76</td>\n      <td>...</td>\n      <td>115.958848</td>\n      <td>2.349821</td>\n      <td>NaN</td>\n      <td>NaN</td>\n      <td>NaN</td>\n      <td>NaN</td>\n      <td>NaN</td>\n      <td>NaN</td>\n      <td>NaN</td>\n      <td>NaN</td>\n    </tr>\n    <tr>\n      <th>4</th>\n      <td>395340.22</td>\n      <td>1</td>\n      <td>2016</td>\n      <td>2</td>\n      <td>4125506005002</td>\n      <td>4125506</td>\n      <td>NaN</td>\n      <td>FEATURE_02_VALUE_04</td>\n      <td>True</td>\n      <td>21.76</td>\n      <td>...</td>\n      <td>115.958848</td>\n      <td>2.349821</td>\n      <td>NaN</td>\n      <td>NaN</td>\n      <td>NaN</td>\n      <td>NaN</td>\n      <td>NaN</td>\n      <td>NaN</td>\n      <td>NaN</td>\n      <td>NaN</td>\n    </tr>\n    <tr>\n      <th>...</th>\n      <td>...</td>\n      <td>...</td>\n      <td>...</td>\n      <td>...</td>\n      <td>...</td>\n      <td>...</td>\n      <td>...</td>\n      <td>...</td>\n      <td>...</td>\n      <td>...</td>\n      <td>...</td>\n      <td>...</td>\n      <td>...</td>\n      <td>...</td>\n      <td>...</td>\n      <td>...</td>\n      <td>...</td>\n      <td>...</td>\n      <td>...</td>\n      <td>...</td>\n      <td>...</td>\n    </tr>\n    <tr>\n      <th>73639</th>\n      <td>74631.46</td>\n      <td>3687</td>\n      <td>2017</td>\n      <td>5</td>\n      <td>4211702001001</td>\n      <td>4211702</td>\n      <td>NaN</td>\n      <td>FEATURE_02_VALUE_04</td>\n      <td>False</td>\n      <td>26.50</td>\n      <td>...</td>\n      <td>7.701540</td>\n      <td>4.454541</td>\n      <td>NaN</td>\n      <td>NaN</td>\n      <td>NaN</td>\n      <td>NaN</td>\n      <td>NaN</td>\n      <td>NaN</td>\n      <td>NaN</td>\n      <td>NaN</td>\n    </tr>\n    <tr>\n      <th>73640</th>\n      <td>63204.15</td>\n      <td>3687</td>\n      <td>2017</td>\n      <td>6</td>\n      <td>4211702001001</td>\n      <td>4211702</td>\n      <td>NaN</td>\n      <td>FEATURE_02_VALUE_04</td>\n      <td>False</td>\n      <td>26.50</td>\n      <td>...</td>\n      <td>7.701540</td>\n      <td>4.454541</td>\n      <td>NaN</td>\n      <td>NaN</td>\n      <td>NaN</td>\n      <td>NaN</td>\n      <td>NaN</td>\n      <td>NaN</td>\n      <td>NaN</td>\n      <td>NaN</td>\n    </tr>\n    <tr>\n      <th>73641</th>\n      <td>47865.16</td>\n      <td>3687</td>\n      <td>2017</td>\n      <td>7</td>\n      <td>4211702001001</td>\n      <td>4211702</td>\n      <td>NaN</td>\n      <td>FEATURE_02_VALUE_04</td>\n      <td>False</td>\n      <td>26.50</td>\n      <td>...</td>\n      <td>7.701540</td>\n      <td>4.454541</td>\n      <td>NaN</td>\n      <td>NaN</td>\n      <td>NaN</td>\n      <td>NaN</td>\n      <td>NaN</td>\n      <td>NaN</td>\n      <td>NaN</td>\n      <td>NaN</td>\n    </tr>\n    <tr>\n      <th>73642</th>\n      <td>71171.48</td>\n      <td>3687</td>\n      <td>2017</td>\n      <td>8</td>\n      <td>4211702001001</td>\n      <td>4211702</td>\n      <td>NaN</td>\n      <td>FEATURE_02_VALUE_04</td>\n      <td>False</td>\n      <td>26.50</td>\n      <td>...</td>\n      <td>7.701540</td>\n      <td>4.454541</td>\n      <td>NaN</td>\n      <td>NaN</td>\n      <td>NaN</td>\n      <td>NaN</td>\n      <td>NaN</td>\n      <td>NaN</td>\n      <td>NaN</td>\n      <td>NaN</td>\n    </tr>\n    <tr>\n      <th>73643</th>\n      <td>48284.66</td>\n      <td>3687</td>\n      <td>2017</td>\n      <td>9</td>\n      <td>4211702001001</td>\n      <td>4211702</td>\n      <td>NaN</td>\n      <td>FEATURE_02_VALUE_04</td>\n      <td>False</td>\n      <td>26.50</td>\n      <td>...</td>\n      <td>7.701540</td>\n      <td>4.454541</td>\n      <td>NaN</td>\n      <td>NaN</td>\n      <td>NaN</td>\n      <td>NaN</td>\n      <td>NaN</td>\n      <td>NaN</td>\n      <td>NaN</td>\n      <td>NaN</td>\n    </tr>\n  </tbody>\n</table>\n<p>73644 rows × 24 columns</p>\n</div>"
     },
     "metadata": {},
     "execution_count": 4
    }
   ],
   "source": [
    "data_merge = data_ru[[\"receita\", \"cod_loja\", \"ano\", \"mes\"]].merge(data_la, left_on=\"cod_loja\", right_on=\"cod_loja\")\n",
    "\n",
    "data_merge"
   ]
  },
  {
   "cell_type": "code",
   "execution_count": 5,
   "metadata": {},
   "outputs": [],
   "source": [
    "data_merge.to_csv(\"data/lojas-atuais-receita.csv\", index = False)"
   ]
  },
  {
   "source": [
    "### Fazendo um profile dos dados"
   ],
   "cell_type": "markdown",
   "metadata": {}
  },
  {
   "cell_type": "code",
   "execution_count": 6,
   "metadata": {},
   "outputs": [],
   "source": [
    "profile = ProfileReport(data_merge, title=\"Pandas Profiling Report\")"
   ]
  },
  {
   "cell_type": "code",
   "execution_count": 7,
   "metadata": {},
   "outputs": [
    {
     "output_type": "display_data",
     "data": {
      "text/plain": "HBox(children=(HTML(value='Summarize dataset'), FloatProgress(value=0.0, max=38.0), HTML(value='')))",
      "application/vnd.jupyter.widget-view+json": {
       "version_major": 2,
       "version_minor": 0,
       "model_id": "e5e67d268f9945c2bd1b6713885efd25"
      }
     },
     "metadata": {}
    },
    {
     "output_type": "stream",
     "name": "stdout",
     "text": [
      "\n"
     ]
    },
    {
     "output_type": "display_data",
     "data": {
      "text/plain": "HBox(children=(HTML(value='Generate report structure'), FloatProgress(value=0.0, max=1.0), HTML(value='')))",
      "application/vnd.jupyter.widget-view+json": {
       "version_major": 2,
       "version_minor": 0,
       "model_id": "946ed2603fb142b8b9446194bbfe22c2"
      }
     },
     "metadata": {}
    },
    {
     "output_type": "stream",
     "name": "stdout",
     "text": [
      "\n"
     ]
    },
    {
     "output_type": "display_data",
     "data": {
      "text/plain": "HBox(children=(HTML(value='Render HTML'), FloatProgress(value=0.0, max=1.0), HTML(value='')))",
      "application/vnd.jupyter.widget-view+json": {
       "version_major": 2,
       "version_minor": 0,
       "model_id": "b509ade3778b49dbb4b39d3a06df0b18"
      }
     },
     "metadata": {}
    },
    {
     "output_type": "stream",
     "name": "stdout",
     "text": [
      "\n"
     ]
    },
    {
     "output_type": "display_data",
     "data": {
      "text/plain": "HBox(children=(HTML(value='Export report to file'), FloatProgress(value=0.0, max=1.0), HTML(value='')))",
      "application/vnd.jupyter.widget-view+json": {
       "version_major": 2,
       "version_minor": 0,
       "model_id": "9386594bb48f4286b1355a118bbf0fb7"
      }
     },
     "metadata": {}
    },
    {
     "output_type": "stream",
     "name": "stdout",
     "text": [
      "\n"
     ]
    }
   ],
   "source": [
    "profile.to_file(\"report-2-1.html\")"
   ]
  },
  {
   "source": [
    "## Tratando os dados"
   ],
   "cell_type": "markdown",
   "metadata": {}
  },
  {
   "source": [
    "### Criando a coluna `datetime`\n",
    "\n",
    "Ela vai ajudar a organizar os dados por data de maneira mais fácil."
   ],
   "cell_type": "markdown",
   "metadata": {}
  },
  {
   "cell_type": "code",
   "execution_count": 6,
   "metadata": {},
   "outputs": [
    {
     "output_type": "execute_result",
     "data": {
      "text/plain": [
       "          receita  cod_loja   ano  mes         cod_ap  cod_municipio  \\\n",
       "0       441833.37         1  2016    1  4125506005002        4125506   \n",
       "1       611797.30         1  2016   10  4125506005002        4125506   \n",
       "2       876921.63         1  2016   11  4125506005002        4125506   \n",
       "3      1257613.00         1  2016   12  4125506005002        4125506   \n",
       "4       395340.22         1  2016    2  4125506005002        4125506   \n",
       "...           ...       ...   ...  ...            ...            ...   \n",
       "73639    74631.46      3687  2017    5  4211702001001        4211702   \n",
       "73640    63204.15      3687  2017    6  4211702001001        4211702   \n",
       "73641    47865.16      3687  2017    7  4211702001001        4211702   \n",
       "73642    71171.48      3687  2017    8  4211702001001        4211702   \n",
       "73643    48284.66      3687  2017    9  4211702001001        4211702   \n",
       "\n",
       "      feature_01           feature_02  feature_03  feature_04  ... feature_10  \\\n",
       "0            NaN  FEATURE_02_VALUE_04        True       21.76  ...   2.349821   \n",
       "1            NaN  FEATURE_02_VALUE_04        True       21.76  ...   2.349821   \n",
       "2            NaN  FEATURE_02_VALUE_04        True       21.76  ...   2.349821   \n",
       "3            NaN  FEATURE_02_VALUE_04        True       21.76  ...   2.349821   \n",
       "4            NaN  FEATURE_02_VALUE_04        True       21.76  ...   2.349821   \n",
       "...          ...                  ...         ...         ...  ...        ...   \n",
       "73639        NaN  FEATURE_02_VALUE_04       False       26.50  ...   4.454541   \n",
       "73640        NaN  FEATURE_02_VALUE_04       False       26.50  ...   4.454541   \n",
       "73641        NaN  FEATURE_02_VALUE_04       False       26.50  ...   4.454541   \n",
       "73642        NaN  FEATURE_02_VALUE_04       False       26.50  ...   4.454541   \n",
       "73643        NaN  FEATURE_02_VALUE_04       False       26.50  ...   4.454541   \n",
       "\n",
       "       feature_11  feature_12  feature_13  feature_14  feature_15 feature_16  \\\n",
       "0             NaN         NaN         NaN         NaN         NaN        NaN   \n",
       "1             NaN         NaN         NaN         NaN         NaN        NaN   \n",
       "2             NaN         NaN         NaN         NaN         NaN        NaN   \n",
       "3             NaN         NaN         NaN         NaN         NaN        NaN   \n",
       "4             NaN         NaN         NaN         NaN         NaN        NaN   \n",
       "...           ...         ...         ...         ...         ...        ...   \n",
       "73639         NaN         NaN         NaN         NaN         NaN        NaN   \n",
       "73640         NaN         NaN         NaN         NaN         NaN        NaN   \n",
       "73641         NaN         NaN         NaN         NaN         NaN        NaN   \n",
       "73642         NaN         NaN         NaN         NaN         NaN        NaN   \n",
       "73643         NaN         NaN         NaN         NaN         NaN        NaN   \n",
       "\n",
       "      feature_17  feature_18   datetime  \n",
       "0            NaN         NaN 2016-01-01  \n",
       "1            NaN         NaN 2016-10-01  \n",
       "2            NaN         NaN 2016-11-01  \n",
       "3            NaN         NaN 2016-12-01  \n",
       "4            NaN         NaN 2016-02-01  \n",
       "...          ...         ...        ...  \n",
       "73639        NaN         NaN 2017-05-01  \n",
       "73640        NaN         NaN 2017-06-01  \n",
       "73641        NaN         NaN 2017-07-01  \n",
       "73642        NaN         NaN 2017-08-01  \n",
       "73643        NaN         NaN 2017-09-01  \n",
       "\n",
       "[73644 rows x 25 columns]"
      ],
      "text/html": "<div>\n<style scoped>\n    .dataframe tbody tr th:only-of-type {\n        vertical-align: middle;\n    }\n\n    .dataframe tbody tr th {\n        vertical-align: top;\n    }\n\n    .dataframe thead th {\n        text-align: right;\n    }\n</style>\n<table border=\"1\" class=\"dataframe\">\n  <thead>\n    <tr style=\"text-align: right;\">\n      <th></th>\n      <th>receita</th>\n      <th>cod_loja</th>\n      <th>ano</th>\n      <th>mes</th>\n      <th>cod_ap</th>\n      <th>cod_municipio</th>\n      <th>feature_01</th>\n      <th>feature_02</th>\n      <th>feature_03</th>\n      <th>feature_04</th>\n      <th>...</th>\n      <th>feature_10</th>\n      <th>feature_11</th>\n      <th>feature_12</th>\n      <th>feature_13</th>\n      <th>feature_14</th>\n      <th>feature_15</th>\n      <th>feature_16</th>\n      <th>feature_17</th>\n      <th>feature_18</th>\n      <th>datetime</th>\n    </tr>\n  </thead>\n  <tbody>\n    <tr>\n      <th>0</th>\n      <td>441833.37</td>\n      <td>1</td>\n      <td>2016</td>\n      <td>1</td>\n      <td>4125506005002</td>\n      <td>4125506</td>\n      <td>NaN</td>\n      <td>FEATURE_02_VALUE_04</td>\n      <td>True</td>\n      <td>21.76</td>\n      <td>...</td>\n      <td>2.349821</td>\n      <td>NaN</td>\n      <td>NaN</td>\n      <td>NaN</td>\n      <td>NaN</td>\n      <td>NaN</td>\n      <td>NaN</td>\n      <td>NaN</td>\n      <td>NaN</td>\n      <td>2016-01-01</td>\n    </tr>\n    <tr>\n      <th>1</th>\n      <td>611797.30</td>\n      <td>1</td>\n      <td>2016</td>\n      <td>10</td>\n      <td>4125506005002</td>\n      <td>4125506</td>\n      <td>NaN</td>\n      <td>FEATURE_02_VALUE_04</td>\n      <td>True</td>\n      <td>21.76</td>\n      <td>...</td>\n      <td>2.349821</td>\n      <td>NaN</td>\n      <td>NaN</td>\n      <td>NaN</td>\n      <td>NaN</td>\n      <td>NaN</td>\n      <td>NaN</td>\n      <td>NaN</td>\n      <td>NaN</td>\n      <td>2016-10-01</td>\n    </tr>\n    <tr>\n      <th>2</th>\n      <td>876921.63</td>\n      <td>1</td>\n      <td>2016</td>\n      <td>11</td>\n      <td>4125506005002</td>\n      <td>4125506</td>\n      <td>NaN</td>\n      <td>FEATURE_02_VALUE_04</td>\n      <td>True</td>\n      <td>21.76</td>\n      <td>...</td>\n      <td>2.349821</td>\n      <td>NaN</td>\n      <td>NaN</td>\n      <td>NaN</td>\n      <td>NaN</td>\n      <td>NaN</td>\n      <td>NaN</td>\n      <td>NaN</td>\n      <td>NaN</td>\n      <td>2016-11-01</td>\n    </tr>\n    <tr>\n      <th>3</th>\n      <td>1257613.00</td>\n      <td>1</td>\n      <td>2016</td>\n      <td>12</td>\n      <td>4125506005002</td>\n      <td>4125506</td>\n      <td>NaN</td>\n      <td>FEATURE_02_VALUE_04</td>\n      <td>True</td>\n      <td>21.76</td>\n      <td>...</td>\n      <td>2.349821</td>\n      <td>NaN</td>\n      <td>NaN</td>\n      <td>NaN</td>\n      <td>NaN</td>\n      <td>NaN</td>\n      <td>NaN</td>\n      <td>NaN</td>\n      <td>NaN</td>\n      <td>2016-12-01</td>\n    </tr>\n    <tr>\n      <th>4</th>\n      <td>395340.22</td>\n      <td>1</td>\n      <td>2016</td>\n      <td>2</td>\n      <td>4125506005002</td>\n      <td>4125506</td>\n      <td>NaN</td>\n      <td>FEATURE_02_VALUE_04</td>\n      <td>True</td>\n      <td>21.76</td>\n      <td>...</td>\n      <td>2.349821</td>\n      <td>NaN</td>\n      <td>NaN</td>\n      <td>NaN</td>\n      <td>NaN</td>\n      <td>NaN</td>\n      <td>NaN</td>\n      <td>NaN</td>\n      <td>NaN</td>\n      <td>2016-02-01</td>\n    </tr>\n    <tr>\n      <th>...</th>\n      <td>...</td>\n      <td>...</td>\n      <td>...</td>\n      <td>...</td>\n      <td>...</td>\n      <td>...</td>\n      <td>...</td>\n      <td>...</td>\n      <td>...</td>\n      <td>...</td>\n      <td>...</td>\n      <td>...</td>\n      <td>...</td>\n      <td>...</td>\n      <td>...</td>\n      <td>...</td>\n      <td>...</td>\n      <td>...</td>\n      <td>...</td>\n      <td>...</td>\n      <td>...</td>\n    </tr>\n    <tr>\n      <th>73639</th>\n      <td>74631.46</td>\n      <td>3687</td>\n      <td>2017</td>\n      <td>5</td>\n      <td>4211702001001</td>\n      <td>4211702</td>\n      <td>NaN</td>\n      <td>FEATURE_02_VALUE_04</td>\n      <td>False</td>\n      <td>26.50</td>\n      <td>...</td>\n      <td>4.454541</td>\n      <td>NaN</td>\n      <td>NaN</td>\n      <td>NaN</td>\n      <td>NaN</td>\n      <td>NaN</td>\n      <td>NaN</td>\n      <td>NaN</td>\n      <td>NaN</td>\n      <td>2017-05-01</td>\n    </tr>\n    <tr>\n      <th>73640</th>\n      <td>63204.15</td>\n      <td>3687</td>\n      <td>2017</td>\n      <td>6</td>\n      <td>4211702001001</td>\n      <td>4211702</td>\n      <td>NaN</td>\n      <td>FEATURE_02_VALUE_04</td>\n      <td>False</td>\n      <td>26.50</td>\n      <td>...</td>\n      <td>4.454541</td>\n      <td>NaN</td>\n      <td>NaN</td>\n      <td>NaN</td>\n      <td>NaN</td>\n      <td>NaN</td>\n      <td>NaN</td>\n      <td>NaN</td>\n      <td>NaN</td>\n      <td>2017-06-01</td>\n    </tr>\n    <tr>\n      <th>73641</th>\n      <td>47865.16</td>\n      <td>3687</td>\n      <td>2017</td>\n      <td>7</td>\n      <td>4211702001001</td>\n      <td>4211702</td>\n      <td>NaN</td>\n      <td>FEATURE_02_VALUE_04</td>\n      <td>False</td>\n      <td>26.50</td>\n      <td>...</td>\n      <td>4.454541</td>\n      <td>NaN</td>\n      <td>NaN</td>\n      <td>NaN</td>\n      <td>NaN</td>\n      <td>NaN</td>\n      <td>NaN</td>\n      <td>NaN</td>\n      <td>NaN</td>\n      <td>2017-07-01</td>\n    </tr>\n    <tr>\n      <th>73642</th>\n      <td>71171.48</td>\n      <td>3687</td>\n      <td>2017</td>\n      <td>8</td>\n      <td>4211702001001</td>\n      <td>4211702</td>\n      <td>NaN</td>\n      <td>FEATURE_02_VALUE_04</td>\n      <td>False</td>\n      <td>26.50</td>\n      <td>...</td>\n      <td>4.454541</td>\n      <td>NaN</td>\n      <td>NaN</td>\n      <td>NaN</td>\n      <td>NaN</td>\n      <td>NaN</td>\n      <td>NaN</td>\n      <td>NaN</td>\n      <td>NaN</td>\n      <td>2017-08-01</td>\n    </tr>\n    <tr>\n      <th>73643</th>\n      <td>48284.66</td>\n      <td>3687</td>\n      <td>2017</td>\n      <td>9</td>\n      <td>4211702001001</td>\n      <td>4211702</td>\n      <td>NaN</td>\n      <td>FEATURE_02_VALUE_04</td>\n      <td>False</td>\n      <td>26.50</td>\n      <td>...</td>\n      <td>4.454541</td>\n      <td>NaN</td>\n      <td>NaN</td>\n      <td>NaN</td>\n      <td>NaN</td>\n      <td>NaN</td>\n      <td>NaN</td>\n      <td>NaN</td>\n      <td>NaN</td>\n      <td>2017-09-01</td>\n    </tr>\n  </tbody>\n</table>\n<p>73644 rows × 25 columns</p>\n</div>"
     },
     "metadata": {},
     "execution_count": 6
    }
   ],
   "source": [
    "data_merge[\"datetime\"] = pd.to_datetime(data_merge[\"ano\"].astype(str) + \"/\" + data_merge[\"mes\"].astype(str) + \"/01\", format = \"%Y/%m/%d\")\n",
    "\n",
    "data_merge"
   ]
  },
  {
   "source": [
    "### Tratando atributos categoricos com STRING"
   ],
   "cell_type": "markdown",
   "metadata": {}
  },
  {
   "cell_type": "code",
   "execution_count": 32,
   "metadata": {},
   "outputs": [],
   "source": [
    "data_tratada = data_merge.copy()"
   ]
  },
  {
   "source": [
    "#### Tratando o atributo `FEATURE_02`"
   ],
   "cell_type": "markdown",
   "metadata": {}
  },
  {
   "cell_type": "code",
   "execution_count": 33,
   "metadata": {},
   "outputs": [
    {
     "output_type": "execute_result",
     "data": {
      "text/plain": [
       "['FEATURE_02_VALUE_02',\n",
       " 'FEATURE_02_VALUE_03',\n",
       " 'FEATURE_02_VALUE_04',\n",
       " 'FEATURE_02_VALUE_06']"
      ]
     },
     "metadata": {},
     "execution_count": 33
    }
   ],
   "source": [
    "le_02 = preprocessing.LabelEncoder()\n",
    "\n",
    "le_02.fit(data_tratada[\"feature_02\"])\n",
    "\n",
    "list(le_02.classes_)"
   ]
  },
  {
   "cell_type": "code",
   "execution_count": 34,
   "metadata": {},
   "outputs": [],
   "source": [
    "data_tratada[\"feature_02\"] = le_02.transform(data_tratada['feature_02']) "
   ]
  },
  {
   "source": [
    "#### Tratando o atributo `FEATURE_05`"
   ],
   "cell_type": "markdown",
   "metadata": {}
  },
  {
   "cell_type": "code",
   "execution_count": 35,
   "metadata": {},
   "outputs": [
    {
     "output_type": "execute_result",
     "data": {
      "text/plain": [
       "['FEATURE_05_VALUE_01',\n",
       " 'FEATURE_05_VALUE_02',\n",
       " 'FEATURE_05_VALUE_03',\n",
       " 'FEATURE_05_VALUE_04',\n",
       " 'FEATURE_05_VALUE_05',\n",
       " 'FEATURE_05_VALUE_06',\n",
       " 'FEATURE_05_VALUE_07',\n",
       " 'FEATURE_05_VALUE_08']"
      ]
     },
     "metadata": {},
     "execution_count": 35
    }
   ],
   "source": [
    "le_05 = preprocessing.LabelEncoder()\n",
    "\n",
    "le_05.fit(data_tratada[\"feature_05\"])\n",
    "\n",
    "list(le_05.classes_)"
   ]
  },
  {
   "cell_type": "code",
   "execution_count": 36,
   "metadata": {},
   "outputs": [],
   "source": [
    "data_tratada[\"feature_05\"] = le_05.transform(data_tratada['feature_05']) "
   ]
  },
  {
   "cell_type": "code",
   "execution_count": 37,
   "metadata": {},
   "outputs": [
    {
     "output_type": "execute_result",
     "data": {
      "text/plain": [
       "          receita  cod_loja   ano  mes         cod_ap  cod_municipio  \\\n",
       "0       441833.37         1  2016    1  4125506005002        4125506   \n",
       "1       611797.30         1  2016   10  4125506005002        4125506   \n",
       "2       876921.63         1  2016   11  4125506005002        4125506   \n",
       "3      1257613.00         1  2016   12  4125506005002        4125506   \n",
       "4       395340.22         1  2016    2  4125506005002        4125506   \n",
       "...           ...       ...   ...  ...            ...            ...   \n",
       "73639    74631.46      3687  2017    5  4211702001001        4211702   \n",
       "73640    63204.15      3687  2017    6  4211702001001        4211702   \n",
       "73641    47865.16      3687  2017    7  4211702001001        4211702   \n",
       "73642    71171.48      3687  2017    8  4211702001001        4211702   \n",
       "73643    48284.66      3687  2017    9  4211702001001        4211702   \n",
       "\n",
       "      feature_01  feature_02  feature_03  feature_04  ...  feature_10  \\\n",
       "0            NaN           2        True       21.76  ...    2.349821   \n",
       "1            NaN           2        True       21.76  ...    2.349821   \n",
       "2            NaN           2        True       21.76  ...    2.349821   \n",
       "3            NaN           2        True       21.76  ...    2.349821   \n",
       "4            NaN           2        True       21.76  ...    2.349821   \n",
       "...          ...         ...         ...         ...  ...         ...   \n",
       "73639        NaN           2       False       26.50  ...    4.454541   \n",
       "73640        NaN           2       False       26.50  ...    4.454541   \n",
       "73641        NaN           2       False       26.50  ...    4.454541   \n",
       "73642        NaN           2       False       26.50  ...    4.454541   \n",
       "73643        NaN           2       False       26.50  ...    4.454541   \n",
       "\n",
       "       feature_11  feature_12  feature_13  feature_14  feature_15 feature_16  \\\n",
       "0             NaN         NaN         NaN         NaN         NaN        NaN   \n",
       "1             NaN         NaN         NaN         NaN         NaN        NaN   \n",
       "2             NaN         NaN         NaN         NaN         NaN        NaN   \n",
       "3             NaN         NaN         NaN         NaN         NaN        NaN   \n",
       "4             NaN         NaN         NaN         NaN         NaN        NaN   \n",
       "...           ...         ...         ...         ...         ...        ...   \n",
       "73639         NaN         NaN         NaN         NaN         NaN        NaN   \n",
       "73640         NaN         NaN         NaN         NaN         NaN        NaN   \n",
       "73641         NaN         NaN         NaN         NaN         NaN        NaN   \n",
       "73642         NaN         NaN         NaN         NaN         NaN        NaN   \n",
       "73643         NaN         NaN         NaN         NaN         NaN        NaN   \n",
       "\n",
       "      feature_17  feature_18   datetime  \n",
       "0            NaN         NaN 2016-01-01  \n",
       "1            NaN         NaN 2016-10-01  \n",
       "2            NaN         NaN 2016-11-01  \n",
       "3            NaN         NaN 2016-12-01  \n",
       "4            NaN         NaN 2016-02-01  \n",
       "...          ...         ...        ...  \n",
       "73639        NaN         NaN 2017-05-01  \n",
       "73640        NaN         NaN 2017-06-01  \n",
       "73641        NaN         NaN 2017-07-01  \n",
       "73642        NaN         NaN 2017-08-01  \n",
       "73643        NaN         NaN 2017-09-01  \n",
       "\n",
       "[73644 rows x 25 columns]"
      ],
      "text/html": "<div>\n<style scoped>\n    .dataframe tbody tr th:only-of-type {\n        vertical-align: middle;\n    }\n\n    .dataframe tbody tr th {\n        vertical-align: top;\n    }\n\n    .dataframe thead th {\n        text-align: right;\n    }\n</style>\n<table border=\"1\" class=\"dataframe\">\n  <thead>\n    <tr style=\"text-align: right;\">\n      <th></th>\n      <th>receita</th>\n      <th>cod_loja</th>\n      <th>ano</th>\n      <th>mes</th>\n      <th>cod_ap</th>\n      <th>cod_municipio</th>\n      <th>feature_01</th>\n      <th>feature_02</th>\n      <th>feature_03</th>\n      <th>feature_04</th>\n      <th>...</th>\n      <th>feature_10</th>\n      <th>feature_11</th>\n      <th>feature_12</th>\n      <th>feature_13</th>\n      <th>feature_14</th>\n      <th>feature_15</th>\n      <th>feature_16</th>\n      <th>feature_17</th>\n      <th>feature_18</th>\n      <th>datetime</th>\n    </tr>\n  </thead>\n  <tbody>\n    <tr>\n      <th>0</th>\n      <td>441833.37</td>\n      <td>1</td>\n      <td>2016</td>\n      <td>1</td>\n      <td>4125506005002</td>\n      <td>4125506</td>\n      <td>NaN</td>\n      <td>2</td>\n      <td>True</td>\n      <td>21.76</td>\n      <td>...</td>\n      <td>2.349821</td>\n      <td>NaN</td>\n      <td>NaN</td>\n      <td>NaN</td>\n      <td>NaN</td>\n      <td>NaN</td>\n      <td>NaN</td>\n      <td>NaN</td>\n      <td>NaN</td>\n      <td>2016-01-01</td>\n    </tr>\n    <tr>\n      <th>1</th>\n      <td>611797.30</td>\n      <td>1</td>\n      <td>2016</td>\n      <td>10</td>\n      <td>4125506005002</td>\n      <td>4125506</td>\n      <td>NaN</td>\n      <td>2</td>\n      <td>True</td>\n      <td>21.76</td>\n      <td>...</td>\n      <td>2.349821</td>\n      <td>NaN</td>\n      <td>NaN</td>\n      <td>NaN</td>\n      <td>NaN</td>\n      <td>NaN</td>\n      <td>NaN</td>\n      <td>NaN</td>\n      <td>NaN</td>\n      <td>2016-10-01</td>\n    </tr>\n    <tr>\n      <th>2</th>\n      <td>876921.63</td>\n      <td>1</td>\n      <td>2016</td>\n      <td>11</td>\n      <td>4125506005002</td>\n      <td>4125506</td>\n      <td>NaN</td>\n      <td>2</td>\n      <td>True</td>\n      <td>21.76</td>\n      <td>...</td>\n      <td>2.349821</td>\n      <td>NaN</td>\n      <td>NaN</td>\n      <td>NaN</td>\n      <td>NaN</td>\n      <td>NaN</td>\n      <td>NaN</td>\n      <td>NaN</td>\n      <td>NaN</td>\n      <td>2016-11-01</td>\n    </tr>\n    <tr>\n      <th>3</th>\n      <td>1257613.00</td>\n      <td>1</td>\n      <td>2016</td>\n      <td>12</td>\n      <td>4125506005002</td>\n      <td>4125506</td>\n      <td>NaN</td>\n      <td>2</td>\n      <td>True</td>\n      <td>21.76</td>\n      <td>...</td>\n      <td>2.349821</td>\n      <td>NaN</td>\n      <td>NaN</td>\n      <td>NaN</td>\n      <td>NaN</td>\n      <td>NaN</td>\n      <td>NaN</td>\n      <td>NaN</td>\n      <td>NaN</td>\n      <td>2016-12-01</td>\n    </tr>\n    <tr>\n      <th>4</th>\n      <td>395340.22</td>\n      <td>1</td>\n      <td>2016</td>\n      <td>2</td>\n      <td>4125506005002</td>\n      <td>4125506</td>\n      <td>NaN</td>\n      <td>2</td>\n      <td>True</td>\n      <td>21.76</td>\n      <td>...</td>\n      <td>2.349821</td>\n      <td>NaN</td>\n      <td>NaN</td>\n      <td>NaN</td>\n      <td>NaN</td>\n      <td>NaN</td>\n      <td>NaN</td>\n      <td>NaN</td>\n      <td>NaN</td>\n      <td>2016-02-01</td>\n    </tr>\n    <tr>\n      <th>...</th>\n      <td>...</td>\n      <td>...</td>\n      <td>...</td>\n      <td>...</td>\n      <td>...</td>\n      <td>...</td>\n      <td>...</td>\n      <td>...</td>\n      <td>...</td>\n      <td>...</td>\n      <td>...</td>\n      <td>...</td>\n      <td>...</td>\n      <td>...</td>\n      <td>...</td>\n      <td>...</td>\n      <td>...</td>\n      <td>...</td>\n      <td>...</td>\n      <td>...</td>\n      <td>...</td>\n    </tr>\n    <tr>\n      <th>73639</th>\n      <td>74631.46</td>\n      <td>3687</td>\n      <td>2017</td>\n      <td>5</td>\n      <td>4211702001001</td>\n      <td>4211702</td>\n      <td>NaN</td>\n      <td>2</td>\n      <td>False</td>\n      <td>26.50</td>\n      <td>...</td>\n      <td>4.454541</td>\n      <td>NaN</td>\n      <td>NaN</td>\n      <td>NaN</td>\n      <td>NaN</td>\n      <td>NaN</td>\n      <td>NaN</td>\n      <td>NaN</td>\n      <td>NaN</td>\n      <td>2017-05-01</td>\n    </tr>\n    <tr>\n      <th>73640</th>\n      <td>63204.15</td>\n      <td>3687</td>\n      <td>2017</td>\n      <td>6</td>\n      <td>4211702001001</td>\n      <td>4211702</td>\n      <td>NaN</td>\n      <td>2</td>\n      <td>False</td>\n      <td>26.50</td>\n      <td>...</td>\n      <td>4.454541</td>\n      <td>NaN</td>\n      <td>NaN</td>\n      <td>NaN</td>\n      <td>NaN</td>\n      <td>NaN</td>\n      <td>NaN</td>\n      <td>NaN</td>\n      <td>NaN</td>\n      <td>2017-06-01</td>\n    </tr>\n    <tr>\n      <th>73641</th>\n      <td>47865.16</td>\n      <td>3687</td>\n      <td>2017</td>\n      <td>7</td>\n      <td>4211702001001</td>\n      <td>4211702</td>\n      <td>NaN</td>\n      <td>2</td>\n      <td>False</td>\n      <td>26.50</td>\n      <td>...</td>\n      <td>4.454541</td>\n      <td>NaN</td>\n      <td>NaN</td>\n      <td>NaN</td>\n      <td>NaN</td>\n      <td>NaN</td>\n      <td>NaN</td>\n      <td>NaN</td>\n      <td>NaN</td>\n      <td>2017-07-01</td>\n    </tr>\n    <tr>\n      <th>73642</th>\n      <td>71171.48</td>\n      <td>3687</td>\n      <td>2017</td>\n      <td>8</td>\n      <td>4211702001001</td>\n      <td>4211702</td>\n      <td>NaN</td>\n      <td>2</td>\n      <td>False</td>\n      <td>26.50</td>\n      <td>...</td>\n      <td>4.454541</td>\n      <td>NaN</td>\n      <td>NaN</td>\n      <td>NaN</td>\n      <td>NaN</td>\n      <td>NaN</td>\n      <td>NaN</td>\n      <td>NaN</td>\n      <td>NaN</td>\n      <td>2017-08-01</td>\n    </tr>\n    <tr>\n      <th>73643</th>\n      <td>48284.66</td>\n      <td>3687</td>\n      <td>2017</td>\n      <td>9</td>\n      <td>4211702001001</td>\n      <td>4211702</td>\n      <td>NaN</td>\n      <td>2</td>\n      <td>False</td>\n      <td>26.50</td>\n      <td>...</td>\n      <td>4.454541</td>\n      <td>NaN</td>\n      <td>NaN</td>\n      <td>NaN</td>\n      <td>NaN</td>\n      <td>NaN</td>\n      <td>NaN</td>\n      <td>NaN</td>\n      <td>NaN</td>\n      <td>2017-09-01</td>\n    </tr>\n  </tbody>\n</table>\n<p>73644 rows × 25 columns</p>\n</div>"
     },
     "metadata": {},
     "execution_count": 37
    }
   ],
   "source": [
    "data_tratada"
   ]
  },
  {
   "source": [
    "## Adicionando mais informações"
   ],
   "cell_type": "markdown",
   "metadata": {}
  },
  {
   "source": [
    "### Contagem de feriados nacionais"
   ],
   "cell_type": "markdown",
   "metadata": {}
  },
  {
   "cell_type": "code",
   "execution_count": 38,
   "metadata": {},
   "outputs": [
    {
     "output_type": "execute_result",
     "data": {
      "text/plain": [
       "     ano  mes  contagem\n",
       "0   2016   11         2\n",
       "1   2016    1         1\n",
       "2   2016    3         1\n",
       "3   2016    4         1\n",
       "4   2016    5         1\n",
       "5   2016    9         1\n",
       "6   2016   10         1\n",
       "7   2016   12         1\n",
       "8   2017    4         2\n",
       "9   2017   11         2\n",
       "10  2017    1         1\n",
       "11  2017    5         1\n",
       "12  2017    9         1\n",
       "13  2017   10         1\n",
       "14  2017   12         1"
      ],
      "text/html": "<div>\n<style scoped>\n    .dataframe tbody tr th:only-of-type {\n        vertical-align: middle;\n    }\n\n    .dataframe tbody tr th {\n        vertical-align: top;\n    }\n\n    .dataframe thead th {\n        text-align: right;\n    }\n</style>\n<table border=\"1\" class=\"dataframe\">\n  <thead>\n    <tr style=\"text-align: right;\">\n      <th></th>\n      <th>ano</th>\n      <th>mes</th>\n      <th>contagem</th>\n    </tr>\n  </thead>\n  <tbody>\n    <tr>\n      <th>0</th>\n      <td>2016</td>\n      <td>11</td>\n      <td>2</td>\n    </tr>\n    <tr>\n      <th>1</th>\n      <td>2016</td>\n      <td>1</td>\n      <td>1</td>\n    </tr>\n    <tr>\n      <th>2</th>\n      <td>2016</td>\n      <td>3</td>\n      <td>1</td>\n    </tr>\n    <tr>\n      <th>3</th>\n      <td>2016</td>\n      <td>4</td>\n      <td>1</td>\n    </tr>\n    <tr>\n      <th>4</th>\n      <td>2016</td>\n      <td>5</td>\n      <td>1</td>\n    </tr>\n    <tr>\n      <th>5</th>\n      <td>2016</td>\n      <td>9</td>\n      <td>1</td>\n    </tr>\n    <tr>\n      <th>6</th>\n      <td>2016</td>\n      <td>10</td>\n      <td>1</td>\n    </tr>\n    <tr>\n      <th>7</th>\n      <td>2016</td>\n      <td>12</td>\n      <td>1</td>\n    </tr>\n    <tr>\n      <th>8</th>\n      <td>2017</td>\n      <td>4</td>\n      <td>2</td>\n    </tr>\n    <tr>\n      <th>9</th>\n      <td>2017</td>\n      <td>11</td>\n      <td>2</td>\n    </tr>\n    <tr>\n      <th>10</th>\n      <td>2017</td>\n      <td>1</td>\n      <td>1</td>\n    </tr>\n    <tr>\n      <th>11</th>\n      <td>2017</td>\n      <td>5</td>\n      <td>1</td>\n    </tr>\n    <tr>\n      <th>12</th>\n      <td>2017</td>\n      <td>9</td>\n      <td>1</td>\n    </tr>\n    <tr>\n      <th>13</th>\n      <td>2017</td>\n      <td>10</td>\n      <td>1</td>\n    </tr>\n    <tr>\n      <th>14</th>\n      <td>2017</td>\n      <td>12</td>\n      <td>1</td>\n    </tr>\n  </tbody>\n</table>\n</div>"
     },
     "metadata": {},
     "execution_count": 38
    }
   ],
   "source": [
    "data_feriados_nacionais = pd.read_csv(\"data/meses-com-feriado-nacional.csv\")\n",
    "\n",
    "data_feriados_nacionais"
   ]
  },
  {
   "cell_type": "code",
   "execution_count": 39,
   "metadata": {},
   "outputs": [
    {
     "output_type": "execute_result",
     "data": {
      "text/plain": [
       "          receita  cod_loja   ano  mes         cod_ap  cod_municipio  \\\n",
       "0       441833.37         1  2016    1  4125506005002        4125506   \n",
       "1       611797.30         1  2016   10  4125506005002        4125506   \n",
       "2       876921.63         1  2016   11  4125506005002        4125506   \n",
       "3      1257613.00         1  2016   12  4125506005002        4125506   \n",
       "4       395340.22         1  2016    2  4125506005002        4125506   \n",
       "...           ...       ...   ...  ...            ...            ...   \n",
       "73639    74631.46      3687  2017    5  4211702001001        4211702   \n",
       "73640    63204.15      3687  2017    6  4211702001001        4211702   \n",
       "73641    47865.16      3687  2017    7  4211702001001        4211702   \n",
       "73642    71171.48      3687  2017    8  4211702001001        4211702   \n",
       "73643    48284.66      3687  2017    9  4211702001001        4211702   \n",
       "\n",
       "      feature_01  feature_02  feature_03  feature_04  ...  feature_11  \\\n",
       "0            NaN           2        True       21.76  ...         NaN   \n",
       "1            NaN           2        True       21.76  ...         NaN   \n",
       "2            NaN           2        True       21.76  ...         NaN   \n",
       "3            NaN           2        True       21.76  ...         NaN   \n",
       "4            NaN           2        True       21.76  ...         NaN   \n",
       "...          ...         ...         ...         ...  ...         ...   \n",
       "73639        NaN           2       False       26.50  ...         NaN   \n",
       "73640        NaN           2       False       26.50  ...         NaN   \n",
       "73641        NaN           2       False       26.50  ...         NaN   \n",
       "73642        NaN           2       False       26.50  ...         NaN   \n",
       "73643        NaN           2       False       26.50  ...         NaN   \n",
       "\n",
       "       feature_12  feature_13  feature_14  feature_15  feature_16 feature_17  \\\n",
       "0             NaN         NaN         NaN         NaN         NaN        NaN   \n",
       "1             NaN         NaN         NaN         NaN         NaN        NaN   \n",
       "2             NaN         NaN         NaN         NaN         NaN        NaN   \n",
       "3             NaN         NaN         NaN         NaN         NaN        NaN   \n",
       "4             NaN         NaN         NaN         NaN         NaN        NaN   \n",
       "...           ...         ...         ...         ...         ...        ...   \n",
       "73639         NaN         NaN         NaN         NaN         NaN        NaN   \n",
       "73640         NaN         NaN         NaN         NaN         NaN        NaN   \n",
       "73641         NaN         NaN         NaN         NaN         NaN        NaN   \n",
       "73642         NaN         NaN         NaN         NaN         NaN        NaN   \n",
       "73643         NaN         NaN         NaN         NaN         NaN        NaN   \n",
       "\n",
       "      feature_18   datetime  contagem  \n",
       "0            NaN 2016-01-01       1.0  \n",
       "1            NaN 2016-10-01       1.0  \n",
       "2            NaN 2016-11-01       2.0  \n",
       "3            NaN 2016-12-01       1.0  \n",
       "4            NaN 2016-02-01       NaN  \n",
       "...          ...        ...       ...  \n",
       "73639        NaN 2017-05-01       1.0  \n",
       "73640        NaN 2017-06-01       NaN  \n",
       "73641        NaN 2017-07-01       NaN  \n",
       "73642        NaN 2017-08-01       NaN  \n",
       "73643        NaN 2017-09-01       1.0  \n",
       "\n",
       "[73644 rows x 26 columns]"
      ],
      "text/html": "<div>\n<style scoped>\n    .dataframe tbody tr th:only-of-type {\n        vertical-align: middle;\n    }\n\n    .dataframe tbody tr th {\n        vertical-align: top;\n    }\n\n    .dataframe thead th {\n        text-align: right;\n    }\n</style>\n<table border=\"1\" class=\"dataframe\">\n  <thead>\n    <tr style=\"text-align: right;\">\n      <th></th>\n      <th>receita</th>\n      <th>cod_loja</th>\n      <th>ano</th>\n      <th>mes</th>\n      <th>cod_ap</th>\n      <th>cod_municipio</th>\n      <th>feature_01</th>\n      <th>feature_02</th>\n      <th>feature_03</th>\n      <th>feature_04</th>\n      <th>...</th>\n      <th>feature_11</th>\n      <th>feature_12</th>\n      <th>feature_13</th>\n      <th>feature_14</th>\n      <th>feature_15</th>\n      <th>feature_16</th>\n      <th>feature_17</th>\n      <th>feature_18</th>\n      <th>datetime</th>\n      <th>contagem</th>\n    </tr>\n  </thead>\n  <tbody>\n    <tr>\n      <th>0</th>\n      <td>441833.37</td>\n      <td>1</td>\n      <td>2016</td>\n      <td>1</td>\n      <td>4125506005002</td>\n      <td>4125506</td>\n      <td>NaN</td>\n      <td>2</td>\n      <td>True</td>\n      <td>21.76</td>\n      <td>...</td>\n      <td>NaN</td>\n      <td>NaN</td>\n      <td>NaN</td>\n      <td>NaN</td>\n      <td>NaN</td>\n      <td>NaN</td>\n      <td>NaN</td>\n      <td>NaN</td>\n      <td>2016-01-01</td>\n      <td>1.0</td>\n    </tr>\n    <tr>\n      <th>1</th>\n      <td>611797.30</td>\n      <td>1</td>\n      <td>2016</td>\n      <td>10</td>\n      <td>4125506005002</td>\n      <td>4125506</td>\n      <td>NaN</td>\n      <td>2</td>\n      <td>True</td>\n      <td>21.76</td>\n      <td>...</td>\n      <td>NaN</td>\n      <td>NaN</td>\n      <td>NaN</td>\n      <td>NaN</td>\n      <td>NaN</td>\n      <td>NaN</td>\n      <td>NaN</td>\n      <td>NaN</td>\n      <td>2016-10-01</td>\n      <td>1.0</td>\n    </tr>\n    <tr>\n      <th>2</th>\n      <td>876921.63</td>\n      <td>1</td>\n      <td>2016</td>\n      <td>11</td>\n      <td>4125506005002</td>\n      <td>4125506</td>\n      <td>NaN</td>\n      <td>2</td>\n      <td>True</td>\n      <td>21.76</td>\n      <td>...</td>\n      <td>NaN</td>\n      <td>NaN</td>\n      <td>NaN</td>\n      <td>NaN</td>\n      <td>NaN</td>\n      <td>NaN</td>\n      <td>NaN</td>\n      <td>NaN</td>\n      <td>2016-11-01</td>\n      <td>2.0</td>\n    </tr>\n    <tr>\n      <th>3</th>\n      <td>1257613.00</td>\n      <td>1</td>\n      <td>2016</td>\n      <td>12</td>\n      <td>4125506005002</td>\n      <td>4125506</td>\n      <td>NaN</td>\n      <td>2</td>\n      <td>True</td>\n      <td>21.76</td>\n      <td>...</td>\n      <td>NaN</td>\n      <td>NaN</td>\n      <td>NaN</td>\n      <td>NaN</td>\n      <td>NaN</td>\n      <td>NaN</td>\n      <td>NaN</td>\n      <td>NaN</td>\n      <td>2016-12-01</td>\n      <td>1.0</td>\n    </tr>\n    <tr>\n      <th>4</th>\n      <td>395340.22</td>\n      <td>1</td>\n      <td>2016</td>\n      <td>2</td>\n      <td>4125506005002</td>\n      <td>4125506</td>\n      <td>NaN</td>\n      <td>2</td>\n      <td>True</td>\n      <td>21.76</td>\n      <td>...</td>\n      <td>NaN</td>\n      <td>NaN</td>\n      <td>NaN</td>\n      <td>NaN</td>\n      <td>NaN</td>\n      <td>NaN</td>\n      <td>NaN</td>\n      <td>NaN</td>\n      <td>2016-02-01</td>\n      <td>NaN</td>\n    </tr>\n    <tr>\n      <th>...</th>\n      <td>...</td>\n      <td>...</td>\n      <td>...</td>\n      <td>...</td>\n      <td>...</td>\n      <td>...</td>\n      <td>...</td>\n      <td>...</td>\n      <td>...</td>\n      <td>...</td>\n      <td>...</td>\n      <td>...</td>\n      <td>...</td>\n      <td>...</td>\n      <td>...</td>\n      <td>...</td>\n      <td>...</td>\n      <td>...</td>\n      <td>...</td>\n      <td>...</td>\n      <td>...</td>\n    </tr>\n    <tr>\n      <th>73639</th>\n      <td>74631.46</td>\n      <td>3687</td>\n      <td>2017</td>\n      <td>5</td>\n      <td>4211702001001</td>\n      <td>4211702</td>\n      <td>NaN</td>\n      <td>2</td>\n      <td>False</td>\n      <td>26.50</td>\n      <td>...</td>\n      <td>NaN</td>\n      <td>NaN</td>\n      <td>NaN</td>\n      <td>NaN</td>\n      <td>NaN</td>\n      <td>NaN</td>\n      <td>NaN</td>\n      <td>NaN</td>\n      <td>2017-05-01</td>\n      <td>1.0</td>\n    </tr>\n    <tr>\n      <th>73640</th>\n      <td>63204.15</td>\n      <td>3687</td>\n      <td>2017</td>\n      <td>6</td>\n      <td>4211702001001</td>\n      <td>4211702</td>\n      <td>NaN</td>\n      <td>2</td>\n      <td>False</td>\n      <td>26.50</td>\n      <td>...</td>\n      <td>NaN</td>\n      <td>NaN</td>\n      <td>NaN</td>\n      <td>NaN</td>\n      <td>NaN</td>\n      <td>NaN</td>\n      <td>NaN</td>\n      <td>NaN</td>\n      <td>2017-06-01</td>\n      <td>NaN</td>\n    </tr>\n    <tr>\n      <th>73641</th>\n      <td>47865.16</td>\n      <td>3687</td>\n      <td>2017</td>\n      <td>7</td>\n      <td>4211702001001</td>\n      <td>4211702</td>\n      <td>NaN</td>\n      <td>2</td>\n      <td>False</td>\n      <td>26.50</td>\n      <td>...</td>\n      <td>NaN</td>\n      <td>NaN</td>\n      <td>NaN</td>\n      <td>NaN</td>\n      <td>NaN</td>\n      <td>NaN</td>\n      <td>NaN</td>\n      <td>NaN</td>\n      <td>2017-07-01</td>\n      <td>NaN</td>\n    </tr>\n    <tr>\n      <th>73642</th>\n      <td>71171.48</td>\n      <td>3687</td>\n      <td>2017</td>\n      <td>8</td>\n      <td>4211702001001</td>\n      <td>4211702</td>\n      <td>NaN</td>\n      <td>2</td>\n      <td>False</td>\n      <td>26.50</td>\n      <td>...</td>\n      <td>NaN</td>\n      <td>NaN</td>\n      <td>NaN</td>\n      <td>NaN</td>\n      <td>NaN</td>\n      <td>NaN</td>\n      <td>NaN</td>\n      <td>NaN</td>\n      <td>2017-08-01</td>\n      <td>NaN</td>\n    </tr>\n    <tr>\n      <th>73643</th>\n      <td>48284.66</td>\n      <td>3687</td>\n      <td>2017</td>\n      <td>9</td>\n      <td>4211702001001</td>\n      <td>4211702</td>\n      <td>NaN</td>\n      <td>2</td>\n      <td>False</td>\n      <td>26.50</td>\n      <td>...</td>\n      <td>NaN</td>\n      <td>NaN</td>\n      <td>NaN</td>\n      <td>NaN</td>\n      <td>NaN</td>\n      <td>NaN</td>\n      <td>NaN</td>\n      <td>NaN</td>\n      <td>2017-09-01</td>\n      <td>1.0</td>\n    </tr>\n  </tbody>\n</table>\n<p>73644 rows × 26 columns</p>\n</div>"
     },
     "metadata": {},
     "execution_count": 39
    }
   ],
   "source": [
    "data_tratada = pd.merge(data_tratada, data_feriados_nacionais, left_on = [\"mes\", \"ano\"], right_on = [\"mes\", \"ano\"], how = \"left\")\n",
    "\n",
    "data_tratada"
   ]
  },
  {
   "cell_type": "code",
   "execution_count": 40,
   "metadata": {},
   "outputs": [
    {
     "output_type": "execute_result",
     "data": {
      "text/plain": [
       "          receita  cod_loja   ano  mes         cod_ap  cod_municipio  \\\n",
       "0       441833.37         1  2016    1  4125506005002        4125506   \n",
       "1       611797.30         1  2016   10  4125506005002        4125506   \n",
       "2       876921.63         1  2016   11  4125506005002        4125506   \n",
       "3      1257613.00         1  2016   12  4125506005002        4125506   \n",
       "4       395340.22         1  2016    2  4125506005002        4125506   \n",
       "...           ...       ...   ...  ...            ...            ...   \n",
       "73639    74631.46      3687  2017    5  4211702001001        4211702   \n",
       "73640    63204.15      3687  2017    6  4211702001001        4211702   \n",
       "73641    47865.16      3687  2017    7  4211702001001        4211702   \n",
       "73642    71171.48      3687  2017    8  4211702001001        4211702   \n",
       "73643    48284.66      3687  2017    9  4211702001001        4211702   \n",
       "\n",
       "      feature_01  feature_02  feature_03  feature_04  ...  feature_11  \\\n",
       "0            NaN           2        True       21.76  ...         NaN   \n",
       "1            NaN           2        True       21.76  ...         NaN   \n",
       "2            NaN           2        True       21.76  ...         NaN   \n",
       "3            NaN           2        True       21.76  ...         NaN   \n",
       "4            NaN           2        True       21.76  ...         NaN   \n",
       "...          ...         ...         ...         ...  ...         ...   \n",
       "73639        NaN           2       False       26.50  ...         NaN   \n",
       "73640        NaN           2       False       26.50  ...         NaN   \n",
       "73641        NaN           2       False       26.50  ...         NaN   \n",
       "73642        NaN           2       False       26.50  ...         NaN   \n",
       "73643        NaN           2       False       26.50  ...         NaN   \n",
       "\n",
       "       feature_12  feature_13  feature_14  feature_15  feature_16 feature_17  \\\n",
       "0             NaN         NaN         NaN         NaN         NaN        NaN   \n",
       "1             NaN         NaN         NaN         NaN         NaN        NaN   \n",
       "2             NaN         NaN         NaN         NaN         NaN        NaN   \n",
       "3             NaN         NaN         NaN         NaN         NaN        NaN   \n",
       "4             NaN         NaN         NaN         NaN         NaN        NaN   \n",
       "...           ...         ...         ...         ...         ...        ...   \n",
       "73639         NaN         NaN         NaN         NaN         NaN        NaN   \n",
       "73640         NaN         NaN         NaN         NaN         NaN        NaN   \n",
       "73641         NaN         NaN         NaN         NaN         NaN        NaN   \n",
       "73642         NaN         NaN         NaN         NaN         NaN        NaN   \n",
       "73643         NaN         NaN         NaN         NaN         NaN        NaN   \n",
       "\n",
       "      feature_18   datetime  contagem  \n",
       "0            NaN 2016-01-01       1.0  \n",
       "1            NaN 2016-10-01       1.0  \n",
       "2            NaN 2016-11-01       2.0  \n",
       "3            NaN 2016-12-01       1.0  \n",
       "4            NaN 2016-02-01       0.0  \n",
       "...          ...        ...       ...  \n",
       "73639        NaN 2017-05-01       1.0  \n",
       "73640        NaN 2017-06-01       0.0  \n",
       "73641        NaN 2017-07-01       0.0  \n",
       "73642        NaN 2017-08-01       0.0  \n",
       "73643        NaN 2017-09-01       1.0  \n",
       "\n",
       "[73644 rows x 26 columns]"
      ],
      "text/html": "<div>\n<style scoped>\n    .dataframe tbody tr th:only-of-type {\n        vertical-align: middle;\n    }\n\n    .dataframe tbody tr th {\n        vertical-align: top;\n    }\n\n    .dataframe thead th {\n        text-align: right;\n    }\n</style>\n<table border=\"1\" class=\"dataframe\">\n  <thead>\n    <tr style=\"text-align: right;\">\n      <th></th>\n      <th>receita</th>\n      <th>cod_loja</th>\n      <th>ano</th>\n      <th>mes</th>\n      <th>cod_ap</th>\n      <th>cod_municipio</th>\n      <th>feature_01</th>\n      <th>feature_02</th>\n      <th>feature_03</th>\n      <th>feature_04</th>\n      <th>...</th>\n      <th>feature_11</th>\n      <th>feature_12</th>\n      <th>feature_13</th>\n      <th>feature_14</th>\n      <th>feature_15</th>\n      <th>feature_16</th>\n      <th>feature_17</th>\n      <th>feature_18</th>\n      <th>datetime</th>\n      <th>contagem</th>\n    </tr>\n  </thead>\n  <tbody>\n    <tr>\n      <th>0</th>\n      <td>441833.37</td>\n      <td>1</td>\n      <td>2016</td>\n      <td>1</td>\n      <td>4125506005002</td>\n      <td>4125506</td>\n      <td>NaN</td>\n      <td>2</td>\n      <td>True</td>\n      <td>21.76</td>\n      <td>...</td>\n      <td>NaN</td>\n      <td>NaN</td>\n      <td>NaN</td>\n      <td>NaN</td>\n      <td>NaN</td>\n      <td>NaN</td>\n      <td>NaN</td>\n      <td>NaN</td>\n      <td>2016-01-01</td>\n      <td>1.0</td>\n    </tr>\n    <tr>\n      <th>1</th>\n      <td>611797.30</td>\n      <td>1</td>\n      <td>2016</td>\n      <td>10</td>\n      <td>4125506005002</td>\n      <td>4125506</td>\n      <td>NaN</td>\n      <td>2</td>\n      <td>True</td>\n      <td>21.76</td>\n      <td>...</td>\n      <td>NaN</td>\n      <td>NaN</td>\n      <td>NaN</td>\n      <td>NaN</td>\n      <td>NaN</td>\n      <td>NaN</td>\n      <td>NaN</td>\n      <td>NaN</td>\n      <td>2016-10-01</td>\n      <td>1.0</td>\n    </tr>\n    <tr>\n      <th>2</th>\n      <td>876921.63</td>\n      <td>1</td>\n      <td>2016</td>\n      <td>11</td>\n      <td>4125506005002</td>\n      <td>4125506</td>\n      <td>NaN</td>\n      <td>2</td>\n      <td>True</td>\n      <td>21.76</td>\n      <td>...</td>\n      <td>NaN</td>\n      <td>NaN</td>\n      <td>NaN</td>\n      <td>NaN</td>\n      <td>NaN</td>\n      <td>NaN</td>\n      <td>NaN</td>\n      <td>NaN</td>\n      <td>2016-11-01</td>\n      <td>2.0</td>\n    </tr>\n    <tr>\n      <th>3</th>\n      <td>1257613.00</td>\n      <td>1</td>\n      <td>2016</td>\n      <td>12</td>\n      <td>4125506005002</td>\n      <td>4125506</td>\n      <td>NaN</td>\n      <td>2</td>\n      <td>True</td>\n      <td>21.76</td>\n      <td>...</td>\n      <td>NaN</td>\n      <td>NaN</td>\n      <td>NaN</td>\n      <td>NaN</td>\n      <td>NaN</td>\n      <td>NaN</td>\n      <td>NaN</td>\n      <td>NaN</td>\n      <td>2016-12-01</td>\n      <td>1.0</td>\n    </tr>\n    <tr>\n      <th>4</th>\n      <td>395340.22</td>\n      <td>1</td>\n      <td>2016</td>\n      <td>2</td>\n      <td>4125506005002</td>\n      <td>4125506</td>\n      <td>NaN</td>\n      <td>2</td>\n      <td>True</td>\n      <td>21.76</td>\n      <td>...</td>\n      <td>NaN</td>\n      <td>NaN</td>\n      <td>NaN</td>\n      <td>NaN</td>\n      <td>NaN</td>\n      <td>NaN</td>\n      <td>NaN</td>\n      <td>NaN</td>\n      <td>2016-02-01</td>\n      <td>0.0</td>\n    </tr>\n    <tr>\n      <th>...</th>\n      <td>...</td>\n      <td>...</td>\n      <td>...</td>\n      <td>...</td>\n      <td>...</td>\n      <td>...</td>\n      <td>...</td>\n      <td>...</td>\n      <td>...</td>\n      <td>...</td>\n      <td>...</td>\n      <td>...</td>\n      <td>...</td>\n      <td>...</td>\n      <td>...</td>\n      <td>...</td>\n      <td>...</td>\n      <td>...</td>\n      <td>...</td>\n      <td>...</td>\n      <td>...</td>\n    </tr>\n    <tr>\n      <th>73639</th>\n      <td>74631.46</td>\n      <td>3687</td>\n      <td>2017</td>\n      <td>5</td>\n      <td>4211702001001</td>\n      <td>4211702</td>\n      <td>NaN</td>\n      <td>2</td>\n      <td>False</td>\n      <td>26.50</td>\n      <td>...</td>\n      <td>NaN</td>\n      <td>NaN</td>\n      <td>NaN</td>\n      <td>NaN</td>\n      <td>NaN</td>\n      <td>NaN</td>\n      <td>NaN</td>\n      <td>NaN</td>\n      <td>2017-05-01</td>\n      <td>1.0</td>\n    </tr>\n    <tr>\n      <th>73640</th>\n      <td>63204.15</td>\n      <td>3687</td>\n      <td>2017</td>\n      <td>6</td>\n      <td>4211702001001</td>\n      <td>4211702</td>\n      <td>NaN</td>\n      <td>2</td>\n      <td>False</td>\n      <td>26.50</td>\n      <td>...</td>\n      <td>NaN</td>\n      <td>NaN</td>\n      <td>NaN</td>\n      <td>NaN</td>\n      <td>NaN</td>\n      <td>NaN</td>\n      <td>NaN</td>\n      <td>NaN</td>\n      <td>2017-06-01</td>\n      <td>0.0</td>\n    </tr>\n    <tr>\n      <th>73641</th>\n      <td>47865.16</td>\n      <td>3687</td>\n      <td>2017</td>\n      <td>7</td>\n      <td>4211702001001</td>\n      <td>4211702</td>\n      <td>NaN</td>\n      <td>2</td>\n      <td>False</td>\n      <td>26.50</td>\n      <td>...</td>\n      <td>NaN</td>\n      <td>NaN</td>\n      <td>NaN</td>\n      <td>NaN</td>\n      <td>NaN</td>\n      <td>NaN</td>\n      <td>NaN</td>\n      <td>NaN</td>\n      <td>2017-07-01</td>\n      <td>0.0</td>\n    </tr>\n    <tr>\n      <th>73642</th>\n      <td>71171.48</td>\n      <td>3687</td>\n      <td>2017</td>\n      <td>8</td>\n      <td>4211702001001</td>\n      <td>4211702</td>\n      <td>NaN</td>\n      <td>2</td>\n      <td>False</td>\n      <td>26.50</td>\n      <td>...</td>\n      <td>NaN</td>\n      <td>NaN</td>\n      <td>NaN</td>\n      <td>NaN</td>\n      <td>NaN</td>\n      <td>NaN</td>\n      <td>NaN</td>\n      <td>NaN</td>\n      <td>2017-08-01</td>\n      <td>0.0</td>\n    </tr>\n    <tr>\n      <th>73643</th>\n      <td>48284.66</td>\n      <td>3687</td>\n      <td>2017</td>\n      <td>9</td>\n      <td>4211702001001</td>\n      <td>4211702</td>\n      <td>NaN</td>\n      <td>2</td>\n      <td>False</td>\n      <td>26.50</td>\n      <td>...</td>\n      <td>NaN</td>\n      <td>NaN</td>\n      <td>NaN</td>\n      <td>NaN</td>\n      <td>NaN</td>\n      <td>NaN</td>\n      <td>NaN</td>\n      <td>NaN</td>\n      <td>2017-09-01</td>\n      <td>1.0</td>\n    </tr>\n  </tbody>\n</table>\n<p>73644 rows × 26 columns</p>\n</div>"
     },
     "metadata": {},
     "execution_count": 40
    }
   ],
   "source": [
    "data_tratada[\"contagem\"] = data_tratada[\"contagem\"].fillna(0)\n",
    "\n",
    "data_tratada"
   ]
  },
  {
   "source": [
    "### Adicionando o UF do estado"
   ],
   "cell_type": "markdown",
   "metadata": {}
  },
  {
   "cell_type": "code",
   "execution_count": 41,
   "metadata": {},
   "outputs": [
    {
     "output_type": "execute_result",
     "data": {
      "text/plain": [
       "               Nome_UF  Código Município Completo           Nome_Município  \\\n",
       "0             Rondônia                    1100015    Alta Floresta D'Oeste   \n",
       "1             Rondônia                    1100379  Alto Alegre dos Parecis   \n",
       "2             Rondônia                    1100403             Alto Paraíso   \n",
       "3             Rondônia                    1100346         Alvorada D'Oeste   \n",
       "4             Rondônia                    1100023                Ariquemes   \n",
       "...                ...                        ...                      ...   \n",
       "5565             Goiás                    5222005               Vianópolis   \n",
       "5566             Goiás                    5222054           Vicentinópolis   \n",
       "5567             Goiás                    5222203                 Vila Boa   \n",
       "5568             Goiás                    5222302            Vila Propício   \n",
       "5569  Distrito Federal                    5300108                 Brasília   \n",
       "\n",
       "      UF_COD  \n",
       "0         21  \n",
       "1         21  \n",
       "2         21  \n",
       "3         21  \n",
       "4         21  \n",
       "...      ...  \n",
       "5565       8  \n",
       "5566       8  \n",
       "5567       8  \n",
       "5568       8  \n",
       "5569       6  \n",
       "\n",
       "[5570 rows x 4 columns]"
      ],
      "text/html": "<div>\n<style scoped>\n    .dataframe tbody tr th:only-of-type {\n        vertical-align: middle;\n    }\n\n    .dataframe tbody tr th {\n        vertical-align: top;\n    }\n\n    .dataframe thead th {\n        text-align: right;\n    }\n</style>\n<table border=\"1\" class=\"dataframe\">\n  <thead>\n    <tr style=\"text-align: right;\">\n      <th></th>\n      <th>Nome_UF</th>\n      <th>Código Município Completo</th>\n      <th>Nome_Município</th>\n      <th>UF_COD</th>\n    </tr>\n  </thead>\n  <tbody>\n    <tr>\n      <th>0</th>\n      <td>Rondônia</td>\n      <td>1100015</td>\n      <td>Alta Floresta D'Oeste</td>\n      <td>21</td>\n    </tr>\n    <tr>\n      <th>1</th>\n      <td>Rondônia</td>\n      <td>1100379</td>\n      <td>Alto Alegre dos Parecis</td>\n      <td>21</td>\n    </tr>\n    <tr>\n      <th>2</th>\n      <td>Rondônia</td>\n      <td>1100403</td>\n      <td>Alto Paraíso</td>\n      <td>21</td>\n    </tr>\n    <tr>\n      <th>3</th>\n      <td>Rondônia</td>\n      <td>1100346</td>\n      <td>Alvorada D'Oeste</td>\n      <td>21</td>\n    </tr>\n    <tr>\n      <th>4</th>\n      <td>Rondônia</td>\n      <td>1100023</td>\n      <td>Ariquemes</td>\n      <td>21</td>\n    </tr>\n    <tr>\n      <th>...</th>\n      <td>...</td>\n      <td>...</td>\n      <td>...</td>\n      <td>...</td>\n    </tr>\n    <tr>\n      <th>5565</th>\n      <td>Goiás</td>\n      <td>5222005</td>\n      <td>Vianópolis</td>\n      <td>8</td>\n    </tr>\n    <tr>\n      <th>5566</th>\n      <td>Goiás</td>\n      <td>5222054</td>\n      <td>Vicentinópolis</td>\n      <td>8</td>\n    </tr>\n    <tr>\n      <th>5567</th>\n      <td>Goiás</td>\n      <td>5222203</td>\n      <td>Vila Boa</td>\n      <td>8</td>\n    </tr>\n    <tr>\n      <th>5568</th>\n      <td>Goiás</td>\n      <td>5222302</td>\n      <td>Vila Propício</td>\n      <td>8</td>\n    </tr>\n    <tr>\n      <th>5569</th>\n      <td>Distrito Federal</td>\n      <td>5300108</td>\n      <td>Brasília</td>\n      <td>6</td>\n    </tr>\n  </tbody>\n</table>\n<p>5570 rows × 4 columns</p>\n</div>"
     },
     "metadata": {},
     "execution_count": 41
    }
   ],
   "source": [
    "data_uf = pd.read_csv(\"data/municipios-uf.csv\")\n",
    "\n",
    "data_uf"
   ]
  },
  {
   "cell_type": "code",
   "execution_count": 42,
   "metadata": {},
   "outputs": [
    {
     "output_type": "execute_result",
     "data": {
      "text/plain": [
       "          receita  cod_loja   ano  mes         cod_ap  cod_municipio  \\\n",
       "0       441833.37         1  2016    1  4125506005002        4125506   \n",
       "1       611797.30         1  2016   10  4125506005002        4125506   \n",
       "2       876921.63         1  2016   11  4125506005002        4125506   \n",
       "3      1257613.00         1  2016   12  4125506005002        4125506   \n",
       "4       395340.22         1  2016    2  4125506005002        4125506   \n",
       "...           ...       ...   ...  ...            ...            ...   \n",
       "73639    74631.46      3687  2017    5  4211702001001        4211702   \n",
       "73640    63204.15      3687  2017    6  4211702001001        4211702   \n",
       "73641    47865.16      3687  2017    7  4211702001001        4211702   \n",
       "73642    71171.48      3687  2017    8  4211702001001        4211702   \n",
       "73643    48284.66      3687  2017    9  4211702001001        4211702   \n",
       "\n",
       "      feature_01  feature_02  feature_03  feature_04  ...  feature_14  \\\n",
       "0            NaN           2        True       21.76  ...         NaN   \n",
       "1            NaN           2        True       21.76  ...         NaN   \n",
       "2            NaN           2        True       21.76  ...         NaN   \n",
       "3            NaN           2        True       21.76  ...         NaN   \n",
       "4            NaN           2        True       21.76  ...         NaN   \n",
       "...          ...         ...         ...         ...  ...         ...   \n",
       "73639        NaN           2       False       26.50  ...         NaN   \n",
       "73640        NaN           2       False       26.50  ...         NaN   \n",
       "73641        NaN           2       False       26.50  ...         NaN   \n",
       "73642        NaN           2       False       26.50  ...         NaN   \n",
       "73643        NaN           2       False       26.50  ...         NaN   \n",
       "\n",
       "       feature_15  feature_16  feature_17  feature_18   datetime contagem  \\\n",
       "0             NaN         NaN         NaN         NaN 2016-01-01      1.0   \n",
       "1             NaN         NaN         NaN         NaN 2016-10-01      1.0   \n",
       "2             NaN         NaN         NaN         NaN 2016-11-01      2.0   \n",
       "3             NaN         NaN         NaN         NaN 2016-12-01      1.0   \n",
       "4             NaN         NaN         NaN         NaN 2016-02-01      0.0   \n",
       "...           ...         ...         ...         ...        ...      ...   \n",
       "73639         NaN         NaN         NaN         NaN 2017-05-01      1.0   \n",
       "73640         NaN         NaN         NaN         NaN 2017-06-01      0.0   \n",
       "73641         NaN         NaN         NaN         NaN 2017-07-01      0.0   \n",
       "73642         NaN         NaN         NaN         NaN 2017-08-01      0.0   \n",
       "73643         NaN         NaN         NaN         NaN 2017-09-01      1.0   \n",
       "\n",
       "              Nome_UF        Nome_Município  UF_COD  \n",
       "0              Paraná  São José dos Pinhais    13.0  \n",
       "1              Paraná  São José dos Pinhais    13.0  \n",
       "2              Paraná  São José dos Pinhais    13.0  \n",
       "3              Paraná  São José dos Pinhais    13.0  \n",
       "4              Paraná  São José dos Pinhais    13.0  \n",
       "...               ...                   ...     ...  \n",
       "73639  Santa Catarina               Orleans    23.0  \n",
       "73640  Santa Catarina               Orleans    23.0  \n",
       "73641  Santa Catarina               Orleans    23.0  \n",
       "73642  Santa Catarina               Orleans    23.0  \n",
       "73643  Santa Catarina               Orleans    23.0  \n",
       "\n",
       "[73644 rows x 29 columns]"
      ],
      "text/html": "<div>\n<style scoped>\n    .dataframe tbody tr th:only-of-type {\n        vertical-align: middle;\n    }\n\n    .dataframe tbody tr th {\n        vertical-align: top;\n    }\n\n    .dataframe thead th {\n        text-align: right;\n    }\n</style>\n<table border=\"1\" class=\"dataframe\">\n  <thead>\n    <tr style=\"text-align: right;\">\n      <th></th>\n      <th>receita</th>\n      <th>cod_loja</th>\n      <th>ano</th>\n      <th>mes</th>\n      <th>cod_ap</th>\n      <th>cod_municipio</th>\n      <th>feature_01</th>\n      <th>feature_02</th>\n      <th>feature_03</th>\n      <th>feature_04</th>\n      <th>...</th>\n      <th>feature_14</th>\n      <th>feature_15</th>\n      <th>feature_16</th>\n      <th>feature_17</th>\n      <th>feature_18</th>\n      <th>datetime</th>\n      <th>contagem</th>\n      <th>Nome_UF</th>\n      <th>Nome_Município</th>\n      <th>UF_COD</th>\n    </tr>\n  </thead>\n  <tbody>\n    <tr>\n      <th>0</th>\n      <td>441833.37</td>\n      <td>1</td>\n      <td>2016</td>\n      <td>1</td>\n      <td>4125506005002</td>\n      <td>4125506</td>\n      <td>NaN</td>\n      <td>2</td>\n      <td>True</td>\n      <td>21.76</td>\n      <td>...</td>\n      <td>NaN</td>\n      <td>NaN</td>\n      <td>NaN</td>\n      <td>NaN</td>\n      <td>NaN</td>\n      <td>2016-01-01</td>\n      <td>1.0</td>\n      <td>Paraná</td>\n      <td>São José dos Pinhais</td>\n      <td>13.0</td>\n    </tr>\n    <tr>\n      <th>1</th>\n      <td>611797.30</td>\n      <td>1</td>\n      <td>2016</td>\n      <td>10</td>\n      <td>4125506005002</td>\n      <td>4125506</td>\n      <td>NaN</td>\n      <td>2</td>\n      <td>True</td>\n      <td>21.76</td>\n      <td>...</td>\n      <td>NaN</td>\n      <td>NaN</td>\n      <td>NaN</td>\n      <td>NaN</td>\n      <td>NaN</td>\n      <td>2016-10-01</td>\n      <td>1.0</td>\n      <td>Paraná</td>\n      <td>São José dos Pinhais</td>\n      <td>13.0</td>\n    </tr>\n    <tr>\n      <th>2</th>\n      <td>876921.63</td>\n      <td>1</td>\n      <td>2016</td>\n      <td>11</td>\n      <td>4125506005002</td>\n      <td>4125506</td>\n      <td>NaN</td>\n      <td>2</td>\n      <td>True</td>\n      <td>21.76</td>\n      <td>...</td>\n      <td>NaN</td>\n      <td>NaN</td>\n      <td>NaN</td>\n      <td>NaN</td>\n      <td>NaN</td>\n      <td>2016-11-01</td>\n      <td>2.0</td>\n      <td>Paraná</td>\n      <td>São José dos Pinhais</td>\n      <td>13.0</td>\n    </tr>\n    <tr>\n      <th>3</th>\n      <td>1257613.00</td>\n      <td>1</td>\n      <td>2016</td>\n      <td>12</td>\n      <td>4125506005002</td>\n      <td>4125506</td>\n      <td>NaN</td>\n      <td>2</td>\n      <td>True</td>\n      <td>21.76</td>\n      <td>...</td>\n      <td>NaN</td>\n      <td>NaN</td>\n      <td>NaN</td>\n      <td>NaN</td>\n      <td>NaN</td>\n      <td>2016-12-01</td>\n      <td>1.0</td>\n      <td>Paraná</td>\n      <td>São José dos Pinhais</td>\n      <td>13.0</td>\n    </tr>\n    <tr>\n      <th>4</th>\n      <td>395340.22</td>\n      <td>1</td>\n      <td>2016</td>\n      <td>2</td>\n      <td>4125506005002</td>\n      <td>4125506</td>\n      <td>NaN</td>\n      <td>2</td>\n      <td>True</td>\n      <td>21.76</td>\n      <td>...</td>\n      <td>NaN</td>\n      <td>NaN</td>\n      <td>NaN</td>\n      <td>NaN</td>\n      <td>NaN</td>\n      <td>2016-02-01</td>\n      <td>0.0</td>\n      <td>Paraná</td>\n      <td>São José dos Pinhais</td>\n      <td>13.0</td>\n    </tr>\n    <tr>\n      <th>...</th>\n      <td>...</td>\n      <td>...</td>\n      <td>...</td>\n      <td>...</td>\n      <td>...</td>\n      <td>...</td>\n      <td>...</td>\n      <td>...</td>\n      <td>...</td>\n      <td>...</td>\n      <td>...</td>\n      <td>...</td>\n      <td>...</td>\n      <td>...</td>\n      <td>...</td>\n      <td>...</td>\n      <td>...</td>\n      <td>...</td>\n      <td>...</td>\n      <td>...</td>\n      <td>...</td>\n    </tr>\n    <tr>\n      <th>73639</th>\n      <td>74631.46</td>\n      <td>3687</td>\n      <td>2017</td>\n      <td>5</td>\n      <td>4211702001001</td>\n      <td>4211702</td>\n      <td>NaN</td>\n      <td>2</td>\n      <td>False</td>\n      <td>26.50</td>\n      <td>...</td>\n      <td>NaN</td>\n      <td>NaN</td>\n      <td>NaN</td>\n      <td>NaN</td>\n      <td>NaN</td>\n      <td>2017-05-01</td>\n      <td>1.0</td>\n      <td>Santa Catarina</td>\n      <td>Orleans</td>\n      <td>23.0</td>\n    </tr>\n    <tr>\n      <th>73640</th>\n      <td>63204.15</td>\n      <td>3687</td>\n      <td>2017</td>\n      <td>6</td>\n      <td>4211702001001</td>\n      <td>4211702</td>\n      <td>NaN</td>\n      <td>2</td>\n      <td>False</td>\n      <td>26.50</td>\n      <td>...</td>\n      <td>NaN</td>\n      <td>NaN</td>\n      <td>NaN</td>\n      <td>NaN</td>\n      <td>NaN</td>\n      <td>2017-06-01</td>\n      <td>0.0</td>\n      <td>Santa Catarina</td>\n      <td>Orleans</td>\n      <td>23.0</td>\n    </tr>\n    <tr>\n      <th>73641</th>\n      <td>47865.16</td>\n      <td>3687</td>\n      <td>2017</td>\n      <td>7</td>\n      <td>4211702001001</td>\n      <td>4211702</td>\n      <td>NaN</td>\n      <td>2</td>\n      <td>False</td>\n      <td>26.50</td>\n      <td>...</td>\n      <td>NaN</td>\n      <td>NaN</td>\n      <td>NaN</td>\n      <td>NaN</td>\n      <td>NaN</td>\n      <td>2017-07-01</td>\n      <td>0.0</td>\n      <td>Santa Catarina</td>\n      <td>Orleans</td>\n      <td>23.0</td>\n    </tr>\n    <tr>\n      <th>73642</th>\n      <td>71171.48</td>\n      <td>3687</td>\n      <td>2017</td>\n      <td>8</td>\n      <td>4211702001001</td>\n      <td>4211702</td>\n      <td>NaN</td>\n      <td>2</td>\n      <td>False</td>\n      <td>26.50</td>\n      <td>...</td>\n      <td>NaN</td>\n      <td>NaN</td>\n      <td>NaN</td>\n      <td>NaN</td>\n      <td>NaN</td>\n      <td>2017-08-01</td>\n      <td>0.0</td>\n      <td>Santa Catarina</td>\n      <td>Orleans</td>\n      <td>23.0</td>\n    </tr>\n    <tr>\n      <th>73643</th>\n      <td>48284.66</td>\n      <td>3687</td>\n      <td>2017</td>\n      <td>9</td>\n      <td>4211702001001</td>\n      <td>4211702</td>\n      <td>NaN</td>\n      <td>2</td>\n      <td>False</td>\n      <td>26.50</td>\n      <td>...</td>\n      <td>NaN</td>\n      <td>NaN</td>\n      <td>NaN</td>\n      <td>NaN</td>\n      <td>NaN</td>\n      <td>2017-09-01</td>\n      <td>1.0</td>\n      <td>Santa Catarina</td>\n      <td>Orleans</td>\n      <td>23.0</td>\n    </tr>\n  </tbody>\n</table>\n<p>73644 rows × 29 columns</p>\n</div>"
     },
     "metadata": {},
     "execution_count": 42
    }
   ],
   "source": [
    "data_tratada = pd.merge(data_tratada, data_uf, left_on = \"cod_municipio\", right_on = \"Código Município Completo\", how = \"left\")\n",
    "data_tratada = data_tratada.drop(\"Código Município Completo\", axis = 1)\n",
    "\n",
    "data_tratada"
   ]
  },
  {
   "cell_type": "code",
   "execution_count": 50,
   "metadata": {},
   "outputs": [
    {
     "output_type": "execute_result",
     "data": {
      "text/plain": [
       "receita               0\n",
       "cod_loja              0\n",
       "ano                   0\n",
       "mes                   0\n",
       "cod_ap                0\n",
       "cod_municipio         0\n",
       "feature_01        46672\n",
       "feature_02            0\n",
       "feature_03            0\n",
       "feature_04            0\n",
       "feature_05            0\n",
       "feature_06            0\n",
       "feature_07            0\n",
       "feature_08            0\n",
       "feature_09            0\n",
       "feature_10            0\n",
       "feature_11        67795\n",
       "feature_12        67795\n",
       "feature_13        52695\n",
       "feature_14        52695\n",
       "feature_15        52695\n",
       "feature_16        52695\n",
       "feature_17        52695\n",
       "feature_18        52695\n",
       "datetime              0\n",
       "contagem              0\n",
       "Nome_UF            3535\n",
       "Nome_Município     3535\n",
       "UF_COD             3535\n",
       "dtype: int64"
      ]
     },
     "metadata": {},
     "execution_count": 50
    }
   ],
   "source": [
    "data_tratada.isnull().sum()"
   ]
  },
  {
   "cell_type": "code",
   "execution_count": 56,
   "metadata": {},
   "outputs": [],
   "source": [
    "data_tratada[\"UF_COD\"] = data_tratada[\"UF_COD\"].fillna(-1)"
   ]
  },
  {
   "source": [
    "## Fazendo teste com modelo"
   ],
   "cell_type": "markdown",
   "metadata": {}
  },
  {
   "cell_type": "code",
   "execution_count": 76,
   "metadata": {},
   "outputs": [
    {
     "output_type": "execute_result",
     "data": {
      "text/plain": [
       "        datetime     receita  feature_02  feature_03  feature_04  feature_05  \\\n",
       "0     2016-01-01   441833.37           2        True       21.76           3   \n",
       "1     2016-10-01   611797.30           2        True       21.76           3   \n",
       "2     2016-11-01   876921.63           2        True       21.76           3   \n",
       "3     2016-12-01  1257613.00           2        True       21.76           3   \n",
       "4     2016-02-01   395340.22           2        True       21.76           3   \n",
       "...          ...         ...         ...         ...         ...         ...   \n",
       "73639 2017-05-01    74631.46           2       False       26.50           2   \n",
       "73640 2017-06-01    63204.15           2       False       26.50           2   \n",
       "73641 2017-07-01    47865.16           2       False       26.50           2   \n",
       "73642 2017-08-01    71171.48           2       False       26.50           2   \n",
       "73643 2017-09-01    48284.66           2       False       26.50           2   \n",
       "\n",
       "       feature_06  feature_07  feature_09  feature_10  ...  feature_14  \\\n",
       "0              31    0.168922  115.958848    2.349821  ...         NaN   \n",
       "1              31    0.168922  115.958848    2.349821  ...         NaN   \n",
       "2              31    0.168922  115.958848    2.349821  ...         NaN   \n",
       "3              31    0.168922  115.958848    2.349821  ...         NaN   \n",
       "4              31    0.168922  115.958848    2.349821  ...         NaN   \n",
       "...           ...         ...         ...         ...  ...         ...   \n",
       "73639           2    0.199854    7.701540    4.454541  ...         NaN   \n",
       "73640           2    0.199854    7.701540    4.454541  ...         NaN   \n",
       "73641           2    0.199854    7.701540    4.454541  ...         NaN   \n",
       "73642           2    0.199854    7.701540    4.454541  ...         NaN   \n",
       "73643           2    0.199854    7.701540    4.454541  ...         NaN   \n",
       "\n",
       "       feature_15  feature_16  feature_17  feature_18  contagem  UF_COD  \\\n",
       "0             NaN         NaN         NaN         NaN       1.0    13.0   \n",
       "1             NaN         NaN         NaN         NaN       1.0    13.0   \n",
       "2             NaN         NaN         NaN         NaN       2.0    13.0   \n",
       "3             NaN         NaN         NaN         NaN       1.0    13.0   \n",
       "4             NaN         NaN         NaN         NaN       0.0    13.0   \n",
       "...           ...         ...         ...         ...       ...     ...   \n",
       "73639         NaN         NaN         NaN         NaN       1.0    23.0   \n",
       "73640         NaN         NaN         NaN         NaN       0.0    23.0   \n",
       "73641         NaN         NaN         NaN         NaN       0.0    23.0   \n",
       "73642         NaN         NaN         NaN         NaN       0.0    23.0   \n",
       "73643         NaN         NaN         NaN         NaN       1.0    23.0   \n",
       "\n",
       "       month  quarter  year  \n",
       "0          1        1  2016  \n",
       "1         10        4  2016  \n",
       "2         11        4  2016  \n",
       "3         12        4  2016  \n",
       "4          2        1  2016  \n",
       "...      ...      ...   ...  \n",
       "73639      5        2  2017  \n",
       "73640      6        2  2017  \n",
       "73641      7        3  2017  \n",
       "73642      8        3  2017  \n",
       "73643      9        3  2017  \n",
       "\n",
       "[73644 rows x 21 columns]"
      ],
      "text/html": "<div>\n<style scoped>\n    .dataframe tbody tr th:only-of-type {\n        vertical-align: middle;\n    }\n\n    .dataframe tbody tr th {\n        vertical-align: top;\n    }\n\n    .dataframe thead th {\n        text-align: right;\n    }\n</style>\n<table border=\"1\" class=\"dataframe\">\n  <thead>\n    <tr style=\"text-align: right;\">\n      <th></th>\n      <th>datetime</th>\n      <th>receita</th>\n      <th>feature_02</th>\n      <th>feature_03</th>\n      <th>feature_04</th>\n      <th>feature_05</th>\n      <th>feature_06</th>\n      <th>feature_07</th>\n      <th>feature_09</th>\n      <th>feature_10</th>\n      <th>...</th>\n      <th>feature_14</th>\n      <th>feature_15</th>\n      <th>feature_16</th>\n      <th>feature_17</th>\n      <th>feature_18</th>\n      <th>contagem</th>\n      <th>UF_COD</th>\n      <th>month</th>\n      <th>quarter</th>\n      <th>year</th>\n    </tr>\n  </thead>\n  <tbody>\n    <tr>\n      <th>0</th>\n      <td>2016-01-01</td>\n      <td>441833.37</td>\n      <td>2</td>\n      <td>True</td>\n      <td>21.76</td>\n      <td>3</td>\n      <td>31</td>\n      <td>0.168922</td>\n      <td>115.958848</td>\n      <td>2.349821</td>\n      <td>...</td>\n      <td>NaN</td>\n      <td>NaN</td>\n      <td>NaN</td>\n      <td>NaN</td>\n      <td>NaN</td>\n      <td>1.0</td>\n      <td>13.0</td>\n      <td>1</td>\n      <td>1</td>\n      <td>2016</td>\n    </tr>\n    <tr>\n      <th>1</th>\n      <td>2016-10-01</td>\n      <td>611797.30</td>\n      <td>2</td>\n      <td>True</td>\n      <td>21.76</td>\n      <td>3</td>\n      <td>31</td>\n      <td>0.168922</td>\n      <td>115.958848</td>\n      <td>2.349821</td>\n      <td>...</td>\n      <td>NaN</td>\n      <td>NaN</td>\n      <td>NaN</td>\n      <td>NaN</td>\n      <td>NaN</td>\n      <td>1.0</td>\n      <td>13.0</td>\n      <td>10</td>\n      <td>4</td>\n      <td>2016</td>\n    </tr>\n    <tr>\n      <th>2</th>\n      <td>2016-11-01</td>\n      <td>876921.63</td>\n      <td>2</td>\n      <td>True</td>\n      <td>21.76</td>\n      <td>3</td>\n      <td>31</td>\n      <td>0.168922</td>\n      <td>115.958848</td>\n      <td>2.349821</td>\n      <td>...</td>\n      <td>NaN</td>\n      <td>NaN</td>\n      <td>NaN</td>\n      <td>NaN</td>\n      <td>NaN</td>\n      <td>2.0</td>\n      <td>13.0</td>\n      <td>11</td>\n      <td>4</td>\n      <td>2016</td>\n    </tr>\n    <tr>\n      <th>3</th>\n      <td>2016-12-01</td>\n      <td>1257613.00</td>\n      <td>2</td>\n      <td>True</td>\n      <td>21.76</td>\n      <td>3</td>\n      <td>31</td>\n      <td>0.168922</td>\n      <td>115.958848</td>\n      <td>2.349821</td>\n      <td>...</td>\n      <td>NaN</td>\n      <td>NaN</td>\n      <td>NaN</td>\n      <td>NaN</td>\n      <td>NaN</td>\n      <td>1.0</td>\n      <td>13.0</td>\n      <td>12</td>\n      <td>4</td>\n      <td>2016</td>\n    </tr>\n    <tr>\n      <th>4</th>\n      <td>2016-02-01</td>\n      <td>395340.22</td>\n      <td>2</td>\n      <td>True</td>\n      <td>21.76</td>\n      <td>3</td>\n      <td>31</td>\n      <td>0.168922</td>\n      <td>115.958848</td>\n      <td>2.349821</td>\n      <td>...</td>\n      <td>NaN</td>\n      <td>NaN</td>\n      <td>NaN</td>\n      <td>NaN</td>\n      <td>NaN</td>\n      <td>0.0</td>\n      <td>13.0</td>\n      <td>2</td>\n      <td>1</td>\n      <td>2016</td>\n    </tr>\n    <tr>\n      <th>...</th>\n      <td>...</td>\n      <td>...</td>\n      <td>...</td>\n      <td>...</td>\n      <td>...</td>\n      <td>...</td>\n      <td>...</td>\n      <td>...</td>\n      <td>...</td>\n      <td>...</td>\n      <td>...</td>\n      <td>...</td>\n      <td>...</td>\n      <td>...</td>\n      <td>...</td>\n      <td>...</td>\n      <td>...</td>\n      <td>...</td>\n      <td>...</td>\n      <td>...</td>\n      <td>...</td>\n    </tr>\n    <tr>\n      <th>73639</th>\n      <td>2017-05-01</td>\n      <td>74631.46</td>\n      <td>2</td>\n      <td>False</td>\n      <td>26.50</td>\n      <td>2</td>\n      <td>2</td>\n      <td>0.199854</td>\n      <td>7.701540</td>\n      <td>4.454541</td>\n      <td>...</td>\n      <td>NaN</td>\n      <td>NaN</td>\n      <td>NaN</td>\n      <td>NaN</td>\n      <td>NaN</td>\n      <td>1.0</td>\n      <td>23.0</td>\n      <td>5</td>\n      <td>2</td>\n      <td>2017</td>\n    </tr>\n    <tr>\n      <th>73640</th>\n      <td>2017-06-01</td>\n      <td>63204.15</td>\n      <td>2</td>\n      <td>False</td>\n      <td>26.50</td>\n      <td>2</td>\n      <td>2</td>\n      <td>0.199854</td>\n      <td>7.701540</td>\n      <td>4.454541</td>\n      <td>...</td>\n      <td>NaN</td>\n      <td>NaN</td>\n      <td>NaN</td>\n      <td>NaN</td>\n      <td>NaN</td>\n      <td>0.0</td>\n      <td>23.0</td>\n      <td>6</td>\n      <td>2</td>\n      <td>2017</td>\n    </tr>\n    <tr>\n      <th>73641</th>\n      <td>2017-07-01</td>\n      <td>47865.16</td>\n      <td>2</td>\n      <td>False</td>\n      <td>26.50</td>\n      <td>2</td>\n      <td>2</td>\n      <td>0.199854</td>\n      <td>7.701540</td>\n      <td>4.454541</td>\n      <td>...</td>\n      <td>NaN</td>\n      <td>NaN</td>\n      <td>NaN</td>\n      <td>NaN</td>\n      <td>NaN</td>\n      <td>0.0</td>\n      <td>23.0</td>\n      <td>7</td>\n      <td>3</td>\n      <td>2017</td>\n    </tr>\n    <tr>\n      <th>73642</th>\n      <td>2017-08-01</td>\n      <td>71171.48</td>\n      <td>2</td>\n      <td>False</td>\n      <td>26.50</td>\n      <td>2</td>\n      <td>2</td>\n      <td>0.199854</td>\n      <td>7.701540</td>\n      <td>4.454541</td>\n      <td>...</td>\n      <td>NaN</td>\n      <td>NaN</td>\n      <td>NaN</td>\n      <td>NaN</td>\n      <td>NaN</td>\n      <td>0.0</td>\n      <td>23.0</td>\n      <td>8</td>\n      <td>3</td>\n      <td>2017</td>\n    </tr>\n    <tr>\n      <th>73643</th>\n      <td>2017-09-01</td>\n      <td>48284.66</td>\n      <td>2</td>\n      <td>False</td>\n      <td>26.50</td>\n      <td>2</td>\n      <td>2</td>\n      <td>0.199854</td>\n      <td>7.701540</td>\n      <td>4.454541</td>\n      <td>...</td>\n      <td>NaN</td>\n      <td>NaN</td>\n      <td>NaN</td>\n      <td>NaN</td>\n      <td>NaN</td>\n      <td>1.0</td>\n      <td>23.0</td>\n      <td>9</td>\n      <td>3</td>\n      <td>2017</td>\n    </tr>\n  </tbody>\n</table>\n<p>73644 rows × 21 columns</p>\n</div>"
     },
     "metadata": {},
     "execution_count": 76
    }
   ],
   "source": [
    "atributos_selecionados = [\"datetime\", \"receita\", \"feature_02\", \"feature_03\", \"feature_04\", \"feature_05\", \"feature_06\", 'feature_07', \"feature_09\", \"feature_10\", \"feature_13\", \"feature_14\", \"feature_15\", \"feature_16\", \"feature_17\", \"feature_18\", \"contagem\", \"UF_COD\"]\n",
    "atributos_treino = atributos_selecionados.copy()\n",
    "atributos_treino.remove(\"receita\")\n",
    "atributos_treino.remove(\"datetime\")\n",
    "\n",
    "model_data = data_tratada.loc[:, atributos_selecionados]\n",
    "\n",
    "model_data[\"month\"] = model_data[\"datetime\"].dt.month\n",
    "model_data[\"quarter\"] = model_data[\"datetime\"].dt.quarter\n",
    "model_data[\"year\"] = model_data[\"datetime\"].dt.year\n",
    "\n",
    "model_data\n"
   ]
  },
  {
   "source": [
    "### Faz impute nos valores faltantes"
   ],
   "cell_type": "markdown",
   "metadata": {}
  },
  {
   "cell_type": "code",
   "execution_count": 77,
   "metadata": {},
   "outputs": [
    {
     "output_type": "execute_result",
     "data": {
      "text/plain": [
       "       feature_02  feature_03  feature_04  feature_05  feature_06  feature_07  \\\n",
       "0               2        True       21.76           3          31    0.168922   \n",
       "1               2        True       21.76           3          31    0.168922   \n",
       "2               2        True       21.76           3          31    0.168922   \n",
       "3               2        True       21.76           3          31    0.168922   \n",
       "4               2        True       21.76           3          31    0.168922   \n",
       "...           ...         ...         ...         ...         ...         ...   \n",
       "73639           2       False       26.50           2           2    0.199854   \n",
       "73640           2       False       26.50           2           2    0.199854   \n",
       "73641           2       False       26.50           2           2    0.199854   \n",
       "73642           2       False       26.50           2           2    0.199854   \n",
       "73643           2       False       26.50           2           2    0.199854   \n",
       "\n",
       "       feature_09  feature_10  feature_13  feature_14  feature_15  feature_16  \\\n",
       "0      115.958848    2.349821         NaN         NaN         NaN         NaN   \n",
       "1      115.958848    2.349821         NaN         NaN         NaN         NaN   \n",
       "2      115.958848    2.349821         NaN         NaN         NaN         NaN   \n",
       "3      115.958848    2.349821         NaN         NaN         NaN         NaN   \n",
       "4      115.958848    2.349821         NaN         NaN         NaN         NaN   \n",
       "...           ...         ...         ...         ...         ...         ...   \n",
       "73639    7.701540    4.454541         NaN         NaN         NaN         NaN   \n",
       "73640    7.701540    4.454541         NaN         NaN         NaN         NaN   \n",
       "73641    7.701540    4.454541         NaN         NaN         NaN         NaN   \n",
       "73642    7.701540    4.454541         NaN         NaN         NaN         NaN   \n",
       "73643    7.701540    4.454541         NaN         NaN         NaN         NaN   \n",
       "\n",
       "       feature_17  feature_18  contagem  UF_COD  month  quarter  year  \n",
       "0             NaN         NaN       1.0    13.0      1        1  2016  \n",
       "1             NaN         NaN       1.0    13.0     10        4  2016  \n",
       "2             NaN         NaN       2.0    13.0     11        4  2016  \n",
       "3             NaN         NaN       1.0    13.0     12        4  2016  \n",
       "4             NaN         NaN       0.0    13.0      2        1  2016  \n",
       "...           ...         ...       ...     ...    ...      ...   ...  \n",
       "73639         NaN         NaN       1.0    23.0      5        2  2017  \n",
       "73640         NaN         NaN       0.0    23.0      6        2  2017  \n",
       "73641         NaN         NaN       0.0    23.0      7        3  2017  \n",
       "73642         NaN         NaN       0.0    23.0      8        3  2017  \n",
       "73643         NaN         NaN       1.0    23.0      9        3  2017  \n",
       "\n",
       "[73644 rows x 19 columns]"
      ],
      "text/html": "<div>\n<style scoped>\n    .dataframe tbody tr th:only-of-type {\n        vertical-align: middle;\n    }\n\n    .dataframe tbody tr th {\n        vertical-align: top;\n    }\n\n    .dataframe thead th {\n        text-align: right;\n    }\n</style>\n<table border=\"1\" class=\"dataframe\">\n  <thead>\n    <tr style=\"text-align: right;\">\n      <th></th>\n      <th>feature_02</th>\n      <th>feature_03</th>\n      <th>feature_04</th>\n      <th>feature_05</th>\n      <th>feature_06</th>\n      <th>feature_07</th>\n      <th>feature_09</th>\n      <th>feature_10</th>\n      <th>feature_13</th>\n      <th>feature_14</th>\n      <th>feature_15</th>\n      <th>feature_16</th>\n      <th>feature_17</th>\n      <th>feature_18</th>\n      <th>contagem</th>\n      <th>UF_COD</th>\n      <th>month</th>\n      <th>quarter</th>\n      <th>year</th>\n    </tr>\n  </thead>\n  <tbody>\n    <tr>\n      <th>0</th>\n      <td>2</td>\n      <td>True</td>\n      <td>21.76</td>\n      <td>3</td>\n      <td>31</td>\n      <td>0.168922</td>\n      <td>115.958848</td>\n      <td>2.349821</td>\n      <td>NaN</td>\n      <td>NaN</td>\n      <td>NaN</td>\n      <td>NaN</td>\n      <td>NaN</td>\n      <td>NaN</td>\n      <td>1.0</td>\n      <td>13.0</td>\n      <td>1</td>\n      <td>1</td>\n      <td>2016</td>\n    </tr>\n    <tr>\n      <th>1</th>\n      <td>2</td>\n      <td>True</td>\n      <td>21.76</td>\n      <td>3</td>\n      <td>31</td>\n      <td>0.168922</td>\n      <td>115.958848</td>\n      <td>2.349821</td>\n      <td>NaN</td>\n      <td>NaN</td>\n      <td>NaN</td>\n      <td>NaN</td>\n      <td>NaN</td>\n      <td>NaN</td>\n      <td>1.0</td>\n      <td>13.0</td>\n      <td>10</td>\n      <td>4</td>\n      <td>2016</td>\n    </tr>\n    <tr>\n      <th>2</th>\n      <td>2</td>\n      <td>True</td>\n      <td>21.76</td>\n      <td>3</td>\n      <td>31</td>\n      <td>0.168922</td>\n      <td>115.958848</td>\n      <td>2.349821</td>\n      <td>NaN</td>\n      <td>NaN</td>\n      <td>NaN</td>\n      <td>NaN</td>\n      <td>NaN</td>\n      <td>NaN</td>\n      <td>2.0</td>\n      <td>13.0</td>\n      <td>11</td>\n      <td>4</td>\n      <td>2016</td>\n    </tr>\n    <tr>\n      <th>3</th>\n      <td>2</td>\n      <td>True</td>\n      <td>21.76</td>\n      <td>3</td>\n      <td>31</td>\n      <td>0.168922</td>\n      <td>115.958848</td>\n      <td>2.349821</td>\n      <td>NaN</td>\n      <td>NaN</td>\n      <td>NaN</td>\n      <td>NaN</td>\n      <td>NaN</td>\n      <td>NaN</td>\n      <td>1.0</td>\n      <td>13.0</td>\n      <td>12</td>\n      <td>4</td>\n      <td>2016</td>\n    </tr>\n    <tr>\n      <th>4</th>\n      <td>2</td>\n      <td>True</td>\n      <td>21.76</td>\n      <td>3</td>\n      <td>31</td>\n      <td>0.168922</td>\n      <td>115.958848</td>\n      <td>2.349821</td>\n      <td>NaN</td>\n      <td>NaN</td>\n      <td>NaN</td>\n      <td>NaN</td>\n      <td>NaN</td>\n      <td>NaN</td>\n      <td>0.0</td>\n      <td>13.0</td>\n      <td>2</td>\n      <td>1</td>\n      <td>2016</td>\n    </tr>\n    <tr>\n      <th>...</th>\n      <td>...</td>\n      <td>...</td>\n      <td>...</td>\n      <td>...</td>\n      <td>...</td>\n      <td>...</td>\n      <td>...</td>\n      <td>...</td>\n      <td>...</td>\n      <td>...</td>\n      <td>...</td>\n      <td>...</td>\n      <td>...</td>\n      <td>...</td>\n      <td>...</td>\n      <td>...</td>\n      <td>...</td>\n      <td>...</td>\n      <td>...</td>\n    </tr>\n    <tr>\n      <th>73639</th>\n      <td>2</td>\n      <td>False</td>\n      <td>26.50</td>\n      <td>2</td>\n      <td>2</td>\n      <td>0.199854</td>\n      <td>7.701540</td>\n      <td>4.454541</td>\n      <td>NaN</td>\n      <td>NaN</td>\n      <td>NaN</td>\n      <td>NaN</td>\n      <td>NaN</td>\n      <td>NaN</td>\n      <td>1.0</td>\n      <td>23.0</td>\n      <td>5</td>\n      <td>2</td>\n      <td>2017</td>\n    </tr>\n    <tr>\n      <th>73640</th>\n      <td>2</td>\n      <td>False</td>\n      <td>26.50</td>\n      <td>2</td>\n      <td>2</td>\n      <td>0.199854</td>\n      <td>7.701540</td>\n      <td>4.454541</td>\n      <td>NaN</td>\n      <td>NaN</td>\n      <td>NaN</td>\n      <td>NaN</td>\n      <td>NaN</td>\n      <td>NaN</td>\n      <td>0.0</td>\n      <td>23.0</td>\n      <td>6</td>\n      <td>2</td>\n      <td>2017</td>\n    </tr>\n    <tr>\n      <th>73641</th>\n      <td>2</td>\n      <td>False</td>\n      <td>26.50</td>\n      <td>2</td>\n      <td>2</td>\n      <td>0.199854</td>\n      <td>7.701540</td>\n      <td>4.454541</td>\n      <td>NaN</td>\n      <td>NaN</td>\n      <td>NaN</td>\n      <td>NaN</td>\n      <td>NaN</td>\n      <td>NaN</td>\n      <td>0.0</td>\n      <td>23.0</td>\n      <td>7</td>\n      <td>3</td>\n      <td>2017</td>\n    </tr>\n    <tr>\n      <th>73642</th>\n      <td>2</td>\n      <td>False</td>\n      <td>26.50</td>\n      <td>2</td>\n      <td>2</td>\n      <td>0.199854</td>\n      <td>7.701540</td>\n      <td>4.454541</td>\n      <td>NaN</td>\n      <td>NaN</td>\n      <td>NaN</td>\n      <td>NaN</td>\n      <td>NaN</td>\n      <td>NaN</td>\n      <td>0.0</td>\n      <td>23.0</td>\n      <td>8</td>\n      <td>3</td>\n      <td>2017</td>\n    </tr>\n    <tr>\n      <th>73643</th>\n      <td>2</td>\n      <td>False</td>\n      <td>26.50</td>\n      <td>2</td>\n      <td>2</td>\n      <td>0.199854</td>\n      <td>7.701540</td>\n      <td>4.454541</td>\n      <td>NaN</td>\n      <td>NaN</td>\n      <td>NaN</td>\n      <td>NaN</td>\n      <td>NaN</td>\n      <td>NaN</td>\n      <td>1.0</td>\n      <td>23.0</td>\n      <td>9</td>\n      <td>3</td>\n      <td>2017</td>\n    </tr>\n  </tbody>\n</table>\n<p>73644 rows × 19 columns</p>\n</div>"
     },
     "metadata": {},
     "execution_count": 77
    }
   ],
   "source": [
    "model_data_x = model_data.drop([\"receita\", \"datetime\"], axis = 1)\n",
    "\n",
    "model_data_x"
   ]
  },
  {
   "cell_type": "code",
   "execution_count": 78,
   "metadata": {},
   "outputs": [
    {
     "output_type": "error",
     "ename": "KeyboardInterrupt",
     "evalue": "",
     "traceback": [
      "\u001b[0;31m---------------------------------------------------------------------------\u001b[0m",
      "\u001b[0;31mKeyboardInterrupt\u001b[0m                         Traceback (most recent call last)",
      "\u001b[0;32m<ipython-input-78-90ae107e729e>\u001b[0m in \u001b[0;36m<module>\u001b[0;34m\u001b[0m\n\u001b[1;32m      1\u001b[0m \u001b[0mimputer\u001b[0m \u001b[0;34m=\u001b[0m \u001b[0mKNNImputer\u001b[0m\u001b[0;34m(\u001b[0m\u001b[0mn_neighbors\u001b[0m \u001b[0;34m=\u001b[0m \u001b[0;36m5\u001b[0m\u001b[0;34m)\u001b[0m\u001b[0;34m\u001b[0m\u001b[0;34m\u001b[0m\u001b[0m\n\u001b[1;32m      2\u001b[0m \u001b[0;34m\u001b[0m\u001b[0m\n\u001b[0;32m----> 3\u001b[0;31m \u001b[0mimputer\u001b[0m\u001b[0;34m.\u001b[0m\u001b[0mfit_transform\u001b[0m\u001b[0;34m(\u001b[0m\u001b[0mmodel_data_x\u001b[0m\u001b[0;34m)\u001b[0m\u001b[0;34m\u001b[0m\u001b[0;34m\u001b[0m\u001b[0m\n\u001b[0m",
      "\u001b[0;32m~/miniconda3/envs/ml/lib/python3.7/site-packages/sklearn/base.py\u001b[0m in \u001b[0;36mfit_transform\u001b[0;34m(self, X, y, **fit_params)\u001b[0m\n\u001b[1;32m    688\u001b[0m         \u001b[0;32mif\u001b[0m \u001b[0my\u001b[0m \u001b[0;32mis\u001b[0m \u001b[0;32mNone\u001b[0m\u001b[0;34m:\u001b[0m\u001b[0;34m\u001b[0m\u001b[0;34m\u001b[0m\u001b[0m\n\u001b[1;32m    689\u001b[0m             \u001b[0;31m# fit method of arity 1 (unsupervised transformation)\u001b[0m\u001b[0;34m\u001b[0m\u001b[0;34m\u001b[0m\u001b[0;34m\u001b[0m\u001b[0m\n\u001b[0;32m--> 690\u001b[0;31m             \u001b[0;32mreturn\u001b[0m \u001b[0mself\u001b[0m\u001b[0;34m.\u001b[0m\u001b[0mfit\u001b[0m\u001b[0;34m(\u001b[0m\u001b[0mX\u001b[0m\u001b[0;34m,\u001b[0m \u001b[0;34m**\u001b[0m\u001b[0mfit_params\u001b[0m\u001b[0;34m)\u001b[0m\u001b[0;34m.\u001b[0m\u001b[0mtransform\u001b[0m\u001b[0;34m(\u001b[0m\u001b[0mX\u001b[0m\u001b[0;34m)\u001b[0m\u001b[0;34m\u001b[0m\u001b[0;34m\u001b[0m\u001b[0m\n\u001b[0m\u001b[1;32m    691\u001b[0m         \u001b[0;32melse\u001b[0m\u001b[0;34m:\u001b[0m\u001b[0;34m\u001b[0m\u001b[0;34m\u001b[0m\u001b[0m\n\u001b[1;32m    692\u001b[0m             \u001b[0;31m# fit method of arity 2 (supervised transformation)\u001b[0m\u001b[0;34m\u001b[0m\u001b[0;34m\u001b[0m\u001b[0;34m\u001b[0m\u001b[0m\n",
      "\u001b[0;32m~/miniconda3/envs/ml/lib/python3.7/site-packages/sklearn/impute/_knn.py\u001b[0m in \u001b[0;36mtransform\u001b[0;34m(self, X)\u001b[0m\n\u001b[1;32m    295\u001b[0m             \u001b[0mforce_all_finite\u001b[0m\u001b[0;34m=\u001b[0m\u001b[0mforce_all_finite\u001b[0m\u001b[0;34m,\u001b[0m\u001b[0;34m\u001b[0m\u001b[0;34m\u001b[0m\u001b[0m\n\u001b[1;32m    296\u001b[0m             reduce_func=process_chunk)\n\u001b[0;32m--> 297\u001b[0;31m         \u001b[0;32mfor\u001b[0m \u001b[0mchunk\u001b[0m \u001b[0;32min\u001b[0m \u001b[0mgen\u001b[0m\u001b[0;34m:\u001b[0m\u001b[0;34m\u001b[0m\u001b[0;34m\u001b[0m\u001b[0m\n\u001b[0m\u001b[1;32m    298\u001b[0m             \u001b[0;31m# process_chunk modifies X in place. No return value.\u001b[0m\u001b[0;34m\u001b[0m\u001b[0;34m\u001b[0m\u001b[0;34m\u001b[0m\u001b[0m\n\u001b[1;32m    299\u001b[0m             \u001b[0;32mpass\u001b[0m\u001b[0;34m\u001b[0m\u001b[0;34m\u001b[0m\u001b[0m\n",
      "\u001b[0;32m~/miniconda3/envs/ml/lib/python3.7/site-packages/sklearn/metrics/pairwise.py\u001b[0m in \u001b[0;36mpairwise_distances_chunked\u001b[0;34m(X, Y, reduce_func, metric, n_jobs, working_memory, **kwds)\u001b[0m\n\u001b[1;32m   1615\u001b[0m             \u001b[0mX_chunk\u001b[0m \u001b[0;34m=\u001b[0m \u001b[0mX\u001b[0m\u001b[0;34m[\u001b[0m\u001b[0msl\u001b[0m\u001b[0;34m]\u001b[0m\u001b[0;34m\u001b[0m\u001b[0;34m\u001b[0m\u001b[0m\n\u001b[1;32m   1616\u001b[0m         D_chunk = pairwise_distances(X_chunk, Y, metric=metric,\n\u001b[0;32m-> 1617\u001b[0;31m                                      n_jobs=n_jobs, **kwds)\n\u001b[0m\u001b[1;32m   1618\u001b[0m         if ((X is Y or Y is None)\n\u001b[1;32m   1619\u001b[0m                 \u001b[0;32mand\u001b[0m \u001b[0mPAIRWISE_DISTANCE_FUNCTIONS\u001b[0m\u001b[0;34m.\u001b[0m\u001b[0mget\u001b[0m\u001b[0;34m(\u001b[0m\u001b[0mmetric\u001b[0m\u001b[0;34m,\u001b[0m \u001b[0;32mNone\u001b[0m\u001b[0;34m)\u001b[0m\u001b[0;34m\u001b[0m\u001b[0;34m\u001b[0m\u001b[0m\n",
      "\u001b[0;32m~/miniconda3/envs/ml/lib/python3.7/site-packages/sklearn/utils/validation.py\u001b[0m in \u001b[0;36minner_f\u001b[0;34m(*args, **kwargs)\u001b[0m\n\u001b[1;32m     70\u001b[0m                           FutureWarning)\n\u001b[1;32m     71\u001b[0m         \u001b[0mkwargs\u001b[0m\u001b[0;34m.\u001b[0m\u001b[0mupdate\u001b[0m\u001b[0;34m(\u001b[0m\u001b[0;34m{\u001b[0m\u001b[0mk\u001b[0m\u001b[0;34m:\u001b[0m \u001b[0marg\u001b[0m \u001b[0;32mfor\u001b[0m \u001b[0mk\u001b[0m\u001b[0;34m,\u001b[0m \u001b[0marg\u001b[0m \u001b[0;32min\u001b[0m \u001b[0mzip\u001b[0m\u001b[0;34m(\u001b[0m\u001b[0msig\u001b[0m\u001b[0;34m.\u001b[0m\u001b[0mparameters\u001b[0m\u001b[0;34m,\u001b[0m \u001b[0margs\u001b[0m\u001b[0;34m)\u001b[0m\u001b[0;34m}\u001b[0m\u001b[0;34m)\u001b[0m\u001b[0;34m\u001b[0m\u001b[0;34m\u001b[0m\u001b[0m\n\u001b[0;32m---> 72\u001b[0;31m         \u001b[0;32mreturn\u001b[0m \u001b[0mf\u001b[0m\u001b[0;34m(\u001b[0m\u001b[0;34m**\u001b[0m\u001b[0mkwargs\u001b[0m\u001b[0;34m)\u001b[0m\u001b[0;34m\u001b[0m\u001b[0;34m\u001b[0m\u001b[0m\n\u001b[0m\u001b[1;32m     73\u001b[0m     \u001b[0;32mreturn\u001b[0m \u001b[0minner_f\u001b[0m\u001b[0;34m\u001b[0m\u001b[0;34m\u001b[0m\u001b[0m\n\u001b[1;32m     74\u001b[0m \u001b[0;34m\u001b[0m\u001b[0m\n",
      "\u001b[0;32m~/miniconda3/envs/ml/lib/python3.7/site-packages/sklearn/metrics/pairwise.py\u001b[0m in \u001b[0;36mpairwise_distances\u001b[0;34m(X, Y, metric, n_jobs, force_all_finite, **kwds)\u001b[0m\n\u001b[1;32m   1777\u001b[0m         \u001b[0mfunc\u001b[0m \u001b[0;34m=\u001b[0m \u001b[0mpartial\u001b[0m\u001b[0;34m(\u001b[0m\u001b[0mdistance\u001b[0m\u001b[0;34m.\u001b[0m\u001b[0mcdist\u001b[0m\u001b[0;34m,\u001b[0m \u001b[0mmetric\u001b[0m\u001b[0;34m=\u001b[0m\u001b[0mmetric\u001b[0m\u001b[0;34m,\u001b[0m \u001b[0;34m**\u001b[0m\u001b[0mkwds\u001b[0m\u001b[0;34m)\u001b[0m\u001b[0;34m\u001b[0m\u001b[0;34m\u001b[0m\u001b[0m\n\u001b[1;32m   1778\u001b[0m \u001b[0;34m\u001b[0m\u001b[0m\n\u001b[0;32m-> 1779\u001b[0;31m     \u001b[0;32mreturn\u001b[0m \u001b[0m_parallel_pairwise\u001b[0m\u001b[0;34m(\u001b[0m\u001b[0mX\u001b[0m\u001b[0;34m,\u001b[0m \u001b[0mY\u001b[0m\u001b[0;34m,\u001b[0m \u001b[0mfunc\u001b[0m\u001b[0;34m,\u001b[0m \u001b[0mn_jobs\u001b[0m\u001b[0;34m,\u001b[0m \u001b[0;34m**\u001b[0m\u001b[0mkwds\u001b[0m\u001b[0;34m)\u001b[0m\u001b[0;34m\u001b[0m\u001b[0;34m\u001b[0m\u001b[0m\n\u001b[0m\u001b[1;32m   1780\u001b[0m \u001b[0;34m\u001b[0m\u001b[0m\n\u001b[1;32m   1781\u001b[0m \u001b[0;34m\u001b[0m\u001b[0m\n",
      "\u001b[0;32m~/miniconda3/envs/ml/lib/python3.7/site-packages/sklearn/metrics/pairwise.py\u001b[0m in \u001b[0;36m_parallel_pairwise\u001b[0;34m(X, Y, func, n_jobs, **kwds)\u001b[0m\n\u001b[1;32m   1358\u001b[0m \u001b[0;34m\u001b[0m\u001b[0m\n\u001b[1;32m   1359\u001b[0m     \u001b[0;32mif\u001b[0m \u001b[0meffective_n_jobs\u001b[0m\u001b[0;34m(\u001b[0m\u001b[0mn_jobs\u001b[0m\u001b[0;34m)\u001b[0m \u001b[0;34m==\u001b[0m \u001b[0;36m1\u001b[0m\u001b[0;34m:\u001b[0m\u001b[0;34m\u001b[0m\u001b[0;34m\u001b[0m\u001b[0m\n\u001b[0;32m-> 1360\u001b[0;31m         \u001b[0;32mreturn\u001b[0m \u001b[0mfunc\u001b[0m\u001b[0;34m(\u001b[0m\u001b[0mX\u001b[0m\u001b[0;34m,\u001b[0m \u001b[0mY\u001b[0m\u001b[0;34m,\u001b[0m \u001b[0;34m**\u001b[0m\u001b[0mkwds\u001b[0m\u001b[0;34m)\u001b[0m\u001b[0;34m\u001b[0m\u001b[0;34m\u001b[0m\u001b[0m\n\u001b[0m\u001b[1;32m   1361\u001b[0m \u001b[0;34m\u001b[0m\u001b[0m\n\u001b[1;32m   1362\u001b[0m     \u001b[0;31m# enforce a threading backend to prevent data communication overhead\u001b[0m\u001b[0;34m\u001b[0m\u001b[0;34m\u001b[0m\u001b[0;34m\u001b[0m\u001b[0m\n",
      "\u001b[0;32m~/miniconda3/envs/ml/lib/python3.7/site-packages/sklearn/utils/validation.py\u001b[0m in \u001b[0;36minner_f\u001b[0;34m(*args, **kwargs)\u001b[0m\n\u001b[1;32m     70\u001b[0m                           FutureWarning)\n\u001b[1;32m     71\u001b[0m         \u001b[0mkwargs\u001b[0m\u001b[0;34m.\u001b[0m\u001b[0mupdate\u001b[0m\u001b[0;34m(\u001b[0m\u001b[0;34m{\u001b[0m\u001b[0mk\u001b[0m\u001b[0;34m:\u001b[0m \u001b[0marg\u001b[0m \u001b[0;32mfor\u001b[0m \u001b[0mk\u001b[0m\u001b[0;34m,\u001b[0m \u001b[0marg\u001b[0m \u001b[0;32min\u001b[0m \u001b[0mzip\u001b[0m\u001b[0;34m(\u001b[0m\u001b[0msig\u001b[0m\u001b[0;34m.\u001b[0m\u001b[0mparameters\u001b[0m\u001b[0;34m,\u001b[0m \u001b[0margs\u001b[0m\u001b[0;34m)\u001b[0m\u001b[0;34m}\u001b[0m\u001b[0;34m)\u001b[0m\u001b[0;34m\u001b[0m\u001b[0;34m\u001b[0m\u001b[0m\n\u001b[0;32m---> 72\u001b[0;31m         \u001b[0;32mreturn\u001b[0m \u001b[0mf\u001b[0m\u001b[0;34m(\u001b[0m\u001b[0;34m**\u001b[0m\u001b[0mkwargs\u001b[0m\u001b[0;34m)\u001b[0m\u001b[0;34m\u001b[0m\u001b[0;34m\u001b[0m\u001b[0m\n\u001b[0m\u001b[1;32m     73\u001b[0m     \u001b[0;32mreturn\u001b[0m \u001b[0minner_f\u001b[0m\u001b[0;34m\u001b[0m\u001b[0;34m\u001b[0m\u001b[0m\n\u001b[1;32m     74\u001b[0m \u001b[0;34m\u001b[0m\u001b[0m\n",
      "\u001b[0;32m~/miniconda3/envs/ml/lib/python3.7/site-packages/sklearn/metrics/pairwise.py\u001b[0m in \u001b[0;36mnan_euclidean_distances\u001b[0;34m(X, Y, squared, missing_values, copy)\u001b[0m\n\u001b[1;32m    407\u001b[0m     \u001b[0mY\u001b[0m\u001b[0;34m[\u001b[0m\u001b[0mmissing_Y\u001b[0m\u001b[0;34m]\u001b[0m \u001b[0;34m=\u001b[0m \u001b[0;36m0\u001b[0m\u001b[0;34m\u001b[0m\u001b[0;34m\u001b[0m\u001b[0m\n\u001b[1;32m    408\u001b[0m \u001b[0;34m\u001b[0m\u001b[0m\n\u001b[0;32m--> 409\u001b[0;31m     \u001b[0mdistances\u001b[0m \u001b[0;34m=\u001b[0m \u001b[0meuclidean_distances\u001b[0m\u001b[0;34m(\u001b[0m\u001b[0mX\u001b[0m\u001b[0;34m,\u001b[0m \u001b[0mY\u001b[0m\u001b[0;34m,\u001b[0m \u001b[0msquared\u001b[0m\u001b[0;34m=\u001b[0m\u001b[0;32mTrue\u001b[0m\u001b[0;34m)\u001b[0m\u001b[0;34m\u001b[0m\u001b[0;34m\u001b[0m\u001b[0m\n\u001b[0m\u001b[1;32m    410\u001b[0m \u001b[0;34m\u001b[0m\u001b[0m\n\u001b[1;32m    411\u001b[0m     \u001b[0;31m# Adjust distances for missing values\u001b[0m\u001b[0;34m\u001b[0m\u001b[0;34m\u001b[0m\u001b[0;34m\u001b[0m\u001b[0m\n",
      "\u001b[0;32m~/miniconda3/envs/ml/lib/python3.7/site-packages/sklearn/utils/validation.py\u001b[0m in \u001b[0;36minner_f\u001b[0;34m(*args, **kwargs)\u001b[0m\n\u001b[1;32m     70\u001b[0m                           FutureWarning)\n\u001b[1;32m     71\u001b[0m         \u001b[0mkwargs\u001b[0m\u001b[0;34m.\u001b[0m\u001b[0mupdate\u001b[0m\u001b[0;34m(\u001b[0m\u001b[0;34m{\u001b[0m\u001b[0mk\u001b[0m\u001b[0;34m:\u001b[0m \u001b[0marg\u001b[0m \u001b[0;32mfor\u001b[0m \u001b[0mk\u001b[0m\u001b[0;34m,\u001b[0m \u001b[0marg\u001b[0m \u001b[0;32min\u001b[0m \u001b[0mzip\u001b[0m\u001b[0;34m(\u001b[0m\u001b[0msig\u001b[0m\u001b[0;34m.\u001b[0m\u001b[0mparameters\u001b[0m\u001b[0;34m,\u001b[0m \u001b[0margs\u001b[0m\u001b[0;34m)\u001b[0m\u001b[0;34m}\u001b[0m\u001b[0;34m)\u001b[0m\u001b[0;34m\u001b[0m\u001b[0;34m\u001b[0m\u001b[0m\n\u001b[0;32m---> 72\u001b[0;31m         \u001b[0;32mreturn\u001b[0m \u001b[0mf\u001b[0m\u001b[0;34m(\u001b[0m\u001b[0;34m**\u001b[0m\u001b[0mkwargs\u001b[0m\u001b[0;34m)\u001b[0m\u001b[0;34m\u001b[0m\u001b[0;34m\u001b[0m\u001b[0m\n\u001b[0m\u001b[1;32m     73\u001b[0m     \u001b[0;32mreturn\u001b[0m \u001b[0minner_f\u001b[0m\u001b[0;34m\u001b[0m\u001b[0;34m\u001b[0m\u001b[0m\n\u001b[1;32m     74\u001b[0m \u001b[0;34m\u001b[0m\u001b[0m\n",
      "\u001b[0;32m~/miniconda3/envs/ml/lib/python3.7/site-packages/sklearn/metrics/pairwise.py\u001b[0m in \u001b[0;36meuclidean_distances\u001b[0;34m(X, Y, Y_norm_squared, squared, X_norm_squared)\u001b[0m\n\u001b[1;32m    308\u001b[0m     \u001b[0;32melse\u001b[0m\u001b[0;34m:\u001b[0m\u001b[0;34m\u001b[0m\u001b[0;34m\u001b[0m\u001b[0m\n\u001b[1;32m    309\u001b[0m         \u001b[0;31m# if dtype is already float64, no need to chunk and upcast\u001b[0m\u001b[0;34m\u001b[0m\u001b[0;34m\u001b[0m\u001b[0;34m\u001b[0m\u001b[0m\n\u001b[0;32m--> 310\u001b[0;31m         \u001b[0mdistances\u001b[0m \u001b[0;34m=\u001b[0m \u001b[0;34m-\u001b[0m \u001b[0;36m2\u001b[0m \u001b[0;34m*\u001b[0m \u001b[0msafe_sparse_dot\u001b[0m\u001b[0;34m(\u001b[0m\u001b[0mX\u001b[0m\u001b[0;34m,\u001b[0m \u001b[0mY\u001b[0m\u001b[0;34m.\u001b[0m\u001b[0mT\u001b[0m\u001b[0;34m,\u001b[0m \u001b[0mdense_output\u001b[0m\u001b[0;34m=\u001b[0m\u001b[0;32mTrue\u001b[0m\u001b[0;34m)\u001b[0m\u001b[0;34m\u001b[0m\u001b[0;34m\u001b[0m\u001b[0m\n\u001b[0m\u001b[1;32m    311\u001b[0m         \u001b[0mdistances\u001b[0m \u001b[0;34m+=\u001b[0m \u001b[0mXX\u001b[0m\u001b[0;34m\u001b[0m\u001b[0;34m\u001b[0m\u001b[0m\n\u001b[1;32m    312\u001b[0m         \u001b[0mdistances\u001b[0m \u001b[0;34m+=\u001b[0m \u001b[0mYY\u001b[0m\u001b[0;34m\u001b[0m\u001b[0;34m\u001b[0m\u001b[0m\n",
      "\u001b[0;32m~/miniconda3/envs/ml/lib/python3.7/site-packages/sklearn/utils/validation.py\u001b[0m in \u001b[0;36minner_f\u001b[0;34m(*args, **kwargs)\u001b[0m\n\u001b[1;32m     70\u001b[0m                           FutureWarning)\n\u001b[1;32m     71\u001b[0m         \u001b[0mkwargs\u001b[0m\u001b[0;34m.\u001b[0m\u001b[0mupdate\u001b[0m\u001b[0;34m(\u001b[0m\u001b[0;34m{\u001b[0m\u001b[0mk\u001b[0m\u001b[0;34m:\u001b[0m \u001b[0marg\u001b[0m \u001b[0;32mfor\u001b[0m \u001b[0mk\u001b[0m\u001b[0;34m,\u001b[0m \u001b[0marg\u001b[0m \u001b[0;32min\u001b[0m \u001b[0mzip\u001b[0m\u001b[0;34m(\u001b[0m\u001b[0msig\u001b[0m\u001b[0;34m.\u001b[0m\u001b[0mparameters\u001b[0m\u001b[0;34m,\u001b[0m \u001b[0margs\u001b[0m\u001b[0;34m)\u001b[0m\u001b[0;34m}\u001b[0m\u001b[0;34m)\u001b[0m\u001b[0;34m\u001b[0m\u001b[0;34m\u001b[0m\u001b[0m\n\u001b[0;32m---> 72\u001b[0;31m         \u001b[0;32mreturn\u001b[0m \u001b[0mf\u001b[0m\u001b[0;34m(\u001b[0m\u001b[0;34m**\u001b[0m\u001b[0mkwargs\u001b[0m\u001b[0;34m)\u001b[0m\u001b[0;34m\u001b[0m\u001b[0;34m\u001b[0m\u001b[0m\n\u001b[0m\u001b[1;32m     73\u001b[0m     \u001b[0;32mreturn\u001b[0m \u001b[0minner_f\u001b[0m\u001b[0;34m\u001b[0m\u001b[0;34m\u001b[0m\u001b[0m\n\u001b[1;32m     74\u001b[0m \u001b[0;34m\u001b[0m\u001b[0m\n",
      "\u001b[0;32m~/miniconda3/envs/ml/lib/python3.7/site-packages/sklearn/utils/extmath.py\u001b[0m in \u001b[0;36msafe_sparse_dot\u001b[0;34m(a, b, dense_output)\u001b[0m\n\u001b[1;32m    151\u001b[0m             \u001b[0mret\u001b[0m \u001b[0;34m=\u001b[0m \u001b[0mnp\u001b[0m\u001b[0;34m.\u001b[0m\u001b[0mdot\u001b[0m\u001b[0;34m(\u001b[0m\u001b[0ma\u001b[0m\u001b[0;34m,\u001b[0m \u001b[0mb\u001b[0m\u001b[0;34m)\u001b[0m\u001b[0;34m\u001b[0m\u001b[0;34m\u001b[0m\u001b[0m\n\u001b[1;32m    152\u001b[0m     \u001b[0;32melse\u001b[0m\u001b[0;34m:\u001b[0m\u001b[0;34m\u001b[0m\u001b[0;34m\u001b[0m\u001b[0m\n\u001b[0;32m--> 153\u001b[0;31m         \u001b[0mret\u001b[0m \u001b[0;34m=\u001b[0m \u001b[0ma\u001b[0m \u001b[0;34m@\u001b[0m \u001b[0mb\u001b[0m\u001b[0;34m\u001b[0m\u001b[0;34m\u001b[0m\u001b[0m\n\u001b[0m\u001b[1;32m    154\u001b[0m \u001b[0;34m\u001b[0m\u001b[0m\n\u001b[1;32m    155\u001b[0m     if (sparse.issparse(a) and sparse.issparse(b)\n",
      "\u001b[0;31mKeyboardInterrupt\u001b[0m: "
     ]
    }
   ],
   "source": [
    "imputer = KNNImputer(n_neighbors = 5)\n",
    "\n",
    "imputer.fit_transform(model_data_x)"
   ]
  },
  {
   "source": [
    "### Separa o conjunto de treino e teste"
   ],
   "cell_type": "markdown",
   "metadata": {}
  },
  {
   "cell_type": "code",
   "execution_count": 59,
   "metadata": {},
   "outputs": [],
   "source": [
    "train_df = model_data[~model_data[\"datetime\"].isin([date(2017,10,1), date(2017,11,1), date(2017,12,1)])]\n",
    "test_df = model_data[model_data[\"datetime\"].isin([date(2017,10,1), date(2017,11,1), date(2017,12,1)])]"
   ]
  },
  {
   "cell_type": "code",
   "execution_count": 60,
   "metadata": {},
   "outputs": [],
   "source": [
    "X_train = train_df[atributos_treino + [\"month\", \"quarter\", \"year\"]]\n",
    "y_train = train_df[\"receita\"]\n",
    "\n",
    "X_test = test_df[atributos_treino + [\"month\", \"quarter\", \"year\"]]\n",
    "y_test = test_df[\"receita\"]"
   ]
  },
  {
   "cell_type": "code",
   "execution_count": 61,
   "metadata": {},
   "outputs": [
    {
     "output_type": "execute_result",
     "data": {
      "text/plain": [
       "RandomForestRegressor(n_estimators=200)"
      ]
     },
     "metadata": {},
     "execution_count": 61
    }
   ],
   "source": [
    "rf = RandomForestRegressor(n_estimators = 200)\n",
    "rf.fit(X_train.values, y_train.values)"
   ]
  },
  {
   "cell_type": "code",
   "execution_count": 62,
   "metadata": {},
   "outputs": [
    {
     "output_type": "execute_result",
     "data": {
      "text/plain": [
       "(36770.91318395953, 0.948048640437788)"
      ]
     },
     "metadata": {},
     "execution_count": 62
    }
   ],
   "source": [
    "y_pred = rf.predict(X_test)\n",
    "\n",
    "m = np.sqrt(mean_squared_error(y_test, y_pred))\n",
    "r = r2_score(y_test, y_pred)\n",
    "\n",
    "m, r"
   ]
  },
  {
   "cell_type": "code",
   "execution_count": 63,
   "metadata": {},
   "outputs": [
    {
     "output_type": "execute_result",
     "data": {
      "text/plain": [
       "array([0.01183235, 0.00380674, 0.20224396, 0.03589933, 0.41238088,\n",
       "       0.03359691, 0.06955468, 0.03679355, 0.00519733, 0.02497656,\n",
       "       0.1540629 , 0.00455031, 0.00510449])"
      ]
     },
     "metadata": {},
     "execution_count": 63
    }
   ],
   "source": [
    "rf.feature_importances_"
   ]
  },
  {
   "cell_type": "code",
   "execution_count": 64,
   "metadata": {},
   "outputs": [
    {
     "output_type": "execute_result",
     "data": {
      "text/plain": [
       "Index(['feature_02', 'feature_03', 'feature_04', 'feature_05', 'feature_06',\n",
       "       'feature_07', 'feature_09', 'feature_10', 'contagem', 'UF_COD', 'month',\n",
       "       'quarter', 'year'],\n",
       "      dtype='object')"
      ]
     },
     "metadata": {},
     "execution_count": 64
    }
   ],
   "source": [
    "X_train.columns"
   ]
  },
  {
   "cell_type": "code",
   "execution_count": 65,
   "metadata": {},
   "outputs": [
    {
     "output_type": "display_data",
     "data": {
      "text/plain": "<Figure size 432x288 with 1 Axes>",
      "image/svg+xml": "<?xml version=\"1.0\" encoding=\"utf-8\" standalone=\"no\"?>\n<!DOCTYPE svg PUBLIC \"-//W3C//DTD SVG 1.1//EN\"\n  \"http://www.w3.org/Graphics/SVG/1.1/DTD/svg11.dtd\">\n<!-- Created with matplotlib (https://matplotlib.org/) -->\n<svg height=\"248.518125pt\" version=\"1.1\" viewBox=\"0 0 410.023437 248.518125\" width=\"410.023437pt\" xmlns=\"http://www.w3.org/2000/svg\" xmlns:xlink=\"http://www.w3.org/1999/xlink\">\n <metadata>\n  <rdf:RDF xmlns:cc=\"http://creativecommons.org/ns#\" xmlns:dc=\"http://purl.org/dc/elements/1.1/\" xmlns:rdf=\"http://www.w3.org/1999/02/22-rdf-syntax-ns#\">\n   <cc:Work>\n    <dc:type rdf:resource=\"http://purl.org/dc/dcmitype/StillImage\"/>\n    <dc:date>2020-11-16T16:52:45.296430</dc:date>\n    <dc:format>image/svg+xml</dc:format>\n    <dc:creator>\n     <cc:Agent>\n      <dc:title>Matplotlib v3.3.1, https://matplotlib.org/</dc:title>\n     </cc:Agent>\n    </dc:creator>\n   </cc:Work>\n  </rdf:RDF>\n </metadata>\n <defs>\n  <style type=\"text/css\">*{stroke-linecap:butt;stroke-linejoin:round;}</style>\n </defs>\n <g id=\"figure_1\">\n  <g id=\"patch_1\">\n   <path d=\"M 0 248.518125 \nL 410.023437 248.518125 \nL 410.023437 0 \nL 0 0 \nz\n\" style=\"fill:#ffffff;\"/>\n  </g>\n  <g id=\"axes_1\">\n   <g id=\"patch_2\">\n    <path d=\"M 68.023438 224.64 \nL 402.823438 224.64 \nL 402.823438 7.2 \nL 68.023438 7.2 \nz\n\" style=\"fill:#e5e5e5;\"/>\n   </g>\n   <g id=\"matplotlib.axis_1\">\n    <g id=\"xtick_1\">\n     <g id=\"line2d_1\">\n      <path clip-path=\"url(#pef2f48c5f0)\" d=\"M 68.023438 224.64 \nL 68.023438 7.2 \n\" style=\"fill:none;stroke:#ffffff;stroke-linecap:square;stroke-width:0.8;\"/>\n     </g>\n     <g id=\"line2d_2\">\n      <defs>\n       <path d=\"M 0 0 \nL 0 3.5 \n\" id=\"m2859a1a1d5\" style=\"stroke:#555555;stroke-width:0.8;\"/>\n      </defs>\n      <g>\n       <use style=\"fill:#555555;stroke:#555555;stroke-width:0.8;\" x=\"68.023438\" xlink:href=\"#m2859a1a1d5\" y=\"224.64\"/>\n      </g>\n     </g>\n     <g id=\"text_1\">\n      <!-- 0.00 -->\n      <g style=\"fill:#555555;\" transform=\"translate(56.890625 239.238438)scale(0.1 -0.1)\">\n       <defs>\n        <path d=\"M 31.78125 66.40625 \nQ 24.171875 66.40625 20.328125 58.90625 \nQ 16.5 51.421875 16.5 36.375 \nQ 16.5 21.390625 20.328125 13.890625 \nQ 24.171875 6.390625 31.78125 6.390625 \nQ 39.453125 6.390625 43.28125 13.890625 \nQ 47.125 21.390625 47.125 36.375 \nQ 47.125 51.421875 43.28125 58.90625 \nQ 39.453125 66.40625 31.78125 66.40625 \nz\nM 31.78125 74.21875 \nQ 44.046875 74.21875 50.515625 64.515625 \nQ 56.984375 54.828125 56.984375 36.375 \nQ 56.984375 17.96875 50.515625 8.265625 \nQ 44.046875 -1.421875 31.78125 -1.421875 \nQ 19.53125 -1.421875 13.0625 8.265625 \nQ 6.59375 17.96875 6.59375 36.375 \nQ 6.59375 54.828125 13.0625 64.515625 \nQ 19.53125 74.21875 31.78125 74.21875 \nz\n\" id=\"DejaVuSans-48\"/>\n        <path d=\"M 10.6875 12.40625 \nL 21 12.40625 \nL 21 0 \nL 10.6875 0 \nz\n\" id=\"DejaVuSans-46\"/>\n       </defs>\n       <use xlink:href=\"#DejaVuSans-48\"/>\n       <use x=\"63.623047\" xlink:href=\"#DejaVuSans-46\"/>\n       <use x=\"95.410156\" xlink:href=\"#DejaVuSans-48\"/>\n       <use x=\"159.033203\" xlink:href=\"#DejaVuSans-48\"/>\n      </g>\n     </g>\n    </g>\n    <g id=\"xtick_2\">\n     <g id=\"line2d_3\">\n      <path clip-path=\"url(#pef2f48c5f0)\" d=\"M 106.683952 224.64 \nL 106.683952 7.2 \n\" style=\"fill:none;stroke:#ffffff;stroke-linecap:square;stroke-width:0.8;\"/>\n     </g>\n     <g id=\"line2d_4\">\n      <g>\n       <use style=\"fill:#555555;stroke:#555555;stroke-width:0.8;\" x=\"106.683952\" xlink:href=\"#m2859a1a1d5\" y=\"224.64\"/>\n      </g>\n     </g>\n     <g id=\"text_2\">\n      <!-- 0.05 -->\n      <g style=\"fill:#555555;\" transform=\"translate(95.551139 239.238438)scale(0.1 -0.1)\">\n       <defs>\n        <path d=\"M 10.796875 72.90625 \nL 49.515625 72.90625 \nL 49.515625 64.59375 \nL 19.828125 64.59375 \nL 19.828125 46.734375 \nQ 21.96875 47.46875 24.109375 47.828125 \nQ 26.265625 48.1875 28.421875 48.1875 \nQ 40.625 48.1875 47.75 41.5 \nQ 54.890625 34.8125 54.890625 23.390625 \nQ 54.890625 11.625 47.5625 5.09375 \nQ 40.234375 -1.421875 26.90625 -1.421875 \nQ 22.3125 -1.421875 17.546875 -0.640625 \nQ 12.796875 0.140625 7.71875 1.703125 \nL 7.71875 11.625 \nQ 12.109375 9.234375 16.796875 8.0625 \nQ 21.484375 6.890625 26.703125 6.890625 \nQ 35.15625 6.890625 40.078125 11.328125 \nQ 45.015625 15.765625 45.015625 23.390625 \nQ 45.015625 31 40.078125 35.4375 \nQ 35.15625 39.890625 26.703125 39.890625 \nQ 22.75 39.890625 18.8125 39.015625 \nQ 14.890625 38.140625 10.796875 36.28125 \nz\n\" id=\"DejaVuSans-53\"/>\n       </defs>\n       <use xlink:href=\"#DejaVuSans-48\"/>\n       <use x=\"63.623047\" xlink:href=\"#DejaVuSans-46\"/>\n       <use x=\"95.410156\" xlink:href=\"#DejaVuSans-48\"/>\n       <use x=\"159.033203\" xlink:href=\"#DejaVuSans-53\"/>\n      </g>\n     </g>\n    </g>\n    <g id=\"xtick_3\">\n     <g id=\"line2d_5\">\n      <path clip-path=\"url(#pef2f48c5f0)\" d=\"M 145.344466 224.64 \nL 145.344466 7.2 \n\" style=\"fill:none;stroke:#ffffff;stroke-linecap:square;stroke-width:0.8;\"/>\n     </g>\n     <g id=\"line2d_6\">\n      <g>\n       <use style=\"fill:#555555;stroke:#555555;stroke-width:0.8;\" x=\"145.344466\" xlink:href=\"#m2859a1a1d5\" y=\"224.64\"/>\n      </g>\n     </g>\n     <g id=\"text_3\">\n      <!-- 0.10 -->\n      <g style=\"fill:#555555;\" transform=\"translate(134.211654 239.238438)scale(0.1 -0.1)\">\n       <defs>\n        <path d=\"M 12.40625 8.296875 \nL 28.515625 8.296875 \nL 28.515625 63.921875 \nL 10.984375 60.40625 \nL 10.984375 69.390625 \nL 28.421875 72.90625 \nL 38.28125 72.90625 \nL 38.28125 8.296875 \nL 54.390625 8.296875 \nL 54.390625 0 \nL 12.40625 0 \nz\n\" id=\"DejaVuSans-49\"/>\n       </defs>\n       <use xlink:href=\"#DejaVuSans-48\"/>\n       <use x=\"63.623047\" xlink:href=\"#DejaVuSans-46\"/>\n       <use x=\"95.410156\" xlink:href=\"#DejaVuSans-49\"/>\n       <use x=\"159.033203\" xlink:href=\"#DejaVuSans-48\"/>\n      </g>\n     </g>\n    </g>\n    <g id=\"xtick_4\">\n     <g id=\"line2d_7\">\n      <path clip-path=\"url(#pef2f48c5f0)\" d=\"M 184.004981 224.64 \nL 184.004981 7.2 \n\" style=\"fill:none;stroke:#ffffff;stroke-linecap:square;stroke-width:0.8;\"/>\n     </g>\n     <g id=\"line2d_8\">\n      <g>\n       <use style=\"fill:#555555;stroke:#555555;stroke-width:0.8;\" x=\"184.004981\" xlink:href=\"#m2859a1a1d5\" y=\"224.64\"/>\n      </g>\n     </g>\n     <g id=\"text_4\">\n      <!-- 0.15 -->\n      <g style=\"fill:#555555;\" transform=\"translate(172.872168 239.238438)scale(0.1 -0.1)\">\n       <use xlink:href=\"#DejaVuSans-48\"/>\n       <use x=\"63.623047\" xlink:href=\"#DejaVuSans-46\"/>\n       <use x=\"95.410156\" xlink:href=\"#DejaVuSans-49\"/>\n       <use x=\"159.033203\" xlink:href=\"#DejaVuSans-53\"/>\n      </g>\n     </g>\n    </g>\n    <g id=\"xtick_5\">\n     <g id=\"line2d_9\">\n      <path clip-path=\"url(#pef2f48c5f0)\" d=\"M 222.665495 224.64 \nL 222.665495 7.2 \n\" style=\"fill:none;stroke:#ffffff;stroke-linecap:square;stroke-width:0.8;\"/>\n     </g>\n     <g id=\"line2d_10\">\n      <g>\n       <use style=\"fill:#555555;stroke:#555555;stroke-width:0.8;\" x=\"222.665495\" xlink:href=\"#m2859a1a1d5\" y=\"224.64\"/>\n      </g>\n     </g>\n     <g id=\"text_5\">\n      <!-- 0.20 -->\n      <g style=\"fill:#555555;\" transform=\"translate(211.532683 239.238438)scale(0.1 -0.1)\">\n       <defs>\n        <path d=\"M 19.1875 8.296875 \nL 53.609375 8.296875 \nL 53.609375 0 \nL 7.328125 0 \nL 7.328125 8.296875 \nQ 12.9375 14.109375 22.625 23.890625 \nQ 32.328125 33.6875 34.8125 36.53125 \nQ 39.546875 41.84375 41.421875 45.53125 \nQ 43.3125 49.21875 43.3125 52.78125 \nQ 43.3125 58.59375 39.234375 62.25 \nQ 35.15625 65.921875 28.609375 65.921875 \nQ 23.96875 65.921875 18.8125 64.3125 \nQ 13.671875 62.703125 7.8125 59.421875 \nL 7.8125 69.390625 \nQ 13.765625 71.78125 18.9375 73 \nQ 24.125 74.21875 28.421875 74.21875 \nQ 39.75 74.21875 46.484375 68.546875 \nQ 53.21875 62.890625 53.21875 53.421875 \nQ 53.21875 48.921875 51.53125 44.890625 \nQ 49.859375 40.875 45.40625 35.40625 \nQ 44.1875 33.984375 37.640625 27.21875 \nQ 31.109375 20.453125 19.1875 8.296875 \nz\n\" id=\"DejaVuSans-50\"/>\n       </defs>\n       <use xlink:href=\"#DejaVuSans-48\"/>\n       <use x=\"63.623047\" xlink:href=\"#DejaVuSans-46\"/>\n       <use x=\"95.410156\" xlink:href=\"#DejaVuSans-50\"/>\n       <use x=\"159.033203\" xlink:href=\"#DejaVuSans-48\"/>\n      </g>\n     </g>\n    </g>\n    <g id=\"xtick_6\">\n     <g id=\"line2d_11\">\n      <path clip-path=\"url(#pef2f48c5f0)\" d=\"M 261.32601 224.64 \nL 261.32601 7.2 \n\" style=\"fill:none;stroke:#ffffff;stroke-linecap:square;stroke-width:0.8;\"/>\n     </g>\n     <g id=\"line2d_12\">\n      <g>\n       <use style=\"fill:#555555;stroke:#555555;stroke-width:0.8;\" x=\"261.32601\" xlink:href=\"#m2859a1a1d5\" y=\"224.64\"/>\n      </g>\n     </g>\n     <g id=\"text_6\">\n      <!-- 0.25 -->\n      <g style=\"fill:#555555;\" transform=\"translate(250.193197 239.238438)scale(0.1 -0.1)\">\n       <use xlink:href=\"#DejaVuSans-48\"/>\n       <use x=\"63.623047\" xlink:href=\"#DejaVuSans-46\"/>\n       <use x=\"95.410156\" xlink:href=\"#DejaVuSans-50\"/>\n       <use x=\"159.033203\" xlink:href=\"#DejaVuSans-53\"/>\n      </g>\n     </g>\n    </g>\n    <g id=\"xtick_7\">\n     <g id=\"line2d_13\">\n      <path clip-path=\"url(#pef2f48c5f0)\" d=\"M 299.986524 224.64 \nL 299.986524 7.2 \n\" style=\"fill:none;stroke:#ffffff;stroke-linecap:square;stroke-width:0.8;\"/>\n     </g>\n     <g id=\"line2d_14\">\n      <g>\n       <use style=\"fill:#555555;stroke:#555555;stroke-width:0.8;\" x=\"299.986524\" xlink:href=\"#m2859a1a1d5\" y=\"224.64\"/>\n      </g>\n     </g>\n     <g id=\"text_7\">\n      <!-- 0.30 -->\n      <g style=\"fill:#555555;\" transform=\"translate(288.853712 239.238438)scale(0.1 -0.1)\">\n       <defs>\n        <path d=\"M 40.578125 39.3125 \nQ 47.65625 37.796875 51.625 33 \nQ 55.609375 28.21875 55.609375 21.1875 \nQ 55.609375 10.40625 48.1875 4.484375 \nQ 40.765625 -1.421875 27.09375 -1.421875 \nQ 22.515625 -1.421875 17.65625 -0.515625 \nQ 12.796875 0.390625 7.625 2.203125 \nL 7.625 11.71875 \nQ 11.71875 9.328125 16.59375 8.109375 \nQ 21.484375 6.890625 26.8125 6.890625 \nQ 36.078125 6.890625 40.9375 10.546875 \nQ 45.796875 14.203125 45.796875 21.1875 \nQ 45.796875 27.640625 41.28125 31.265625 \nQ 36.765625 34.90625 28.71875 34.90625 \nL 20.21875 34.90625 \nL 20.21875 43.015625 \nL 29.109375 43.015625 \nQ 36.375 43.015625 40.234375 45.921875 \nQ 44.09375 48.828125 44.09375 54.296875 \nQ 44.09375 59.90625 40.109375 62.90625 \nQ 36.140625 65.921875 28.71875 65.921875 \nQ 24.65625 65.921875 20.015625 65.03125 \nQ 15.375 64.15625 9.8125 62.3125 \nL 9.8125 71.09375 \nQ 15.4375 72.65625 20.34375 73.4375 \nQ 25.25 74.21875 29.59375 74.21875 \nQ 40.828125 74.21875 47.359375 69.109375 \nQ 53.90625 64.015625 53.90625 55.328125 \nQ 53.90625 49.265625 50.4375 45.09375 \nQ 46.96875 40.921875 40.578125 39.3125 \nz\n\" id=\"DejaVuSans-51\"/>\n       </defs>\n       <use xlink:href=\"#DejaVuSans-48\"/>\n       <use x=\"63.623047\" xlink:href=\"#DejaVuSans-46\"/>\n       <use x=\"95.410156\" xlink:href=\"#DejaVuSans-51\"/>\n       <use x=\"159.033203\" xlink:href=\"#DejaVuSans-48\"/>\n      </g>\n     </g>\n    </g>\n    <g id=\"xtick_8\">\n     <g id=\"line2d_15\">\n      <path clip-path=\"url(#pef2f48c5f0)\" d=\"M 338.647039 224.64 \nL 338.647039 7.2 \n\" style=\"fill:none;stroke:#ffffff;stroke-linecap:square;stroke-width:0.8;\"/>\n     </g>\n     <g id=\"line2d_16\">\n      <g>\n       <use style=\"fill:#555555;stroke:#555555;stroke-width:0.8;\" x=\"338.647039\" xlink:href=\"#m2859a1a1d5\" y=\"224.64\"/>\n      </g>\n     </g>\n     <g id=\"text_8\">\n      <!-- 0.35 -->\n      <g style=\"fill:#555555;\" transform=\"translate(327.514226 239.238438)scale(0.1 -0.1)\">\n       <use xlink:href=\"#DejaVuSans-48\"/>\n       <use x=\"63.623047\" xlink:href=\"#DejaVuSans-46\"/>\n       <use x=\"95.410156\" xlink:href=\"#DejaVuSans-51\"/>\n       <use x=\"159.033203\" xlink:href=\"#DejaVuSans-53\"/>\n      </g>\n     </g>\n    </g>\n    <g id=\"xtick_9\">\n     <g id=\"line2d_17\">\n      <path clip-path=\"url(#pef2f48c5f0)\" d=\"M 377.307553 224.64 \nL 377.307553 7.2 \n\" style=\"fill:none;stroke:#ffffff;stroke-linecap:square;stroke-width:0.8;\"/>\n     </g>\n     <g id=\"line2d_18\">\n      <g>\n       <use style=\"fill:#555555;stroke:#555555;stroke-width:0.8;\" x=\"377.307553\" xlink:href=\"#m2859a1a1d5\" y=\"224.64\"/>\n      </g>\n     </g>\n     <g id=\"text_9\">\n      <!-- 0.40 -->\n      <g style=\"fill:#555555;\" transform=\"translate(366.174741 239.238438)scale(0.1 -0.1)\">\n       <defs>\n        <path d=\"M 37.796875 64.3125 \nL 12.890625 25.390625 \nL 37.796875 25.390625 \nz\nM 35.203125 72.90625 \nL 47.609375 72.90625 \nL 47.609375 25.390625 \nL 58.015625 25.390625 \nL 58.015625 17.1875 \nL 47.609375 17.1875 \nL 47.609375 0 \nL 37.796875 0 \nL 37.796875 17.1875 \nL 4.890625 17.1875 \nL 4.890625 26.703125 \nz\n\" id=\"DejaVuSans-52\"/>\n       </defs>\n       <use xlink:href=\"#DejaVuSans-48\"/>\n       <use x=\"63.623047\" xlink:href=\"#DejaVuSans-46\"/>\n       <use x=\"95.410156\" xlink:href=\"#DejaVuSans-52\"/>\n       <use x=\"159.033203\" xlink:href=\"#DejaVuSans-48\"/>\n      </g>\n     </g>\n    </g>\n   </g>\n   <g id=\"matplotlib.axis_2\">\n    <g id=\"ytick_1\">\n     <g id=\"line2d_19\">\n      <defs>\n       <path d=\"M 0 0 \nL -3.5 0 \n\" id=\"m1377f126d1\" style=\"stroke:#555555;stroke-width:0.8;\"/>\n      </defs>\n      <g>\n       <use style=\"fill:#555555;stroke:#555555;stroke-width:0.8;\" x=\"68.023438\" xlink:href=\"#m1377f126d1\" y=\"15.563077\"/>\n      </g>\n     </g>\n     <g id=\"text_10\">\n      <!-- feature_02 -->\n      <g style=\"fill:#555555;\" transform=\"translate(7.2 19.362296)scale(0.1 -0.1)\">\n       <defs>\n        <path d=\"M 37.109375 75.984375 \nL 37.109375 68.5 \nL 28.515625 68.5 \nQ 23.6875 68.5 21.796875 66.546875 \nQ 19.921875 64.59375 19.921875 59.515625 \nL 19.921875 54.6875 \nL 34.71875 54.6875 \nL 34.71875 47.703125 \nL 19.921875 47.703125 \nL 19.921875 0 \nL 10.890625 0 \nL 10.890625 47.703125 \nL 2.296875 47.703125 \nL 2.296875 54.6875 \nL 10.890625 54.6875 \nL 10.890625 58.5 \nQ 10.890625 67.625 15.140625 71.796875 \nQ 19.390625 75.984375 28.609375 75.984375 \nz\n\" id=\"DejaVuSans-102\"/>\n        <path d=\"M 56.203125 29.59375 \nL 56.203125 25.203125 \nL 14.890625 25.203125 \nQ 15.484375 15.921875 20.484375 11.0625 \nQ 25.484375 6.203125 34.421875 6.203125 \nQ 39.59375 6.203125 44.453125 7.46875 \nQ 49.3125 8.734375 54.109375 11.28125 \nL 54.109375 2.78125 \nQ 49.265625 0.734375 44.1875 -0.34375 \nQ 39.109375 -1.421875 33.890625 -1.421875 \nQ 20.796875 -1.421875 13.15625 6.1875 \nQ 5.515625 13.8125 5.515625 26.8125 \nQ 5.515625 40.234375 12.765625 48.109375 \nQ 20.015625 56 32.328125 56 \nQ 43.359375 56 49.78125 48.890625 \nQ 56.203125 41.796875 56.203125 29.59375 \nz\nM 47.21875 32.234375 \nQ 47.125 39.59375 43.09375 43.984375 \nQ 39.0625 48.390625 32.421875 48.390625 \nQ 24.90625 48.390625 20.390625 44.140625 \nQ 15.875 39.890625 15.1875 32.171875 \nz\n\" id=\"DejaVuSans-101\"/>\n        <path d=\"M 34.28125 27.484375 \nQ 23.390625 27.484375 19.1875 25 \nQ 14.984375 22.515625 14.984375 16.5 \nQ 14.984375 11.71875 18.140625 8.90625 \nQ 21.296875 6.109375 26.703125 6.109375 \nQ 34.1875 6.109375 38.703125 11.40625 \nQ 43.21875 16.703125 43.21875 25.484375 \nL 43.21875 27.484375 \nz\nM 52.203125 31.203125 \nL 52.203125 0 \nL 43.21875 0 \nL 43.21875 8.296875 \nQ 40.140625 3.328125 35.546875 0.953125 \nQ 30.953125 -1.421875 24.3125 -1.421875 \nQ 15.921875 -1.421875 10.953125 3.296875 \nQ 6 8.015625 6 15.921875 \nQ 6 25.140625 12.171875 29.828125 \nQ 18.359375 34.515625 30.609375 34.515625 \nL 43.21875 34.515625 \nL 43.21875 35.40625 \nQ 43.21875 41.609375 39.140625 45 \nQ 35.0625 48.390625 27.6875 48.390625 \nQ 23 48.390625 18.546875 47.265625 \nQ 14.109375 46.140625 10.015625 43.890625 \nL 10.015625 52.203125 \nQ 14.9375 54.109375 19.578125 55.046875 \nQ 24.21875 56 28.609375 56 \nQ 40.484375 56 46.34375 49.84375 \nQ 52.203125 43.703125 52.203125 31.203125 \nz\n\" id=\"DejaVuSans-97\"/>\n        <path d=\"M 18.3125 70.21875 \nL 18.3125 54.6875 \nL 36.8125 54.6875 \nL 36.8125 47.703125 \nL 18.3125 47.703125 \nL 18.3125 18.015625 \nQ 18.3125 11.328125 20.140625 9.421875 \nQ 21.96875 7.515625 27.59375 7.515625 \nL 36.8125 7.515625 \nL 36.8125 0 \nL 27.59375 0 \nQ 17.1875 0 13.234375 3.875 \nQ 9.28125 7.765625 9.28125 18.015625 \nL 9.28125 47.703125 \nL 2.6875 47.703125 \nL 2.6875 54.6875 \nL 9.28125 54.6875 \nL 9.28125 70.21875 \nz\n\" id=\"DejaVuSans-116\"/>\n        <path d=\"M 8.5 21.578125 \nL 8.5 54.6875 \nL 17.484375 54.6875 \nL 17.484375 21.921875 \nQ 17.484375 14.15625 20.5 10.265625 \nQ 23.53125 6.390625 29.59375 6.390625 \nQ 36.859375 6.390625 41.078125 11.03125 \nQ 45.3125 15.671875 45.3125 23.6875 \nL 45.3125 54.6875 \nL 54.296875 54.6875 \nL 54.296875 0 \nL 45.3125 0 \nL 45.3125 8.40625 \nQ 42.046875 3.421875 37.71875 1 \nQ 33.40625 -1.421875 27.6875 -1.421875 \nQ 18.265625 -1.421875 13.375 4.4375 \nQ 8.5 10.296875 8.5 21.578125 \nz\nM 31.109375 56 \nz\n\" id=\"DejaVuSans-117\"/>\n        <path d=\"M 41.109375 46.296875 \nQ 39.59375 47.171875 37.8125 47.578125 \nQ 36.03125 48 33.890625 48 \nQ 26.265625 48 22.1875 43.046875 \nQ 18.109375 38.09375 18.109375 28.8125 \nL 18.109375 0 \nL 9.078125 0 \nL 9.078125 54.6875 \nL 18.109375 54.6875 \nL 18.109375 46.1875 \nQ 20.953125 51.171875 25.484375 53.578125 \nQ 30.03125 56 36.53125 56 \nQ 37.453125 56 38.578125 55.875 \nQ 39.703125 55.765625 41.0625 55.515625 \nz\n\" id=\"DejaVuSans-114\"/>\n        <path d=\"M 50.984375 -16.609375 \nL 50.984375 -23.578125 \nL -0.984375 -23.578125 \nL -0.984375 -16.609375 \nz\n\" id=\"DejaVuSans-95\"/>\n       </defs>\n       <use xlink:href=\"#DejaVuSans-102\"/>\n       <use x=\"35.205078\" xlink:href=\"#DejaVuSans-101\"/>\n       <use x=\"96.728516\" xlink:href=\"#DejaVuSans-97\"/>\n       <use x=\"158.007812\" xlink:href=\"#DejaVuSans-116\"/>\n       <use x=\"197.216797\" xlink:href=\"#DejaVuSans-117\"/>\n       <use x=\"260.595703\" xlink:href=\"#DejaVuSans-114\"/>\n       <use x=\"299.458984\" xlink:href=\"#DejaVuSans-101\"/>\n       <use x=\"360.982422\" xlink:href=\"#DejaVuSans-95\"/>\n       <use x=\"410.982422\" xlink:href=\"#DejaVuSans-48\"/>\n       <use x=\"474.605469\" xlink:href=\"#DejaVuSans-50\"/>\n      </g>\n     </g>\n    </g>\n    <g id=\"ytick_2\">\n     <g id=\"line2d_20\">\n      <g>\n       <use style=\"fill:#555555;stroke:#555555;stroke-width:0.8;\" x=\"68.023438\" xlink:href=\"#m1377f126d1\" y=\"32.289231\"/>\n      </g>\n     </g>\n     <g id=\"text_11\">\n      <!-- feature_03 -->\n      <g style=\"fill:#555555;\" transform=\"translate(7.2 36.08845)scale(0.1 -0.1)\">\n       <use xlink:href=\"#DejaVuSans-102\"/>\n       <use x=\"35.205078\" xlink:href=\"#DejaVuSans-101\"/>\n       <use x=\"96.728516\" xlink:href=\"#DejaVuSans-97\"/>\n       <use x=\"158.007812\" xlink:href=\"#DejaVuSans-116\"/>\n       <use x=\"197.216797\" xlink:href=\"#DejaVuSans-117\"/>\n       <use x=\"260.595703\" xlink:href=\"#DejaVuSans-114\"/>\n       <use x=\"299.458984\" xlink:href=\"#DejaVuSans-101\"/>\n       <use x=\"360.982422\" xlink:href=\"#DejaVuSans-95\"/>\n       <use x=\"410.982422\" xlink:href=\"#DejaVuSans-48\"/>\n       <use x=\"474.605469\" xlink:href=\"#DejaVuSans-51\"/>\n      </g>\n     </g>\n    </g>\n    <g id=\"ytick_3\">\n     <g id=\"line2d_21\">\n      <g>\n       <use style=\"fill:#555555;stroke:#555555;stroke-width:0.8;\" x=\"68.023438\" xlink:href=\"#m1377f126d1\" y=\"49.015385\"/>\n      </g>\n     </g>\n     <g id=\"text_12\">\n      <!-- feature_04 -->\n      <g style=\"fill:#555555;\" transform=\"translate(7.2 52.814603)scale(0.1 -0.1)\">\n       <use xlink:href=\"#DejaVuSans-102\"/>\n       <use x=\"35.205078\" xlink:href=\"#DejaVuSans-101\"/>\n       <use x=\"96.728516\" xlink:href=\"#DejaVuSans-97\"/>\n       <use x=\"158.007812\" xlink:href=\"#DejaVuSans-116\"/>\n       <use x=\"197.216797\" xlink:href=\"#DejaVuSans-117\"/>\n       <use x=\"260.595703\" xlink:href=\"#DejaVuSans-114\"/>\n       <use x=\"299.458984\" xlink:href=\"#DejaVuSans-101\"/>\n       <use x=\"360.982422\" xlink:href=\"#DejaVuSans-95\"/>\n       <use x=\"410.982422\" xlink:href=\"#DejaVuSans-48\"/>\n       <use x=\"474.605469\" xlink:href=\"#DejaVuSans-52\"/>\n      </g>\n     </g>\n    </g>\n    <g id=\"ytick_4\">\n     <g id=\"line2d_22\">\n      <g>\n       <use style=\"fill:#555555;stroke:#555555;stroke-width:0.8;\" x=\"68.023438\" xlink:href=\"#m1377f126d1\" y=\"65.741538\"/>\n      </g>\n     </g>\n     <g id=\"text_13\">\n      <!-- feature_05 -->\n      <g style=\"fill:#555555;\" transform=\"translate(7.2 69.540757)scale(0.1 -0.1)\">\n       <use xlink:href=\"#DejaVuSans-102\"/>\n       <use x=\"35.205078\" xlink:href=\"#DejaVuSans-101\"/>\n       <use x=\"96.728516\" xlink:href=\"#DejaVuSans-97\"/>\n       <use x=\"158.007812\" xlink:href=\"#DejaVuSans-116\"/>\n       <use x=\"197.216797\" xlink:href=\"#DejaVuSans-117\"/>\n       <use x=\"260.595703\" xlink:href=\"#DejaVuSans-114\"/>\n       <use x=\"299.458984\" xlink:href=\"#DejaVuSans-101\"/>\n       <use x=\"360.982422\" xlink:href=\"#DejaVuSans-95\"/>\n       <use x=\"410.982422\" xlink:href=\"#DejaVuSans-48\"/>\n       <use x=\"474.605469\" xlink:href=\"#DejaVuSans-53\"/>\n      </g>\n     </g>\n    </g>\n    <g id=\"ytick_5\">\n     <g id=\"line2d_23\">\n      <g>\n       <use style=\"fill:#555555;stroke:#555555;stroke-width:0.8;\" x=\"68.023438\" xlink:href=\"#m1377f126d1\" y=\"82.467692\"/>\n      </g>\n     </g>\n     <g id=\"text_14\">\n      <!-- feature_06 -->\n      <g style=\"fill:#555555;\" transform=\"translate(7.2 86.266911)scale(0.1 -0.1)\">\n       <defs>\n        <path d=\"M 33.015625 40.375 \nQ 26.375 40.375 22.484375 35.828125 \nQ 18.609375 31.296875 18.609375 23.390625 \nQ 18.609375 15.53125 22.484375 10.953125 \nQ 26.375 6.390625 33.015625 6.390625 \nQ 39.65625 6.390625 43.53125 10.953125 \nQ 47.40625 15.53125 47.40625 23.390625 \nQ 47.40625 31.296875 43.53125 35.828125 \nQ 39.65625 40.375 33.015625 40.375 \nz\nM 52.59375 71.296875 \nL 52.59375 62.3125 \nQ 48.875 64.0625 45.09375 64.984375 \nQ 41.3125 65.921875 37.59375 65.921875 \nQ 27.828125 65.921875 22.671875 59.328125 \nQ 17.53125 52.734375 16.796875 39.40625 \nQ 19.671875 43.65625 24.015625 45.921875 \nQ 28.375 48.1875 33.59375 48.1875 \nQ 44.578125 48.1875 50.953125 41.515625 \nQ 57.328125 34.859375 57.328125 23.390625 \nQ 57.328125 12.15625 50.6875 5.359375 \nQ 44.046875 -1.421875 33.015625 -1.421875 \nQ 20.359375 -1.421875 13.671875 8.265625 \nQ 6.984375 17.96875 6.984375 36.375 \nQ 6.984375 53.65625 15.1875 63.9375 \nQ 23.390625 74.21875 37.203125 74.21875 \nQ 40.921875 74.21875 44.703125 73.484375 \nQ 48.484375 72.75 52.59375 71.296875 \nz\n\" id=\"DejaVuSans-54\"/>\n       </defs>\n       <use xlink:href=\"#DejaVuSans-102\"/>\n       <use x=\"35.205078\" xlink:href=\"#DejaVuSans-101\"/>\n       <use x=\"96.728516\" xlink:href=\"#DejaVuSans-97\"/>\n       <use x=\"158.007812\" xlink:href=\"#DejaVuSans-116\"/>\n       <use x=\"197.216797\" xlink:href=\"#DejaVuSans-117\"/>\n       <use x=\"260.595703\" xlink:href=\"#DejaVuSans-114\"/>\n       <use x=\"299.458984\" xlink:href=\"#DejaVuSans-101\"/>\n       <use x=\"360.982422\" xlink:href=\"#DejaVuSans-95\"/>\n       <use x=\"410.982422\" xlink:href=\"#DejaVuSans-48\"/>\n       <use x=\"474.605469\" xlink:href=\"#DejaVuSans-54\"/>\n      </g>\n     </g>\n    </g>\n    <g id=\"ytick_6\">\n     <g id=\"line2d_24\">\n      <g>\n       <use style=\"fill:#555555;stroke:#555555;stroke-width:0.8;\" x=\"68.023438\" xlink:href=\"#m1377f126d1\" y=\"99.193846\"/>\n      </g>\n     </g>\n     <g id=\"text_15\">\n      <!-- feature_07 -->\n      <g style=\"fill:#555555;\" transform=\"translate(7.2 102.993065)scale(0.1 -0.1)\">\n       <defs>\n        <path d=\"M 8.203125 72.90625 \nL 55.078125 72.90625 \nL 55.078125 68.703125 \nL 28.609375 0 \nL 18.3125 0 \nL 43.21875 64.59375 \nL 8.203125 64.59375 \nz\n\" id=\"DejaVuSans-55\"/>\n       </defs>\n       <use xlink:href=\"#DejaVuSans-102\"/>\n       <use x=\"35.205078\" xlink:href=\"#DejaVuSans-101\"/>\n       <use x=\"96.728516\" xlink:href=\"#DejaVuSans-97\"/>\n       <use x=\"158.007812\" xlink:href=\"#DejaVuSans-116\"/>\n       <use x=\"197.216797\" xlink:href=\"#DejaVuSans-117\"/>\n       <use x=\"260.595703\" xlink:href=\"#DejaVuSans-114\"/>\n       <use x=\"299.458984\" xlink:href=\"#DejaVuSans-101\"/>\n       <use x=\"360.982422\" xlink:href=\"#DejaVuSans-95\"/>\n       <use x=\"410.982422\" xlink:href=\"#DejaVuSans-48\"/>\n       <use x=\"474.605469\" xlink:href=\"#DejaVuSans-55\"/>\n      </g>\n     </g>\n    </g>\n    <g id=\"ytick_7\">\n     <g id=\"line2d_25\">\n      <g>\n       <use style=\"fill:#555555;stroke:#555555;stroke-width:0.8;\" x=\"68.023438\" xlink:href=\"#m1377f126d1\" y=\"115.92\"/>\n      </g>\n     </g>\n     <g id=\"text_16\">\n      <!-- feature_09 -->\n      <g style=\"fill:#555555;\" transform=\"translate(7.2 119.719219)scale(0.1 -0.1)\">\n       <defs>\n        <path d=\"M 10.984375 1.515625 \nL 10.984375 10.5 \nQ 14.703125 8.734375 18.5 7.8125 \nQ 22.3125 6.890625 25.984375 6.890625 \nQ 35.75 6.890625 40.890625 13.453125 \nQ 46.046875 20.015625 46.78125 33.40625 \nQ 43.953125 29.203125 39.59375 26.953125 \nQ 35.25 24.703125 29.984375 24.703125 \nQ 19.046875 24.703125 12.671875 31.3125 \nQ 6.296875 37.9375 6.296875 49.421875 \nQ 6.296875 60.640625 12.9375 67.421875 \nQ 19.578125 74.21875 30.609375 74.21875 \nQ 43.265625 74.21875 49.921875 64.515625 \nQ 56.59375 54.828125 56.59375 36.375 \nQ 56.59375 19.140625 48.40625 8.859375 \nQ 40.234375 -1.421875 26.421875 -1.421875 \nQ 22.703125 -1.421875 18.890625 -0.6875 \nQ 15.09375 0.046875 10.984375 1.515625 \nz\nM 30.609375 32.421875 \nQ 37.25 32.421875 41.125 36.953125 \nQ 45.015625 41.5 45.015625 49.421875 \nQ 45.015625 57.28125 41.125 61.84375 \nQ 37.25 66.40625 30.609375 66.40625 \nQ 23.96875 66.40625 20.09375 61.84375 \nQ 16.21875 57.28125 16.21875 49.421875 \nQ 16.21875 41.5 20.09375 36.953125 \nQ 23.96875 32.421875 30.609375 32.421875 \nz\n\" id=\"DejaVuSans-57\"/>\n       </defs>\n       <use xlink:href=\"#DejaVuSans-102\"/>\n       <use x=\"35.205078\" xlink:href=\"#DejaVuSans-101\"/>\n       <use x=\"96.728516\" xlink:href=\"#DejaVuSans-97\"/>\n       <use x=\"158.007812\" xlink:href=\"#DejaVuSans-116\"/>\n       <use x=\"197.216797\" xlink:href=\"#DejaVuSans-117\"/>\n       <use x=\"260.595703\" xlink:href=\"#DejaVuSans-114\"/>\n       <use x=\"299.458984\" xlink:href=\"#DejaVuSans-101\"/>\n       <use x=\"360.982422\" xlink:href=\"#DejaVuSans-95\"/>\n       <use x=\"410.982422\" xlink:href=\"#DejaVuSans-48\"/>\n       <use x=\"474.605469\" xlink:href=\"#DejaVuSans-57\"/>\n      </g>\n     </g>\n    </g>\n    <g id=\"ytick_8\">\n     <g id=\"line2d_26\">\n      <g>\n       <use style=\"fill:#555555;stroke:#555555;stroke-width:0.8;\" x=\"68.023438\" xlink:href=\"#m1377f126d1\" y=\"132.646154\"/>\n      </g>\n     </g>\n     <g id=\"text_17\">\n      <!-- feature_10 -->\n      <g style=\"fill:#555555;\" transform=\"translate(7.2 136.445373)scale(0.1 -0.1)\">\n       <use xlink:href=\"#DejaVuSans-102\"/>\n       <use x=\"35.205078\" xlink:href=\"#DejaVuSans-101\"/>\n       <use x=\"96.728516\" xlink:href=\"#DejaVuSans-97\"/>\n       <use x=\"158.007812\" xlink:href=\"#DejaVuSans-116\"/>\n       <use x=\"197.216797\" xlink:href=\"#DejaVuSans-117\"/>\n       <use x=\"260.595703\" xlink:href=\"#DejaVuSans-114\"/>\n       <use x=\"299.458984\" xlink:href=\"#DejaVuSans-101\"/>\n       <use x=\"360.982422\" xlink:href=\"#DejaVuSans-95\"/>\n       <use x=\"410.982422\" xlink:href=\"#DejaVuSans-49\"/>\n       <use x=\"474.605469\" xlink:href=\"#DejaVuSans-48\"/>\n      </g>\n     </g>\n    </g>\n    <g id=\"ytick_9\">\n     <g id=\"line2d_27\">\n      <g>\n       <use style=\"fill:#555555;stroke:#555555;stroke-width:0.8;\" x=\"68.023438\" xlink:href=\"#m1377f126d1\" y=\"149.372308\"/>\n      </g>\n     </g>\n     <g id=\"text_18\">\n      <!-- contagem -->\n      <g style=\"fill:#555555;\" transform=\"translate(10.778125 153.171526)scale(0.1 -0.1)\">\n       <defs>\n        <path d=\"M 48.78125 52.59375 \nL 48.78125 44.1875 \nQ 44.96875 46.296875 41.140625 47.34375 \nQ 37.3125 48.390625 33.40625 48.390625 \nQ 24.65625 48.390625 19.8125 42.84375 \nQ 14.984375 37.3125 14.984375 27.296875 \nQ 14.984375 17.28125 19.8125 11.734375 \nQ 24.65625 6.203125 33.40625 6.203125 \nQ 37.3125 6.203125 41.140625 7.25 \nQ 44.96875 8.296875 48.78125 10.40625 \nL 48.78125 2.09375 \nQ 45.015625 0.34375 40.984375 -0.53125 \nQ 36.96875 -1.421875 32.421875 -1.421875 \nQ 20.0625 -1.421875 12.78125 6.34375 \nQ 5.515625 14.109375 5.515625 27.296875 \nQ 5.515625 40.671875 12.859375 48.328125 \nQ 20.21875 56 33.015625 56 \nQ 37.15625 56 41.109375 55.140625 \nQ 45.0625 54.296875 48.78125 52.59375 \nz\n\" id=\"DejaVuSans-99\"/>\n        <path d=\"M 30.609375 48.390625 \nQ 23.390625 48.390625 19.1875 42.75 \nQ 14.984375 37.109375 14.984375 27.296875 \nQ 14.984375 17.484375 19.15625 11.84375 \nQ 23.34375 6.203125 30.609375 6.203125 \nQ 37.796875 6.203125 41.984375 11.859375 \nQ 46.1875 17.53125 46.1875 27.296875 \nQ 46.1875 37.015625 41.984375 42.703125 \nQ 37.796875 48.390625 30.609375 48.390625 \nz\nM 30.609375 56 \nQ 42.328125 56 49.015625 48.375 \nQ 55.71875 40.765625 55.71875 27.296875 \nQ 55.71875 13.875 49.015625 6.21875 \nQ 42.328125 -1.421875 30.609375 -1.421875 \nQ 18.84375 -1.421875 12.171875 6.21875 \nQ 5.515625 13.875 5.515625 27.296875 \nQ 5.515625 40.765625 12.171875 48.375 \nQ 18.84375 56 30.609375 56 \nz\n\" id=\"DejaVuSans-111\"/>\n        <path d=\"M 54.890625 33.015625 \nL 54.890625 0 \nL 45.90625 0 \nL 45.90625 32.71875 \nQ 45.90625 40.484375 42.875 44.328125 \nQ 39.84375 48.1875 33.796875 48.1875 \nQ 26.515625 48.1875 22.3125 43.546875 \nQ 18.109375 38.921875 18.109375 30.90625 \nL 18.109375 0 \nL 9.078125 0 \nL 9.078125 54.6875 \nL 18.109375 54.6875 \nL 18.109375 46.1875 \nQ 21.34375 51.125 25.703125 53.5625 \nQ 30.078125 56 35.796875 56 \nQ 45.21875 56 50.046875 50.171875 \nQ 54.890625 44.34375 54.890625 33.015625 \nz\n\" id=\"DejaVuSans-110\"/>\n        <path d=\"M 45.40625 27.984375 \nQ 45.40625 37.75 41.375 43.109375 \nQ 37.359375 48.484375 30.078125 48.484375 \nQ 22.859375 48.484375 18.828125 43.109375 \nQ 14.796875 37.75 14.796875 27.984375 \nQ 14.796875 18.265625 18.828125 12.890625 \nQ 22.859375 7.515625 30.078125 7.515625 \nQ 37.359375 7.515625 41.375 12.890625 \nQ 45.40625 18.265625 45.40625 27.984375 \nz\nM 54.390625 6.78125 \nQ 54.390625 -7.171875 48.1875 -13.984375 \nQ 42 -20.796875 29.203125 -20.796875 \nQ 24.46875 -20.796875 20.265625 -20.09375 \nQ 16.0625 -19.390625 12.109375 -17.921875 \nL 12.109375 -9.1875 \nQ 16.0625 -11.328125 19.921875 -12.34375 \nQ 23.78125 -13.375 27.78125 -13.375 \nQ 36.625 -13.375 41.015625 -8.765625 \nQ 45.40625 -4.15625 45.40625 5.171875 \nL 45.40625 9.625 \nQ 42.625 4.78125 38.28125 2.390625 \nQ 33.9375 0 27.875 0 \nQ 17.828125 0 11.671875 7.65625 \nQ 5.515625 15.328125 5.515625 27.984375 \nQ 5.515625 40.671875 11.671875 48.328125 \nQ 17.828125 56 27.875 56 \nQ 33.9375 56 38.28125 53.609375 \nQ 42.625 51.21875 45.40625 46.390625 \nL 45.40625 54.6875 \nL 54.390625 54.6875 \nz\n\" id=\"DejaVuSans-103\"/>\n        <path d=\"M 52 44.1875 \nQ 55.375 50.25 60.0625 53.125 \nQ 64.75 56 71.09375 56 \nQ 79.640625 56 84.28125 50.015625 \nQ 88.921875 44.046875 88.921875 33.015625 \nL 88.921875 0 \nL 79.890625 0 \nL 79.890625 32.71875 \nQ 79.890625 40.578125 77.09375 44.375 \nQ 74.3125 48.1875 68.609375 48.1875 \nQ 61.625 48.1875 57.5625 43.546875 \nQ 53.515625 38.921875 53.515625 30.90625 \nL 53.515625 0 \nL 44.484375 0 \nL 44.484375 32.71875 \nQ 44.484375 40.625 41.703125 44.40625 \nQ 38.921875 48.1875 33.109375 48.1875 \nQ 26.21875 48.1875 22.15625 43.53125 \nQ 18.109375 38.875 18.109375 30.90625 \nL 18.109375 0 \nL 9.078125 0 \nL 9.078125 54.6875 \nL 18.109375 54.6875 \nL 18.109375 46.1875 \nQ 21.1875 51.21875 25.484375 53.609375 \nQ 29.78125 56 35.6875 56 \nQ 41.65625 56 45.828125 52.96875 \nQ 50 49.953125 52 44.1875 \nz\n\" id=\"DejaVuSans-109\"/>\n       </defs>\n       <use xlink:href=\"#DejaVuSans-99\"/>\n       <use x=\"54.980469\" xlink:href=\"#DejaVuSans-111\"/>\n       <use x=\"116.162109\" xlink:href=\"#DejaVuSans-110\"/>\n       <use x=\"179.541016\" xlink:href=\"#DejaVuSans-116\"/>\n       <use x=\"218.75\" xlink:href=\"#DejaVuSans-97\"/>\n       <use x=\"280.029297\" xlink:href=\"#DejaVuSans-103\"/>\n       <use x=\"343.505859\" xlink:href=\"#DejaVuSans-101\"/>\n       <use x=\"405.029297\" xlink:href=\"#DejaVuSans-109\"/>\n      </g>\n     </g>\n    </g>\n    <g id=\"ytick_10\">\n     <g id=\"line2d_28\">\n      <g>\n       <use style=\"fill:#555555;stroke:#555555;stroke-width:0.8;\" x=\"68.023438\" xlink:href=\"#m1377f126d1\" y=\"166.098462\"/>\n      </g>\n     </g>\n     <g id=\"text_19\">\n      <!-- UF_COD -->\n      <g style=\"fill:#555555;\" transform=\"translate(20.398438 169.809399)scale(0.1 -0.1)\">\n       <defs>\n        <path d=\"M 8.6875 72.90625 \nL 18.609375 72.90625 \nL 18.609375 28.609375 \nQ 18.609375 16.890625 22.84375 11.734375 \nQ 27.09375 6.59375 36.625 6.59375 \nQ 46.09375 6.59375 50.34375 11.734375 \nQ 54.59375 16.890625 54.59375 28.609375 \nL 54.59375 72.90625 \nL 64.5 72.90625 \nL 64.5 27.390625 \nQ 64.5 13.140625 57.4375 5.859375 \nQ 50.390625 -1.421875 36.625 -1.421875 \nQ 22.796875 -1.421875 15.734375 5.859375 \nQ 8.6875 13.140625 8.6875 27.390625 \nz\n\" id=\"DejaVuSans-85\"/>\n        <path d=\"M 9.8125 72.90625 \nL 51.703125 72.90625 \nL 51.703125 64.59375 \nL 19.671875 64.59375 \nL 19.671875 43.109375 \nL 48.578125 43.109375 \nL 48.578125 34.8125 \nL 19.671875 34.8125 \nL 19.671875 0 \nL 9.8125 0 \nz\n\" id=\"DejaVuSans-70\"/>\n        <path d=\"M 64.40625 67.28125 \nL 64.40625 56.890625 \nQ 59.421875 61.53125 53.78125 63.8125 \nQ 48.140625 66.109375 41.796875 66.109375 \nQ 29.296875 66.109375 22.65625 58.46875 \nQ 16.015625 50.828125 16.015625 36.375 \nQ 16.015625 21.96875 22.65625 14.328125 \nQ 29.296875 6.6875 41.796875 6.6875 \nQ 48.140625 6.6875 53.78125 8.984375 \nQ 59.421875 11.28125 64.40625 15.921875 \nL 64.40625 5.609375 \nQ 59.234375 2.09375 53.4375 0.328125 \nQ 47.65625 -1.421875 41.21875 -1.421875 \nQ 24.65625 -1.421875 15.125 8.703125 \nQ 5.609375 18.84375 5.609375 36.375 \nQ 5.609375 53.953125 15.125 64.078125 \nQ 24.65625 74.21875 41.21875 74.21875 \nQ 47.75 74.21875 53.53125 72.484375 \nQ 59.328125 70.75 64.40625 67.28125 \nz\n\" id=\"DejaVuSans-67\"/>\n        <path d=\"M 39.40625 66.21875 \nQ 28.65625 66.21875 22.328125 58.203125 \nQ 16.015625 50.203125 16.015625 36.375 \nQ 16.015625 22.609375 22.328125 14.59375 \nQ 28.65625 6.59375 39.40625 6.59375 \nQ 50.140625 6.59375 56.421875 14.59375 \nQ 62.703125 22.609375 62.703125 36.375 \nQ 62.703125 50.203125 56.421875 58.203125 \nQ 50.140625 66.21875 39.40625 66.21875 \nz\nM 39.40625 74.21875 \nQ 54.734375 74.21875 63.90625 63.9375 \nQ 73.09375 53.65625 73.09375 36.375 \nQ 73.09375 19.140625 63.90625 8.859375 \nQ 54.734375 -1.421875 39.40625 -1.421875 \nQ 24.03125 -1.421875 14.8125 8.828125 \nQ 5.609375 19.09375 5.609375 36.375 \nQ 5.609375 53.65625 14.8125 63.9375 \nQ 24.03125 74.21875 39.40625 74.21875 \nz\n\" id=\"DejaVuSans-79\"/>\n        <path d=\"M 19.671875 64.796875 \nL 19.671875 8.109375 \nL 31.59375 8.109375 \nQ 46.6875 8.109375 53.6875 14.9375 \nQ 60.6875 21.78125 60.6875 36.53125 \nQ 60.6875 51.171875 53.6875 57.984375 \nQ 46.6875 64.796875 31.59375 64.796875 \nz\nM 9.8125 72.90625 \nL 30.078125 72.90625 \nQ 51.265625 72.90625 61.171875 64.09375 \nQ 71.09375 55.28125 71.09375 36.53125 \nQ 71.09375 17.671875 61.125 8.828125 \nQ 51.171875 0 30.078125 0 \nL 9.8125 0 \nz\n\" id=\"DejaVuSans-68\"/>\n       </defs>\n       <use xlink:href=\"#DejaVuSans-85\"/>\n       <use x=\"73.193359\" xlink:href=\"#DejaVuSans-70\"/>\n       <use x=\"130.712891\" xlink:href=\"#DejaVuSans-95\"/>\n       <use x=\"180.712891\" xlink:href=\"#DejaVuSans-67\"/>\n       <use x=\"250.537109\" xlink:href=\"#DejaVuSans-79\"/>\n       <use x=\"329.248047\" xlink:href=\"#DejaVuSans-68\"/>\n      </g>\n     </g>\n    </g>\n    <g id=\"ytick_11\">\n     <g id=\"line2d_29\">\n      <g>\n       <use style=\"fill:#555555;stroke:#555555;stroke-width:0.8;\" x=\"68.023438\" xlink:href=\"#m1377f126d1\" y=\"182.824615\"/>\n      </g>\n     </g>\n     <g id=\"text_20\">\n      <!-- month -->\n      <g style=\"fill:#555555;\" transform=\"translate(28.56875 186.623834)scale(0.1 -0.1)\">\n       <defs>\n        <path d=\"M 54.890625 33.015625 \nL 54.890625 0 \nL 45.90625 0 \nL 45.90625 32.71875 \nQ 45.90625 40.484375 42.875 44.328125 \nQ 39.84375 48.1875 33.796875 48.1875 \nQ 26.515625 48.1875 22.3125 43.546875 \nQ 18.109375 38.921875 18.109375 30.90625 \nL 18.109375 0 \nL 9.078125 0 \nL 9.078125 75.984375 \nL 18.109375 75.984375 \nL 18.109375 46.1875 \nQ 21.34375 51.125 25.703125 53.5625 \nQ 30.078125 56 35.796875 56 \nQ 45.21875 56 50.046875 50.171875 \nQ 54.890625 44.34375 54.890625 33.015625 \nz\n\" id=\"DejaVuSans-104\"/>\n       </defs>\n       <use xlink:href=\"#DejaVuSans-109\"/>\n       <use x=\"97.412109\" xlink:href=\"#DejaVuSans-111\"/>\n       <use x=\"158.59375\" xlink:href=\"#DejaVuSans-110\"/>\n       <use x=\"221.972656\" xlink:href=\"#DejaVuSans-116\"/>\n       <use x=\"261.181641\" xlink:href=\"#DejaVuSans-104\"/>\n      </g>\n     </g>\n    </g>\n    <g id=\"ytick_12\">\n     <g id=\"line2d_30\">\n      <g>\n       <use style=\"fill:#555555;stroke:#555555;stroke-width:0.8;\" x=\"68.023438\" xlink:href=\"#m1377f126d1\" y=\"199.550769\"/>\n      </g>\n     </g>\n     <g id=\"text_21\">\n      <!-- quarter -->\n      <g style=\"fill:#555555;\" transform=\"translate(23.914062 203.349988)scale(0.1 -0.1)\">\n       <defs>\n        <path d=\"M 14.796875 27.296875 \nQ 14.796875 17.390625 18.875 11.75 \nQ 22.953125 6.109375 30.078125 6.109375 \nQ 37.203125 6.109375 41.296875 11.75 \nQ 45.40625 17.390625 45.40625 27.296875 \nQ 45.40625 37.203125 41.296875 42.84375 \nQ 37.203125 48.484375 30.078125 48.484375 \nQ 22.953125 48.484375 18.875 42.84375 \nQ 14.796875 37.203125 14.796875 27.296875 \nz\nM 45.40625 8.203125 \nQ 42.578125 3.328125 38.25 0.953125 \nQ 33.9375 -1.421875 27.875 -1.421875 \nQ 17.96875 -1.421875 11.734375 6.484375 \nQ 5.515625 14.40625 5.515625 27.296875 \nQ 5.515625 40.1875 11.734375 48.09375 \nQ 17.96875 56 27.875 56 \nQ 33.9375 56 38.25 53.625 \nQ 42.578125 51.265625 45.40625 46.390625 \nL 45.40625 54.6875 \nL 54.390625 54.6875 \nL 54.390625 -20.796875 \nL 45.40625 -20.796875 \nz\n\" id=\"DejaVuSans-113\"/>\n       </defs>\n       <use xlink:href=\"#DejaVuSans-113\"/>\n       <use x=\"63.476562\" xlink:href=\"#DejaVuSans-117\"/>\n       <use x=\"126.855469\" xlink:href=\"#DejaVuSans-97\"/>\n       <use x=\"188.134766\" xlink:href=\"#DejaVuSans-114\"/>\n       <use x=\"229.248047\" xlink:href=\"#DejaVuSans-116\"/>\n       <use x=\"268.457031\" xlink:href=\"#DejaVuSans-101\"/>\n       <use x=\"329.980469\" xlink:href=\"#DejaVuSans-114\"/>\n      </g>\n     </g>\n    </g>\n    <g id=\"ytick_13\">\n     <g id=\"line2d_31\">\n      <g>\n       <use style=\"fill:#555555;stroke:#555555;stroke-width:0.8;\" x=\"68.023438\" xlink:href=\"#m1377f126d1\" y=\"216.276923\"/>\n      </g>\n     </g>\n     <g id=\"text_22\">\n      <!-- year -->\n      <g style=\"fill:#555555;\" transform=\"translate(38.7125 220.076142)scale(0.1 -0.1)\">\n       <defs>\n        <path d=\"M 32.171875 -5.078125 \nQ 28.375 -14.84375 24.75 -17.8125 \nQ 21.140625 -20.796875 15.09375 -20.796875 \nL 7.90625 -20.796875 \nL 7.90625 -13.28125 \nL 13.1875 -13.28125 \nQ 16.890625 -13.28125 18.9375 -11.515625 \nQ 21 -9.765625 23.484375 -3.21875 \nL 25.09375 0.875 \nL 2.984375 54.6875 \nL 12.5 54.6875 \nL 29.59375 11.921875 \nL 46.6875 54.6875 \nL 56.203125 54.6875 \nz\n\" id=\"DejaVuSans-121\"/>\n       </defs>\n       <use xlink:href=\"#DejaVuSans-121\"/>\n       <use x=\"59.179688\" xlink:href=\"#DejaVuSans-101\"/>\n       <use x=\"120.703125\" xlink:href=\"#DejaVuSans-97\"/>\n       <use x=\"181.982422\" xlink:href=\"#DejaVuSans-114\"/>\n      </g>\n     </g>\n    </g>\n   </g>\n   <g id=\"patch_3\">\n    <path clip-path=\"url(#pef2f48c5f0)\" d=\"M 68.023438 8.872615 \nL 77.172335 8.872615 \nL 77.172335 22.253538 \nL 68.023438 22.253538 \nz\n\" style=\"fill:#ea96a3;\"/>\n   </g>\n   <g id=\"patch_4\">\n    <path clip-path=\"url(#pef2f48c5f0)\" d=\"M 68.023438 25.598769 \nL 70.966852 25.598769 \nL 70.966852 38.979692 \nL 68.023438 38.979692 \nz\n\" style=\"fill:#e39361;\"/>\n   </g>\n   <g id=\"patch_5\">\n    <path clip-path=\"url(#pef2f48c5f0)\" d=\"M 68.023438 42.324923 \nL 224.400547 42.324923 \nL 224.400547 55.705846 \nL 68.023438 55.705846 \nz\n\" style=\"fill:#be9b4a;\"/>\n   </g>\n   <g id=\"patch_6\">\n    <path clip-path=\"url(#pef2f48c5f0)\" d=\"M 68.023438 59.051077 \nL 95.781172 59.051077 \nL 95.781172 72.432 \nL 68.023438 72.432 \nz\n\" style=\"fill:#9fa045;\"/>\n   </g>\n   <g id=\"patch_7\">\n    <path clip-path=\"url(#pef2f48c5f0)\" d=\"M 68.023438 75.777231 \nL 386.88058 75.777231 \nL 386.88058 89.158154 \nL 68.023438 89.158154 \nz\n\" style=\"fill:#7aaa47;\"/>\n   </g>\n   <g id=\"patch_8\">\n    <path clip-path=\"url(#pef2f48c5f0)\" d=\"M 68.023438 92.503385 \nL 94.000914 92.503385 \nL 94.000914 105.884308 \nL 68.023438 105.884308 \nz\n\" style=\"fill:#49af79;\"/>\n   </g>\n   <g id=\"patch_9\">\n    <path clip-path=\"url(#pef2f48c5f0)\" d=\"M 68.023438 109.229538 \nL 121.80383 109.229538 \nL 121.80383 122.610462 \nL 68.023438 122.610462 \nz\n\" style=\"fill:#4aac9a;\"/>\n   </g>\n   <g id=\"patch_10\">\n    <path clip-path=\"url(#pef2f48c5f0)\" d=\"M 68.023438 125.955692 \nL 96.472591 125.955692 \nL 96.472591 139.336615 \nL 68.023438 139.336615 \nz\n\" style=\"fill:#4cabae;\"/>\n   </g>\n   <g id=\"patch_11\">\n    <path clip-path=\"url(#pef2f48c5f0)\" d=\"M 68.023438 142.681846 \nL 72.042064 142.681846 \nL 72.042064 156.062769 \nL 68.023438 156.062769 \nz\n\" style=\"fill:#52acc9;\"/>\n   </g>\n   <g id=\"patch_12\">\n    <path clip-path=\"url(#pef2f48c5f0)\" d=\"M 68.023438 159.408 \nL 87.335569 159.408 \nL 87.335569 172.788923 \nL 68.023438 172.788923 \nz\n\" style=\"fill:#8daee7;\"/>\n   </g>\n   <g id=\"patch_13\">\n    <path clip-path=\"url(#pef2f48c5f0)\" d=\"M 68.023438 176.134154 \nL 187.146454 176.134154 \nL 187.146454 189.515077 \nL 68.023438 189.515077 \nz\n\" style=\"fill:#bfa3ea;\"/>\n   </g>\n   <g id=\"patch_14\">\n    <path clip-path=\"url(#pef2f48c5f0)\" d=\"M 68.023438 192.860308 \nL 71.541788 192.860308 \nL 71.541788 206.241231 \nL 68.023438 206.241231 \nz\n\" style=\"fill:#e689e6;\"/>\n   </g>\n   <g id=\"patch_15\">\n    <path clip-path=\"url(#pef2f48c5f0)\" d=\"M 68.023438 209.586462 \nL 71.970282 209.586462 \nL 71.970282 222.967385 \nL 68.023438 222.967385 \nz\n\" style=\"fill:#e891c3;\"/>\n   </g>\n   <g id=\"line2d_32\">\n    <path clip-path=\"url(#pef2f48c5f0)\" d=\"M 0 0 \n\" style=\"fill:none;stroke:#424242;stroke-linecap:square;stroke-width:2.7;\"/>\n   </g>\n   <g id=\"line2d_33\">\n    <path clip-path=\"url(#pef2f48c5f0)\" d=\"M 0 0 \n\" style=\"fill:none;stroke:#424242;stroke-linecap:square;stroke-width:2.7;\"/>\n   </g>\n   <g id=\"line2d_34\">\n    <path clip-path=\"url(#pef2f48c5f0)\" d=\"M 0 0 \n\" style=\"fill:none;stroke:#424242;stroke-linecap:square;stroke-width:2.7;\"/>\n   </g>\n   <g id=\"line2d_35\">\n    <path clip-path=\"url(#pef2f48c5f0)\" d=\"M 0 0 \n\" style=\"fill:none;stroke:#424242;stroke-linecap:square;stroke-width:2.7;\"/>\n   </g>\n   <g id=\"line2d_36\">\n    <path clip-path=\"url(#pef2f48c5f0)\" d=\"M 0 0 \n\" style=\"fill:none;stroke:#424242;stroke-linecap:square;stroke-width:2.7;\"/>\n   </g>\n   <g id=\"line2d_37\">\n    <path clip-path=\"url(#pef2f48c5f0)\" d=\"M 0 0 \n\" style=\"fill:none;stroke:#424242;stroke-linecap:square;stroke-width:2.7;\"/>\n   </g>\n   <g id=\"line2d_38\">\n    <path clip-path=\"url(#pef2f48c5f0)\" d=\"M 0 0 \n\" style=\"fill:none;stroke:#424242;stroke-linecap:square;stroke-width:2.7;\"/>\n   </g>\n   <g id=\"line2d_39\">\n    <path clip-path=\"url(#pef2f48c5f0)\" d=\"M 0 0 \n\" style=\"fill:none;stroke:#424242;stroke-linecap:square;stroke-width:2.7;\"/>\n   </g>\n   <g id=\"line2d_40\">\n    <path clip-path=\"url(#pef2f48c5f0)\" d=\"M 0 0 \n\" style=\"fill:none;stroke:#424242;stroke-linecap:square;stroke-width:2.7;\"/>\n   </g>\n   <g id=\"line2d_41\">\n    <path clip-path=\"url(#pef2f48c5f0)\" d=\"M 0 0 \n\" style=\"fill:none;stroke:#424242;stroke-linecap:square;stroke-width:2.7;\"/>\n   </g>\n   <g id=\"line2d_42\">\n    <path clip-path=\"url(#pef2f48c5f0)\" d=\"M 0 0 \n\" style=\"fill:none;stroke:#424242;stroke-linecap:square;stroke-width:2.7;\"/>\n   </g>\n   <g id=\"line2d_43\">\n    <path clip-path=\"url(#pef2f48c5f0)\" d=\"M 0 0 \n\" style=\"fill:none;stroke:#424242;stroke-linecap:square;stroke-width:2.7;\"/>\n   </g>\n   <g id=\"line2d_44\">\n    <path clip-path=\"url(#pef2f48c5f0)\" d=\"M 0 0 \n\" style=\"fill:none;stroke:#424242;stroke-linecap:square;stroke-width:2.7;\"/>\n   </g>\n   <g id=\"patch_16\">\n    <path d=\"M 68.023438 224.64 \nL 68.023438 7.2 \n\" style=\"fill:none;stroke:#ffffff;stroke-linecap:square;stroke-linejoin:miter;\"/>\n   </g>\n   <g id=\"patch_17\">\n    <path d=\"M 402.823438 224.64 \nL 402.823438 7.2 \n\" style=\"fill:none;stroke:#ffffff;stroke-linecap:square;stroke-linejoin:miter;\"/>\n   </g>\n   <g id=\"patch_18\">\n    <path d=\"M 68.023438 224.64 \nL 402.823438 224.64 \n\" style=\"fill:none;stroke:#ffffff;stroke-linecap:square;stroke-linejoin:miter;\"/>\n   </g>\n   <g id=\"patch_19\">\n    <path d=\"M 68.023438 7.2 \nL 402.823438 7.2 \n\" style=\"fill:none;stroke:#ffffff;stroke-linecap:square;stroke-linejoin:miter;\"/>\n   </g>\n  </g>\n </g>\n <defs>\n  <clipPath id=\"pef2f48c5f0\">\n   <rect height=\"217.44\" width=\"334.8\" x=\"68.023438\" y=\"7.2\"/>\n  </clipPath>\n </defs>\n</svg>\n",
      "image/png": "[encoded data removed]"
     },
     "metadata": {}
    }
   ],
   "source": [
    "sns.barplot(x = rf.feature_importances_, y = X_train.columns, orient = \"h\")\n",
    "plt.show()"
   ]
  },
  {
   "cell_type": "code",
   "execution_count": 23,
   "metadata": {},
   "outputs": [
    {
     "output_type": "stream",
     "name": "stdout",
     "text": [
      "0\n",
      "1\n",
      "2\n",
      "3\n",
      "4\n",
      "5\n",
      "6\n",
      "7\n",
      "8\n",
      "9\n",
      "10\n",
      "11\n",
      "12\n",
      "13\n",
      "14\n",
      "15\n",
      "16\n",
      "17\n",
      "18\n",
      "19\n",
      "20\n",
      "21\n"
     ]
    },
    {
     "output_type": "error",
     "ename": "KeyboardInterrupt",
     "evalue": "",
     "traceback": [
      "\u001b[0;31m---------------------------------------------------------------------------\u001b[0m",
      "\u001b[0;31mKeyboardInterrupt\u001b[0m                         Traceback (most recent call last)",
      "\u001b[0;32m<ipython-input-23-9f7007424132>\u001b[0m in \u001b[0;36m<module>\u001b[0;34m\u001b[0m\n\u001b[1;32m      3\u001b[0m     \u001b[0mprint\u001b[0m\u001b[0;34m(\u001b[0m\u001b[0mi_tree\u001b[0m\u001b[0;34m)\u001b[0m\u001b[0;34m\u001b[0m\u001b[0;34m\u001b[0m\u001b[0m\n\u001b[1;32m      4\u001b[0m \u001b[0;34m\u001b[0m\u001b[0m\n\u001b[0;32m----> 5\u001b[0;31m     \u001b[0mexport_graphviz\u001b[0m\u001b[0;34m(\u001b[0m\u001b[0mtree_in_forest\u001b[0m\u001b[0;34m,\u001b[0m \u001b[0;34m'treedot/tree_'\u001b[0m \u001b[0;34m+\u001b[0m \u001b[0mstr\u001b[0m\u001b[0;34m(\u001b[0m\u001b[0mi_tree\u001b[0m\u001b[0;34m)\u001b[0m \u001b[0;34m+\u001b[0m\u001b[0;34m'.dot'\u001b[0m\u001b[0;34m,\u001b[0m \u001b[0mfeature_names\u001b[0m \u001b[0;34m=\u001b[0m \u001b[0mlist\u001b[0m\u001b[0;34m(\u001b[0m\u001b[0mX_train\u001b[0m\u001b[0;34m.\u001b[0m\u001b[0mcolumns\u001b[0m\u001b[0;34m)\u001b[0m\u001b[0;34m,\u001b[0m \u001b[0mmax_depth\u001b[0m \u001b[0;34m=\u001b[0m \u001b[0;36m10\u001b[0m\u001b[0;34m)\u001b[0m\u001b[0;34m\u001b[0m\u001b[0;34m\u001b[0m\u001b[0m\n\u001b[0m\u001b[1;32m      6\u001b[0m \u001b[0;34m\u001b[0m\u001b[0m\n\u001b[1;32m      7\u001b[0m     \u001b[0mi_tree\u001b[0m \u001b[0;34m=\u001b[0m \u001b[0mi_tree\u001b[0m \u001b[0;34m+\u001b[0m \u001b[0;36m1\u001b[0m\u001b[0;34m\u001b[0m\u001b[0;34m\u001b[0m\u001b[0m\n",
      "\u001b[0;32m~/miniconda3/envs/ml/lib/python3.7/site-packages/sklearn/utils/validation.py\u001b[0m in \u001b[0;36minner_f\u001b[0;34m(*args, **kwargs)\u001b[0m\n\u001b[1;32m     70\u001b[0m                           FutureWarning)\n\u001b[1;32m     71\u001b[0m         \u001b[0mkwargs\u001b[0m\u001b[0;34m.\u001b[0m\u001b[0mupdate\u001b[0m\u001b[0;34m(\u001b[0m\u001b[0;34m{\u001b[0m\u001b[0mk\u001b[0m\u001b[0;34m:\u001b[0m \u001b[0marg\u001b[0m \u001b[0;32mfor\u001b[0m \u001b[0mk\u001b[0m\u001b[0;34m,\u001b[0m \u001b[0marg\u001b[0m \u001b[0;32min\u001b[0m \u001b[0mzip\u001b[0m\u001b[0;34m(\u001b[0m\u001b[0msig\u001b[0m\u001b[0;34m.\u001b[0m\u001b[0mparameters\u001b[0m\u001b[0;34m,\u001b[0m \u001b[0margs\u001b[0m\u001b[0;34m)\u001b[0m\u001b[0;34m}\u001b[0m\u001b[0;34m)\u001b[0m\u001b[0;34m\u001b[0m\u001b[0;34m\u001b[0m\u001b[0m\n\u001b[0;32m---> 72\u001b[0;31m         \u001b[0;32mreturn\u001b[0m \u001b[0mf\u001b[0m\u001b[0;34m(\u001b[0m\u001b[0;34m**\u001b[0m\u001b[0mkwargs\u001b[0m\u001b[0;34m)\u001b[0m\u001b[0;34m\u001b[0m\u001b[0;34m\u001b[0m\u001b[0m\n\u001b[0m\u001b[1;32m     73\u001b[0m     \u001b[0;32mreturn\u001b[0m \u001b[0minner_f\u001b[0m\u001b[0;34m\u001b[0m\u001b[0;34m\u001b[0m\u001b[0m\n\u001b[1;32m     74\u001b[0m \u001b[0;34m\u001b[0m\u001b[0m\n",
      "\u001b[0;32m~/miniconda3/envs/ml/lib/python3.7/site-packages/sklearn/tree/_export.py\u001b[0m in \u001b[0;36mexport_graphviz\u001b[0;34m(decision_tree, out_file, max_depth, feature_names, class_names, label, filled, leaves_parallel, impurity, node_ids, proportion, rotate, rounded, special_characters, precision)\u001b[0m\n\u001b[1;32m    781\u001b[0m             \u001b[0mrounded\u001b[0m\u001b[0;34m=\u001b[0m\u001b[0mrounded\u001b[0m\u001b[0;34m,\u001b[0m \u001b[0mspecial_characters\u001b[0m\u001b[0;34m=\u001b[0m\u001b[0mspecial_characters\u001b[0m\u001b[0;34m,\u001b[0m\u001b[0;34m\u001b[0m\u001b[0;34m\u001b[0m\u001b[0m\n\u001b[1;32m    782\u001b[0m             precision=precision)\n\u001b[0;32m--> 783\u001b[0;31m         \u001b[0mexporter\u001b[0m\u001b[0;34m.\u001b[0m\u001b[0mexport\u001b[0m\u001b[0;34m(\u001b[0m\u001b[0mdecision_tree\u001b[0m\u001b[0;34m)\u001b[0m\u001b[0;34m\u001b[0m\u001b[0;34m\u001b[0m\u001b[0m\n\u001b[0m\u001b[1;32m    784\u001b[0m \u001b[0;34m\u001b[0m\u001b[0m\n\u001b[1;32m    785\u001b[0m         \u001b[0;32mif\u001b[0m \u001b[0mreturn_string\u001b[0m\u001b[0;34m:\u001b[0m\u001b[0;34m\u001b[0m\u001b[0;34m\u001b[0m\u001b[0m\n",
      "\u001b[0;32m~/miniconda3/envs/ml/lib/python3.7/site-packages/sklearn/tree/_export.py\u001b[0m in \u001b[0;36mexport\u001b[0;34m(self, decision_tree)\u001b[0m\n\u001b[1;32m    422\u001b[0m         \u001b[0;32melse\u001b[0m\u001b[0;34m:\u001b[0m\u001b[0;34m\u001b[0m\u001b[0;34m\u001b[0m\u001b[0m\n\u001b[1;32m    423\u001b[0m             self.recurse(decision_tree.tree_, 0,\n\u001b[0;32m--> 424\u001b[0;31m                          criterion=decision_tree.criterion)\n\u001b[0m\u001b[1;32m    425\u001b[0m \u001b[0;34m\u001b[0m\u001b[0m\n\u001b[1;32m    426\u001b[0m         \u001b[0mself\u001b[0m\u001b[0;34m.\u001b[0m\u001b[0mtail\u001b[0m\u001b[0;34m(\u001b[0m\u001b[0;34m)\u001b[0m\u001b[0;34m\u001b[0m\u001b[0;34m\u001b[0m\u001b[0m\n",
      "\u001b[0;32m~/miniconda3/envs/ml/lib/python3.7/site-packages/sklearn/tree/_export.py\u001b[0m in \u001b[0;36mrecurse\u001b[0;34m(self, tree, node_id, criterion, parent, depth)\u001b[0m\n\u001b[1;32m    506\u001b[0m             \u001b[0;32mif\u001b[0m \u001b[0mleft_child\u001b[0m \u001b[0;34m!=\u001b[0m \u001b[0m_tree\u001b[0m\u001b[0;34m.\u001b[0m\u001b[0mTREE_LEAF\u001b[0m\u001b[0;34m:\u001b[0m\u001b[0;34m\u001b[0m\u001b[0;34m\u001b[0m\u001b[0m\n\u001b[1;32m    507\u001b[0m                 self.recurse(tree, left_child, criterion=criterion,\n\u001b[0;32m--> 508\u001b[0;31m                              parent=node_id, depth=depth + 1)\n\u001b[0m\u001b[1;32m    509\u001b[0m                 self.recurse(tree, right_child, criterion=criterion,\n\u001b[1;32m    510\u001b[0m                              parent=node_id, depth=depth + 1)\n",
      "\u001b[0;32m~/miniconda3/envs/ml/lib/python3.7/site-packages/sklearn/tree/_export.py\u001b[0m in \u001b[0;36mrecurse\u001b[0;34m(self, tree, node_id, criterion, parent, depth)\u001b[0m\n\u001b[1;32m    508\u001b[0m                              parent=node_id, depth=depth + 1)\n\u001b[1;32m    509\u001b[0m                 self.recurse(tree, right_child, criterion=criterion,\n\u001b[0;32m--> 510\u001b[0;31m                              parent=node_id, depth=depth + 1)\n\u001b[0m\u001b[1;32m    511\u001b[0m \u001b[0;34m\u001b[0m\u001b[0m\n\u001b[1;32m    512\u001b[0m         \u001b[0;32melse\u001b[0m\u001b[0;34m:\u001b[0m\u001b[0;34m\u001b[0m\u001b[0;34m\u001b[0m\u001b[0m\n",
      "\u001b[0;32m~/miniconda3/envs/ml/lib/python3.7/site-packages/sklearn/tree/_export.py\u001b[0m in \u001b[0;36mrecurse\u001b[0;34m(self, tree, node_id, criterion, parent, depth)\u001b[0m\n\u001b[1;32m    506\u001b[0m             \u001b[0;32mif\u001b[0m \u001b[0mleft_child\u001b[0m \u001b[0;34m!=\u001b[0m \u001b[0m_tree\u001b[0m\u001b[0;34m.\u001b[0m\u001b[0mTREE_LEAF\u001b[0m\u001b[0;34m:\u001b[0m\u001b[0;34m\u001b[0m\u001b[0;34m\u001b[0m\u001b[0m\n\u001b[1;32m    507\u001b[0m                 self.recurse(tree, left_child, criterion=criterion,\n\u001b[0;32m--> 508\u001b[0;31m                              parent=node_id, depth=depth + 1)\n\u001b[0m\u001b[1;32m    509\u001b[0m                 self.recurse(tree, right_child, criterion=criterion,\n\u001b[1;32m    510\u001b[0m                              parent=node_id, depth=depth + 1)\n",
      "\u001b[0;32m~/miniconda3/envs/ml/lib/python3.7/site-packages/sklearn/tree/_export.py\u001b[0m in \u001b[0;36mrecurse\u001b[0;34m(self, tree, node_id, criterion, parent, depth)\u001b[0m\n\u001b[1;32m    506\u001b[0m             \u001b[0;32mif\u001b[0m \u001b[0mleft_child\u001b[0m \u001b[0;34m!=\u001b[0m \u001b[0m_tree\u001b[0m\u001b[0;34m.\u001b[0m\u001b[0mTREE_LEAF\u001b[0m\u001b[0;34m:\u001b[0m\u001b[0;34m\u001b[0m\u001b[0;34m\u001b[0m\u001b[0m\n\u001b[1;32m    507\u001b[0m                 self.recurse(tree, left_child, criterion=criterion,\n\u001b[0;32m--> 508\u001b[0;31m                              parent=node_id, depth=depth + 1)\n\u001b[0m\u001b[1;32m    509\u001b[0m                 self.recurse(tree, right_child, criterion=criterion,\n\u001b[1;32m    510\u001b[0m                              parent=node_id, depth=depth + 1)\n",
      "\u001b[0;32m~/miniconda3/envs/ml/lib/python3.7/site-packages/sklearn/tree/_export.py\u001b[0m in \u001b[0;36mrecurse\u001b[0;34m(self, tree, node_id, criterion, parent, depth)\u001b[0m\n\u001b[1;32m    508\u001b[0m                              parent=node_id, depth=depth + 1)\n\u001b[1;32m    509\u001b[0m                 self.recurse(tree, right_child, criterion=criterion,\n\u001b[0;32m--> 510\u001b[0;31m                              parent=node_id, depth=depth + 1)\n\u001b[0m\u001b[1;32m    511\u001b[0m \u001b[0;34m\u001b[0m\u001b[0m\n\u001b[1;32m    512\u001b[0m         \u001b[0;32melse\u001b[0m\u001b[0;34m:\u001b[0m\u001b[0;34m\u001b[0m\u001b[0;34m\u001b[0m\u001b[0m\n",
      "\u001b[0;32m~/miniconda3/envs/ml/lib/python3.7/site-packages/sklearn/tree/_export.py\u001b[0m in \u001b[0;36mrecurse\u001b[0;34m(self, tree, node_id, criterion, parent, depth)\u001b[0m\n\u001b[1;32m    508\u001b[0m                              parent=node_id, depth=depth + 1)\n\u001b[1;32m    509\u001b[0m                 self.recurse(tree, right_child, criterion=criterion,\n\u001b[0;32m--> 510\u001b[0;31m                              parent=node_id, depth=depth + 1)\n\u001b[0m\u001b[1;32m    511\u001b[0m \u001b[0;34m\u001b[0m\u001b[0m\n\u001b[1;32m    512\u001b[0m         \u001b[0;32melse\u001b[0m\u001b[0;34m:\u001b[0m\u001b[0;34m\u001b[0m\u001b[0;34m\u001b[0m\u001b[0m\n",
      "\u001b[0;32m~/miniconda3/envs/ml/lib/python3.7/site-packages/sklearn/tree/_export.py\u001b[0m in \u001b[0;36mrecurse\u001b[0;34m(self, tree, node_id, criterion, parent, depth)\u001b[0m\n\u001b[1;32m    508\u001b[0m                              parent=node_id, depth=depth + 1)\n\u001b[1;32m    509\u001b[0m                 self.recurse(tree, right_child, criterion=criterion,\n\u001b[0;32m--> 510\u001b[0;31m                              parent=node_id, depth=depth + 1)\n\u001b[0m\u001b[1;32m    511\u001b[0m \u001b[0;34m\u001b[0m\u001b[0m\n\u001b[1;32m    512\u001b[0m         \u001b[0;32melse\u001b[0m\u001b[0;34m:\u001b[0m\u001b[0;34m\u001b[0m\u001b[0;34m\u001b[0m\u001b[0m\n",
      "\u001b[0;32m~/miniconda3/envs/ml/lib/python3.7/site-packages/sklearn/tree/_export.py\u001b[0m in \u001b[0;36mrecurse\u001b[0;34m(self, tree, node_id, criterion, parent, depth)\u001b[0m\n\u001b[1;32m    508\u001b[0m                              parent=node_id, depth=depth + 1)\n\u001b[1;32m    509\u001b[0m                 self.recurse(tree, right_child, criterion=criterion,\n\u001b[0;32m--> 510\u001b[0;31m                              parent=node_id, depth=depth + 1)\n\u001b[0m\u001b[1;32m    511\u001b[0m \u001b[0;34m\u001b[0m\u001b[0m\n\u001b[1;32m    512\u001b[0m         \u001b[0;32melse\u001b[0m\u001b[0;34m:\u001b[0m\u001b[0;34m\u001b[0m\u001b[0;34m\u001b[0m\u001b[0m\n",
      "\u001b[0;32m~/miniconda3/envs/ml/lib/python3.7/site-packages/sklearn/tree/_export.py\u001b[0m in \u001b[0;36mrecurse\u001b[0;34m(self, tree, node_id, criterion, parent, depth)\u001b[0m\n\u001b[1;32m    506\u001b[0m             \u001b[0;32mif\u001b[0m \u001b[0mleft_child\u001b[0m \u001b[0;34m!=\u001b[0m \u001b[0m_tree\u001b[0m\u001b[0;34m.\u001b[0m\u001b[0mTREE_LEAF\u001b[0m\u001b[0;34m:\u001b[0m\u001b[0;34m\u001b[0m\u001b[0;34m\u001b[0m\u001b[0m\n\u001b[1;32m    507\u001b[0m                 self.recurse(tree, left_child, criterion=criterion,\n\u001b[0;32m--> 508\u001b[0;31m                              parent=node_id, depth=depth + 1)\n\u001b[0m\u001b[1;32m    509\u001b[0m                 self.recurse(tree, right_child, criterion=criterion,\n\u001b[1;32m    510\u001b[0m                              parent=node_id, depth=depth + 1)\n",
      "\u001b[0;32m~/miniconda3/envs/ml/lib/python3.7/site-packages/sklearn/tree/_export.py\u001b[0m in \u001b[0;36mrecurse\u001b[0;34m(self, tree, node_id, criterion, parent, depth)\u001b[0m\n\u001b[1;32m    506\u001b[0m             \u001b[0;32mif\u001b[0m \u001b[0mleft_child\u001b[0m \u001b[0;34m!=\u001b[0m \u001b[0m_tree\u001b[0m\u001b[0;34m.\u001b[0m\u001b[0mTREE_LEAF\u001b[0m\u001b[0;34m:\u001b[0m\u001b[0;34m\u001b[0m\u001b[0;34m\u001b[0m\u001b[0m\n\u001b[1;32m    507\u001b[0m                 self.recurse(tree, left_child, criterion=criterion,\n\u001b[0;32m--> 508\u001b[0;31m                              parent=node_id, depth=depth + 1)\n\u001b[0m\u001b[1;32m    509\u001b[0m                 self.recurse(tree, right_child, criterion=criterion,\n\u001b[1;32m    510\u001b[0m                              parent=node_id, depth=depth + 1)\n",
      "\u001b[0;32m~/miniconda3/envs/ml/lib/python3.7/site-packages/sklearn/tree/_export.py\u001b[0m in \u001b[0;36mrecurse\u001b[0;34m(self, tree, node_id, criterion, parent, depth)\u001b[0m\n\u001b[1;32m    482\u001b[0m             self.out_file.write(\n\u001b[1;32m    483\u001b[0m                 '%d [label=%s' % (node_id, self.node_to_str(tree, node_id,\n\u001b[0;32m--> 484\u001b[0;31m                                                             criterion)))\n\u001b[0m\u001b[1;32m    485\u001b[0m \u001b[0;34m\u001b[0m\u001b[0m\n\u001b[1;32m    486\u001b[0m             \u001b[0;32mif\u001b[0m \u001b[0mself\u001b[0m\u001b[0;34m.\u001b[0m\u001b[0mfilled\u001b[0m\u001b[0;34m:\u001b[0m\u001b[0;34m\u001b[0m\u001b[0;34m\u001b[0m\u001b[0m\n",
      "\u001b[0;32m~/miniconda3/envs/ml/lib/python3.7/site-packages/sklearn/tree/_export.py\u001b[0m in \u001b[0;36mnode_to_str\u001b[0;34m(self, tree, node_id, criterion)\u001b[0m\n\u001b[1;32m    303\u001b[0m             \u001b[0;32mif\u001b[0m \u001b[0mlabels\u001b[0m\u001b[0;34m:\u001b[0m\u001b[0;34m\u001b[0m\u001b[0;34m\u001b[0m\u001b[0m\n\u001b[1;32m    304\u001b[0m                 \u001b[0mnode_string\u001b[0m \u001b[0;34m+=\u001b[0m \u001b[0;34m'%s = '\u001b[0m \u001b[0;34m%\u001b[0m \u001b[0mcriterion\u001b[0m\u001b[0;34m\u001b[0m\u001b[0;34m\u001b[0m\u001b[0m\n\u001b[0;32m--> 305\u001b[0;31m             node_string += (str(round(tree.impurity[node_id], self.precision))\n\u001b[0m\u001b[1;32m    306\u001b[0m                             + characters[4])\n\u001b[1;32m    307\u001b[0m \u001b[0;34m\u001b[0m\u001b[0m\n",
      "\u001b[0;31mKeyboardInterrupt\u001b[0m: "
     ]
    }
   ],
   "source": [
    "i_tree = 0\n",
    "for tree_in_forest in rf.estimators_:\n",
    "    print(i_tree)\n",
    "\n",
    "    export_graphviz(tree_in_forest, 'treedot/tree_' + str(i_tree) +'.dot', feature_names = list(X_train.columns), max_depth = 10)\n",
    "    \n",
    "    i_tree = i_tree + 1"
   ]
  },
  {
   "cell_type": "code",
   "execution_count": 24,
   "metadata": {},
   "outputs": [
    {
     "output_type": "stream",
     "name": "stdout",
     "text": [
      "0\n",
      "1\n",
      "2\n",
      "3\n"
     ]
    },
    {
     "output_type": "error",
     "ename": "KeyboardInterrupt",
     "evalue": "",
     "traceback": [
      "\u001b[0;31m---------------------------------------------------------------------------\u001b[0m",
      "\u001b[0;31mKeyboardInterrupt\u001b[0m                         Traceback (most recent call last)",
      "\u001b[0;32m<ipython-input-24-d1fb2d7c2fd2>\u001b[0m in \u001b[0;36m<module>\u001b[0;34m\u001b[0m\n\u001b[1;32m      4\u001b[0m \u001b[0;34m\u001b[0m\u001b[0m\n\u001b[1;32m      5\u001b[0m     \u001b[0;32mwith\u001b[0m \u001b[0mopen\u001b[0m\u001b[0;34m(\u001b[0m\u001b[0;34m\"trees/tree_\"\u001b[0m \u001b[0;34m+\u001b[0m \u001b[0mstr\u001b[0m\u001b[0;34m(\u001b[0m\u001b[0mi_tree\u001b[0m\u001b[0;34m)\u001b[0m \u001b[0;34m+\u001b[0m \u001b[0;34m\".txt\"\u001b[0m\u001b[0;34m,\u001b[0m \u001b[0;34m\"w\"\u001b[0m\u001b[0;34m)\u001b[0m \u001b[0;32mas\u001b[0m \u001b[0mf\u001b[0m\u001b[0;34m:\u001b[0m\u001b[0;34m\u001b[0m\u001b[0;34m\u001b[0m\u001b[0m\n\u001b[0;32m----> 6\u001b[0;31m         \u001b[0mf\u001b[0m\u001b[0;34m.\u001b[0m\u001b[0mwritelines\u001b[0m\u001b[0;34m(\u001b[0m\u001b[0mtree\u001b[0m\u001b[0;34m.\u001b[0m\u001b[0mexport_text\u001b[0m\u001b[0;34m(\u001b[0m\u001b[0mtree_in_forest\u001b[0m\u001b[0;34m,\u001b[0m \u001b[0mfeature_names\u001b[0m \u001b[0;34m=\u001b[0m \u001b[0mlist\u001b[0m\u001b[0;34m(\u001b[0m\u001b[0mX_train\u001b[0m\u001b[0;34m.\u001b[0m\u001b[0mcolumns\u001b[0m\u001b[0;34m)\u001b[0m\u001b[0;34m,\u001b[0m \u001b[0mmax_depth\u001b[0m \u001b[0;34m=\u001b[0m \u001b[0;36m100\u001b[0m\u001b[0;34m)\u001b[0m\u001b[0;34m)\u001b[0m\u001b[0;34m\u001b[0m\u001b[0;34m\u001b[0m\u001b[0m\n\u001b[0m\u001b[1;32m      7\u001b[0m \u001b[0;34m\u001b[0m\u001b[0m\n\u001b[1;32m      8\u001b[0m     \u001b[0mi_tree\u001b[0m \u001b[0;34m=\u001b[0m \u001b[0mi_tree\u001b[0m \u001b[0;34m+\u001b[0m \u001b[0;36m1\u001b[0m\u001b[0;34m\u001b[0m\u001b[0;34m\u001b[0m\u001b[0m\n",
      "\u001b[0;32m~/miniconda3/envs/ml/lib/python3.7/site-packages/sklearn/utils/validation.py\u001b[0m in \u001b[0;36minner_f\u001b[0;34m(*args, **kwargs)\u001b[0m\n\u001b[1;32m     70\u001b[0m                           FutureWarning)\n\u001b[1;32m     71\u001b[0m         \u001b[0mkwargs\u001b[0m\u001b[0;34m.\u001b[0m\u001b[0mupdate\u001b[0m\u001b[0;34m(\u001b[0m\u001b[0;34m{\u001b[0m\u001b[0mk\u001b[0m\u001b[0;34m:\u001b[0m \u001b[0marg\u001b[0m \u001b[0;32mfor\u001b[0m \u001b[0mk\u001b[0m\u001b[0;34m,\u001b[0m \u001b[0marg\u001b[0m \u001b[0;32min\u001b[0m \u001b[0mzip\u001b[0m\u001b[0;34m(\u001b[0m\u001b[0msig\u001b[0m\u001b[0;34m.\u001b[0m\u001b[0mparameters\u001b[0m\u001b[0;34m,\u001b[0m \u001b[0margs\u001b[0m\u001b[0;34m)\u001b[0m\u001b[0;34m}\u001b[0m\u001b[0;34m)\u001b[0m\u001b[0;34m\u001b[0m\u001b[0;34m\u001b[0m\u001b[0m\n\u001b[0;32m---> 72\u001b[0;31m         \u001b[0;32mreturn\u001b[0m \u001b[0mf\u001b[0m\u001b[0;34m(\u001b[0m\u001b[0;34m**\u001b[0m\u001b[0mkwargs\u001b[0m\u001b[0;34m)\u001b[0m\u001b[0;34m\u001b[0m\u001b[0;34m\u001b[0m\u001b[0m\n\u001b[0m\u001b[1;32m     73\u001b[0m     \u001b[0;32mreturn\u001b[0m \u001b[0minner_f\u001b[0m\u001b[0;34m\u001b[0m\u001b[0;34m\u001b[0m\u001b[0m\n\u001b[1;32m     74\u001b[0m \u001b[0;34m\u001b[0m\u001b[0m\n",
      "\u001b[0;32m~/miniconda3/envs/ml/lib/python3.7/site-packages/sklearn/tree/_export.py\u001b[0m in \u001b[0;36mexport_text\u001b[0;34m(decision_tree, feature_names, max_depth, spacing, decimals, show_weights)\u001b[0m\n\u001b[1;32m    964\u001b[0m                                                             trunc_report)\n\u001b[1;32m    965\u001b[0m \u001b[0;34m\u001b[0m\u001b[0m\n\u001b[0;32m--> 966\u001b[0;31m     \u001b[0mprint_tree_recurse\u001b[0m\u001b[0;34m(\u001b[0m\u001b[0;36m0\u001b[0m\u001b[0;34m,\u001b[0m \u001b[0;36m1\u001b[0m\u001b[0;34m)\u001b[0m\u001b[0;34m\u001b[0m\u001b[0;34m\u001b[0m\u001b[0m\n\u001b[0m\u001b[1;32m    967\u001b[0m     \u001b[0;32mreturn\u001b[0m \u001b[0mexport_text\u001b[0m\u001b[0;34m.\u001b[0m\u001b[0mreport\u001b[0m\u001b[0;34m\u001b[0m\u001b[0;34m\u001b[0m\u001b[0m\n",
      "\u001b[0;32m~/miniconda3/envs/ml/lib/python3.7/site-packages/sklearn/tree/_export.py\u001b[0m in \u001b[0;36mprint_tree_recurse\u001b[0;34m(node, depth)\u001b[0m\n\u001b[1;32m    952\u001b[0m                                                             threshold)\n\u001b[1;32m    953\u001b[0m                 \u001b[0mexport_text\u001b[0m\u001b[0;34m.\u001b[0m\u001b[0mreport\u001b[0m \u001b[0;34m+=\u001b[0m \u001b[0minfo_fmt_right\u001b[0m\u001b[0;34m\u001b[0m\u001b[0;34m\u001b[0m\u001b[0m\n\u001b[0;32m--> 954\u001b[0;31m                 \u001b[0mprint_tree_recurse\u001b[0m\u001b[0;34m(\u001b[0m\u001b[0mtree_\u001b[0m\u001b[0;34m.\u001b[0m\u001b[0mchildren_right\u001b[0m\u001b[0;34m[\u001b[0m\u001b[0mnode\u001b[0m\u001b[0;34m]\u001b[0m\u001b[0;34m,\u001b[0m \u001b[0mdepth\u001b[0m\u001b[0;34m+\u001b[0m\u001b[0;36m1\u001b[0m\u001b[0;34m)\u001b[0m\u001b[0;34m\u001b[0m\u001b[0;34m\u001b[0m\u001b[0m\n\u001b[0m\u001b[1;32m    955\u001b[0m             \u001b[0;32melse\u001b[0m\u001b[0;34m:\u001b[0m  \u001b[0;31m# leaf\u001b[0m\u001b[0;34m\u001b[0m\u001b[0;34m\u001b[0m\u001b[0m\n\u001b[1;32m    956\u001b[0m                 \u001b[0m_add_leaf\u001b[0m\u001b[0;34m(\u001b[0m\u001b[0mvalue\u001b[0m\u001b[0;34m,\u001b[0m \u001b[0mclass_name\u001b[0m\u001b[0;34m,\u001b[0m \u001b[0mindent\u001b[0m\u001b[0;34m)\u001b[0m\u001b[0;34m\u001b[0m\u001b[0;34m\u001b[0m\u001b[0m\n",
      "\u001b[0;32m~/miniconda3/envs/ml/lib/python3.7/site-packages/sklearn/tree/_export.py\u001b[0m in \u001b[0;36mprint_tree_recurse\u001b[0;34m(node, depth)\u001b[0m\n\u001b[1;32m    952\u001b[0m                                                             threshold)\n\u001b[1;32m    953\u001b[0m                 \u001b[0mexport_text\u001b[0m\u001b[0;34m.\u001b[0m\u001b[0mreport\u001b[0m \u001b[0;34m+=\u001b[0m \u001b[0minfo_fmt_right\u001b[0m\u001b[0;34m\u001b[0m\u001b[0;34m\u001b[0m\u001b[0m\n\u001b[0;32m--> 954\u001b[0;31m                 \u001b[0mprint_tree_recurse\u001b[0m\u001b[0;34m(\u001b[0m\u001b[0mtree_\u001b[0m\u001b[0;34m.\u001b[0m\u001b[0mchildren_right\u001b[0m\u001b[0;34m[\u001b[0m\u001b[0mnode\u001b[0m\u001b[0;34m]\u001b[0m\u001b[0;34m,\u001b[0m \u001b[0mdepth\u001b[0m\u001b[0;34m+\u001b[0m\u001b[0;36m1\u001b[0m\u001b[0;34m)\u001b[0m\u001b[0;34m\u001b[0m\u001b[0;34m\u001b[0m\u001b[0m\n\u001b[0m\u001b[1;32m    955\u001b[0m             \u001b[0;32melse\u001b[0m\u001b[0;34m:\u001b[0m  \u001b[0;31m# leaf\u001b[0m\u001b[0;34m\u001b[0m\u001b[0;34m\u001b[0m\u001b[0m\n\u001b[1;32m    956\u001b[0m                 \u001b[0m_add_leaf\u001b[0m\u001b[0;34m(\u001b[0m\u001b[0mvalue\u001b[0m\u001b[0;34m,\u001b[0m \u001b[0mclass_name\u001b[0m\u001b[0;34m,\u001b[0m \u001b[0mindent\u001b[0m\u001b[0;34m)\u001b[0m\u001b[0;34m\u001b[0m\u001b[0;34m\u001b[0m\u001b[0m\n",
      "\u001b[0;32m~/miniconda3/envs/ml/lib/python3.7/site-packages/sklearn/tree/_export.py\u001b[0m in \u001b[0;36mprint_tree_recurse\u001b[0;34m(node, depth)\u001b[0m\n\u001b[1;32m    946\u001b[0m                                                              threshold)\n\u001b[1;32m    947\u001b[0m                 \u001b[0mexport_text\u001b[0m\u001b[0;34m.\u001b[0m\u001b[0mreport\u001b[0m \u001b[0;34m+=\u001b[0m \u001b[0minfo_fmt_left\u001b[0m\u001b[0;34m\u001b[0m\u001b[0;34m\u001b[0m\u001b[0m\n\u001b[0;32m--> 948\u001b[0;31m                 \u001b[0mprint_tree_recurse\u001b[0m\u001b[0;34m(\u001b[0m\u001b[0mtree_\u001b[0m\u001b[0;34m.\u001b[0m\u001b[0mchildren_left\u001b[0m\u001b[0;34m[\u001b[0m\u001b[0mnode\u001b[0m\u001b[0;34m]\u001b[0m\u001b[0;34m,\u001b[0m \u001b[0mdepth\u001b[0m\u001b[0;34m+\u001b[0m\u001b[0;36m1\u001b[0m\u001b[0;34m)\u001b[0m\u001b[0;34m\u001b[0m\u001b[0;34m\u001b[0m\u001b[0m\n\u001b[0m\u001b[1;32m    949\u001b[0m \u001b[0;34m\u001b[0m\u001b[0m\n\u001b[1;32m    950\u001b[0m                 export_text.report += left_child_fmt.format(indent,\n",
      "\u001b[0;32m~/miniconda3/envs/ml/lib/python3.7/site-packages/sklearn/tree/_export.py\u001b[0m in \u001b[0;36mprint_tree_recurse\u001b[0;34m(node, depth)\u001b[0m\n\u001b[1;32m    946\u001b[0m                                                              threshold)\n\u001b[1;32m    947\u001b[0m                 \u001b[0mexport_text\u001b[0m\u001b[0;34m.\u001b[0m\u001b[0mreport\u001b[0m \u001b[0;34m+=\u001b[0m \u001b[0minfo_fmt_left\u001b[0m\u001b[0;34m\u001b[0m\u001b[0;34m\u001b[0m\u001b[0m\n\u001b[0;32m--> 948\u001b[0;31m                 \u001b[0mprint_tree_recurse\u001b[0m\u001b[0;34m(\u001b[0m\u001b[0mtree_\u001b[0m\u001b[0;34m.\u001b[0m\u001b[0mchildren_left\u001b[0m\u001b[0;34m[\u001b[0m\u001b[0mnode\u001b[0m\u001b[0;34m]\u001b[0m\u001b[0;34m,\u001b[0m \u001b[0mdepth\u001b[0m\u001b[0;34m+\u001b[0m\u001b[0;36m1\u001b[0m\u001b[0;34m)\u001b[0m\u001b[0;34m\u001b[0m\u001b[0;34m\u001b[0m\u001b[0m\n\u001b[0m\u001b[1;32m    949\u001b[0m \u001b[0;34m\u001b[0m\u001b[0m\n\u001b[1;32m    950\u001b[0m                 export_text.report += left_child_fmt.format(indent,\n",
      "\u001b[0;32m~/miniconda3/envs/ml/lib/python3.7/site-packages/sklearn/tree/_export.py\u001b[0m in \u001b[0;36mprint_tree_recurse\u001b[0;34m(node, depth)\u001b[0m\n\u001b[1;32m    952\u001b[0m                                                             threshold)\n\u001b[1;32m    953\u001b[0m                 \u001b[0mexport_text\u001b[0m\u001b[0;34m.\u001b[0m\u001b[0mreport\u001b[0m \u001b[0;34m+=\u001b[0m \u001b[0minfo_fmt_right\u001b[0m\u001b[0;34m\u001b[0m\u001b[0;34m\u001b[0m\u001b[0m\n\u001b[0;32m--> 954\u001b[0;31m                 \u001b[0mprint_tree_recurse\u001b[0m\u001b[0;34m(\u001b[0m\u001b[0mtree_\u001b[0m\u001b[0;34m.\u001b[0m\u001b[0mchildren_right\u001b[0m\u001b[0;34m[\u001b[0m\u001b[0mnode\u001b[0m\u001b[0;34m]\u001b[0m\u001b[0;34m,\u001b[0m \u001b[0mdepth\u001b[0m\u001b[0;34m+\u001b[0m\u001b[0;36m1\u001b[0m\u001b[0;34m)\u001b[0m\u001b[0;34m\u001b[0m\u001b[0;34m\u001b[0m\u001b[0m\n\u001b[0m\u001b[1;32m    955\u001b[0m             \u001b[0;32melse\u001b[0m\u001b[0;34m:\u001b[0m  \u001b[0;31m# leaf\u001b[0m\u001b[0;34m\u001b[0m\u001b[0;34m\u001b[0m\u001b[0m\n\u001b[1;32m    956\u001b[0m                 \u001b[0m_add_leaf\u001b[0m\u001b[0;34m(\u001b[0m\u001b[0mvalue\u001b[0m\u001b[0;34m,\u001b[0m \u001b[0mclass_name\u001b[0m\u001b[0;34m,\u001b[0m \u001b[0mindent\u001b[0m\u001b[0;34m)\u001b[0m\u001b[0;34m\u001b[0m\u001b[0;34m\u001b[0m\u001b[0m\n",
      "\u001b[0;32m~/miniconda3/envs/ml/lib/python3.7/site-packages/sklearn/tree/_export.py\u001b[0m in \u001b[0;36mprint_tree_recurse\u001b[0;34m(node, depth)\u001b[0m\n\u001b[1;32m    952\u001b[0m                                                             threshold)\n\u001b[1;32m    953\u001b[0m                 \u001b[0mexport_text\u001b[0m\u001b[0;34m.\u001b[0m\u001b[0mreport\u001b[0m \u001b[0;34m+=\u001b[0m \u001b[0minfo_fmt_right\u001b[0m\u001b[0;34m\u001b[0m\u001b[0;34m\u001b[0m\u001b[0m\n\u001b[0;32m--> 954\u001b[0;31m                 \u001b[0mprint_tree_recurse\u001b[0m\u001b[0;34m(\u001b[0m\u001b[0mtree_\u001b[0m\u001b[0;34m.\u001b[0m\u001b[0mchildren_right\u001b[0m\u001b[0;34m[\u001b[0m\u001b[0mnode\u001b[0m\u001b[0;34m]\u001b[0m\u001b[0;34m,\u001b[0m \u001b[0mdepth\u001b[0m\u001b[0;34m+\u001b[0m\u001b[0;36m1\u001b[0m\u001b[0;34m)\u001b[0m\u001b[0;34m\u001b[0m\u001b[0;34m\u001b[0m\u001b[0m\n\u001b[0m\u001b[1;32m    955\u001b[0m             \u001b[0;32melse\u001b[0m\u001b[0;34m:\u001b[0m  \u001b[0;31m# leaf\u001b[0m\u001b[0;34m\u001b[0m\u001b[0;34m\u001b[0m\u001b[0m\n\u001b[1;32m    956\u001b[0m                 \u001b[0m_add_leaf\u001b[0m\u001b[0;34m(\u001b[0m\u001b[0mvalue\u001b[0m\u001b[0;34m,\u001b[0m \u001b[0mclass_name\u001b[0m\u001b[0;34m,\u001b[0m \u001b[0mindent\u001b[0m\u001b[0;34m)\u001b[0m\u001b[0;34m\u001b[0m\u001b[0;34m\u001b[0m\u001b[0m\n",
      "\u001b[0;32m~/miniconda3/envs/ml/lib/python3.7/site-packages/sklearn/tree/_export.py\u001b[0m in \u001b[0;36mprint_tree_recurse\u001b[0;34m(node, depth)\u001b[0m\n\u001b[1;32m    946\u001b[0m                                                              threshold)\n\u001b[1;32m    947\u001b[0m                 \u001b[0mexport_text\u001b[0m\u001b[0;34m.\u001b[0m\u001b[0mreport\u001b[0m \u001b[0;34m+=\u001b[0m \u001b[0minfo_fmt_left\u001b[0m\u001b[0;34m\u001b[0m\u001b[0;34m\u001b[0m\u001b[0m\n\u001b[0;32m--> 948\u001b[0;31m                 \u001b[0mprint_tree_recurse\u001b[0m\u001b[0;34m(\u001b[0m\u001b[0mtree_\u001b[0m\u001b[0;34m.\u001b[0m\u001b[0mchildren_left\u001b[0m\u001b[0;34m[\u001b[0m\u001b[0mnode\u001b[0m\u001b[0;34m]\u001b[0m\u001b[0;34m,\u001b[0m \u001b[0mdepth\u001b[0m\u001b[0;34m+\u001b[0m\u001b[0;36m1\u001b[0m\u001b[0;34m)\u001b[0m\u001b[0;34m\u001b[0m\u001b[0;34m\u001b[0m\u001b[0m\n\u001b[0m\u001b[1;32m    949\u001b[0m \u001b[0;34m\u001b[0m\u001b[0m\n\u001b[1;32m    950\u001b[0m                 export_text.report += left_child_fmt.format(indent,\n",
      "\u001b[0;32m~/miniconda3/envs/ml/lib/python3.7/site-packages/sklearn/tree/_export.py\u001b[0m in \u001b[0;36mprint_tree_recurse\u001b[0;34m(node, depth)\u001b[0m\n\u001b[1;32m    952\u001b[0m                                                             threshold)\n\u001b[1;32m    953\u001b[0m                 \u001b[0mexport_text\u001b[0m\u001b[0;34m.\u001b[0m\u001b[0mreport\u001b[0m \u001b[0;34m+=\u001b[0m \u001b[0minfo_fmt_right\u001b[0m\u001b[0;34m\u001b[0m\u001b[0;34m\u001b[0m\u001b[0m\n\u001b[0;32m--> 954\u001b[0;31m                 \u001b[0mprint_tree_recurse\u001b[0m\u001b[0;34m(\u001b[0m\u001b[0mtree_\u001b[0m\u001b[0;34m.\u001b[0m\u001b[0mchildren_right\u001b[0m\u001b[0;34m[\u001b[0m\u001b[0mnode\u001b[0m\u001b[0;34m]\u001b[0m\u001b[0;34m,\u001b[0m \u001b[0mdepth\u001b[0m\u001b[0;34m+\u001b[0m\u001b[0;36m1\u001b[0m\u001b[0;34m)\u001b[0m\u001b[0;34m\u001b[0m\u001b[0;34m\u001b[0m\u001b[0m\n\u001b[0m\u001b[1;32m    955\u001b[0m             \u001b[0;32melse\u001b[0m\u001b[0;34m:\u001b[0m  \u001b[0;31m# leaf\u001b[0m\u001b[0;34m\u001b[0m\u001b[0;34m\u001b[0m\u001b[0m\n\u001b[1;32m    956\u001b[0m                 \u001b[0m_add_leaf\u001b[0m\u001b[0;34m(\u001b[0m\u001b[0mvalue\u001b[0m\u001b[0;34m,\u001b[0m \u001b[0mclass_name\u001b[0m\u001b[0;34m,\u001b[0m \u001b[0mindent\u001b[0m\u001b[0;34m)\u001b[0m\u001b[0;34m\u001b[0m\u001b[0;34m\u001b[0m\u001b[0m\n",
      "\u001b[0;32m~/miniconda3/envs/ml/lib/python3.7/site-packages/sklearn/tree/_export.py\u001b[0m in \u001b[0;36mprint_tree_recurse\u001b[0;34m(node, depth)\u001b[0m\n\u001b[1;32m    952\u001b[0m                                                             threshold)\n\u001b[1;32m    953\u001b[0m                 \u001b[0mexport_text\u001b[0m\u001b[0;34m.\u001b[0m\u001b[0mreport\u001b[0m \u001b[0;34m+=\u001b[0m \u001b[0minfo_fmt_right\u001b[0m\u001b[0;34m\u001b[0m\u001b[0;34m\u001b[0m\u001b[0m\n\u001b[0;32m--> 954\u001b[0;31m                 \u001b[0mprint_tree_recurse\u001b[0m\u001b[0;34m(\u001b[0m\u001b[0mtree_\u001b[0m\u001b[0;34m.\u001b[0m\u001b[0mchildren_right\u001b[0m\u001b[0;34m[\u001b[0m\u001b[0mnode\u001b[0m\u001b[0;34m]\u001b[0m\u001b[0;34m,\u001b[0m \u001b[0mdepth\u001b[0m\u001b[0;34m+\u001b[0m\u001b[0;36m1\u001b[0m\u001b[0;34m)\u001b[0m\u001b[0;34m\u001b[0m\u001b[0;34m\u001b[0m\u001b[0m\n\u001b[0m\u001b[1;32m    955\u001b[0m             \u001b[0;32melse\u001b[0m\u001b[0;34m:\u001b[0m  \u001b[0;31m# leaf\u001b[0m\u001b[0;34m\u001b[0m\u001b[0;34m\u001b[0m\u001b[0m\n\u001b[1;32m    956\u001b[0m                 \u001b[0m_add_leaf\u001b[0m\u001b[0;34m(\u001b[0m\u001b[0mvalue\u001b[0m\u001b[0;34m,\u001b[0m \u001b[0mclass_name\u001b[0m\u001b[0;34m,\u001b[0m \u001b[0mindent\u001b[0m\u001b[0;34m)\u001b[0m\u001b[0;34m\u001b[0m\u001b[0;34m\u001b[0m\u001b[0m\n",
      "\u001b[0;32m~/miniconda3/envs/ml/lib/python3.7/site-packages/sklearn/tree/_export.py\u001b[0m in \u001b[0;36mprint_tree_recurse\u001b[0;34m(node, depth)\u001b[0m\n\u001b[1;32m    952\u001b[0m                                                             threshold)\n\u001b[1;32m    953\u001b[0m                 \u001b[0mexport_text\u001b[0m\u001b[0;34m.\u001b[0m\u001b[0mreport\u001b[0m \u001b[0;34m+=\u001b[0m \u001b[0minfo_fmt_right\u001b[0m\u001b[0;34m\u001b[0m\u001b[0;34m\u001b[0m\u001b[0m\n\u001b[0;32m--> 954\u001b[0;31m                 \u001b[0mprint_tree_recurse\u001b[0m\u001b[0;34m(\u001b[0m\u001b[0mtree_\u001b[0m\u001b[0;34m.\u001b[0m\u001b[0mchildren_right\u001b[0m\u001b[0;34m[\u001b[0m\u001b[0mnode\u001b[0m\u001b[0;34m]\u001b[0m\u001b[0;34m,\u001b[0m \u001b[0mdepth\u001b[0m\u001b[0;34m+\u001b[0m\u001b[0;36m1\u001b[0m\u001b[0;34m)\u001b[0m\u001b[0;34m\u001b[0m\u001b[0;34m\u001b[0m\u001b[0m\n\u001b[0m\u001b[1;32m    955\u001b[0m             \u001b[0;32melse\u001b[0m\u001b[0;34m:\u001b[0m  \u001b[0;31m# leaf\u001b[0m\u001b[0;34m\u001b[0m\u001b[0;34m\u001b[0m\u001b[0m\n\u001b[1;32m    956\u001b[0m                 \u001b[0m_add_leaf\u001b[0m\u001b[0;34m(\u001b[0m\u001b[0mvalue\u001b[0m\u001b[0;34m,\u001b[0m \u001b[0mclass_name\u001b[0m\u001b[0;34m,\u001b[0m \u001b[0mindent\u001b[0m\u001b[0;34m)\u001b[0m\u001b[0;34m\u001b[0m\u001b[0;34m\u001b[0m\u001b[0m\n",
      "\u001b[0;32m~/miniconda3/envs/ml/lib/python3.7/site-packages/sklearn/tree/_export.py\u001b[0m in \u001b[0;36mprint_tree_recurse\u001b[0;34m(node, depth)\u001b[0m\n\u001b[1;32m    952\u001b[0m                                                             threshold)\n\u001b[1;32m    953\u001b[0m                 \u001b[0mexport_text\u001b[0m\u001b[0;34m.\u001b[0m\u001b[0mreport\u001b[0m \u001b[0;34m+=\u001b[0m \u001b[0minfo_fmt_right\u001b[0m\u001b[0;34m\u001b[0m\u001b[0;34m\u001b[0m\u001b[0m\n\u001b[0;32m--> 954\u001b[0;31m                 \u001b[0mprint_tree_recurse\u001b[0m\u001b[0;34m(\u001b[0m\u001b[0mtree_\u001b[0m\u001b[0;34m.\u001b[0m\u001b[0mchildren_right\u001b[0m\u001b[0;34m[\u001b[0m\u001b[0mnode\u001b[0m\u001b[0;34m]\u001b[0m\u001b[0;34m,\u001b[0m \u001b[0mdepth\u001b[0m\u001b[0;34m+\u001b[0m\u001b[0;36m1\u001b[0m\u001b[0;34m)\u001b[0m\u001b[0;34m\u001b[0m\u001b[0;34m\u001b[0m\u001b[0m\n\u001b[0m\u001b[1;32m    955\u001b[0m             \u001b[0;32melse\u001b[0m\u001b[0;34m:\u001b[0m  \u001b[0;31m# leaf\u001b[0m\u001b[0;34m\u001b[0m\u001b[0;34m\u001b[0m\u001b[0m\n\u001b[1;32m    956\u001b[0m                 \u001b[0m_add_leaf\u001b[0m\u001b[0;34m(\u001b[0m\u001b[0mvalue\u001b[0m\u001b[0;34m,\u001b[0m \u001b[0mclass_name\u001b[0m\u001b[0;34m,\u001b[0m \u001b[0mindent\u001b[0m\u001b[0;34m)\u001b[0m\u001b[0;34m\u001b[0m\u001b[0;34m\u001b[0m\u001b[0m\n",
      "\u001b[0;32m~/miniconda3/envs/ml/lib/python3.7/site-packages/sklearn/tree/_export.py\u001b[0m in \u001b[0;36mprint_tree_recurse\u001b[0;34m(node, depth)\u001b[0m\n\u001b[1;32m    952\u001b[0m                                                             threshold)\n\u001b[1;32m    953\u001b[0m                 \u001b[0mexport_text\u001b[0m\u001b[0;34m.\u001b[0m\u001b[0mreport\u001b[0m \u001b[0;34m+=\u001b[0m \u001b[0minfo_fmt_right\u001b[0m\u001b[0;34m\u001b[0m\u001b[0;34m\u001b[0m\u001b[0m\n\u001b[0;32m--> 954\u001b[0;31m                 \u001b[0mprint_tree_recurse\u001b[0m\u001b[0;34m(\u001b[0m\u001b[0mtree_\u001b[0m\u001b[0;34m.\u001b[0m\u001b[0mchildren_right\u001b[0m\u001b[0;34m[\u001b[0m\u001b[0mnode\u001b[0m\u001b[0;34m]\u001b[0m\u001b[0;34m,\u001b[0m \u001b[0mdepth\u001b[0m\u001b[0;34m+\u001b[0m\u001b[0;36m1\u001b[0m\u001b[0;34m)\u001b[0m\u001b[0;34m\u001b[0m\u001b[0;34m\u001b[0m\u001b[0m\n\u001b[0m\u001b[1;32m    955\u001b[0m             \u001b[0;32melse\u001b[0m\u001b[0;34m:\u001b[0m  \u001b[0;31m# leaf\u001b[0m\u001b[0;34m\u001b[0m\u001b[0;34m\u001b[0m\u001b[0m\n\u001b[1;32m    956\u001b[0m                 \u001b[0m_add_leaf\u001b[0m\u001b[0;34m(\u001b[0m\u001b[0mvalue\u001b[0m\u001b[0;34m,\u001b[0m \u001b[0mclass_name\u001b[0m\u001b[0;34m,\u001b[0m \u001b[0mindent\u001b[0m\u001b[0;34m)\u001b[0m\u001b[0;34m\u001b[0m\u001b[0;34m\u001b[0m\u001b[0m\n",
      "\u001b[0;32m~/miniconda3/envs/ml/lib/python3.7/site-packages/sklearn/tree/_export.py\u001b[0m in \u001b[0;36mprint_tree_recurse\u001b[0;34m(node, depth)\u001b[0m\n\u001b[1;32m    952\u001b[0m                                                             threshold)\n\u001b[1;32m    953\u001b[0m                 \u001b[0mexport_text\u001b[0m\u001b[0;34m.\u001b[0m\u001b[0mreport\u001b[0m \u001b[0;34m+=\u001b[0m \u001b[0minfo_fmt_right\u001b[0m\u001b[0;34m\u001b[0m\u001b[0;34m\u001b[0m\u001b[0m\n\u001b[0;32m--> 954\u001b[0;31m                 \u001b[0mprint_tree_recurse\u001b[0m\u001b[0;34m(\u001b[0m\u001b[0mtree_\u001b[0m\u001b[0;34m.\u001b[0m\u001b[0mchildren_right\u001b[0m\u001b[0;34m[\u001b[0m\u001b[0mnode\u001b[0m\u001b[0;34m]\u001b[0m\u001b[0;34m,\u001b[0m \u001b[0mdepth\u001b[0m\u001b[0;34m+\u001b[0m\u001b[0;36m1\u001b[0m\u001b[0;34m)\u001b[0m\u001b[0;34m\u001b[0m\u001b[0;34m\u001b[0m\u001b[0m\n\u001b[0m\u001b[1;32m    955\u001b[0m             \u001b[0;32melse\u001b[0m\u001b[0;34m:\u001b[0m  \u001b[0;31m# leaf\u001b[0m\u001b[0;34m\u001b[0m\u001b[0;34m\u001b[0m\u001b[0m\n\u001b[1;32m    956\u001b[0m                 \u001b[0m_add_leaf\u001b[0m\u001b[0;34m(\u001b[0m\u001b[0mvalue\u001b[0m\u001b[0;34m,\u001b[0m \u001b[0mclass_name\u001b[0m\u001b[0;34m,\u001b[0m \u001b[0mindent\u001b[0m\u001b[0;34m)\u001b[0m\u001b[0;34m\u001b[0m\u001b[0;34m\u001b[0m\u001b[0m\n",
      "\u001b[0;32m~/miniconda3/envs/ml/lib/python3.7/site-packages/sklearn/tree/_export.py\u001b[0m in \u001b[0;36mprint_tree_recurse\u001b[0;34m(node, depth)\u001b[0m\n\u001b[1;32m    946\u001b[0m                                                              threshold)\n\u001b[1;32m    947\u001b[0m                 \u001b[0mexport_text\u001b[0m\u001b[0;34m.\u001b[0m\u001b[0mreport\u001b[0m \u001b[0;34m+=\u001b[0m \u001b[0minfo_fmt_left\u001b[0m\u001b[0;34m\u001b[0m\u001b[0;34m\u001b[0m\u001b[0m\n\u001b[0;32m--> 948\u001b[0;31m                 \u001b[0mprint_tree_recurse\u001b[0m\u001b[0;34m(\u001b[0m\u001b[0mtree_\u001b[0m\u001b[0;34m.\u001b[0m\u001b[0mchildren_left\u001b[0m\u001b[0;34m[\u001b[0m\u001b[0mnode\u001b[0m\u001b[0;34m]\u001b[0m\u001b[0;34m,\u001b[0m \u001b[0mdepth\u001b[0m\u001b[0;34m+\u001b[0m\u001b[0;36m1\u001b[0m\u001b[0;34m)\u001b[0m\u001b[0;34m\u001b[0m\u001b[0;34m\u001b[0m\u001b[0m\n\u001b[0m\u001b[1;32m    949\u001b[0m \u001b[0;34m\u001b[0m\u001b[0m\n\u001b[1;32m    950\u001b[0m                 export_text.report += left_child_fmt.format(indent,\n",
      "\u001b[0;32m~/miniconda3/envs/ml/lib/python3.7/site-packages/sklearn/tree/_export.py\u001b[0m in \u001b[0;36mprint_tree_recurse\u001b[0;34m(node, depth)\u001b[0m\n\u001b[1;32m    952\u001b[0m                                                             threshold)\n\u001b[1;32m    953\u001b[0m                 \u001b[0mexport_text\u001b[0m\u001b[0;34m.\u001b[0m\u001b[0mreport\u001b[0m \u001b[0;34m+=\u001b[0m \u001b[0minfo_fmt_right\u001b[0m\u001b[0;34m\u001b[0m\u001b[0;34m\u001b[0m\u001b[0m\n\u001b[0;32m--> 954\u001b[0;31m                 \u001b[0mprint_tree_recurse\u001b[0m\u001b[0;34m(\u001b[0m\u001b[0mtree_\u001b[0m\u001b[0;34m.\u001b[0m\u001b[0mchildren_right\u001b[0m\u001b[0;34m[\u001b[0m\u001b[0mnode\u001b[0m\u001b[0;34m]\u001b[0m\u001b[0;34m,\u001b[0m \u001b[0mdepth\u001b[0m\u001b[0;34m+\u001b[0m\u001b[0;36m1\u001b[0m\u001b[0;34m)\u001b[0m\u001b[0;34m\u001b[0m\u001b[0;34m\u001b[0m\u001b[0m\n\u001b[0m\u001b[1;32m    955\u001b[0m             \u001b[0;32melse\u001b[0m\u001b[0;34m:\u001b[0m  \u001b[0;31m# leaf\u001b[0m\u001b[0;34m\u001b[0m\u001b[0;34m\u001b[0m\u001b[0m\n\u001b[1;32m    956\u001b[0m                 \u001b[0m_add_leaf\u001b[0m\u001b[0;34m(\u001b[0m\u001b[0mvalue\u001b[0m\u001b[0;34m,\u001b[0m \u001b[0mclass_name\u001b[0m\u001b[0;34m,\u001b[0m \u001b[0mindent\u001b[0m\u001b[0;34m)\u001b[0m\u001b[0;34m\u001b[0m\u001b[0;34m\u001b[0m\u001b[0m\n",
      "\u001b[0;32m~/miniconda3/envs/ml/lib/python3.7/site-packages/sklearn/tree/_export.py\u001b[0m in \u001b[0;36mprint_tree_recurse\u001b[0;34m(node, depth)\u001b[0m\n\u001b[1;32m    952\u001b[0m                                                             threshold)\n\u001b[1;32m    953\u001b[0m                 \u001b[0mexport_text\u001b[0m\u001b[0;34m.\u001b[0m\u001b[0mreport\u001b[0m \u001b[0;34m+=\u001b[0m \u001b[0minfo_fmt_right\u001b[0m\u001b[0;34m\u001b[0m\u001b[0;34m\u001b[0m\u001b[0m\n\u001b[0;32m--> 954\u001b[0;31m                 \u001b[0mprint_tree_recurse\u001b[0m\u001b[0;34m(\u001b[0m\u001b[0mtree_\u001b[0m\u001b[0;34m.\u001b[0m\u001b[0mchildren_right\u001b[0m\u001b[0;34m[\u001b[0m\u001b[0mnode\u001b[0m\u001b[0;34m]\u001b[0m\u001b[0;34m,\u001b[0m \u001b[0mdepth\u001b[0m\u001b[0;34m+\u001b[0m\u001b[0;36m1\u001b[0m\u001b[0;34m)\u001b[0m\u001b[0;34m\u001b[0m\u001b[0;34m\u001b[0m\u001b[0m\n\u001b[0m\u001b[1;32m    955\u001b[0m             \u001b[0;32melse\u001b[0m\u001b[0;34m:\u001b[0m  \u001b[0;31m# leaf\u001b[0m\u001b[0;34m\u001b[0m\u001b[0;34m\u001b[0m\u001b[0m\n\u001b[1;32m    956\u001b[0m                 \u001b[0m_add_leaf\u001b[0m\u001b[0;34m(\u001b[0m\u001b[0mvalue\u001b[0m\u001b[0;34m,\u001b[0m \u001b[0mclass_name\u001b[0m\u001b[0;34m,\u001b[0m \u001b[0mindent\u001b[0m\u001b[0;34m)\u001b[0m\u001b[0;34m\u001b[0m\u001b[0;34m\u001b[0m\u001b[0m\n",
      "\u001b[0;32m~/miniconda3/envs/ml/lib/python3.7/site-packages/sklearn/tree/_export.py\u001b[0m in \u001b[0;36mprint_tree_recurse\u001b[0;34m(node, depth)\u001b[0m\n\u001b[1;32m    954\u001b[0m                 \u001b[0mprint_tree_recurse\u001b[0m\u001b[0;34m(\u001b[0m\u001b[0mtree_\u001b[0m\u001b[0;34m.\u001b[0m\u001b[0mchildren_right\u001b[0m\u001b[0;34m[\u001b[0m\u001b[0mnode\u001b[0m\u001b[0;34m]\u001b[0m\u001b[0;34m,\u001b[0m \u001b[0mdepth\u001b[0m\u001b[0;34m+\u001b[0m\u001b[0;36m1\u001b[0m\u001b[0;34m)\u001b[0m\u001b[0;34m\u001b[0m\u001b[0;34m\u001b[0m\u001b[0m\n\u001b[1;32m    955\u001b[0m             \u001b[0;32melse\u001b[0m\u001b[0;34m:\u001b[0m  \u001b[0;31m# leaf\u001b[0m\u001b[0;34m\u001b[0m\u001b[0;34m\u001b[0m\u001b[0m\n\u001b[0;32m--> 956\u001b[0;31m                 \u001b[0m_add_leaf\u001b[0m\u001b[0;34m(\u001b[0m\u001b[0mvalue\u001b[0m\u001b[0;34m,\u001b[0m \u001b[0mclass_name\u001b[0m\u001b[0;34m,\u001b[0m \u001b[0mindent\u001b[0m\u001b[0;34m)\u001b[0m\u001b[0;34m\u001b[0m\u001b[0;34m\u001b[0m\u001b[0m\n\u001b[0m\u001b[1;32m    957\u001b[0m         \u001b[0;32melse\u001b[0m\u001b[0;34m:\u001b[0m\u001b[0;34m\u001b[0m\u001b[0;34m\u001b[0m\u001b[0m\n\u001b[1;32m    958\u001b[0m             \u001b[0msubtree_depth\u001b[0m \u001b[0;34m=\u001b[0m \u001b[0m_compute_depth\u001b[0m\u001b[0;34m(\u001b[0m\u001b[0mtree_\u001b[0m\u001b[0;34m,\u001b[0m \u001b[0mnode\u001b[0m\u001b[0;34m)\u001b[0m\u001b[0;34m\u001b[0m\u001b[0;34m\u001b[0m\u001b[0m\n",
      "\u001b[0;32m~/miniconda3/envs/ml/lib/python3.7/site-packages/sklearn/tree/_export.py\u001b[0m in \u001b[0;36m_add_leaf\u001b[0;34m(value, class_name, indent)\u001b[0m\n\u001b[1;32m    916\u001b[0m         \u001b[0;32mif\u001b[0m \u001b[0mis_classification\u001b[0m\u001b[0;34m:\u001b[0m\u001b[0;34m\u001b[0m\u001b[0;34m\u001b[0m\u001b[0m\n\u001b[1;32m    917\u001b[0m             \u001b[0mval\u001b[0m \u001b[0;34m+=\u001b[0m \u001b[0;34m' class: '\u001b[0m \u001b[0;34m+\u001b[0m \u001b[0mstr\u001b[0m\u001b[0;34m(\u001b[0m\u001b[0mclass_name\u001b[0m\u001b[0;34m)\u001b[0m\u001b[0;34m\u001b[0m\u001b[0;34m\u001b[0m\u001b[0m\n\u001b[0;32m--> 918\u001b[0;31m         \u001b[0mexport_text\u001b[0m\u001b[0;34m.\u001b[0m\u001b[0mreport\u001b[0m \u001b[0;34m+=\u001b[0m \u001b[0mvalue_fmt\u001b[0m\u001b[0;34m.\u001b[0m\u001b[0mformat\u001b[0m\u001b[0;34m(\u001b[0m\u001b[0mindent\u001b[0m\u001b[0;34m,\u001b[0m \u001b[0;34m''\u001b[0m\u001b[0;34m,\u001b[0m \u001b[0mval\u001b[0m\u001b[0;34m)\u001b[0m\u001b[0;34m\u001b[0m\u001b[0;34m\u001b[0m\u001b[0m\n\u001b[0m\u001b[1;32m    919\u001b[0m \u001b[0;34m\u001b[0m\u001b[0m\n\u001b[1;32m    920\u001b[0m     \u001b[0;32mdef\u001b[0m \u001b[0mprint_tree_recurse\u001b[0m\u001b[0;34m(\u001b[0m\u001b[0mnode\u001b[0m\u001b[0;34m,\u001b[0m \u001b[0mdepth\u001b[0m\u001b[0;34m)\u001b[0m\u001b[0;34m:\u001b[0m\u001b[0;34m\u001b[0m\u001b[0;34m\u001b[0m\u001b[0m\n",
      "\u001b[0;31mKeyboardInterrupt\u001b[0m: "
     ]
    }
   ],
   "source": [
    "i_tree = 0\n",
    "for tree_in_forest in rf.estimators_:\n",
    "    print(i_tree)\n",
    "\n",
    "    with open(\"trees/tree_\" + str(i_tree) + \".txt\", \"w\") as f:\n",
    "        f.writelines(tree.export_text(tree_in_forest, feature_names = list(X_train.columns), max_depth = 100))\n",
    "    \n",
    "    i_tree = i_tree + 1"
   ]
  }
 ]
}