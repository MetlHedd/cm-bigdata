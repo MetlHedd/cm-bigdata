{
 "metadata": {
  "language_info": {
   "codemirror_mode": {
    "name": "ipython",
    "version": 3
   },
   "file_extension": ".py",
   "mimetype": "text/x-python",
   "name": "python",
   "nbconvert_exporter": "python",
   "pygments_lexer": "ipython3",
   "version": "3.7.9-final"
  },
  "orig_nbformat": 2,
  "kernelspec": {
   "name": "python3",
   "display_name": "Python 3"
  }
 },
 "nbformat": 4,
 "nbformat_minor": 2,
 "cells": [
  {
   "source": [
    "# Competição Externa - BigData\n",
    "\n",
    "Notebook voltado para integrar os dados das lojas atuais com os do IBGE."
   ],
   "cell_type": "markdown",
   "metadata": {}
  },
  {
   "source": [
    "## Bibliotecas que serão usadas"
   ],
   "cell_type": "markdown",
   "metadata": {}
  },
  {
   "cell_type": "code",
   "execution_count": 1,
   "metadata": {},
   "outputs": [],
   "source": [
    "import numpy as np\n",
    "import pandas as pd\n",
    "import matplotlib.pyplot as plt\n",
    "import seaborn as sns\n",
    "\n",
    "from datetime import date\n",
    "\n",
    "from matplotlib.cm import get_cmap\n",
    "\n",
    "from pandas_profiling import ProfileReport\n",
    "\n",
    "from sklearn import tree\n",
    "from sklearn import preprocessing\n",
    "from sklearn.tree import export_graphviz\n",
    "from sklearn.ensemble import RandomForestRegressor\n",
    "from sklearn.metrics import mean_squared_error, r2_score\n",
    "\n",
    "plt.style.use(\"ggplot\")"
   ]
  },
  {
   "source": [
    "## Lendo os dados"
   ],
   "cell_type": "markdown",
   "metadata": {}
  },
  {
   "cell_type": "code",
   "execution_count": 22,
   "metadata": {},
   "outputs": [
    {
     "output_type": "execute_result",
     "data": {
      "text/plain": [
       "      cod_loja         cod_ap  cod_municipio           feature_01  \\\n",
       "0            1  4125506005002        4125506                  NaN   \n",
       "1            2  5300108005004        5300108                  NaN   \n",
       "2            3  3550308005052        3550308                  NaN   \n",
       "3            4  3145604003002        3145604                  NaN   \n",
       "4            5  1600303005010        1600303  FEATURE_01_VALUE_10   \n",
       "...        ...            ...            ...                  ...   \n",
       "3125      3682  5105259003002        5105259                  NaN   \n",
       "3126      3683  2604106003003        2604106  FEATURE_01_VALUE_10   \n",
       "3127      3685  4115804003002        4115804                  NaN   \n",
       "3128      3686  3509700003001        3509700                  NaN   \n",
       "3129      3687  4211702001001        4211702                  NaN   \n",
       "\n",
       "               feature_02  feature_03  feature_04           feature_05  \\\n",
       "0     FEATURE_02_VALUE_04        True       21.76  FEATURE_05_VALUE_04   \n",
       "1     FEATURE_02_VALUE_03        True       22.00  FEATURE_05_VALUE_03   \n",
       "2     FEATURE_02_VALUE_03        True       45.66  FEATURE_05_VALUE_03   \n",
       "3     FEATURE_02_VALUE_04       False       30.00  FEATURE_05_VALUE_03   \n",
       "4     FEATURE_02_VALUE_02       False       62.49  FEATURE_05_VALUE_03   \n",
       "...                   ...         ...         ...                  ...   \n",
       "3125  FEATURE_02_VALUE_04       False       30.16  FEATURE_05_VALUE_03   \n",
       "3126  FEATURE_02_VALUE_02       False       38.00  FEATURE_05_VALUE_03   \n",
       "3127  FEATURE_02_VALUE_04       False       44.04  FEATURE_05_VALUE_02   \n",
       "3128  FEATURE_02_VALUE_06       False       31.76  FEATURE_05_VALUE_03   \n",
       "3129  FEATURE_02_VALUE_04       False       26.50  FEATURE_05_VALUE_03   \n",
       "\n",
       "      feature_06  feature_07  ...   feature_09  feature_10  \\\n",
       "0             31    0.168922  ...   115.958848    2.349821   \n",
       "1             27    0.215967  ...  1562.674817    3.670883   \n",
       "2              6    0.190102  ...  5593.905463    2.815883   \n",
       "3              3    0.141988  ...    12.824022    7.218132   \n",
       "4             30    0.107619  ...   325.531120    1.972944   \n",
       "...          ...         ...  ...          ...         ...   \n",
       "3125           5    0.210289  ...    36.397933    3.491315   \n",
       "3126          13    0.146264  ...   163.567629    2.016780   \n",
       "3127           7    0.226926  ...    16.862438    4.455832   \n",
       "3128           4    0.134354  ...    20.565405    3.932982   \n",
       "3129           2    0.199854  ...     7.701540    4.454541   \n",
       "\n",
       "               feature_11           feature_12 feature_13  feature_14  \\\n",
       "0                     NaN                  NaN        NaN         NaN   \n",
       "1                     NaN                  NaN        NaN         NaN   \n",
       "2                     NaN                  NaN        NaN         NaN   \n",
       "3                     NaN                  NaN        NaN         NaN   \n",
       "4     FEATURE_11_VALUE_02  FEATURE_12_VALUE_01      100.0        88.1   \n",
       "...                   ...                  ...        ...         ...   \n",
       "3125                  NaN                  NaN      100.0        91.7   \n",
       "3126                  NaN                  NaN      100.0        85.0   \n",
       "3127                  NaN                  NaN      100.0        71.5   \n",
       "3128                  NaN                  NaN        NaN         NaN   \n",
       "3129                  NaN                  NaN        NaN         NaN   \n",
       "\n",
       "      feature_15  feature_16  feature_17  feature_18  \n",
       "0            NaN         NaN         NaN         NaN  \n",
       "1            NaN         NaN         NaN         NaN  \n",
       "2            NaN         NaN         NaN         NaN  \n",
       "3            NaN         NaN         NaN         NaN  \n",
       "4          100.0       100.0        88.5        93.8  \n",
       "...          ...         ...         ...         ...  \n",
       "3125       100.0       100.0        97.1        97.6  \n",
       "3126       100.0       100.0        50.7        72.5  \n",
       "3127       100.0       100.0        99.0        95.2  \n",
       "3128         NaN         NaN         NaN         NaN  \n",
       "3129         NaN         NaN         NaN         NaN  \n",
       "\n",
       "[3130 rows x 21 columns]"
      ],
      "text/html": "<div>\n<style scoped>\n    .dataframe tbody tr th:only-of-type {\n        vertical-align: middle;\n    }\n\n    .dataframe tbody tr th {\n        vertical-align: top;\n    }\n\n    .dataframe thead th {\n        text-align: right;\n    }\n</style>\n<table border=\"1\" class=\"dataframe\">\n  <thead>\n    <tr style=\"text-align: right;\">\n      <th></th>\n      <th>cod_loja</th>\n      <th>cod_ap</th>\n      <th>cod_municipio</th>\n      <th>feature_01</th>\n      <th>feature_02</th>\n      <th>feature_03</th>\n      <th>feature_04</th>\n      <th>feature_05</th>\n      <th>feature_06</th>\n      <th>feature_07</th>\n      <th>...</th>\n      <th>feature_09</th>\n      <th>feature_10</th>\n      <th>feature_11</th>\n      <th>feature_12</th>\n      <th>feature_13</th>\n      <th>feature_14</th>\n      <th>feature_15</th>\n      <th>feature_16</th>\n      <th>feature_17</th>\n      <th>feature_18</th>\n    </tr>\n  </thead>\n  <tbody>\n    <tr>\n      <th>0</th>\n      <td>1</td>\n      <td>4125506005002</td>\n      <td>4125506</td>\n      <td>NaN</td>\n      <td>FEATURE_02_VALUE_04</td>\n      <td>True</td>\n      <td>21.76</td>\n      <td>FEATURE_05_VALUE_04</td>\n      <td>31</td>\n      <td>0.168922</td>\n      <td>...</td>\n      <td>115.958848</td>\n      <td>2.349821</td>\n      <td>NaN</td>\n      <td>NaN</td>\n      <td>NaN</td>\n      <td>NaN</td>\n      <td>NaN</td>\n      <td>NaN</td>\n      <td>NaN</td>\n      <td>NaN</td>\n    </tr>\n    <tr>\n      <th>1</th>\n      <td>2</td>\n      <td>5300108005004</td>\n      <td>5300108</td>\n      <td>NaN</td>\n      <td>FEATURE_02_VALUE_03</td>\n      <td>True</td>\n      <td>22.00</td>\n      <td>FEATURE_05_VALUE_03</td>\n      <td>27</td>\n      <td>0.215967</td>\n      <td>...</td>\n      <td>1562.674817</td>\n      <td>3.670883</td>\n      <td>NaN</td>\n      <td>NaN</td>\n      <td>NaN</td>\n      <td>NaN</td>\n      <td>NaN</td>\n      <td>NaN</td>\n      <td>NaN</td>\n      <td>NaN</td>\n    </tr>\n    <tr>\n      <th>2</th>\n      <td>3</td>\n      <td>3550308005052</td>\n      <td>3550308</td>\n      <td>NaN</td>\n      <td>FEATURE_02_VALUE_03</td>\n      <td>True</td>\n      <td>45.66</td>\n      <td>FEATURE_05_VALUE_03</td>\n      <td>6</td>\n      <td>0.190102</td>\n      <td>...</td>\n      <td>5593.905463</td>\n      <td>2.815883</td>\n      <td>NaN</td>\n      <td>NaN</td>\n      <td>NaN</td>\n      <td>NaN</td>\n      <td>NaN</td>\n      <td>NaN</td>\n      <td>NaN</td>\n      <td>NaN</td>\n    </tr>\n    <tr>\n      <th>3</th>\n      <td>4</td>\n      <td>3145604003002</td>\n      <td>3145604</td>\n      <td>NaN</td>\n      <td>FEATURE_02_VALUE_04</td>\n      <td>False</td>\n      <td>30.00</td>\n      <td>FEATURE_05_VALUE_03</td>\n      <td>3</td>\n      <td>0.141988</td>\n      <td>...</td>\n      <td>12.824022</td>\n      <td>7.218132</td>\n      <td>NaN</td>\n      <td>NaN</td>\n      <td>NaN</td>\n      <td>NaN</td>\n      <td>NaN</td>\n      <td>NaN</td>\n      <td>NaN</td>\n      <td>NaN</td>\n    </tr>\n    <tr>\n      <th>4</th>\n      <td>5</td>\n      <td>1600303005010</td>\n      <td>1600303</td>\n      <td>FEATURE_01_VALUE_10</td>\n      <td>FEATURE_02_VALUE_02</td>\n      <td>False</td>\n      <td>62.49</td>\n      <td>FEATURE_05_VALUE_03</td>\n      <td>30</td>\n      <td>0.107619</td>\n      <td>...</td>\n      <td>325.531120</td>\n      <td>1.972944</td>\n      <td>FEATURE_11_VALUE_02</td>\n      <td>FEATURE_12_VALUE_01</td>\n      <td>100.0</td>\n      <td>88.1</td>\n      <td>100.0</td>\n      <td>100.0</td>\n      <td>88.5</td>\n      <td>93.8</td>\n    </tr>\n    <tr>\n      <th>...</th>\n      <td>...</td>\n      <td>...</td>\n      <td>...</td>\n      <td>...</td>\n      <td>...</td>\n      <td>...</td>\n      <td>...</td>\n      <td>...</td>\n      <td>...</td>\n      <td>...</td>\n      <td>...</td>\n      <td>...</td>\n      <td>...</td>\n      <td>...</td>\n      <td>...</td>\n      <td>...</td>\n      <td>...</td>\n      <td>...</td>\n      <td>...</td>\n      <td>...</td>\n      <td>...</td>\n    </tr>\n    <tr>\n      <th>3125</th>\n      <td>3682</td>\n      <td>5105259003002</td>\n      <td>5105259</td>\n      <td>NaN</td>\n      <td>FEATURE_02_VALUE_04</td>\n      <td>False</td>\n      <td>30.16</td>\n      <td>FEATURE_05_VALUE_03</td>\n      <td>5</td>\n      <td>0.210289</td>\n      <td>...</td>\n      <td>36.397933</td>\n      <td>3.491315</td>\n      <td>NaN</td>\n      <td>NaN</td>\n      <td>100.0</td>\n      <td>91.7</td>\n      <td>100.0</td>\n      <td>100.0</td>\n      <td>97.1</td>\n      <td>97.6</td>\n    </tr>\n    <tr>\n      <th>3126</th>\n      <td>3683</td>\n      <td>2604106003003</td>\n      <td>2604106</td>\n      <td>FEATURE_01_VALUE_10</td>\n      <td>FEATURE_02_VALUE_02</td>\n      <td>False</td>\n      <td>38.00</td>\n      <td>FEATURE_05_VALUE_03</td>\n      <td>13</td>\n      <td>0.146264</td>\n      <td>...</td>\n      <td>163.567629</td>\n      <td>2.016780</td>\n      <td>NaN</td>\n      <td>NaN</td>\n      <td>100.0</td>\n      <td>85.0</td>\n      <td>100.0</td>\n      <td>100.0</td>\n      <td>50.7</td>\n      <td>72.5</td>\n    </tr>\n    <tr>\n      <th>3127</th>\n      <td>3685</td>\n      <td>4115804003002</td>\n      <td>4115804</td>\n      <td>NaN</td>\n      <td>FEATURE_02_VALUE_04</td>\n      <td>False</td>\n      <td>44.04</td>\n      <td>FEATURE_05_VALUE_02</td>\n      <td>7</td>\n      <td>0.226926</td>\n      <td>...</td>\n      <td>16.862438</td>\n      <td>4.455832</td>\n      <td>NaN</td>\n      <td>NaN</td>\n      <td>100.0</td>\n      <td>71.5</td>\n      <td>100.0</td>\n      <td>100.0</td>\n      <td>99.0</td>\n      <td>95.2</td>\n    </tr>\n    <tr>\n      <th>3128</th>\n      <td>3686</td>\n      <td>3509700003001</td>\n      <td>3509700</td>\n      <td>NaN</td>\n      <td>FEATURE_02_VALUE_06</td>\n      <td>False</td>\n      <td>31.76</td>\n      <td>FEATURE_05_VALUE_03</td>\n      <td>4</td>\n      <td>0.134354</td>\n      <td>...</td>\n      <td>20.565405</td>\n      <td>3.932982</td>\n      <td>NaN</td>\n      <td>NaN</td>\n      <td>NaN</td>\n      <td>NaN</td>\n      <td>NaN</td>\n      <td>NaN</td>\n      <td>NaN</td>\n      <td>NaN</td>\n    </tr>\n    <tr>\n      <th>3129</th>\n      <td>3687</td>\n      <td>4211702001001</td>\n      <td>4211702</td>\n      <td>NaN</td>\n      <td>FEATURE_02_VALUE_04</td>\n      <td>False</td>\n      <td>26.50</td>\n      <td>FEATURE_05_VALUE_03</td>\n      <td>2</td>\n      <td>0.199854</td>\n      <td>...</td>\n      <td>7.701540</td>\n      <td>4.454541</td>\n      <td>NaN</td>\n      <td>NaN</td>\n      <td>NaN</td>\n      <td>NaN</td>\n      <td>NaN</td>\n      <td>NaN</td>\n      <td>NaN</td>\n      <td>NaN</td>\n    </tr>\n  </tbody>\n</table>\n<p>3130 rows × 21 columns</p>\n</div>"
     },
     "metadata": {},
     "execution_count": 22
    }
   ],
   "source": [
    "data_la = pd.read_csv(\"data/lojas_atuais.csv\")\n",
    "\n",
    "data_la"
   ]
  },
  {
   "cell_type": "code",
   "execution_count": 23,
   "metadata": {},
   "outputs": [
    {
     "output_type": "execute_result",
     "data": {
      "text/plain": [
       "      UF           Nome_UF  Mesorregião Geográfica   Nome_Mesorregião  \\\n",
       "0     11          Rondônia                       2  Leste Rondoniense   \n",
       "1     11          Rondônia                       2  Leste Rondoniense   \n",
       "2     11          Rondônia                       2  Leste Rondoniense   \n",
       "3     11          Rondônia                       2  Leste Rondoniense   \n",
       "4     11          Rondônia                       2  Leste Rondoniense   \n",
       "...   ..               ...                     ...                ...   \n",
       "5565  52             Goiás                       5         Sul Goiano   \n",
       "5566  52             Goiás                       5         Sul Goiano   \n",
       "5567  52             Goiás                       4       Leste Goiano   \n",
       "5568  52             Goiás                       4       Leste Goiano   \n",
       "5569  53  Distrito Federal                       1   Distrito Federal   \n",
       "\n",
       "      Microrregião Geográfica    Nome_Microrregião  Município  \\\n",
       "0                           6               Cacoal         15   \n",
       "1                           6               Cacoal        379   \n",
       "2                           3            Ariquemes        403   \n",
       "3                           5     Alvorada D'Oeste        346   \n",
       "4                           3            Ariquemes         23   \n",
       "...                       ...                  ...        ...   \n",
       "5565                       16         Pires do Rio      22005   \n",
       "5566                       15           Meia Ponte      22054   \n",
       "5567                       12  Entorno de Brasília      22203   \n",
       "5568                       12  Entorno de Brasília      22302   \n",
       "5569                        1             Brasília        108   \n",
       "\n",
       "      Código Município Completo           Nome_Município  \n",
       "0                       1100015    Alta Floresta D'Oeste  \n",
       "1                       1100379  Alto Alegre dos Parecis  \n",
       "2                       1100403             Alto Paraíso  \n",
       "3                       1100346         Alvorada D'Oeste  \n",
       "4                       1100023                Ariquemes  \n",
       "...                         ...                      ...  \n",
       "5565                    5222005               Vianópolis  \n",
       "5566                    5222054           Vicentinópolis  \n",
       "5567                    5222203                 Vila Boa  \n",
       "5568                    5222302            Vila Propício  \n",
       "5569                    5300108                 Brasília  \n",
       "\n",
       "[5570 rows x 9 columns]"
      ],
      "text/html": "<div>\n<style scoped>\n    .dataframe tbody tr th:only-of-type {\n        vertical-align: middle;\n    }\n\n    .dataframe tbody tr th {\n        vertical-align: top;\n    }\n\n    .dataframe thead th {\n        text-align: right;\n    }\n</style>\n<table border=\"1\" class=\"dataframe\">\n  <thead>\n    <tr style=\"text-align: right;\">\n      <th></th>\n      <th>UF</th>\n      <th>Nome_UF</th>\n      <th>Mesorregião Geográfica</th>\n      <th>Nome_Mesorregião</th>\n      <th>Microrregião Geográfica</th>\n      <th>Nome_Microrregião</th>\n      <th>Município</th>\n      <th>Código Município Completo</th>\n      <th>Nome_Município</th>\n    </tr>\n  </thead>\n  <tbody>\n    <tr>\n      <th>0</th>\n      <td>11</td>\n      <td>Rondônia</td>\n      <td>2</td>\n      <td>Leste Rondoniense</td>\n      <td>6</td>\n      <td>Cacoal</td>\n      <td>15</td>\n      <td>1100015</td>\n      <td>Alta Floresta D'Oeste</td>\n    </tr>\n    <tr>\n      <th>1</th>\n      <td>11</td>\n      <td>Rondônia</td>\n      <td>2</td>\n      <td>Leste Rondoniense</td>\n      <td>6</td>\n      <td>Cacoal</td>\n      <td>379</td>\n      <td>1100379</td>\n      <td>Alto Alegre dos Parecis</td>\n    </tr>\n    <tr>\n      <th>2</th>\n      <td>11</td>\n      <td>Rondônia</td>\n      <td>2</td>\n      <td>Leste Rondoniense</td>\n      <td>3</td>\n      <td>Ariquemes</td>\n      <td>403</td>\n      <td>1100403</td>\n      <td>Alto Paraíso</td>\n    </tr>\n    <tr>\n      <th>3</th>\n      <td>11</td>\n      <td>Rondônia</td>\n      <td>2</td>\n      <td>Leste Rondoniense</td>\n      <td>5</td>\n      <td>Alvorada D'Oeste</td>\n      <td>346</td>\n      <td>1100346</td>\n      <td>Alvorada D'Oeste</td>\n    </tr>\n    <tr>\n      <th>4</th>\n      <td>11</td>\n      <td>Rondônia</td>\n      <td>2</td>\n      <td>Leste Rondoniense</td>\n      <td>3</td>\n      <td>Ariquemes</td>\n      <td>23</td>\n      <td>1100023</td>\n      <td>Ariquemes</td>\n    </tr>\n    <tr>\n      <th>...</th>\n      <td>...</td>\n      <td>...</td>\n      <td>...</td>\n      <td>...</td>\n      <td>...</td>\n      <td>...</td>\n      <td>...</td>\n      <td>...</td>\n      <td>...</td>\n    </tr>\n    <tr>\n      <th>5565</th>\n      <td>52</td>\n      <td>Goiás</td>\n      <td>5</td>\n      <td>Sul Goiano</td>\n      <td>16</td>\n      <td>Pires do Rio</td>\n      <td>22005</td>\n      <td>5222005</td>\n      <td>Vianópolis</td>\n    </tr>\n    <tr>\n      <th>5566</th>\n      <td>52</td>\n      <td>Goiás</td>\n      <td>5</td>\n      <td>Sul Goiano</td>\n      <td>15</td>\n      <td>Meia Ponte</td>\n      <td>22054</td>\n      <td>5222054</td>\n      <td>Vicentinópolis</td>\n    </tr>\n    <tr>\n      <th>5567</th>\n      <td>52</td>\n      <td>Goiás</td>\n      <td>4</td>\n      <td>Leste Goiano</td>\n      <td>12</td>\n      <td>Entorno de Brasília</td>\n      <td>22203</td>\n      <td>5222203</td>\n      <td>Vila Boa</td>\n    </tr>\n    <tr>\n      <th>5568</th>\n      <td>52</td>\n      <td>Goiás</td>\n      <td>4</td>\n      <td>Leste Goiano</td>\n      <td>12</td>\n      <td>Entorno de Brasília</td>\n      <td>22302</td>\n      <td>5222302</td>\n      <td>Vila Propício</td>\n    </tr>\n    <tr>\n      <th>5569</th>\n      <td>53</td>\n      <td>Distrito Federal</td>\n      <td>1</td>\n      <td>Distrito Federal</td>\n      <td>1</td>\n      <td>Brasília</td>\n      <td>108</td>\n      <td>5300108</td>\n      <td>Brasília</td>\n    </tr>\n  </tbody>\n</table>\n<p>5570 rows × 9 columns</p>\n</div>"
     },
     "metadata": {},
     "execution_count": 23
    }
   ],
   "source": [
    "data_cod_mun_ibge = pd.read_excel(\"data/RELATORIO_DTB_BRASIL_MUNICIPIO.xls\")\n",
    "\n",
    "data_cod_mun_ibge"
   ]
  },
  {
   "cell_type": "code",
   "execution_count": 24,
   "metadata": {},
   "outputs": [
    {
     "output_type": "execute_result",
     "data": {
      "text/plain": [
       "Index(['UF', 'Nome_UF', 'Mesorregião Geográfica', 'Nome_Mesorregião',\n",
       "       'Microrregião Geográfica', 'Nome_Microrregião', 'Município',\n",
       "       'Código Município Completo', 'Nome_Município'],\n",
       "      dtype='object')"
      ]
     },
     "metadata": {},
     "execution_count": 24
    }
   ],
   "source": [
    "data_cod_mun_ibge.columns"
   ]
  },
  {
   "cell_type": "code",
   "execution_count": 25,
   "metadata": {},
   "outputs": [
    {
     "output_type": "execute_result",
     "data": {
      "text/plain": [
       "'Paraná'"
      ]
     },
     "metadata": {},
     "execution_count": 25
    }
   ],
   "source": [
    "data_cod_mun_ibge.loc[data_cod_mun_ibge[\"Código Município Completo\"] == 4125506].iloc[0].Nome_UF"
   ]
  },
  {
   "cell_type": "code",
   "execution_count": 26,
   "metadata": {},
   "outputs": [
    {
     "output_type": "execute_result",
     "data": {
      "text/plain": [
       "               Nome_UF  Código Município Completo           Nome_Município\n",
       "0             Rondônia                    1100015    Alta Floresta D'Oeste\n",
       "1             Rondônia                    1100379  Alto Alegre dos Parecis\n",
       "2             Rondônia                    1100403             Alto Paraíso\n",
       "3             Rondônia                    1100346         Alvorada D'Oeste\n",
       "4             Rondônia                    1100023                Ariquemes\n",
       "...                ...                        ...                      ...\n",
       "5565             Goiás                    5222005               Vianópolis\n",
       "5566             Goiás                    5222054           Vicentinópolis\n",
       "5567             Goiás                    5222203                 Vila Boa\n",
       "5568             Goiás                    5222302            Vila Propício\n",
       "5569  Distrito Federal                    5300108                 Brasília\n",
       "\n",
       "[5570 rows x 3 columns]"
      ],
      "text/html": "<div>\n<style scoped>\n    .dataframe tbody tr th:only-of-type {\n        vertical-align: middle;\n    }\n\n    .dataframe tbody tr th {\n        vertical-align: top;\n    }\n\n    .dataframe thead th {\n        text-align: right;\n    }\n</style>\n<table border=\"1\" class=\"dataframe\">\n  <thead>\n    <tr style=\"text-align: right;\">\n      <th></th>\n      <th>Nome_UF</th>\n      <th>Código Município Completo</th>\n      <th>Nome_Município</th>\n    </tr>\n  </thead>\n  <tbody>\n    <tr>\n      <th>0</th>\n      <td>Rondônia</td>\n      <td>1100015</td>\n      <td>Alta Floresta D'Oeste</td>\n    </tr>\n    <tr>\n      <th>1</th>\n      <td>Rondônia</td>\n      <td>1100379</td>\n      <td>Alto Alegre dos Parecis</td>\n    </tr>\n    <tr>\n      <th>2</th>\n      <td>Rondônia</td>\n      <td>1100403</td>\n      <td>Alto Paraíso</td>\n    </tr>\n    <tr>\n      <th>3</th>\n      <td>Rondônia</td>\n      <td>1100346</td>\n      <td>Alvorada D'Oeste</td>\n    </tr>\n    <tr>\n      <th>4</th>\n      <td>Rondônia</td>\n      <td>1100023</td>\n      <td>Ariquemes</td>\n    </tr>\n    <tr>\n      <th>...</th>\n      <td>...</td>\n      <td>...</td>\n      <td>...</td>\n    </tr>\n    <tr>\n      <th>5565</th>\n      <td>Goiás</td>\n      <td>5222005</td>\n      <td>Vianópolis</td>\n    </tr>\n    <tr>\n      <th>5566</th>\n      <td>Goiás</td>\n      <td>5222054</td>\n      <td>Vicentinópolis</td>\n    </tr>\n    <tr>\n      <th>5567</th>\n      <td>Goiás</td>\n      <td>5222203</td>\n      <td>Vila Boa</td>\n    </tr>\n    <tr>\n      <th>5568</th>\n      <td>Goiás</td>\n      <td>5222302</td>\n      <td>Vila Propício</td>\n    </tr>\n    <tr>\n      <th>5569</th>\n      <td>Distrito Federal</td>\n      <td>5300108</td>\n      <td>Brasília</td>\n    </tr>\n  </tbody>\n</table>\n<p>5570 rows × 3 columns</p>\n</div>"
     },
     "metadata": {},
     "execution_count": 26
    }
   ],
   "source": [
    "data_cod_mun_ibge = data_cod_mun_ibge[[\"Nome_UF\", \"Código Município Completo\", \"Nome_Município\"]]\n",
    "\n",
    "data_cod_mun_ibge"
   ]
  },
  {
   "cell_type": "code",
   "execution_count": 27,
   "metadata": {},
   "outputs": [
    {
     "output_type": "stream",
     "name": "stdout",
     "text": [
      "<class 'pandas.core.frame.DataFrame'>\nRangeIndex: 5570 entries, 0 to 5569\nData columns (total 3 columns):\n #   Column                     Non-Null Count  Dtype \n---  ------                     --------------  ----- \n 0   Nome_UF                    5570 non-null   object\n 1   Código Município Completo  5570 non-null   int64 \n 2   Nome_Município             5570 non-null   object\ndtypes: int64(1), object(2)\nmemory usage: 130.7+ KB\n"
     ]
    }
   ],
   "source": [
    "data_cod_mun_ibge.info()"
   ]
  },
  {
   "source": [
    "### Faz label enconder nos dados do ibge"
   ],
   "cell_type": "markdown",
   "metadata": {}
  },
  {
   "cell_type": "code",
   "execution_count": 28,
   "metadata": {},
   "outputs": [
    {
     "output_type": "execute_result",
     "data": {
      "text/plain": [
       "LabelEncoder()"
      ]
     },
     "metadata": {},
     "execution_count": 28
    }
   ],
   "source": [
    "le = preprocessing.LabelEncoder()\n",
    "\n",
    "le.fit(data_cod_mun_ibge[\"Nome_UF\"])"
   ]
  },
  {
   "cell_type": "code",
   "execution_count": 29,
   "metadata": {},
   "outputs": [
    {
     "output_type": "execute_result",
     "data": {
      "text/plain": [
       "['Acre',\n",
       " 'Alagoas',\n",
       " 'Amapá',\n",
       " 'Amazonas',\n",
       " 'Bahia',\n",
       " 'Ceará',\n",
       " 'Distrito Federal',\n",
       " 'Espírito Santo',\n",
       " 'Goiás',\n",
       " 'Maranhão',\n",
       " 'Mato Grosso',\n",
       " 'Mato Grosso do Sul',\n",
       " 'Minas Gerais',\n",
       " 'Paraná',\n",
       " 'Paraíba',\n",
       " 'Pará',\n",
       " 'Pernambuco',\n",
       " 'Piauí',\n",
       " 'Rio Grande do Norte',\n",
       " 'Rio Grande do Sul',\n",
       " 'Rio de Janeiro',\n",
       " 'Rondônia',\n",
       " 'Roraima',\n",
       " 'Santa Catarina',\n",
       " 'Sergipe',\n",
       " 'São Paulo',\n",
       " 'Tocantins']"
      ]
     },
     "metadata": {},
     "execution_count": 29
    }
   ],
   "source": [
    "list(le.classes_)"
   ]
  },
  {
   "cell_type": "code",
   "execution_count": 30,
   "metadata": {},
   "outputs": [
    {
     "output_type": "execute_result",
     "data": {
      "text/plain": [
       "               Nome_UF  Código Município Completo           Nome_Município  \\\n",
       "0             Rondônia                    1100015    Alta Floresta D'Oeste   \n",
       "1             Rondônia                    1100379  Alto Alegre dos Parecis   \n",
       "2             Rondônia                    1100403             Alto Paraíso   \n",
       "3             Rondônia                    1100346         Alvorada D'Oeste   \n",
       "4             Rondônia                    1100023                Ariquemes   \n",
       "...                ...                        ...                      ...   \n",
       "5565             Goiás                    5222005               Vianópolis   \n",
       "5566             Goiás                    5222054           Vicentinópolis   \n",
       "5567             Goiás                    5222203                 Vila Boa   \n",
       "5568             Goiás                    5222302            Vila Propício   \n",
       "5569  Distrito Federal                    5300108                 Brasília   \n",
       "\n",
       "      UF_COD  \n",
       "0         21  \n",
       "1         21  \n",
       "2         21  \n",
       "3         21  \n",
       "4         21  \n",
       "...      ...  \n",
       "5565       8  \n",
       "5566       8  \n",
       "5567       8  \n",
       "5568       8  \n",
       "5569       6  \n",
       "\n",
       "[5570 rows x 4 columns]"
      ],
      "text/html": "<div>\n<style scoped>\n    .dataframe tbody tr th:only-of-type {\n        vertical-align: middle;\n    }\n\n    .dataframe tbody tr th {\n        vertical-align: top;\n    }\n\n    .dataframe thead th {\n        text-align: right;\n    }\n</style>\n<table border=\"1\" class=\"dataframe\">\n  <thead>\n    <tr style=\"text-align: right;\">\n      <th></th>\n      <th>Nome_UF</th>\n      <th>Código Município Completo</th>\n      <th>Nome_Município</th>\n      <th>UF_COD</th>\n    </tr>\n  </thead>\n  <tbody>\n    <tr>\n      <th>0</th>\n      <td>Rondônia</td>\n      <td>1100015</td>\n      <td>Alta Floresta D'Oeste</td>\n      <td>21</td>\n    </tr>\n    <tr>\n      <th>1</th>\n      <td>Rondônia</td>\n      <td>1100379</td>\n      <td>Alto Alegre dos Parecis</td>\n      <td>21</td>\n    </tr>\n    <tr>\n      <th>2</th>\n      <td>Rondônia</td>\n      <td>1100403</td>\n      <td>Alto Paraíso</td>\n      <td>21</td>\n    </tr>\n    <tr>\n      <th>3</th>\n      <td>Rondônia</td>\n      <td>1100346</td>\n      <td>Alvorada D'Oeste</td>\n      <td>21</td>\n    </tr>\n    <tr>\n      <th>4</th>\n      <td>Rondônia</td>\n      <td>1100023</td>\n      <td>Ariquemes</td>\n      <td>21</td>\n    </tr>\n    <tr>\n      <th>...</th>\n      <td>...</td>\n      <td>...</td>\n      <td>...</td>\n      <td>...</td>\n    </tr>\n    <tr>\n      <th>5565</th>\n      <td>Goiás</td>\n      <td>5222005</td>\n      <td>Vianópolis</td>\n      <td>8</td>\n    </tr>\n    <tr>\n      <th>5566</th>\n      <td>Goiás</td>\n      <td>5222054</td>\n      <td>Vicentinópolis</td>\n      <td>8</td>\n    </tr>\n    <tr>\n      <th>5567</th>\n      <td>Goiás</td>\n      <td>5222203</td>\n      <td>Vila Boa</td>\n      <td>8</td>\n    </tr>\n    <tr>\n      <th>5568</th>\n      <td>Goiás</td>\n      <td>5222302</td>\n      <td>Vila Propício</td>\n      <td>8</td>\n    </tr>\n    <tr>\n      <th>5569</th>\n      <td>Distrito Federal</td>\n      <td>5300108</td>\n      <td>Brasília</td>\n      <td>6</td>\n    </tr>\n  </tbody>\n</table>\n<p>5570 rows × 4 columns</p>\n</div>"
     },
     "metadata": {},
     "execution_count": 30
    }
   ],
   "source": [
    "data_cod_mun_ibge[\"UF_COD\"] = le.transform(data_cod_mun_ibge[\"Nome_UF\"])\n",
    "\n",
    "data_cod_mun_ibge"
   ]
  },
  {
   "cell_type": "code",
   "execution_count": 33,
   "metadata": {},
   "outputs": [
    {
     "output_type": "execute_result",
     "data": {
      "text/plain": [
       "27"
      ]
     },
     "metadata": {},
     "execution_count": 33
    }
   ],
   "source": [
    "len(data_cod_mun_ibge[\"UF_COD\"].unique())"
   ]
  },
  {
   "cell_type": "code",
   "execution_count": 39,
   "metadata": {},
   "outputs": [],
   "source": [
    "data_cod_mun_ibge.to_csv(\"data/municipios-uf.csv\", index = False)"
   ]
  },
  {
   "cell_type": "code",
   "execution_count": 34,
   "metadata": {},
   "outputs": [
    {
     "output_type": "execute_result",
     "data": {
      "text/plain": [
       "      cod_loja         cod_ap  cod_municipio           feature_01  \\\n",
       "0            1  4125506005002        4125506                  NaN   \n",
       "1            2  5300108005004        5300108                  NaN   \n",
       "2            3  3550308005052        3550308                  NaN   \n",
       "3            4  3145604003002        3145604                  NaN   \n",
       "4            5  1600303005010        1600303  FEATURE_01_VALUE_10   \n",
       "...        ...            ...            ...                  ...   \n",
       "3125      3682  5105259003002        5105259                  NaN   \n",
       "3126      3683  2604106003003        2604106  FEATURE_01_VALUE_10   \n",
       "3127      3685  4115804003002        4115804                  NaN   \n",
       "3128      3686  3509700003001        3509700                  NaN   \n",
       "3129      3687  4211702001001        4211702                  NaN   \n",
       "\n",
       "               feature_02  feature_03  feature_04           feature_05  \\\n",
       "0     FEATURE_02_VALUE_04        True       21.76  FEATURE_05_VALUE_04   \n",
       "1     FEATURE_02_VALUE_03        True       22.00  FEATURE_05_VALUE_03   \n",
       "2     FEATURE_02_VALUE_03        True       45.66  FEATURE_05_VALUE_03   \n",
       "3     FEATURE_02_VALUE_04       False       30.00  FEATURE_05_VALUE_03   \n",
       "4     FEATURE_02_VALUE_02       False       62.49  FEATURE_05_VALUE_03   \n",
       "...                   ...         ...         ...                  ...   \n",
       "3125  FEATURE_02_VALUE_04       False       30.16  FEATURE_05_VALUE_03   \n",
       "3126  FEATURE_02_VALUE_02       False       38.00  FEATURE_05_VALUE_03   \n",
       "3127  FEATURE_02_VALUE_04       False       44.04  FEATURE_05_VALUE_02   \n",
       "3128  FEATURE_02_VALUE_06       False       31.76  FEATURE_05_VALUE_03   \n",
       "3129  FEATURE_02_VALUE_04       False       26.50  FEATURE_05_VALUE_03   \n",
       "\n",
       "      feature_06  feature_07  ...  feature_13  feature_14  feature_15  \\\n",
       "0             31    0.168922  ...         NaN         NaN         NaN   \n",
       "1             27    0.215967  ...         NaN         NaN         NaN   \n",
       "2              6    0.190102  ...         NaN         NaN         NaN   \n",
       "3              3    0.141988  ...         NaN         NaN         NaN   \n",
       "4             30    0.107619  ...       100.0        88.1       100.0   \n",
       "...          ...         ...  ...         ...         ...         ...   \n",
       "3125           5    0.210289  ...       100.0        91.7       100.0   \n",
       "3126          13    0.146264  ...       100.0        85.0       100.0   \n",
       "3127           7    0.226926  ...       100.0        71.5       100.0   \n",
       "3128           4    0.134354  ...         NaN         NaN         NaN   \n",
       "3129           2    0.199854  ...         NaN         NaN         NaN   \n",
       "\n",
       "     feature_16 feature_17  feature_18           Nome_UF  \\\n",
       "0           NaN        NaN         NaN            Paraná   \n",
       "1           NaN        NaN         NaN  Distrito Federal   \n",
       "2           NaN        NaN         NaN         São Paulo   \n",
       "3           NaN        NaN         NaN      Minas Gerais   \n",
       "4         100.0       88.5        93.8             Amapá   \n",
       "...         ...        ...         ...               ...   \n",
       "3125      100.0       97.1        97.6       Mato Grosso   \n",
       "3126      100.0       50.7        72.5        Pernambuco   \n",
       "3127      100.0       99.0        95.2            Paraná   \n",
       "3128        NaN        NaN         NaN         São Paulo   \n",
       "3129        NaN        NaN         NaN    Santa Catarina   \n",
       "\n",
       "      Código Município Completo        Nome_Município  UF_COD  \n",
       "0                     4125506.0  São José dos Pinhais    13.0  \n",
       "1                     5300108.0              Brasília     6.0  \n",
       "2                     3550308.0             São Paulo    25.0  \n",
       "3                     3145604.0              Oliveira    12.0  \n",
       "4                     1600303.0                Macapá     2.0  \n",
       "...                         ...                   ...     ...  \n",
       "3125                  5105259.0    Lucas do Rio Verde    10.0  \n",
       "3126                  2604106.0               Caruaru    16.0  \n",
       "3127                  4115804.0            Medianeira    13.0  \n",
       "3128                  3509700.0      Campos do Jordão    25.0  \n",
       "3129                  4211702.0               Orleans    23.0  \n",
       "\n",
       "[3130 rows x 25 columns]"
      ],
      "text/html": "<div>\n<style scoped>\n    .dataframe tbody tr th:only-of-type {\n        vertical-align: middle;\n    }\n\n    .dataframe tbody tr th {\n        vertical-align: top;\n    }\n\n    .dataframe thead th {\n        text-align: right;\n    }\n</style>\n<table border=\"1\" class=\"dataframe\">\n  <thead>\n    <tr style=\"text-align: right;\">\n      <th></th>\n      <th>cod_loja</th>\n      <th>cod_ap</th>\n      <th>cod_municipio</th>\n      <th>feature_01</th>\n      <th>feature_02</th>\n      <th>feature_03</th>\n      <th>feature_04</th>\n      <th>feature_05</th>\n      <th>feature_06</th>\n      <th>feature_07</th>\n      <th>...</th>\n      <th>feature_13</th>\n      <th>feature_14</th>\n      <th>feature_15</th>\n      <th>feature_16</th>\n      <th>feature_17</th>\n      <th>feature_18</th>\n      <th>Nome_UF</th>\n      <th>Código Município Completo</th>\n      <th>Nome_Município</th>\n      <th>UF_COD</th>\n    </tr>\n  </thead>\n  <tbody>\n    <tr>\n      <th>0</th>\n      <td>1</td>\n      <td>4125506005002</td>\n      <td>4125506</td>\n      <td>NaN</td>\n      <td>FEATURE_02_VALUE_04</td>\n      <td>True</td>\n      <td>21.76</td>\n      <td>FEATURE_05_VALUE_04</td>\n      <td>31</td>\n      <td>0.168922</td>\n      <td>...</td>\n      <td>NaN</td>\n      <td>NaN</td>\n      <td>NaN</td>\n      <td>NaN</td>\n      <td>NaN</td>\n      <td>NaN</td>\n      <td>Paraná</td>\n      <td>4125506.0</td>\n      <td>São José dos Pinhais</td>\n      <td>13.0</td>\n    </tr>\n    <tr>\n      <th>1</th>\n      <td>2</td>\n      <td>5300108005004</td>\n      <td>5300108</td>\n      <td>NaN</td>\n      <td>FEATURE_02_VALUE_03</td>\n      <td>True</td>\n      <td>22.00</td>\n      <td>FEATURE_05_VALUE_03</td>\n      <td>27</td>\n      <td>0.215967</td>\n      <td>...</td>\n      <td>NaN</td>\n      <td>NaN</td>\n      <td>NaN</td>\n      <td>NaN</td>\n      <td>NaN</td>\n      <td>NaN</td>\n      <td>Distrito Federal</td>\n      <td>5300108.0</td>\n      <td>Brasília</td>\n      <td>6.0</td>\n    </tr>\n    <tr>\n      <th>2</th>\n      <td>3</td>\n      <td>3550308005052</td>\n      <td>3550308</td>\n      <td>NaN</td>\n      <td>FEATURE_02_VALUE_03</td>\n      <td>True</td>\n      <td>45.66</td>\n      <td>FEATURE_05_VALUE_03</td>\n      <td>6</td>\n      <td>0.190102</td>\n      <td>...</td>\n      <td>NaN</td>\n      <td>NaN</td>\n      <td>NaN</td>\n      <td>NaN</td>\n      <td>NaN</td>\n      <td>NaN</td>\n      <td>São Paulo</td>\n      <td>3550308.0</td>\n      <td>São Paulo</td>\n      <td>25.0</td>\n    </tr>\n    <tr>\n      <th>3</th>\n      <td>4</td>\n      <td>3145604003002</td>\n      <td>3145604</td>\n      <td>NaN</td>\n      <td>FEATURE_02_VALUE_04</td>\n      <td>False</td>\n      <td>30.00</td>\n      <td>FEATURE_05_VALUE_03</td>\n      <td>3</td>\n      <td>0.141988</td>\n      <td>...</td>\n      <td>NaN</td>\n      <td>NaN</td>\n      <td>NaN</td>\n      <td>NaN</td>\n      <td>NaN</td>\n      <td>NaN</td>\n      <td>Minas Gerais</td>\n      <td>3145604.0</td>\n      <td>Oliveira</td>\n      <td>12.0</td>\n    </tr>\n    <tr>\n      <th>4</th>\n      <td>5</td>\n      <td>1600303005010</td>\n      <td>1600303</td>\n      <td>FEATURE_01_VALUE_10</td>\n      <td>FEATURE_02_VALUE_02</td>\n      <td>False</td>\n      <td>62.49</td>\n      <td>FEATURE_05_VALUE_03</td>\n      <td>30</td>\n      <td>0.107619</td>\n      <td>...</td>\n      <td>100.0</td>\n      <td>88.1</td>\n      <td>100.0</td>\n      <td>100.0</td>\n      <td>88.5</td>\n      <td>93.8</td>\n      <td>Amapá</td>\n      <td>1600303.0</td>\n      <td>Macapá</td>\n      <td>2.0</td>\n    </tr>\n    <tr>\n      <th>...</th>\n      <td>...</td>\n      <td>...</td>\n      <td>...</td>\n      <td>...</td>\n      <td>...</td>\n      <td>...</td>\n      <td>...</td>\n      <td>...</td>\n      <td>...</td>\n      <td>...</td>\n      <td>...</td>\n      <td>...</td>\n      <td>...</td>\n      <td>...</td>\n      <td>...</td>\n      <td>...</td>\n      <td>...</td>\n      <td>...</td>\n      <td>...</td>\n      <td>...</td>\n      <td>...</td>\n    </tr>\n    <tr>\n      <th>3125</th>\n      <td>3682</td>\n      <td>5105259003002</td>\n      <td>5105259</td>\n      <td>NaN</td>\n      <td>FEATURE_02_VALUE_04</td>\n      <td>False</td>\n      <td>30.16</td>\n      <td>FEATURE_05_VALUE_03</td>\n      <td>5</td>\n      <td>0.210289</td>\n      <td>...</td>\n      <td>100.0</td>\n      <td>91.7</td>\n      <td>100.0</td>\n      <td>100.0</td>\n      <td>97.1</td>\n      <td>97.6</td>\n      <td>Mato Grosso</td>\n      <td>5105259.0</td>\n      <td>Lucas do Rio Verde</td>\n      <td>10.0</td>\n    </tr>\n    <tr>\n      <th>3126</th>\n      <td>3683</td>\n      <td>2604106003003</td>\n      <td>2604106</td>\n      <td>FEATURE_01_VALUE_10</td>\n      <td>FEATURE_02_VALUE_02</td>\n      <td>False</td>\n      <td>38.00</td>\n      <td>FEATURE_05_VALUE_03</td>\n      <td>13</td>\n      <td>0.146264</td>\n      <td>...</td>\n      <td>100.0</td>\n      <td>85.0</td>\n      <td>100.0</td>\n      <td>100.0</td>\n      <td>50.7</td>\n      <td>72.5</td>\n      <td>Pernambuco</td>\n      <td>2604106.0</td>\n      <td>Caruaru</td>\n      <td>16.0</td>\n    </tr>\n    <tr>\n      <th>3127</th>\n      <td>3685</td>\n      <td>4115804003002</td>\n      <td>4115804</td>\n      <td>NaN</td>\n      <td>FEATURE_02_VALUE_04</td>\n      <td>False</td>\n      <td>44.04</td>\n      <td>FEATURE_05_VALUE_02</td>\n      <td>7</td>\n      <td>0.226926</td>\n      <td>...</td>\n      <td>100.0</td>\n      <td>71.5</td>\n      <td>100.0</td>\n      <td>100.0</td>\n      <td>99.0</td>\n      <td>95.2</td>\n      <td>Paraná</td>\n      <td>4115804.0</td>\n      <td>Medianeira</td>\n      <td>13.0</td>\n    </tr>\n    <tr>\n      <th>3128</th>\n      <td>3686</td>\n      <td>3509700003001</td>\n      <td>3509700</td>\n      <td>NaN</td>\n      <td>FEATURE_02_VALUE_06</td>\n      <td>False</td>\n      <td>31.76</td>\n      <td>FEATURE_05_VALUE_03</td>\n      <td>4</td>\n      <td>0.134354</td>\n      <td>...</td>\n      <td>NaN</td>\n      <td>NaN</td>\n      <td>NaN</td>\n      <td>NaN</td>\n      <td>NaN</td>\n      <td>NaN</td>\n      <td>São Paulo</td>\n      <td>3509700.0</td>\n      <td>Campos do Jordão</td>\n      <td>25.0</td>\n    </tr>\n    <tr>\n      <th>3129</th>\n      <td>3687</td>\n      <td>4211702001001</td>\n      <td>4211702</td>\n      <td>NaN</td>\n      <td>FEATURE_02_VALUE_04</td>\n      <td>False</td>\n      <td>26.50</td>\n      <td>FEATURE_05_VALUE_03</td>\n      <td>2</td>\n      <td>0.199854</td>\n      <td>...</td>\n      <td>NaN</td>\n      <td>NaN</td>\n      <td>NaN</td>\n      <td>NaN</td>\n      <td>NaN</td>\n      <td>NaN</td>\n      <td>Santa Catarina</td>\n      <td>4211702.0</td>\n      <td>Orleans</td>\n      <td>23.0</td>\n    </tr>\n  </tbody>\n</table>\n<p>3130 rows × 25 columns</p>\n</div>"
     },
     "metadata": {},
     "execution_count": 34
    }
   ],
   "source": [
    "data_merge = pd.merge(data_la, data_cod_mun_ibge, left_on = \"cod_municipio\", right_on = \"Código Município Completo\", how = \"left\")\n",
    "\n",
    "data_merge"
   ]
  },
  {
   "cell_type": "code",
   "execution_count": 35,
   "metadata": {},
   "outputs": [
    {
     "output_type": "execute_result",
     "data": {
      "text/plain": [
       "      cod_loja         cod_ap  cod_municipio           feature_01  \\\n",
       "0            1  4125506005002        4125506                  NaN   \n",
       "1            2  5300108005004        5300108                  NaN   \n",
       "2            3  3550308005052        3550308                  NaN   \n",
       "3            4  3145604003002        3145604                  NaN   \n",
       "4            5  1600303005010        1600303  FEATURE_01_VALUE_10   \n",
       "...        ...            ...            ...                  ...   \n",
       "3125      3682  5105259003002        5105259                  NaN   \n",
       "3126      3683  2604106003003        2604106  FEATURE_01_VALUE_10   \n",
       "3127      3685  4115804003002        4115804                  NaN   \n",
       "3128      3686  3509700003001        3509700                  NaN   \n",
       "3129      3687  4211702001001        4211702                  NaN   \n",
       "\n",
       "               feature_02  feature_03  feature_04           feature_05  \\\n",
       "0     FEATURE_02_VALUE_04        True       21.76  FEATURE_05_VALUE_04   \n",
       "1     FEATURE_02_VALUE_03        True       22.00  FEATURE_05_VALUE_03   \n",
       "2     FEATURE_02_VALUE_03        True       45.66  FEATURE_05_VALUE_03   \n",
       "3     FEATURE_02_VALUE_04       False       30.00  FEATURE_05_VALUE_03   \n",
       "4     FEATURE_02_VALUE_02       False       62.49  FEATURE_05_VALUE_03   \n",
       "...                   ...         ...         ...                  ...   \n",
       "3125  FEATURE_02_VALUE_04       False       30.16  FEATURE_05_VALUE_03   \n",
       "3126  FEATURE_02_VALUE_02       False       38.00  FEATURE_05_VALUE_03   \n",
       "3127  FEATURE_02_VALUE_04       False       44.04  FEATURE_05_VALUE_02   \n",
       "3128  FEATURE_02_VALUE_06       False       31.76  FEATURE_05_VALUE_03   \n",
       "3129  FEATURE_02_VALUE_04       False       26.50  FEATURE_05_VALUE_03   \n",
       "\n",
       "      feature_06  feature_07  ...           feature_12  feature_13  \\\n",
       "0             31    0.168922  ...                  NaN         NaN   \n",
       "1             27    0.215967  ...                  NaN         NaN   \n",
       "2              6    0.190102  ...                  NaN         NaN   \n",
       "3              3    0.141988  ...                  NaN         NaN   \n",
       "4             30    0.107619  ...  FEATURE_12_VALUE_01       100.0   \n",
       "...          ...         ...  ...                  ...         ...   \n",
       "3125           5    0.210289  ...                  NaN       100.0   \n",
       "3126          13    0.146264  ...                  NaN       100.0   \n",
       "3127           7    0.226926  ...                  NaN       100.0   \n",
       "3128           4    0.134354  ...                  NaN         NaN   \n",
       "3129           2    0.199854  ...                  NaN         NaN   \n",
       "\n",
       "      feature_14 feature_15 feature_16  feature_17  feature_18  \\\n",
       "0            NaN        NaN        NaN         NaN         NaN   \n",
       "1            NaN        NaN        NaN         NaN         NaN   \n",
       "2            NaN        NaN        NaN         NaN         NaN   \n",
       "3            NaN        NaN        NaN         NaN         NaN   \n",
       "4           88.1      100.0      100.0        88.5        93.8   \n",
       "...          ...        ...        ...         ...         ...   \n",
       "3125        91.7      100.0      100.0        97.1        97.6   \n",
       "3126        85.0      100.0      100.0        50.7        72.5   \n",
       "3127        71.5      100.0      100.0        99.0        95.2   \n",
       "3128         NaN        NaN        NaN         NaN         NaN   \n",
       "3129         NaN        NaN        NaN         NaN         NaN   \n",
       "\n",
       "               Nome_UF        Nome_Município  UF_COD  \n",
       "0               Paraná  São José dos Pinhais    13.0  \n",
       "1     Distrito Federal              Brasília     6.0  \n",
       "2            São Paulo             São Paulo    25.0  \n",
       "3         Minas Gerais              Oliveira    12.0  \n",
       "4                Amapá                Macapá     2.0  \n",
       "...                ...                   ...     ...  \n",
       "3125       Mato Grosso    Lucas do Rio Verde    10.0  \n",
       "3126        Pernambuco               Caruaru    16.0  \n",
       "3127            Paraná            Medianeira    13.0  \n",
       "3128         São Paulo      Campos do Jordão    25.0  \n",
       "3129    Santa Catarina               Orleans    23.0  \n",
       "\n",
       "[3130 rows x 24 columns]"
      ],
      "text/html": "<div>\n<style scoped>\n    .dataframe tbody tr th:only-of-type {\n        vertical-align: middle;\n    }\n\n    .dataframe tbody tr th {\n        vertical-align: top;\n    }\n\n    .dataframe thead th {\n        text-align: right;\n    }\n</style>\n<table border=\"1\" class=\"dataframe\">\n  <thead>\n    <tr style=\"text-align: right;\">\n      <th></th>\n      <th>cod_loja</th>\n      <th>cod_ap</th>\n      <th>cod_municipio</th>\n      <th>feature_01</th>\n      <th>feature_02</th>\n      <th>feature_03</th>\n      <th>feature_04</th>\n      <th>feature_05</th>\n      <th>feature_06</th>\n      <th>feature_07</th>\n      <th>...</th>\n      <th>feature_12</th>\n      <th>feature_13</th>\n      <th>feature_14</th>\n      <th>feature_15</th>\n      <th>feature_16</th>\n      <th>feature_17</th>\n      <th>feature_18</th>\n      <th>Nome_UF</th>\n      <th>Nome_Município</th>\n      <th>UF_COD</th>\n    </tr>\n  </thead>\n  <tbody>\n    <tr>\n      <th>0</th>\n      <td>1</td>\n      <td>4125506005002</td>\n      <td>4125506</td>\n      <td>NaN</td>\n      <td>FEATURE_02_VALUE_04</td>\n      <td>True</td>\n      <td>21.76</td>\n      <td>FEATURE_05_VALUE_04</td>\n      <td>31</td>\n      <td>0.168922</td>\n      <td>...</td>\n      <td>NaN</td>\n      <td>NaN</td>\n      <td>NaN</td>\n      <td>NaN</td>\n      <td>NaN</td>\n      <td>NaN</td>\n      <td>NaN</td>\n      <td>Paraná</td>\n      <td>São José dos Pinhais</td>\n      <td>13.0</td>\n    </tr>\n    <tr>\n      <th>1</th>\n      <td>2</td>\n      <td>5300108005004</td>\n      <td>5300108</td>\n      <td>NaN</td>\n      <td>FEATURE_02_VALUE_03</td>\n      <td>True</td>\n      <td>22.00</td>\n      <td>FEATURE_05_VALUE_03</td>\n      <td>27</td>\n      <td>0.215967</td>\n      <td>...</td>\n      <td>NaN</td>\n      <td>NaN</td>\n      <td>NaN</td>\n      <td>NaN</td>\n      <td>NaN</td>\n      <td>NaN</td>\n      <td>NaN</td>\n      <td>Distrito Federal</td>\n      <td>Brasília</td>\n      <td>6.0</td>\n    </tr>\n    <tr>\n      <th>2</th>\n      <td>3</td>\n      <td>3550308005052</td>\n      <td>3550308</td>\n      <td>NaN</td>\n      <td>FEATURE_02_VALUE_03</td>\n      <td>True</td>\n      <td>45.66</td>\n      <td>FEATURE_05_VALUE_03</td>\n      <td>6</td>\n      <td>0.190102</td>\n      <td>...</td>\n      <td>NaN</td>\n      <td>NaN</td>\n      <td>NaN</td>\n      <td>NaN</td>\n      <td>NaN</td>\n      <td>NaN</td>\n      <td>NaN</td>\n      <td>São Paulo</td>\n      <td>São Paulo</td>\n      <td>25.0</td>\n    </tr>\n    <tr>\n      <th>3</th>\n      <td>4</td>\n      <td>3145604003002</td>\n      <td>3145604</td>\n      <td>NaN</td>\n      <td>FEATURE_02_VALUE_04</td>\n      <td>False</td>\n      <td>30.00</td>\n      <td>FEATURE_05_VALUE_03</td>\n      <td>3</td>\n      <td>0.141988</td>\n      <td>...</td>\n      <td>NaN</td>\n      <td>NaN</td>\n      <td>NaN</td>\n      <td>NaN</td>\n      <td>NaN</td>\n      <td>NaN</td>\n      <td>NaN</td>\n      <td>Minas Gerais</td>\n      <td>Oliveira</td>\n      <td>12.0</td>\n    </tr>\n    <tr>\n      <th>4</th>\n      <td>5</td>\n      <td>1600303005010</td>\n      <td>1600303</td>\n      <td>FEATURE_01_VALUE_10</td>\n      <td>FEATURE_02_VALUE_02</td>\n      <td>False</td>\n      <td>62.49</td>\n      <td>FEATURE_05_VALUE_03</td>\n      <td>30</td>\n      <td>0.107619</td>\n      <td>...</td>\n      <td>FEATURE_12_VALUE_01</td>\n      <td>100.0</td>\n      <td>88.1</td>\n      <td>100.0</td>\n      <td>100.0</td>\n      <td>88.5</td>\n      <td>93.8</td>\n      <td>Amapá</td>\n      <td>Macapá</td>\n      <td>2.0</td>\n    </tr>\n    <tr>\n      <th>...</th>\n      <td>...</td>\n      <td>...</td>\n      <td>...</td>\n      <td>...</td>\n      <td>...</td>\n      <td>...</td>\n      <td>...</td>\n      <td>...</td>\n      <td>...</td>\n      <td>...</td>\n      <td>...</td>\n      <td>...</td>\n      <td>...</td>\n      <td>...</td>\n      <td>...</td>\n      <td>...</td>\n      <td>...</td>\n      <td>...</td>\n      <td>...</td>\n      <td>...</td>\n      <td>...</td>\n    </tr>\n    <tr>\n      <th>3125</th>\n      <td>3682</td>\n      <td>5105259003002</td>\n      <td>5105259</td>\n      <td>NaN</td>\n      <td>FEATURE_02_VALUE_04</td>\n      <td>False</td>\n      <td>30.16</td>\n      <td>FEATURE_05_VALUE_03</td>\n      <td>5</td>\n      <td>0.210289</td>\n      <td>...</td>\n      <td>NaN</td>\n      <td>100.0</td>\n      <td>91.7</td>\n      <td>100.0</td>\n      <td>100.0</td>\n      <td>97.1</td>\n      <td>97.6</td>\n      <td>Mato Grosso</td>\n      <td>Lucas do Rio Verde</td>\n      <td>10.0</td>\n    </tr>\n    <tr>\n      <th>3126</th>\n      <td>3683</td>\n      <td>2604106003003</td>\n      <td>2604106</td>\n      <td>FEATURE_01_VALUE_10</td>\n      <td>FEATURE_02_VALUE_02</td>\n      <td>False</td>\n      <td>38.00</td>\n      <td>FEATURE_05_VALUE_03</td>\n      <td>13</td>\n      <td>0.146264</td>\n      <td>...</td>\n      <td>NaN</td>\n      <td>100.0</td>\n      <td>85.0</td>\n      <td>100.0</td>\n      <td>100.0</td>\n      <td>50.7</td>\n      <td>72.5</td>\n      <td>Pernambuco</td>\n      <td>Caruaru</td>\n      <td>16.0</td>\n    </tr>\n    <tr>\n      <th>3127</th>\n      <td>3685</td>\n      <td>4115804003002</td>\n      <td>4115804</td>\n      <td>NaN</td>\n      <td>FEATURE_02_VALUE_04</td>\n      <td>False</td>\n      <td>44.04</td>\n      <td>FEATURE_05_VALUE_02</td>\n      <td>7</td>\n      <td>0.226926</td>\n      <td>...</td>\n      <td>NaN</td>\n      <td>100.0</td>\n      <td>71.5</td>\n      <td>100.0</td>\n      <td>100.0</td>\n      <td>99.0</td>\n      <td>95.2</td>\n      <td>Paraná</td>\n      <td>Medianeira</td>\n      <td>13.0</td>\n    </tr>\n    <tr>\n      <th>3128</th>\n      <td>3686</td>\n      <td>3509700003001</td>\n      <td>3509700</td>\n      <td>NaN</td>\n      <td>FEATURE_02_VALUE_06</td>\n      <td>False</td>\n      <td>31.76</td>\n      <td>FEATURE_05_VALUE_03</td>\n      <td>4</td>\n      <td>0.134354</td>\n      <td>...</td>\n      <td>NaN</td>\n      <td>NaN</td>\n      <td>NaN</td>\n      <td>NaN</td>\n      <td>NaN</td>\n      <td>NaN</td>\n      <td>NaN</td>\n      <td>São Paulo</td>\n      <td>Campos do Jordão</td>\n      <td>25.0</td>\n    </tr>\n    <tr>\n      <th>3129</th>\n      <td>3687</td>\n      <td>4211702001001</td>\n      <td>4211702</td>\n      <td>NaN</td>\n      <td>FEATURE_02_VALUE_04</td>\n      <td>False</td>\n      <td>26.50</td>\n      <td>FEATURE_05_VALUE_03</td>\n      <td>2</td>\n      <td>0.199854</td>\n      <td>...</td>\n      <td>NaN</td>\n      <td>NaN</td>\n      <td>NaN</td>\n      <td>NaN</td>\n      <td>NaN</td>\n      <td>NaN</td>\n      <td>NaN</td>\n      <td>Santa Catarina</td>\n      <td>Orleans</td>\n      <td>23.0</td>\n    </tr>\n  </tbody>\n</table>\n<p>3130 rows × 24 columns</p>\n</div>"
     },
     "metadata": {},
     "execution_count": 35
    }
   ],
   "source": [
    "data_merge = data_merge.drop(\"Código Município Completo\", axis = 1)\n",
    "\n",
    "data_merge"
   ]
  },
  {
   "cell_type": "code",
   "execution_count": 36,
   "metadata": {},
   "outputs": [],
   "source": [
    "data_merge.to_csv(\"data/lojas-atuais-uf-mun.csv\", index = False)"
   ]
  },
  {
   "cell_type": "code",
   "execution_count": 37,
   "metadata": {},
   "outputs": [
    {
     "output_type": "execute_result",
     "data": {
      "text/plain": [
       "São Paulo              833\n",
       "Minas Gerais           279\n",
       "Paraná                 188\n",
       "Rio de Janeiro         175\n",
       "Rio Grande do Sul      175\n",
       "Bahia                  171\n",
       "Pernambuco             137\n",
       "Santa Catarina         119\n",
       "Ceará                  115\n",
       "Goiás                   97\n",
       "Espírito Santo          73\n",
       "Pará                    68\n",
       "Maranhão                62\n",
       "Rio Grande do Norte     60\n",
       "Mato Grosso             59\n",
       "Paraíba                 53\n",
       "Mato Grosso do Sul      53\n",
       "Alagoas                 43\n",
       "Piauí                   41\n",
       "Amazonas                36\n",
       "Distrito Federal        35\n",
       "Sergipe                 31\n",
       "Rondônia                31\n",
       "Tocantins               18\n",
       "Amapá                   12\n",
       "Acre                     8\n",
       "Roraima                  7\n",
       "Name: Nome_UF, dtype: int64"
      ]
     },
     "metadata": {},
     "execution_count": 37
    }
   ],
   "source": [
    "data_merge.Nome_UF.value_counts()"
   ]
  },
  {
   "cell_type": "code",
   "execution_count": 38,
   "metadata": {},
   "outputs": [
    {
     "output_type": "execute_result",
     "data": {
      "text/plain": [
       "São Paulo         184\n",
       "Rio de Janeiro     70\n",
       "Brasília           35\n",
       "Campinas           33\n",
       "Recife             33\n",
       "                 ... \n",
       "Antonina            1\n",
       "Paudalho            1\n",
       "Barras              1\n",
       "São Simão           1\n",
       "Mandaguaçu          1\n",
       "Name: Nome_Município, Length: 1462, dtype: int64"
      ]
     },
     "metadata": {},
     "execution_count": 38
    }
   ],
   "source": [
    "data_merge[\"Nome_Município\"].value_counts()"
   ]
  },
  {
   "source": [
    "## Feriados municipais\n",
    "\n",
    "Cada município tem uma certa quantidade de feriado municipal, devemos utilizar esses dados para [...]"
   ],
   "cell_type": "markdown",
   "metadata": {}
  },
  {
   "cell_type": "code",
   "execution_count": 30,
   "metadata": {},
   "outputs": [
    {
     "output_type": "execute_result",
     "data": {
      "text/plain": [
       "            data                   nome       tipo  \\\n",
       "0     02/11/2016                Finados  MUNICIPAL   \n",
       "1     02/11/2016                Finados  MUNICIPAL   \n",
       "2     20/01/2016          São Sebastião  MUNICIPAL   \n",
       "3     19/08/2016    Nossa Sra da Glória  MUNICIPAL   \n",
       "4     30/09/2016  Aniversário da Cidade  MUNICIPAL   \n",
       "...          ...                    ...        ...   \n",
       "8544  28/07/2016      Feriado Municipal  MUNICIPAL   \n",
       "8545  15/08/2016      Feriado Municipal  MUNICIPAL   \n",
       "8546  29/09/2016      Feriado Municipal  MUNICIPAL   \n",
       "8547  14/11/2016      Feriado Municipal  MUNICIPAL   \n",
       "8548  30/11/2016      Feriado Municipal  MUNICIPAL   \n",
       "\n",
       "                                              descricao  uf         municipio  \n",
       "0                                        Dia de Finados  SC         Criciúma   \n",
       "1                                        Dia de Finados  SP        Monte Mor   \n",
       "2                                  Dia de São Sebastião  ES          Itarana   \n",
       "3     Nossa Senhora da Glória. Feriado movido para S...  AC  Cruzeiro do Sul   \n",
       "4     Aniversário de Cruzeiro do Sul. Feriado movido...  AC  Cruzeiro do Sul   \n",
       "...                                                 ...  ..               ...  \n",
       "8544                                                NaN  TO   Tocantinópolis   \n",
       "8545                                                NaN  TO   Tocantinópolis   \n",
       "8546                                                NaN  TO          Xambioá   \n",
       "8547                                                NaN  TO          Xambioá   \n",
       "8548                                                NaN  TO          Xambioá   \n",
       "\n",
       "[8549 rows x 6 columns]"
      ],
      "text/html": "<div>\n<style scoped>\n    .dataframe tbody tr th:only-of-type {\n        vertical-align: middle;\n    }\n\n    .dataframe tbody tr th {\n        vertical-align: top;\n    }\n\n    .dataframe thead th {\n        text-align: right;\n    }\n</style>\n<table border=\"1\" class=\"dataframe\">\n  <thead>\n    <tr style=\"text-align: right;\">\n      <th></th>\n      <th>data</th>\n      <th>nome</th>\n      <th>tipo</th>\n      <th>descricao</th>\n      <th>uf</th>\n      <th>municipio</th>\n    </tr>\n  </thead>\n  <tbody>\n    <tr>\n      <th>0</th>\n      <td>02/11/2016</td>\n      <td>Finados</td>\n      <td>MUNICIPAL</td>\n      <td>Dia de Finados</td>\n      <td>SC</td>\n      <td>Criciúma</td>\n    </tr>\n    <tr>\n      <th>1</th>\n      <td>02/11/2016</td>\n      <td>Finados</td>\n      <td>MUNICIPAL</td>\n      <td>Dia de Finados</td>\n      <td>SP</td>\n      <td>Monte Mor</td>\n    </tr>\n    <tr>\n      <th>2</th>\n      <td>20/01/2016</td>\n      <td>São Sebastião</td>\n      <td>MUNICIPAL</td>\n      <td>Dia de São Sebastião</td>\n      <td>ES</td>\n      <td>Itarana</td>\n    </tr>\n    <tr>\n      <th>3</th>\n      <td>19/08/2016</td>\n      <td>Nossa Sra da Glória</td>\n      <td>MUNICIPAL</td>\n      <td>Nossa Senhora da Glória. Feriado movido para S...</td>\n      <td>AC</td>\n      <td>Cruzeiro do Sul</td>\n    </tr>\n    <tr>\n      <th>4</th>\n      <td>30/09/2016</td>\n      <td>Aniversário da Cidade</td>\n      <td>MUNICIPAL</td>\n      <td>Aniversário de Cruzeiro do Sul. Feriado movido...</td>\n      <td>AC</td>\n      <td>Cruzeiro do Sul</td>\n    </tr>\n    <tr>\n      <th>...</th>\n      <td>...</td>\n      <td>...</td>\n      <td>...</td>\n      <td>...</td>\n      <td>...</td>\n      <td>...</td>\n    </tr>\n    <tr>\n      <th>8544</th>\n      <td>28/07/2016</td>\n      <td>Feriado Municipal</td>\n      <td>MUNICIPAL</td>\n      <td>NaN</td>\n      <td>TO</td>\n      <td>Tocantinópolis</td>\n    </tr>\n    <tr>\n      <th>8545</th>\n      <td>15/08/2016</td>\n      <td>Feriado Municipal</td>\n      <td>MUNICIPAL</td>\n      <td>NaN</td>\n      <td>TO</td>\n      <td>Tocantinópolis</td>\n    </tr>\n    <tr>\n      <th>8546</th>\n      <td>29/09/2016</td>\n      <td>Feriado Municipal</td>\n      <td>MUNICIPAL</td>\n      <td>NaN</td>\n      <td>TO</td>\n      <td>Xambioá</td>\n    </tr>\n    <tr>\n      <th>8547</th>\n      <td>14/11/2016</td>\n      <td>Feriado Municipal</td>\n      <td>MUNICIPAL</td>\n      <td>NaN</td>\n      <td>TO</td>\n      <td>Xambioá</td>\n    </tr>\n    <tr>\n      <th>8548</th>\n      <td>30/11/2016</td>\n      <td>Feriado Municipal</td>\n      <td>MUNICIPAL</td>\n      <td>NaN</td>\n      <td>TO</td>\n      <td>Xambioá</td>\n    </tr>\n  </tbody>\n</table>\n<p>8549 rows × 6 columns</p>\n</div>"
     },
     "metadata": {},
     "execution_count": 30
    }
   ],
   "source": [
    "data_feriados_mun_2016 = pd.read_csv(\"data/feriados-mun-2016.csv\")\n",
    "\n",
    "data_feriados_mun_2016"
   ]
  },
  {
   "cell_type": "code",
   "execution_count": 31,
   "metadata": {},
   "outputs": [
    {
     "output_type": "execute_result",
     "data": {
      "text/plain": [
       "            data                   nome       tipo  \\\n",
       "0     02/11/2016                Finados  MUNICIPAL   \n",
       "1     02/11/2016                Finados  MUNICIPAL   \n",
       "2     20/01/2016          São Sebastião  MUNICIPAL   \n",
       "3     19/08/2016    Nossa Sra da Glória  MUNICIPAL   \n",
       "4     30/09/2016  Aniversário da Cidade  MUNICIPAL   \n",
       "...          ...                    ...        ...   \n",
       "8544  28/07/2016      Feriado Municipal  MUNICIPAL   \n",
       "8545  15/08/2016      Feriado Municipal  MUNICIPAL   \n",
       "8546  29/09/2016      Feriado Municipal  MUNICIPAL   \n",
       "8547  14/11/2016      Feriado Municipal  MUNICIPAL   \n",
       "8548  30/11/2016      Feriado Municipal  MUNICIPAL   \n",
       "\n",
       "                                              descricao  uf         municipio  \\\n",
       "0                                        Dia de Finados  SC         Criciúma    \n",
       "1                                        Dia de Finados  SP        Monte Mor    \n",
       "2                                  Dia de São Sebastião  ES          Itarana    \n",
       "3     Nossa Senhora da Glória. Feriado movido para S...  AC  Cruzeiro do Sul    \n",
       "4     Aniversário de Cruzeiro do Sul. Feriado movido...  AC  Cruzeiro do Sul    \n",
       "...                                                 ...  ..               ...   \n",
       "8544                                                NaN  TO   Tocantinópolis    \n",
       "8545                                                NaN  TO   Tocantinópolis    \n",
       "8546                                                NaN  TO          Xambioá    \n",
       "8547                                                NaN  TO          Xambioá    \n",
       "8548                                                NaN  TO          Xambioá    \n",
       "\n",
       "       datetime  \n",
       "0    2016-11-02  \n",
       "1    2016-11-02  \n",
       "2    2016-01-20  \n",
       "3    2016-08-19  \n",
       "4    2016-09-30  \n",
       "...         ...  \n",
       "8544 2016-07-28  \n",
       "8545 2016-08-15  \n",
       "8546 2016-09-29  \n",
       "8547 2016-11-14  \n",
       "8548 2016-11-30  \n",
       "\n",
       "[8549 rows x 7 columns]"
      ],
      "text/html": "<div>\n<style scoped>\n    .dataframe tbody tr th:only-of-type {\n        vertical-align: middle;\n    }\n\n    .dataframe tbody tr th {\n        vertical-align: top;\n    }\n\n    .dataframe thead th {\n        text-align: right;\n    }\n</style>\n<table border=\"1\" class=\"dataframe\">\n  <thead>\n    <tr style=\"text-align: right;\">\n      <th></th>\n      <th>data</th>\n      <th>nome</th>\n      <th>tipo</th>\n      <th>descricao</th>\n      <th>uf</th>\n      <th>municipio</th>\n      <th>datetime</th>\n    </tr>\n  </thead>\n  <tbody>\n    <tr>\n      <th>0</th>\n      <td>02/11/2016</td>\n      <td>Finados</td>\n      <td>MUNICIPAL</td>\n      <td>Dia de Finados</td>\n      <td>SC</td>\n      <td>Criciúma</td>\n      <td>2016-11-02</td>\n    </tr>\n    <tr>\n      <th>1</th>\n      <td>02/11/2016</td>\n      <td>Finados</td>\n      <td>MUNICIPAL</td>\n      <td>Dia de Finados</td>\n      <td>SP</td>\n      <td>Monte Mor</td>\n      <td>2016-11-02</td>\n    </tr>\n    <tr>\n      <th>2</th>\n      <td>20/01/2016</td>\n      <td>São Sebastião</td>\n      <td>MUNICIPAL</td>\n      <td>Dia de São Sebastião</td>\n      <td>ES</td>\n      <td>Itarana</td>\n      <td>2016-01-20</td>\n    </tr>\n    <tr>\n      <th>3</th>\n      <td>19/08/2016</td>\n      <td>Nossa Sra da Glória</td>\n      <td>MUNICIPAL</td>\n      <td>Nossa Senhora da Glória. Feriado movido para S...</td>\n      <td>AC</td>\n      <td>Cruzeiro do Sul</td>\n      <td>2016-08-19</td>\n    </tr>\n    <tr>\n      <th>4</th>\n      <td>30/09/2016</td>\n      <td>Aniversário da Cidade</td>\n      <td>MUNICIPAL</td>\n      <td>Aniversário de Cruzeiro do Sul. Feriado movido...</td>\n      <td>AC</td>\n      <td>Cruzeiro do Sul</td>\n      <td>2016-09-30</td>\n    </tr>\n    <tr>\n      <th>...</th>\n      <td>...</td>\n      <td>...</td>\n      <td>...</td>\n      <td>...</td>\n      <td>...</td>\n      <td>...</td>\n      <td>...</td>\n    </tr>\n    <tr>\n      <th>8544</th>\n      <td>28/07/2016</td>\n      <td>Feriado Municipal</td>\n      <td>MUNICIPAL</td>\n      <td>NaN</td>\n      <td>TO</td>\n      <td>Tocantinópolis</td>\n      <td>2016-07-28</td>\n    </tr>\n    <tr>\n      <th>8545</th>\n      <td>15/08/2016</td>\n      <td>Feriado Municipal</td>\n      <td>MUNICIPAL</td>\n      <td>NaN</td>\n      <td>TO</td>\n      <td>Tocantinópolis</td>\n      <td>2016-08-15</td>\n    </tr>\n    <tr>\n      <th>8546</th>\n      <td>29/09/2016</td>\n      <td>Feriado Municipal</td>\n      <td>MUNICIPAL</td>\n      <td>NaN</td>\n      <td>TO</td>\n      <td>Xambioá</td>\n      <td>2016-09-29</td>\n    </tr>\n    <tr>\n      <th>8547</th>\n      <td>14/11/2016</td>\n      <td>Feriado Municipal</td>\n      <td>MUNICIPAL</td>\n      <td>NaN</td>\n      <td>TO</td>\n      <td>Xambioá</td>\n      <td>2016-11-14</td>\n    </tr>\n    <tr>\n      <th>8548</th>\n      <td>30/11/2016</td>\n      <td>Feriado Municipal</td>\n      <td>MUNICIPAL</td>\n      <td>NaN</td>\n      <td>TO</td>\n      <td>Xambioá</td>\n      <td>2016-11-30</td>\n    </tr>\n  </tbody>\n</table>\n<p>8549 rows × 7 columns</p>\n</div>"
     },
     "metadata": {},
     "execution_count": 31
    }
   ],
   "source": [
    "data_feriados_mun_2016[\"datetime\"] = pd.to_datetime(data_feriados_mun_2016[\"data\"], format = \"%d/%m/%Y\")\n",
    "\n",
    "data_feriados_mun_2016\n"
   ]
  },
  {
   "cell_type": "code",
   "execution_count": 32,
   "metadata": {},
   "outputs": [
    {
     "output_type": "execute_result",
     "data": {
      "text/plain": [
       "            data                   nome       tipo  \\\n",
       "0     02/11/2016                Finados  MUNICIPAL   \n",
       "1     02/11/2016                Finados  MUNICIPAL   \n",
       "2     20/01/2016          São Sebastião  MUNICIPAL   \n",
       "3     19/08/2016    Nossa Sra da Glória  MUNICIPAL   \n",
       "4     30/09/2016  Aniversário da Cidade  MUNICIPAL   \n",
       "...          ...                    ...        ...   \n",
       "8544  28/07/2016      Feriado Municipal  MUNICIPAL   \n",
       "8545  15/08/2016      Feriado Municipal  MUNICIPAL   \n",
       "8546  29/09/2016      Feriado Municipal  MUNICIPAL   \n",
       "8547  14/11/2016      Feriado Municipal  MUNICIPAL   \n",
       "8548  30/11/2016      Feriado Municipal  MUNICIPAL   \n",
       "\n",
       "                                              descricao  uf         municipio  \\\n",
       "0                                        Dia de Finados  SC         Criciúma    \n",
       "1                                        Dia de Finados  SP        Monte Mor    \n",
       "2                                  Dia de São Sebastião  ES          Itarana    \n",
       "3     Nossa Senhora da Glória. Feriado movido para S...  AC  Cruzeiro do Sul    \n",
       "4     Aniversário de Cruzeiro do Sul. Feriado movido...  AC  Cruzeiro do Sul    \n",
       "...                                                 ...  ..               ...   \n",
       "8544                                                NaN  TO   Tocantinópolis    \n",
       "8545                                                NaN  TO   Tocantinópolis    \n",
       "8546                                                NaN  TO          Xambioá    \n",
       "8547                                                NaN  TO          Xambioá    \n",
       "8548                                                NaN  TO          Xambioá    \n",
       "\n",
       "       datetime  mes   ano  \n",
       "0    2016-11-02   11  2016  \n",
       "1    2016-11-02   11  2016  \n",
       "2    2016-01-20    1  2016  \n",
       "3    2016-08-19    8  2016  \n",
       "4    2016-09-30    9  2016  \n",
       "...         ...  ...   ...  \n",
       "8544 2016-07-28    7  2016  \n",
       "8545 2016-08-15    8  2016  \n",
       "8546 2016-09-29    9  2016  \n",
       "8547 2016-11-14   11  2016  \n",
       "8548 2016-11-30   11  2016  \n",
       "\n",
       "[8549 rows x 9 columns]"
      ],
      "text/html": "<div>\n<style scoped>\n    .dataframe tbody tr th:only-of-type {\n        vertical-align: middle;\n    }\n\n    .dataframe tbody tr th {\n        vertical-align: top;\n    }\n\n    .dataframe thead th {\n        text-align: right;\n    }\n</style>\n<table border=\"1\" class=\"dataframe\">\n  <thead>\n    <tr style=\"text-align: right;\">\n      <th></th>\n      <th>data</th>\n      <th>nome</th>\n      <th>tipo</th>\n      <th>descricao</th>\n      <th>uf</th>\n      <th>municipio</th>\n      <th>datetime</th>\n      <th>mes</th>\n      <th>ano</th>\n    </tr>\n  </thead>\n  <tbody>\n    <tr>\n      <th>0</th>\n      <td>02/11/2016</td>\n      <td>Finados</td>\n      <td>MUNICIPAL</td>\n      <td>Dia de Finados</td>\n      <td>SC</td>\n      <td>Criciúma</td>\n      <td>2016-11-02</td>\n      <td>11</td>\n      <td>2016</td>\n    </tr>\n    <tr>\n      <th>1</th>\n      <td>02/11/2016</td>\n      <td>Finados</td>\n      <td>MUNICIPAL</td>\n      <td>Dia de Finados</td>\n      <td>SP</td>\n      <td>Monte Mor</td>\n      <td>2016-11-02</td>\n      <td>11</td>\n      <td>2016</td>\n    </tr>\n    <tr>\n      <th>2</th>\n      <td>20/01/2016</td>\n      <td>São Sebastião</td>\n      <td>MUNICIPAL</td>\n      <td>Dia de São Sebastião</td>\n      <td>ES</td>\n      <td>Itarana</td>\n      <td>2016-01-20</td>\n      <td>1</td>\n      <td>2016</td>\n    </tr>\n    <tr>\n      <th>3</th>\n      <td>19/08/2016</td>\n      <td>Nossa Sra da Glória</td>\n      <td>MUNICIPAL</td>\n      <td>Nossa Senhora da Glória. Feriado movido para S...</td>\n      <td>AC</td>\n      <td>Cruzeiro do Sul</td>\n      <td>2016-08-19</td>\n      <td>8</td>\n      <td>2016</td>\n    </tr>\n    <tr>\n      <th>4</th>\n      <td>30/09/2016</td>\n      <td>Aniversário da Cidade</td>\n      <td>MUNICIPAL</td>\n      <td>Aniversário de Cruzeiro do Sul. Feriado movido...</td>\n      <td>AC</td>\n      <td>Cruzeiro do Sul</td>\n      <td>2016-09-30</td>\n      <td>9</td>\n      <td>2016</td>\n    </tr>\n    <tr>\n      <th>...</th>\n      <td>...</td>\n      <td>...</td>\n      <td>...</td>\n      <td>...</td>\n      <td>...</td>\n      <td>...</td>\n      <td>...</td>\n      <td>...</td>\n      <td>...</td>\n    </tr>\n    <tr>\n      <th>8544</th>\n      <td>28/07/2016</td>\n      <td>Feriado Municipal</td>\n      <td>MUNICIPAL</td>\n      <td>NaN</td>\n      <td>TO</td>\n      <td>Tocantinópolis</td>\n      <td>2016-07-28</td>\n      <td>7</td>\n      <td>2016</td>\n    </tr>\n    <tr>\n      <th>8545</th>\n      <td>15/08/2016</td>\n      <td>Feriado Municipal</td>\n      <td>MUNICIPAL</td>\n      <td>NaN</td>\n      <td>TO</td>\n      <td>Tocantinópolis</td>\n      <td>2016-08-15</td>\n      <td>8</td>\n      <td>2016</td>\n    </tr>\n    <tr>\n      <th>8546</th>\n      <td>29/09/2016</td>\n      <td>Feriado Municipal</td>\n      <td>MUNICIPAL</td>\n      <td>NaN</td>\n      <td>TO</td>\n      <td>Xambioá</td>\n      <td>2016-09-29</td>\n      <td>9</td>\n      <td>2016</td>\n    </tr>\n    <tr>\n      <th>8547</th>\n      <td>14/11/2016</td>\n      <td>Feriado Municipal</td>\n      <td>MUNICIPAL</td>\n      <td>NaN</td>\n      <td>TO</td>\n      <td>Xambioá</td>\n      <td>2016-11-14</td>\n      <td>11</td>\n      <td>2016</td>\n    </tr>\n    <tr>\n      <th>8548</th>\n      <td>30/11/2016</td>\n      <td>Feriado Municipal</td>\n      <td>MUNICIPAL</td>\n      <td>NaN</td>\n      <td>TO</td>\n      <td>Xambioá</td>\n      <td>2016-11-30</td>\n      <td>11</td>\n      <td>2016</td>\n    </tr>\n  </tbody>\n</table>\n<p>8549 rows × 9 columns</p>\n</div>"
     },
     "metadata": {},
     "execution_count": 32
    }
   ],
   "source": [
    "data_feriados_mun_2016[\"mes\"] = data_feriados_mun_2016[\"datetime\"].dt.month\n",
    "data_feriados_mun_2016[\"ano\"] = data_feriados_mun_2016[\"datetime\"].dt.year\n",
    "\n",
    "data_feriados_mun_2016"
   ]
  },
  {
   "cell_type": "code",
   "execution_count": 33,
   "metadata": {
    "tags": []
   },
   "outputs": [
    {
     "output_type": "execute_result",
     "data": {
      "text/plain": [
       "municipio\n",
       "Abadia dos Dourados           [8]\n",
       "Abadiânia                     [8]\n",
       "Abaeté                    [6, 11]\n",
       "Abaré                   [6, 7, 9]\n",
       "Abatiá                       [12]\n",
       "                          ...    \n",
       "Álvares Machado           [3, 11]\n",
       "Álvaro de Carvalho           [11]\n",
       "Áurea                     [8, 11]\n",
       "Óbidos                     [6, 7]\n",
       "Óleo                       [4, 8]\n",
       "Name: mes, Length: 3704, dtype: object"
      ]
     },
     "metadata": {},
     "execution_count": 33
    }
   ],
   "source": [
    "data_f_municipio = data_feriados_mun_2016.groupby([\"municipio\"])[\"mes\"].unique()\n",
    "\n",
    "data_f_municipio"
   ]
  },
  {
   "cell_type": "code",
   "execution_count": 34,
   "metadata": {
    "tags": []
   },
   "outputs": [],
   "source": [
    "feriados_por_municipio_mes = []\n",
    "\n",
    "for (index, value) in data_f_municipio.items():\n",
    "    for mes in value:\n",
    "        feriados_por_municipio_mes.append([index, mes])"
   ]
  },
  {
   "cell_type": "code",
   "execution_count": 35,
   "metadata": {},
   "outputs": [
    {
     "output_type": "execute_result",
     "data": {
      "text/plain": [
       "                 municipio  mes  tem_feriado_municipal\n",
       "0     Abadia dos Dourados     8                   True\n",
       "1               Abadiânia     8                   True\n",
       "2                  Abaeté     6                   True\n",
       "3                  Abaeté    11                   True\n",
       "4                   Abaré     6                   True\n",
       "...                    ...  ...                    ...\n",
       "7982                Áurea    11                   True\n",
       "7983               Óbidos     6                   True\n",
       "7984               Óbidos     7                   True\n",
       "7985                 Óleo     4                   True\n",
       "7986                 Óleo     8                   True\n",
       "\n",
       "[7987 rows x 3 columns]"
      ],
      "text/html": "<div>\n<style scoped>\n    .dataframe tbody tr th:only-of-type {\n        vertical-align: middle;\n    }\n\n    .dataframe tbody tr th {\n        vertical-align: top;\n    }\n\n    .dataframe thead th {\n        text-align: right;\n    }\n</style>\n<table border=\"1\" class=\"dataframe\">\n  <thead>\n    <tr style=\"text-align: right;\">\n      <th></th>\n      <th>municipio</th>\n      <th>mes</th>\n      <th>tem_feriado_municipal</th>\n    </tr>\n  </thead>\n  <tbody>\n    <tr>\n      <th>0</th>\n      <td>Abadia dos Dourados</td>\n      <td>8</td>\n      <td>True</td>\n    </tr>\n    <tr>\n      <th>1</th>\n      <td>Abadiânia</td>\n      <td>8</td>\n      <td>True</td>\n    </tr>\n    <tr>\n      <th>2</th>\n      <td>Abaeté</td>\n      <td>6</td>\n      <td>True</td>\n    </tr>\n    <tr>\n      <th>3</th>\n      <td>Abaeté</td>\n      <td>11</td>\n      <td>True</td>\n    </tr>\n    <tr>\n      <th>4</th>\n      <td>Abaré</td>\n      <td>6</td>\n      <td>True</td>\n    </tr>\n    <tr>\n      <th>...</th>\n      <td>...</td>\n      <td>...</td>\n      <td>...</td>\n    </tr>\n    <tr>\n      <th>7982</th>\n      <td>Áurea</td>\n      <td>11</td>\n      <td>True</td>\n    </tr>\n    <tr>\n      <th>7983</th>\n      <td>Óbidos</td>\n      <td>6</td>\n      <td>True</td>\n    </tr>\n    <tr>\n      <th>7984</th>\n      <td>Óbidos</td>\n      <td>7</td>\n      <td>True</td>\n    </tr>\n    <tr>\n      <th>7985</th>\n      <td>Óleo</td>\n      <td>4</td>\n      <td>True</td>\n    </tr>\n    <tr>\n      <th>7986</th>\n      <td>Óleo</td>\n      <td>8</td>\n      <td>True</td>\n    </tr>\n  </tbody>\n</table>\n<p>7987 rows × 3 columns</p>\n</div>"
     },
     "metadata": {},
     "execution_count": 35
    }
   ],
   "source": [
    "data_feriados_por_municipio_mes = pd.DataFrame(feriados_por_municipio_mes, columns = [\"municipio\", \"mes\"])\n",
    "data_feriados_por_municipio_mes[\"tem_feriado_municipal\"] = True\n",
    "\n",
    "data_feriados_por_municipio_mes"
   ]
  },
  {
   "cell_type": "code",
   "execution_count": null,
   "metadata": {},
   "outputs": [],
   "source": [
    "data_feriados_por_municipio_mes.to_csv(\"data/feriados-municipais\")"
   ]
  },
  {
   "source": [
    "## População estimada dos municípios"
   ],
   "cell_type": "markdown",
   "metadata": {}
  },
  {
   "cell_type": "code",
   "execution_count": 142,
   "metadata": {},
   "outputs": [
    {
     "output_type": "execute_result",
     "data": {
      "text/plain": [
       "      cod_municipio     Nome_Município (UF)  popEstim\n",
       "0           1100023          Ariquemes (RO)    105896\n",
       "1           1100031             Cabixi (RO)      6289\n",
       "2           1100049             Cacoal (RO)     87877\n",
       "3           1100056         Cerejeiras (RO)     17959\n",
       "4           1100064  Colorado do Oeste (RO)     18639\n",
       "...             ...                     ...       ...\n",
       "5564        5222005         Vianópolis (GO)     13567\n",
       "5565        5222054     Vicentinópolis (GO)      8286\n",
       "5566        5222203           Vila Boa (GO)      5615\n",
       "5567        5222302      Vila Propício (GO)      5635\n",
       "5568        5300108           Brasília (DF)   2977216\n",
       "\n",
       "[5569 rows x 3 columns]"
      ],
      "text/html": "<div>\n<style scoped>\n    .dataframe tbody tr th:only-of-type {\n        vertical-align: middle;\n    }\n\n    .dataframe tbody tr th {\n        vertical-align: top;\n    }\n\n    .dataframe thead th {\n        text-align: right;\n    }\n</style>\n<table border=\"1\" class=\"dataframe\">\n  <thead>\n    <tr style=\"text-align: right;\">\n      <th></th>\n      <th>cod_municipio</th>\n      <th>Nome_Município (UF)</th>\n      <th>popEstim</th>\n    </tr>\n  </thead>\n  <tbody>\n    <tr>\n      <th>0</th>\n      <td>1100023</td>\n      <td>Ariquemes (RO)</td>\n      <td>105896</td>\n    </tr>\n    <tr>\n      <th>1</th>\n      <td>1100031</td>\n      <td>Cabixi (RO)</td>\n      <td>6289</td>\n    </tr>\n    <tr>\n      <th>2</th>\n      <td>1100049</td>\n      <td>Cacoal (RO)</td>\n      <td>87877</td>\n    </tr>\n    <tr>\n      <th>3</th>\n      <td>1100056</td>\n      <td>Cerejeiras (RO)</td>\n      <td>17959</td>\n    </tr>\n    <tr>\n      <th>4</th>\n      <td>1100064</td>\n      <td>Colorado do Oeste (RO)</td>\n      <td>18639</td>\n    </tr>\n    <tr>\n      <th>...</th>\n      <td>...</td>\n      <td>...</td>\n      <td>...</td>\n    </tr>\n    <tr>\n      <th>5564</th>\n      <td>5222005</td>\n      <td>Vianópolis (GO)</td>\n      <td>13567</td>\n    </tr>\n    <tr>\n      <th>5565</th>\n      <td>5222054</td>\n      <td>Vicentinópolis (GO)</td>\n      <td>8286</td>\n    </tr>\n    <tr>\n      <th>5566</th>\n      <td>5222203</td>\n      <td>Vila Boa (GO)</td>\n      <td>5615</td>\n    </tr>\n    <tr>\n      <th>5567</th>\n      <td>5222302</td>\n      <td>Vila Propício (GO)</td>\n      <td>5635</td>\n    </tr>\n    <tr>\n      <th>5568</th>\n      <td>5300108</td>\n      <td>Brasília (DF)</td>\n      <td>2977216</td>\n    </tr>\n  </tbody>\n</table>\n<p>5569 rows × 3 columns</p>\n</div>"
     },
     "metadata": {},
     "execution_count": 142
    }
   ],
   "source": [
    "data_pop_estim = pd.read_excel(\"ibge/tabela6579.xlsx\", skiprows = [0, 1, 2, 3], names = [\"cod_municipio\", \"Nome_Município (UF)\", \"popEstim\"], skipfooter = 1)\n",
    "\n",
    "data_pop_estim"
   ]
  },
  {
   "source": [
    "## Feriados nacionais de 2016 a 2017\n",
    "\n",
    "Vamos organizar os feriados nacionais de 2016 a 2017 por mês."
   ],
   "cell_type": "markdown",
   "metadata": {}
  },
  {
   "cell_type": "code",
   "execution_count": 10,
   "metadata": {},
   "outputs": [
    {
     "output_type": "execute_result",
     "data": {
      "text/plain": [
       "          data                      nome      tipo  \\\n",
       "0   01/01/2016                  Ano Novo  NACIONAL   \n",
       "1   25/03/2016         Sexta-Feira Santa  NACIONAL   \n",
       "2   21/04/2016         Dia de Tiradentes  NACIONAL   \n",
       "3   01/05/2016           Dia do Trabalho  NACIONAL   \n",
       "4   07/09/2016   Independência do Brasil  NACIONAL   \n",
       "5   12/10/2016   Nossa Senhora Aparecida  NACIONAL   \n",
       "6   02/11/2016            Dia de Finados  NACIONAL   \n",
       "7   15/11/2016  Proclamação da República  NACIONAL   \n",
       "8   25/12/2016                     Natal  NACIONAL   \n",
       "9   01/01/2017                  Ano Novo  NACIONAL   \n",
       "10  14/04/2017         Sexta-Feira Santa  NACIONAL   \n",
       "11  21/04/2017         Dia de Tiradentes  NACIONAL   \n",
       "12  01/05/2017           Dia do Trabalho  NACIONAL   \n",
       "13  07/09/2017   Independência do Brasil  NACIONAL   \n",
       "14  12/10/2017   Nossa Senhora Aparecida  NACIONAL   \n",
       "15  02/11/2017            Dia de Finados  NACIONAL   \n",
       "16  15/11/2017  Proclamação da República  NACIONAL   \n",
       "17  25/12/2017                     Natal  NACIONAL   \n",
       "\n",
       "                                            descricao  uf municipio  \n",
       "0   O Ano-Novo ou Réveillon é um evento que aconte... NaN            \n",
       "1   Também chamada de \"Sexta Feira da Paixão\" é a ... NaN            \n",
       "2   Joaquim José da Silva Xavier, o Tiradentes foi... NaN            \n",
       "3   O Dia do Trabalhador ou Dia Internacional dos ... NaN            \n",
       "4   O Dia da Indepência do Brasil, oficialmente a ... NaN            \n",
       "5   Nossa Senhora da Conceição Aparecida é a padro... NaN            \n",
       "6   O Dia de Finados ou Dia dos Fiéis Defuntos, (c... NaN            \n",
       "7   A Proclamação da República foi um levante polí... NaN            \n",
       "8   O Natal é comemorado anualmente em 25 de Dezem... NaN            \n",
       "9   O Ano-Novo ou Réveillon é um evento que aconte... NaN            \n",
       "10  Também chamada de \"Sexta Feira da Paixão\" é a ... NaN            \n",
       "11  Joaquim José da Silva Xavier, o Tiradentes foi... NaN            \n",
       "12  O Dia do Trabalhador ou Dia Internacional dos ... NaN            \n",
       "13  O Dia da Indepência do Brasil, oficialmente a ... NaN            \n",
       "14  Nossa Senhora da Conceição Aparecida é a padro... NaN            \n",
       "15  O Dia de Finados ou Dia dos Fiéis Defuntos, (c... NaN            \n",
       "16  A Proclamação da República foi um levante polí... NaN            \n",
       "17  O Natal é comemorado anualmente em 25 de Dezem... NaN            "
      ],
      "text/html": "<div>\n<style scoped>\n    .dataframe tbody tr th:only-of-type {\n        vertical-align: middle;\n    }\n\n    .dataframe tbody tr th {\n        vertical-align: top;\n    }\n\n    .dataframe thead th {\n        text-align: right;\n    }\n</style>\n<table border=\"1\" class=\"dataframe\">\n  <thead>\n    <tr style=\"text-align: right;\">\n      <th></th>\n      <th>data</th>\n      <th>nome</th>\n      <th>tipo</th>\n      <th>descricao</th>\n      <th>uf</th>\n      <th>municipio</th>\n    </tr>\n  </thead>\n  <tbody>\n    <tr>\n      <th>0</th>\n      <td>01/01/2016</td>\n      <td>Ano Novo</td>\n      <td>NACIONAL</td>\n      <td>O Ano-Novo ou Réveillon é um evento que aconte...</td>\n      <td>NaN</td>\n      <td></td>\n    </tr>\n    <tr>\n      <th>1</th>\n      <td>25/03/2016</td>\n      <td>Sexta-Feira Santa</td>\n      <td>NACIONAL</td>\n      <td>Também chamada de \"Sexta Feira da Paixão\" é a ...</td>\n      <td>NaN</td>\n      <td></td>\n    </tr>\n    <tr>\n      <th>2</th>\n      <td>21/04/2016</td>\n      <td>Dia de Tiradentes</td>\n      <td>NACIONAL</td>\n      <td>Joaquim José da Silva Xavier, o Tiradentes foi...</td>\n      <td>NaN</td>\n      <td></td>\n    </tr>\n    <tr>\n      <th>3</th>\n      <td>01/05/2016</td>\n      <td>Dia do Trabalho</td>\n      <td>NACIONAL</td>\n      <td>O Dia do Trabalhador ou Dia Internacional dos ...</td>\n      <td>NaN</td>\n      <td></td>\n    </tr>\n    <tr>\n      <th>4</th>\n      <td>07/09/2016</td>\n      <td>Independência do Brasil</td>\n      <td>NACIONAL</td>\n      <td>O Dia da Indepência do Brasil, oficialmente a ...</td>\n      <td>NaN</td>\n      <td></td>\n    </tr>\n    <tr>\n      <th>5</th>\n      <td>12/10/2016</td>\n      <td>Nossa Senhora Aparecida</td>\n      <td>NACIONAL</td>\n      <td>Nossa Senhora da Conceição Aparecida é a padro...</td>\n      <td>NaN</td>\n      <td></td>\n    </tr>\n    <tr>\n      <th>6</th>\n      <td>02/11/2016</td>\n      <td>Dia de Finados</td>\n      <td>NACIONAL</td>\n      <td>O Dia de Finados ou Dia dos Fiéis Defuntos, (c...</td>\n      <td>NaN</td>\n      <td></td>\n    </tr>\n    <tr>\n      <th>7</th>\n      <td>15/11/2016</td>\n      <td>Proclamação da República</td>\n      <td>NACIONAL</td>\n      <td>A Proclamação da República foi um levante polí...</td>\n      <td>NaN</td>\n      <td></td>\n    </tr>\n    <tr>\n      <th>8</th>\n      <td>25/12/2016</td>\n      <td>Natal</td>\n      <td>NACIONAL</td>\n      <td>O Natal é comemorado anualmente em 25 de Dezem...</td>\n      <td>NaN</td>\n      <td></td>\n    </tr>\n    <tr>\n      <th>9</th>\n      <td>01/01/2017</td>\n      <td>Ano Novo</td>\n      <td>NACIONAL</td>\n      <td>O Ano-Novo ou Réveillon é um evento que aconte...</td>\n      <td>NaN</td>\n      <td></td>\n    </tr>\n    <tr>\n      <th>10</th>\n      <td>14/04/2017</td>\n      <td>Sexta-Feira Santa</td>\n      <td>NACIONAL</td>\n      <td>Também chamada de \"Sexta Feira da Paixão\" é a ...</td>\n      <td>NaN</td>\n      <td></td>\n    </tr>\n    <tr>\n      <th>11</th>\n      <td>21/04/2017</td>\n      <td>Dia de Tiradentes</td>\n      <td>NACIONAL</td>\n      <td>Joaquim José da Silva Xavier, o Tiradentes foi...</td>\n      <td>NaN</td>\n      <td></td>\n    </tr>\n    <tr>\n      <th>12</th>\n      <td>01/05/2017</td>\n      <td>Dia do Trabalho</td>\n      <td>NACIONAL</td>\n      <td>O Dia do Trabalhador ou Dia Internacional dos ...</td>\n      <td>NaN</td>\n      <td></td>\n    </tr>\n    <tr>\n      <th>13</th>\n      <td>07/09/2017</td>\n      <td>Independência do Brasil</td>\n      <td>NACIONAL</td>\n      <td>O Dia da Indepência do Brasil, oficialmente a ...</td>\n      <td>NaN</td>\n      <td></td>\n    </tr>\n    <tr>\n      <th>14</th>\n      <td>12/10/2017</td>\n      <td>Nossa Senhora Aparecida</td>\n      <td>NACIONAL</td>\n      <td>Nossa Senhora da Conceição Aparecida é a padro...</td>\n      <td>NaN</td>\n      <td></td>\n    </tr>\n    <tr>\n      <th>15</th>\n      <td>02/11/2017</td>\n      <td>Dia de Finados</td>\n      <td>NACIONAL</td>\n      <td>O Dia de Finados ou Dia dos Fiéis Defuntos, (c...</td>\n      <td>NaN</td>\n      <td></td>\n    </tr>\n    <tr>\n      <th>16</th>\n      <td>15/11/2017</td>\n      <td>Proclamação da República</td>\n      <td>NACIONAL</td>\n      <td>A Proclamação da República foi um levante polí...</td>\n      <td>NaN</td>\n      <td></td>\n    </tr>\n    <tr>\n      <th>17</th>\n      <td>25/12/2017</td>\n      <td>Natal</td>\n      <td>NACIONAL</td>\n      <td>O Natal é comemorado anualmente em 25 de Dezem...</td>\n      <td>NaN</td>\n      <td></td>\n    </tr>\n  </tbody>\n</table>\n</div>"
     },
     "metadata": {},
     "execution_count": 10
    }
   ],
   "source": [
    "data_feriados_nacionais = pd.read_csv(\"data/feriados-nacionais-2016a2017.csv\")\n",
    "\n",
    "data_feriados_nacionais"
   ]
  },
  {
   "cell_type": "code",
   "execution_count": 11,
   "metadata": {},
   "outputs": [
    {
     "output_type": "execute_result",
     "data": {
      "text/plain": [
       "          data                      nome      tipo  \\\n",
       "0   01/01/2016                  Ano Novo  NACIONAL   \n",
       "1   25/03/2016         Sexta-Feira Santa  NACIONAL   \n",
       "2   21/04/2016         Dia de Tiradentes  NACIONAL   \n",
       "3   01/05/2016           Dia do Trabalho  NACIONAL   \n",
       "4   07/09/2016   Independência do Brasil  NACIONAL   \n",
       "5   12/10/2016   Nossa Senhora Aparecida  NACIONAL   \n",
       "6   02/11/2016            Dia de Finados  NACIONAL   \n",
       "7   15/11/2016  Proclamação da República  NACIONAL   \n",
       "8   25/12/2016                     Natal  NACIONAL   \n",
       "9   01/01/2017                  Ano Novo  NACIONAL   \n",
       "10  14/04/2017         Sexta-Feira Santa  NACIONAL   \n",
       "11  21/04/2017         Dia de Tiradentes  NACIONAL   \n",
       "12  01/05/2017           Dia do Trabalho  NACIONAL   \n",
       "13  07/09/2017   Independência do Brasil  NACIONAL   \n",
       "14  12/10/2017   Nossa Senhora Aparecida  NACIONAL   \n",
       "15  02/11/2017            Dia de Finados  NACIONAL   \n",
       "16  15/11/2017  Proclamação da República  NACIONAL   \n",
       "17  25/12/2017                     Natal  NACIONAL   \n",
       "\n",
       "                                            descricao  uf municipio   datetime  \n",
       "0   O Ano-Novo ou Réveillon é um evento que aconte... NaN           2016-01-01  \n",
       "1   Também chamada de \"Sexta Feira da Paixão\" é a ... NaN           2016-03-25  \n",
       "2   Joaquim José da Silva Xavier, o Tiradentes foi... NaN           2016-04-21  \n",
       "3   O Dia do Trabalhador ou Dia Internacional dos ... NaN           2016-05-01  \n",
       "4   O Dia da Indepência do Brasil, oficialmente a ... NaN           2016-09-07  \n",
       "5   Nossa Senhora da Conceição Aparecida é a padro... NaN           2016-10-12  \n",
       "6   O Dia de Finados ou Dia dos Fiéis Defuntos, (c... NaN           2016-11-02  \n",
       "7   A Proclamação da República foi um levante polí... NaN           2016-11-15  \n",
       "8   O Natal é comemorado anualmente em 25 de Dezem... NaN           2016-12-25  \n",
       "9   O Ano-Novo ou Réveillon é um evento que aconte... NaN           2017-01-01  \n",
       "10  Também chamada de \"Sexta Feira da Paixão\" é a ... NaN           2017-04-14  \n",
       "11  Joaquim José da Silva Xavier, o Tiradentes foi... NaN           2017-04-21  \n",
       "12  O Dia do Trabalhador ou Dia Internacional dos ... NaN           2017-05-01  \n",
       "13  O Dia da Indepência do Brasil, oficialmente a ... NaN           2017-09-07  \n",
       "14  Nossa Senhora da Conceição Aparecida é a padro... NaN           2017-10-12  \n",
       "15  O Dia de Finados ou Dia dos Fiéis Defuntos, (c... NaN           2017-11-02  \n",
       "16  A Proclamação da República foi um levante polí... NaN           2017-11-15  \n",
       "17  O Natal é comemorado anualmente em 25 de Dezem... NaN           2017-12-25  "
      ],
      "text/html": "<div>\n<style scoped>\n    .dataframe tbody tr th:only-of-type {\n        vertical-align: middle;\n    }\n\n    .dataframe tbody tr th {\n        vertical-align: top;\n    }\n\n    .dataframe thead th {\n        text-align: right;\n    }\n</style>\n<table border=\"1\" class=\"dataframe\">\n  <thead>\n    <tr style=\"text-align: right;\">\n      <th></th>\n      <th>data</th>\n      <th>nome</th>\n      <th>tipo</th>\n      <th>descricao</th>\n      <th>uf</th>\n      <th>municipio</th>\n      <th>datetime</th>\n    </tr>\n  </thead>\n  <tbody>\n    <tr>\n      <th>0</th>\n      <td>01/01/2016</td>\n      <td>Ano Novo</td>\n      <td>NACIONAL</td>\n      <td>O Ano-Novo ou Réveillon é um evento que aconte...</td>\n      <td>NaN</td>\n      <td></td>\n      <td>2016-01-01</td>\n    </tr>\n    <tr>\n      <th>1</th>\n      <td>25/03/2016</td>\n      <td>Sexta-Feira Santa</td>\n      <td>NACIONAL</td>\n      <td>Também chamada de \"Sexta Feira da Paixão\" é a ...</td>\n      <td>NaN</td>\n      <td></td>\n      <td>2016-03-25</td>\n    </tr>\n    <tr>\n      <th>2</th>\n      <td>21/04/2016</td>\n      <td>Dia de Tiradentes</td>\n      <td>NACIONAL</td>\n      <td>Joaquim José da Silva Xavier, o Tiradentes foi...</td>\n      <td>NaN</td>\n      <td></td>\n      <td>2016-04-21</td>\n    </tr>\n    <tr>\n      <th>3</th>\n      <td>01/05/2016</td>\n      <td>Dia do Trabalho</td>\n      <td>NACIONAL</td>\n      <td>O Dia do Trabalhador ou Dia Internacional dos ...</td>\n      <td>NaN</td>\n      <td></td>\n      <td>2016-05-01</td>\n    </tr>\n    <tr>\n      <th>4</th>\n      <td>07/09/2016</td>\n      <td>Independência do Brasil</td>\n      <td>NACIONAL</td>\n      <td>O Dia da Indepência do Brasil, oficialmente a ...</td>\n      <td>NaN</td>\n      <td></td>\n      <td>2016-09-07</td>\n    </tr>\n    <tr>\n      <th>5</th>\n      <td>12/10/2016</td>\n      <td>Nossa Senhora Aparecida</td>\n      <td>NACIONAL</td>\n      <td>Nossa Senhora da Conceição Aparecida é a padro...</td>\n      <td>NaN</td>\n      <td></td>\n      <td>2016-10-12</td>\n    </tr>\n    <tr>\n      <th>6</th>\n      <td>02/11/2016</td>\n      <td>Dia de Finados</td>\n      <td>NACIONAL</td>\n      <td>O Dia de Finados ou Dia dos Fiéis Defuntos, (c...</td>\n      <td>NaN</td>\n      <td></td>\n      <td>2016-11-02</td>\n    </tr>\n    <tr>\n      <th>7</th>\n      <td>15/11/2016</td>\n      <td>Proclamação da República</td>\n      <td>NACIONAL</td>\n      <td>A Proclamação da República foi um levante polí...</td>\n      <td>NaN</td>\n      <td></td>\n      <td>2016-11-15</td>\n    </tr>\n    <tr>\n      <th>8</th>\n      <td>25/12/2016</td>\n      <td>Natal</td>\n      <td>NACIONAL</td>\n      <td>O Natal é comemorado anualmente em 25 de Dezem...</td>\n      <td>NaN</td>\n      <td></td>\n      <td>2016-12-25</td>\n    </tr>\n    <tr>\n      <th>9</th>\n      <td>01/01/2017</td>\n      <td>Ano Novo</td>\n      <td>NACIONAL</td>\n      <td>O Ano-Novo ou Réveillon é um evento que aconte...</td>\n      <td>NaN</td>\n      <td></td>\n      <td>2017-01-01</td>\n    </tr>\n    <tr>\n      <th>10</th>\n      <td>14/04/2017</td>\n      <td>Sexta-Feira Santa</td>\n      <td>NACIONAL</td>\n      <td>Também chamada de \"Sexta Feira da Paixão\" é a ...</td>\n      <td>NaN</td>\n      <td></td>\n      <td>2017-04-14</td>\n    </tr>\n    <tr>\n      <th>11</th>\n      <td>21/04/2017</td>\n      <td>Dia de Tiradentes</td>\n      <td>NACIONAL</td>\n      <td>Joaquim José da Silva Xavier, o Tiradentes foi...</td>\n      <td>NaN</td>\n      <td></td>\n      <td>2017-04-21</td>\n    </tr>\n    <tr>\n      <th>12</th>\n      <td>01/05/2017</td>\n      <td>Dia do Trabalho</td>\n      <td>NACIONAL</td>\n      <td>O Dia do Trabalhador ou Dia Internacional dos ...</td>\n      <td>NaN</td>\n      <td></td>\n      <td>2017-05-01</td>\n    </tr>\n    <tr>\n      <th>13</th>\n      <td>07/09/2017</td>\n      <td>Independência do Brasil</td>\n      <td>NACIONAL</td>\n      <td>O Dia da Indepência do Brasil, oficialmente a ...</td>\n      <td>NaN</td>\n      <td></td>\n      <td>2017-09-07</td>\n    </tr>\n    <tr>\n      <th>14</th>\n      <td>12/10/2017</td>\n      <td>Nossa Senhora Aparecida</td>\n      <td>NACIONAL</td>\n      <td>Nossa Senhora da Conceição Aparecida é a padro...</td>\n      <td>NaN</td>\n      <td></td>\n      <td>2017-10-12</td>\n    </tr>\n    <tr>\n      <th>15</th>\n      <td>02/11/2017</td>\n      <td>Dia de Finados</td>\n      <td>NACIONAL</td>\n      <td>O Dia de Finados ou Dia dos Fiéis Defuntos, (c...</td>\n      <td>NaN</td>\n      <td></td>\n      <td>2017-11-02</td>\n    </tr>\n    <tr>\n      <th>16</th>\n      <td>15/11/2017</td>\n      <td>Proclamação da República</td>\n      <td>NACIONAL</td>\n      <td>A Proclamação da República foi um levante polí...</td>\n      <td>NaN</td>\n      <td></td>\n      <td>2017-11-15</td>\n    </tr>\n    <tr>\n      <th>17</th>\n      <td>25/12/2017</td>\n      <td>Natal</td>\n      <td>NACIONAL</td>\n      <td>O Natal é comemorado anualmente em 25 de Dezem...</td>\n      <td>NaN</td>\n      <td></td>\n      <td>2017-12-25</td>\n    </tr>\n  </tbody>\n</table>\n</div>"
     },
     "metadata": {},
     "execution_count": 11
    }
   ],
   "source": [
    "data_feriados_nacionais[\"datetime\"] = pd.to_datetime(data_feriados_nacionais[\"data\"], format = \"%d/%m/%Y\")\n",
    "\n",
    "data_feriados_nacionais\n"
   ]
  },
  {
   "cell_type": "code",
   "execution_count": 12,
   "metadata": {},
   "outputs": [
    {
     "output_type": "execute_result",
     "data": {
      "text/plain": [
       "          data                      nome      tipo  \\\n",
       "0   01/01/2016                  Ano Novo  NACIONAL   \n",
       "1   25/03/2016         Sexta-Feira Santa  NACIONAL   \n",
       "2   21/04/2016         Dia de Tiradentes  NACIONAL   \n",
       "3   01/05/2016           Dia do Trabalho  NACIONAL   \n",
       "4   07/09/2016   Independência do Brasil  NACIONAL   \n",
       "5   12/10/2016   Nossa Senhora Aparecida  NACIONAL   \n",
       "6   02/11/2016            Dia de Finados  NACIONAL   \n",
       "7   15/11/2016  Proclamação da República  NACIONAL   \n",
       "8   25/12/2016                     Natal  NACIONAL   \n",
       "9   01/01/2017                  Ano Novo  NACIONAL   \n",
       "10  14/04/2017         Sexta-Feira Santa  NACIONAL   \n",
       "11  21/04/2017         Dia de Tiradentes  NACIONAL   \n",
       "12  01/05/2017           Dia do Trabalho  NACIONAL   \n",
       "13  07/09/2017   Independência do Brasil  NACIONAL   \n",
       "14  12/10/2017   Nossa Senhora Aparecida  NACIONAL   \n",
       "15  02/11/2017            Dia de Finados  NACIONAL   \n",
       "16  15/11/2017  Proclamação da República  NACIONAL   \n",
       "17  25/12/2017                     Natal  NACIONAL   \n",
       "\n",
       "                                            descricao  uf municipio  \\\n",
       "0   O Ano-Novo ou Réveillon é um evento que aconte... NaN             \n",
       "1   Também chamada de \"Sexta Feira da Paixão\" é a ... NaN             \n",
       "2   Joaquim José da Silva Xavier, o Tiradentes foi... NaN             \n",
       "3   O Dia do Trabalhador ou Dia Internacional dos ... NaN             \n",
       "4   O Dia da Indepência do Brasil, oficialmente a ... NaN             \n",
       "5   Nossa Senhora da Conceição Aparecida é a padro... NaN             \n",
       "6   O Dia de Finados ou Dia dos Fiéis Defuntos, (c... NaN             \n",
       "7   A Proclamação da República foi um levante polí... NaN             \n",
       "8   O Natal é comemorado anualmente em 25 de Dezem... NaN             \n",
       "9   O Ano-Novo ou Réveillon é um evento que aconte... NaN             \n",
       "10  Também chamada de \"Sexta Feira da Paixão\" é a ... NaN             \n",
       "11  Joaquim José da Silva Xavier, o Tiradentes foi... NaN             \n",
       "12  O Dia do Trabalhador ou Dia Internacional dos ... NaN             \n",
       "13  O Dia da Indepência do Brasil, oficialmente a ... NaN             \n",
       "14  Nossa Senhora da Conceição Aparecida é a padro... NaN             \n",
       "15  O Dia de Finados ou Dia dos Fiéis Defuntos, (c... NaN             \n",
       "16  A Proclamação da República foi um levante polí... NaN             \n",
       "17  O Natal é comemorado anualmente em 25 de Dezem... NaN             \n",
       "\n",
       "     datetime  mes   ano  \n",
       "0  2016-01-01    1  2016  \n",
       "1  2016-03-25    3  2016  \n",
       "2  2016-04-21    4  2016  \n",
       "3  2016-05-01    5  2016  \n",
       "4  2016-09-07    9  2016  \n",
       "5  2016-10-12   10  2016  \n",
       "6  2016-11-02   11  2016  \n",
       "7  2016-11-15   11  2016  \n",
       "8  2016-12-25   12  2016  \n",
       "9  2017-01-01    1  2017  \n",
       "10 2017-04-14    4  2017  \n",
       "11 2017-04-21    4  2017  \n",
       "12 2017-05-01    5  2017  \n",
       "13 2017-09-07    9  2017  \n",
       "14 2017-10-12   10  2017  \n",
       "15 2017-11-02   11  2017  \n",
       "16 2017-11-15   11  2017  \n",
       "17 2017-12-25   12  2017  "
      ],
      "text/html": "<div>\n<style scoped>\n    .dataframe tbody tr th:only-of-type {\n        vertical-align: middle;\n    }\n\n    .dataframe tbody tr th {\n        vertical-align: top;\n    }\n\n    .dataframe thead th {\n        text-align: right;\n    }\n</style>\n<table border=\"1\" class=\"dataframe\">\n  <thead>\n    <tr style=\"text-align: right;\">\n      <th></th>\n      <th>data</th>\n      <th>nome</th>\n      <th>tipo</th>\n      <th>descricao</th>\n      <th>uf</th>\n      <th>municipio</th>\n      <th>datetime</th>\n      <th>mes</th>\n      <th>ano</th>\n    </tr>\n  </thead>\n  <tbody>\n    <tr>\n      <th>0</th>\n      <td>01/01/2016</td>\n      <td>Ano Novo</td>\n      <td>NACIONAL</td>\n      <td>O Ano-Novo ou Réveillon é um evento que aconte...</td>\n      <td>NaN</td>\n      <td></td>\n      <td>2016-01-01</td>\n      <td>1</td>\n      <td>2016</td>\n    </tr>\n    <tr>\n      <th>1</th>\n      <td>25/03/2016</td>\n      <td>Sexta-Feira Santa</td>\n      <td>NACIONAL</td>\n      <td>Também chamada de \"Sexta Feira da Paixão\" é a ...</td>\n      <td>NaN</td>\n      <td></td>\n      <td>2016-03-25</td>\n      <td>3</td>\n      <td>2016</td>\n    </tr>\n    <tr>\n      <th>2</th>\n      <td>21/04/2016</td>\n      <td>Dia de Tiradentes</td>\n      <td>NACIONAL</td>\n      <td>Joaquim José da Silva Xavier, o Tiradentes foi...</td>\n      <td>NaN</td>\n      <td></td>\n      <td>2016-04-21</td>\n      <td>4</td>\n      <td>2016</td>\n    </tr>\n    <tr>\n      <th>3</th>\n      <td>01/05/2016</td>\n      <td>Dia do Trabalho</td>\n      <td>NACIONAL</td>\n      <td>O Dia do Trabalhador ou Dia Internacional dos ...</td>\n      <td>NaN</td>\n      <td></td>\n      <td>2016-05-01</td>\n      <td>5</td>\n      <td>2016</td>\n    </tr>\n    <tr>\n      <th>4</th>\n      <td>07/09/2016</td>\n      <td>Independência do Brasil</td>\n      <td>NACIONAL</td>\n      <td>O Dia da Indepência do Brasil, oficialmente a ...</td>\n      <td>NaN</td>\n      <td></td>\n      <td>2016-09-07</td>\n      <td>9</td>\n      <td>2016</td>\n    </tr>\n    <tr>\n      <th>5</th>\n      <td>12/10/2016</td>\n      <td>Nossa Senhora Aparecida</td>\n      <td>NACIONAL</td>\n      <td>Nossa Senhora da Conceição Aparecida é a padro...</td>\n      <td>NaN</td>\n      <td></td>\n      <td>2016-10-12</td>\n      <td>10</td>\n      <td>2016</td>\n    </tr>\n    <tr>\n      <th>6</th>\n      <td>02/11/2016</td>\n      <td>Dia de Finados</td>\n      <td>NACIONAL</td>\n      <td>O Dia de Finados ou Dia dos Fiéis Defuntos, (c...</td>\n      <td>NaN</td>\n      <td></td>\n      <td>2016-11-02</td>\n      <td>11</td>\n      <td>2016</td>\n    </tr>\n    <tr>\n      <th>7</th>\n      <td>15/11/2016</td>\n      <td>Proclamação da República</td>\n      <td>NACIONAL</td>\n      <td>A Proclamação da República foi um levante polí...</td>\n      <td>NaN</td>\n      <td></td>\n      <td>2016-11-15</td>\n      <td>11</td>\n      <td>2016</td>\n    </tr>\n    <tr>\n      <th>8</th>\n      <td>25/12/2016</td>\n      <td>Natal</td>\n      <td>NACIONAL</td>\n      <td>O Natal é comemorado anualmente em 25 de Dezem...</td>\n      <td>NaN</td>\n      <td></td>\n      <td>2016-12-25</td>\n      <td>12</td>\n      <td>2016</td>\n    </tr>\n    <tr>\n      <th>9</th>\n      <td>01/01/2017</td>\n      <td>Ano Novo</td>\n      <td>NACIONAL</td>\n      <td>O Ano-Novo ou Réveillon é um evento que aconte...</td>\n      <td>NaN</td>\n      <td></td>\n      <td>2017-01-01</td>\n      <td>1</td>\n      <td>2017</td>\n    </tr>\n    <tr>\n      <th>10</th>\n      <td>14/04/2017</td>\n      <td>Sexta-Feira Santa</td>\n      <td>NACIONAL</td>\n      <td>Também chamada de \"Sexta Feira da Paixão\" é a ...</td>\n      <td>NaN</td>\n      <td></td>\n      <td>2017-04-14</td>\n      <td>4</td>\n      <td>2017</td>\n    </tr>\n    <tr>\n      <th>11</th>\n      <td>21/04/2017</td>\n      <td>Dia de Tiradentes</td>\n      <td>NACIONAL</td>\n      <td>Joaquim José da Silva Xavier, o Tiradentes foi...</td>\n      <td>NaN</td>\n      <td></td>\n      <td>2017-04-21</td>\n      <td>4</td>\n      <td>2017</td>\n    </tr>\n    <tr>\n      <th>12</th>\n      <td>01/05/2017</td>\n      <td>Dia do Trabalho</td>\n      <td>NACIONAL</td>\n      <td>O Dia do Trabalhador ou Dia Internacional dos ...</td>\n      <td>NaN</td>\n      <td></td>\n      <td>2017-05-01</td>\n      <td>5</td>\n      <td>2017</td>\n    </tr>\n    <tr>\n      <th>13</th>\n      <td>07/09/2017</td>\n      <td>Independência do Brasil</td>\n      <td>NACIONAL</td>\n      <td>O Dia da Indepência do Brasil, oficialmente a ...</td>\n      <td>NaN</td>\n      <td></td>\n      <td>2017-09-07</td>\n      <td>9</td>\n      <td>2017</td>\n    </tr>\n    <tr>\n      <th>14</th>\n      <td>12/10/2017</td>\n      <td>Nossa Senhora Aparecida</td>\n      <td>NACIONAL</td>\n      <td>Nossa Senhora da Conceição Aparecida é a padro...</td>\n      <td>NaN</td>\n      <td></td>\n      <td>2017-10-12</td>\n      <td>10</td>\n      <td>2017</td>\n    </tr>\n    <tr>\n      <th>15</th>\n      <td>02/11/2017</td>\n      <td>Dia de Finados</td>\n      <td>NACIONAL</td>\n      <td>O Dia de Finados ou Dia dos Fiéis Defuntos, (c...</td>\n      <td>NaN</td>\n      <td></td>\n      <td>2017-11-02</td>\n      <td>11</td>\n      <td>2017</td>\n    </tr>\n    <tr>\n      <th>16</th>\n      <td>15/11/2017</td>\n      <td>Proclamação da República</td>\n      <td>NACIONAL</td>\n      <td>A Proclamação da República foi um levante polí...</td>\n      <td>NaN</td>\n      <td></td>\n      <td>2017-11-15</td>\n      <td>11</td>\n      <td>2017</td>\n    </tr>\n    <tr>\n      <th>17</th>\n      <td>25/12/2017</td>\n      <td>Natal</td>\n      <td>NACIONAL</td>\n      <td>O Natal é comemorado anualmente em 25 de Dezem...</td>\n      <td>NaN</td>\n      <td></td>\n      <td>2017-12-25</td>\n      <td>12</td>\n      <td>2017</td>\n    </tr>\n  </tbody>\n</table>\n</div>"
     },
     "metadata": {},
     "execution_count": 12
    }
   ],
   "source": [
    "data_feriados_nacionais[\"mes\"] = data_feriados_nacionais[\"datetime\"].dt.month\n",
    "data_feriados_nacionais[\"ano\"] = data_feriados_nacionais[\"datetime\"].dt.year\n",
    "\n",
    "data_feriados_nacionais"
   ]
  },
  {
   "cell_type": "code",
   "execution_count": 13,
   "metadata": {},
   "outputs": [
    {
     "output_type": "execute_result",
     "data": {
      "text/plain": [
       "    mes   ano\n",
       "0     1  2016\n",
       "1     3  2016\n",
       "2     4  2016\n",
       "3     5  2016\n",
       "4     9  2016\n",
       "5    10  2016\n",
       "6    11  2016\n",
       "7    11  2016\n",
       "8    12  2016\n",
       "9     1  2017\n",
       "10    4  2017\n",
       "11    4  2017\n",
       "12    5  2017\n",
       "13    9  2017\n",
       "14   10  2017\n",
       "15   11  2017\n",
       "16   11  2017\n",
       "17   12  2017"
      ],
      "text/html": "<div>\n<style scoped>\n    .dataframe tbody tr th:only-of-type {\n        vertical-align: middle;\n    }\n\n    .dataframe tbody tr th {\n        vertical-align: top;\n    }\n\n    .dataframe thead th {\n        text-align: right;\n    }\n</style>\n<table border=\"1\" class=\"dataframe\">\n  <thead>\n    <tr style=\"text-align: right;\">\n      <th></th>\n      <th>mes</th>\n      <th>ano</th>\n    </tr>\n  </thead>\n  <tbody>\n    <tr>\n      <th>0</th>\n      <td>1</td>\n      <td>2016</td>\n    </tr>\n    <tr>\n      <th>1</th>\n      <td>3</td>\n      <td>2016</td>\n    </tr>\n    <tr>\n      <th>2</th>\n      <td>4</td>\n      <td>2016</td>\n    </tr>\n    <tr>\n      <th>3</th>\n      <td>5</td>\n      <td>2016</td>\n    </tr>\n    <tr>\n      <th>4</th>\n      <td>9</td>\n      <td>2016</td>\n    </tr>\n    <tr>\n      <th>5</th>\n      <td>10</td>\n      <td>2016</td>\n    </tr>\n    <tr>\n      <th>6</th>\n      <td>11</td>\n      <td>2016</td>\n    </tr>\n    <tr>\n      <th>7</th>\n      <td>11</td>\n      <td>2016</td>\n    </tr>\n    <tr>\n      <th>8</th>\n      <td>12</td>\n      <td>2016</td>\n    </tr>\n    <tr>\n      <th>9</th>\n      <td>1</td>\n      <td>2017</td>\n    </tr>\n    <tr>\n      <th>10</th>\n      <td>4</td>\n      <td>2017</td>\n    </tr>\n    <tr>\n      <th>11</th>\n      <td>4</td>\n      <td>2017</td>\n    </tr>\n    <tr>\n      <th>12</th>\n      <td>5</td>\n      <td>2017</td>\n    </tr>\n    <tr>\n      <th>13</th>\n      <td>9</td>\n      <td>2017</td>\n    </tr>\n    <tr>\n      <th>14</th>\n      <td>10</td>\n      <td>2017</td>\n    </tr>\n    <tr>\n      <th>15</th>\n      <td>11</td>\n      <td>2017</td>\n    </tr>\n    <tr>\n      <th>16</th>\n      <td>11</td>\n      <td>2017</td>\n    </tr>\n    <tr>\n      <th>17</th>\n      <td>12</td>\n      <td>2017</td>\n    </tr>\n  </tbody>\n</table>\n</div>"
     },
     "metadata": {},
     "execution_count": 13
    }
   ],
   "source": [
    "data_feriados_nacionais = data_feriados_nacionais[[\"mes\", \"ano\"]]\n",
    "\n",
    "data_feriados_nacionais"
   ]
  },
  {
   "cell_type": "code",
   "execution_count": 19,
   "metadata": {},
   "outputs": [
    {
     "output_type": "execute_result",
     "data": {
      "text/plain": [
       "          contagem\n",
       "ano  mes          \n",
       "2016 11          2\n",
       "     1           1\n",
       "     3           1\n",
       "     4           1\n",
       "     5           1\n",
       "     9           1\n",
       "     10          1\n",
       "     12          1\n",
       "2017 4           2\n",
       "     11          2\n",
       "     1           1\n",
       "     5           1\n",
       "     9           1\n",
       "     10          1\n",
       "     12          1"
      ],
      "text/html": "<div>\n<style scoped>\n    .dataframe tbody tr th:only-of-type {\n        vertical-align: middle;\n    }\n\n    .dataframe tbody tr th {\n        vertical-align: top;\n    }\n\n    .dataframe thead th {\n        text-align: right;\n    }\n</style>\n<table border=\"1\" class=\"dataframe\">\n  <thead>\n    <tr style=\"text-align: right;\">\n      <th></th>\n      <th></th>\n      <th>contagem</th>\n    </tr>\n    <tr>\n      <th>ano</th>\n      <th>mes</th>\n      <th></th>\n    </tr>\n  </thead>\n  <tbody>\n    <tr>\n      <th rowspan=\"8\" valign=\"top\">2016</th>\n      <th>11</th>\n      <td>2</td>\n    </tr>\n    <tr>\n      <th>1</th>\n      <td>1</td>\n    </tr>\n    <tr>\n      <th>3</th>\n      <td>1</td>\n    </tr>\n    <tr>\n      <th>4</th>\n      <td>1</td>\n    </tr>\n    <tr>\n      <th>5</th>\n      <td>1</td>\n    </tr>\n    <tr>\n      <th>9</th>\n      <td>1</td>\n    </tr>\n    <tr>\n      <th>10</th>\n      <td>1</td>\n    </tr>\n    <tr>\n      <th>12</th>\n      <td>1</td>\n    </tr>\n    <tr>\n      <th rowspan=\"7\" valign=\"top\">2017</th>\n      <th>4</th>\n      <td>2</td>\n    </tr>\n    <tr>\n      <th>11</th>\n      <td>2</td>\n    </tr>\n    <tr>\n      <th>1</th>\n      <td>1</td>\n    </tr>\n    <tr>\n      <th>5</th>\n      <td>1</td>\n    </tr>\n    <tr>\n      <th>9</th>\n      <td>1</td>\n    </tr>\n    <tr>\n      <th>10</th>\n      <td>1</td>\n    </tr>\n    <tr>\n      <th>12</th>\n      <td>1</td>\n    </tr>\n  </tbody>\n</table>\n</div>"
     },
     "metadata": {},
     "execution_count": 19
    }
   ],
   "source": [
    "contagem_feriados = data_feriados_nacionais.groupby([\"ano\"])[\"mes\"].value_counts().to_frame(\"contagem\")\n",
    "\n",
    "contagem_feriados"
   ]
  },
  {
   "cell_type": "code",
   "execution_count": 20,
   "metadata": {},
   "outputs": [
    {
     "output_type": "execute_result",
     "data": {
      "text/plain": [
       "     ano  mes  contagem\n",
       "0   2016   11         2\n",
       "1   2016    1         1\n",
       "2   2016    3         1\n",
       "3   2016    4         1\n",
       "4   2016    5         1\n",
       "5   2016    9         1\n",
       "6   2016   10         1\n",
       "7   2016   12         1\n",
       "8   2017    4         2\n",
       "9   2017   11         2\n",
       "10  2017    1         1\n",
       "11  2017    5         1\n",
       "12  2017    9         1\n",
       "13  2017   10         1\n",
       "14  2017   12         1"
      ],
      "text/html": "<div>\n<style scoped>\n    .dataframe tbody tr th:only-of-type {\n        vertical-align: middle;\n    }\n\n    .dataframe tbody tr th {\n        vertical-align: top;\n    }\n\n    .dataframe thead th {\n        text-align: right;\n    }\n</style>\n<table border=\"1\" class=\"dataframe\">\n  <thead>\n    <tr style=\"text-align: right;\">\n      <th></th>\n      <th>ano</th>\n      <th>mes</th>\n      <th>contagem</th>\n    </tr>\n  </thead>\n  <tbody>\n    <tr>\n      <th>0</th>\n      <td>2016</td>\n      <td>11</td>\n      <td>2</td>\n    </tr>\n    <tr>\n      <th>1</th>\n      <td>2016</td>\n      <td>1</td>\n      <td>1</td>\n    </tr>\n    <tr>\n      <th>2</th>\n      <td>2016</td>\n      <td>3</td>\n      <td>1</td>\n    </tr>\n    <tr>\n      <th>3</th>\n      <td>2016</td>\n      <td>4</td>\n      <td>1</td>\n    </tr>\n    <tr>\n      <th>4</th>\n      <td>2016</td>\n      <td>5</td>\n      <td>1</td>\n    </tr>\n    <tr>\n      <th>5</th>\n      <td>2016</td>\n      <td>9</td>\n      <td>1</td>\n    </tr>\n    <tr>\n      <th>6</th>\n      <td>2016</td>\n      <td>10</td>\n      <td>1</td>\n    </tr>\n    <tr>\n      <th>7</th>\n      <td>2016</td>\n      <td>12</td>\n      <td>1</td>\n    </tr>\n    <tr>\n      <th>8</th>\n      <td>2017</td>\n      <td>4</td>\n      <td>2</td>\n    </tr>\n    <tr>\n      <th>9</th>\n      <td>2017</td>\n      <td>11</td>\n      <td>2</td>\n    </tr>\n    <tr>\n      <th>10</th>\n      <td>2017</td>\n      <td>1</td>\n      <td>1</td>\n    </tr>\n    <tr>\n      <th>11</th>\n      <td>2017</td>\n      <td>5</td>\n      <td>1</td>\n    </tr>\n    <tr>\n      <th>12</th>\n      <td>2017</td>\n      <td>9</td>\n      <td>1</td>\n    </tr>\n    <tr>\n      <th>13</th>\n      <td>2017</td>\n      <td>10</td>\n      <td>1</td>\n    </tr>\n    <tr>\n      <th>14</th>\n      <td>2017</td>\n      <td>12</td>\n      <td>1</td>\n    </tr>\n  </tbody>\n</table>\n</div>"
     },
     "metadata": {},
     "execution_count": 20
    }
   ],
   "source": [
    "contagem_feriados.reset_index()"
   ]
  },
  {
   "cell_type": "code",
   "execution_count": 21,
   "metadata": {},
   "outputs": [],
   "source": [
    "contagem_feriados = contagem_feriados.reset_index()\n",
    "\n",
    "contagem_feriados.to_csv(\"data/meses-com-feriado-nacional.csv\", index = False)"
   ]
  }
 ]
}